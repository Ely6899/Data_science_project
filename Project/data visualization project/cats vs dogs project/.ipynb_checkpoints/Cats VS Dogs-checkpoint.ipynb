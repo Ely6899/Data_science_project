{
 "cells": [
  {
   "cell_type": "code",
   "execution_count": 36,
   "metadata": {},
   "outputs": [],
   "source": [
    "import os\n",
    "import numpy as np\n",
    "import matplotlib.pyplot as plt\n",
    "import pandas as pd\n",
    "from numba import jit\n",
    "import cv2\n",
    "from IPython.display import clear_output"
   ]
  },
  {
   "cell_type": "code",
   "execution_count": 37,
   "metadata": {},
   "outputs": [
    {
     "name": "stdout",
     "output_type": "stream",
     "text": [
      "C:\\Users\\eliko\\Desktop\\Data_science_project\\Project\\data visualization project\\cats vs dogs project\n"
     ]
    }
   ],
   "source": [
    "import sys, os\n",
    "script_dir = sys.path[0]\n",
    "print(script_dir)"
   ]
  },
  {
   "cell_type": "code",
   "execution_count": 38,
   "metadata": {},
   "outputs": [
    {
     "name": "stdout",
     "output_type": "stream",
     "text": [
      "Train path: C:\\Users\\eliko\\Desktop\\Data_science_project\\Project\\data visualization project\\cats vs dogs project\\train\n",
      "\n",
      "Test path: C:\\Users\\eliko\\Desktop\\Data_science_project\\Project\\data visualization project\\cats vs dogs project\\test1\n",
      "\n",
      "Modified train path: C:\\Users\\eliko\\Desktop\\Data_science_project\\Project\\data visualization project\\cats vs dogs project\\train_modified\n",
      "\n",
      "Modified test path: C:\\Users\\eliko\\Desktop\\Data_science_project\\Project\\data visualization project\\cats vs dogs project\\test_modified\n"
     ]
    }
   ],
   "source": [
    "#Constant zone\n",
    "IMG_PATH_TRAIN = os.path.join(script_dir+r'\\train')\n",
    "IMG_PATH_TEST = os.path.join(script_dir+r'\\test1')\n",
    "IMG_PATH_TRAIN_MOD = os.path.join(script_dir+r'\\train_modified')\n",
    "IMG_PATH_TEST_MOD = os.path.join(script_dir+r'\\test_modified')\n",
    "print(\"Train path:\",IMG_PATH_TRAIN+\"\\n\")\n",
    "print(\"Test path:\",IMG_PATH_TEST+\"\\n\")\n",
    "print(\"Modified train path:\",IMG_PATH_TRAIN_MOD+\"\\n\")\n",
    "print(\"Modified test path:\",IMG_PATH_TEST_MOD)\n",
    "\n",
    "MODIFIED_WIDTH = 100\n",
    "MODIFIED_HEIGHT = 100"
   ]
  },
  {
   "cell_type": "code",
   "execution_count": 7,
   "metadata": {},
   "outputs": [],
   "source": [
    "#Function zone\n",
    "\n",
    "def modify_img(image, new_width, new_height): #Modifies an image according to chosen parameters\n",
    "    gray_img = cv2.cvtColor(image, cv2.COLOR_BGR2GRAY)\n",
    "    modified_img = cv2.resize(gray_img, (new_width, new_height))\n",
    "    return modified_img\n",
    "\n",
    "def read_img(picture_path, filename): #Reads file from path\n",
    "    return cv2.imread(picture_path+\"/\"+filename, -1)\n",
    "\n",
    "def write_img(destination_path, filename, image): #Writes new file to given path\n",
    "    cv2.imwrite(destination_path+\"/\"+filename, image)\n",
    "     \n",
    "def modify_train(): #Modifies the train data and writes it to the appropriate directory\n",
    "    count = 0\n",
    "    for f in os.listdir(IMG_PATH_TRAIN):\n",
    "        img = read_img(picture_path = IMG_PATH_TRAIN, filename = f)\n",
    "        mod_img = modify_img(img, new_width = MODIFIED_WIDTH, new_height = MODIFIED_HEIGHT)\n",
    "        write_img(destination_path = IMG_PATH_TRAIN_MOD, filename = f, image = mod_img)\n",
    "        msg = \"Modified {0}% of training data\".format(int(count/250))\n",
    "        print(msg)\n",
    "        clear_output(wait=True)\n",
    "        count += 1\n",
    "\n",
    "    print(\"Train data modification complete\")\n",
    "    \n",
    "def modify_test(): #Modifies the test data and writes it to the appropriate directory\n",
    "    count = 0\n",
    "    for f in os.listdir(IMG_PATH_TEST):\n",
    "        img = read_img(picture_path = IMG_PATH_TEST, filename = f)\n",
    "        mod_img = modify_img(img, new_width = MODIFIED_WIDTH, new_height = MODIFIED_HEIGHT)\n",
    "        write_img(destination_path = IMG_PATH_TEST_MOD, filename = f, image = mod_img)\n",
    "        msg = \"Modified {0}% of testing data\".format(int(count/250))\n",
    "        print(msg)\n",
    "        clear_output(wait=True)\n",
    "        count += 1\n",
    "\n",
    "    print(\"Test data modification complete\")\n",
    "      \n",
    "@jit(nogil = True)\n",
    "def images_to_df_train(): #Returns dataframe of the train files\n",
    "    train_array = np.ndarray(shape = (0,MODIFIED_WIDTH,MODIFIED_HEIGHT), dtype= 'uint8')\n",
    "    count = 0\n",
    "    for f in os.listdir(IMG_PATH_TRAIN_MOD):\n",
    "        img = read_img(picture_path = IMG_PATH_TRAIN_MOD, filename = f)\n",
    "        train_array = np.insert(train_array, count , img.reshape((1,MODIFIED_WIDTH,MODIFIED_HEIGHT)), axis = 0)\n",
    "        msg = \"Loaded {0} images. {1}%\".format(count, count/250)\n",
    "        print(msg)\n",
    "\n",
    "        clear_output(wait=True)\n",
    "        count += 1\n",
    "    print(\"Data loading complete\")\n",
    "    train_df = pd.DataFrame(data = train_array.reshape(25000, MODIFIED_WIDTH*MODIFIED_HEIGHT))\n",
    "    print(\"Train dataframe loading complete\")\n",
    "    return train_df\n",
    "\n",
    "@jit(nogil = True)\n",
    "def images_to_df_test(): #Returns dataframe of the test files\n",
    "    test_array = np.ndarray(shape = (0,MODIFIED_WIDTH,MODIFIED_HEIGHT), dtype= 'uint8')\n",
    "    count = 0\n",
    "    for f in os.listdir(IMG_PATH_TEST_MOD):\n",
    "        img = read_img(picture_path = IMG_PATH_TEST_MOD, filename = f)\n",
    "        test_array = np.insert(test_array, count , img.reshape((1,MODIFIED_WIDTH,MODIFIED_HEIGHT)), axis = 0)\n",
    "        msg = \"Loaded {0} images. {1}%\".format(count, count/125)\n",
    "        print(msg)\n",
    "\n",
    "        clear_output(wait=True)\n",
    "        count += 1\n",
    "    print(\"Data loading complete\")\n",
    "    test_df = pd.DataFrame(data = test_array.reshape(12500, MODIFIED_WIDTH*MODIFIED_HEIGHT))\n",
    "    print(\"Test dataframe loading complete\")\n",
    "    return test_df"
   ]
  },
  {
   "cell_type": "code",
   "execution_count": 35,
   "metadata": {},
   "outputs": [],
   "source": [
    "# colored_img = cv2.imread(IMG_PATH_TRAIN+\"/\"+\"cat.0.jpg\")\n",
    "# gray_img = cv2.cvtColor(colored_img, cv2.COLOR_BGR2GRAY)\n",
    "# modified_img = cv2.resize(gray_img,(150,150))"
   ]
  },
  {
   "cell_type": "code",
   "execution_count": 36,
   "metadata": {},
   "outputs": [],
   "source": [
    "# cv2.imshow('Original', colored_img)\n",
    "# cv2.imshow('Modified', modified_img)\n",
    "# cv2.waitKey(0)\n",
    "# cv2.destroyAllWindows()"
   ]
  },
  {
   "cell_type": "code",
   "execution_count": 7,
   "metadata": {},
   "outputs": [],
   "source": [
    "#plt.imshow(Image.open(img_path))"
   ]
  },
  {
   "cell_type": "code",
   "execution_count": 8,
   "metadata": {},
   "outputs": [],
   "source": [
    "#img = cv2.imread(img_path)\n",
    "#resize_img = cv2.resize(img,(600,600))"
   ]
  },
  {
   "cell_type": "code",
   "execution_count": 9,
   "metadata": {},
   "outputs": [],
   "source": [
    "#cv2.imshow('Original', img) \n",
    "#cv2.imshow('Resizing', resize_img) \n",
    "#cv2.waitKey(0) \n",
    "#cv2.destroyAllWindows()"
   ]
  },
  {
   "cell_type": "code",
   "execution_count": 10,
   "metadata": {},
   "outputs": [],
   "source": [
    "#import matplotlib.image as mpimg"
   ]
  },
  {
   "cell_type": "code",
   "execution_count": 11,
   "metadata": {},
   "outputs": [],
   "source": [
    "#plt.imshow(cv2.resize(img,(500,500)))"
   ]
  },
  {
   "cell_type": "code",
   "execution_count": 5,
   "metadata": {},
   "outputs": [
    {
     "name": "stdout",
     "output_type": "stream",
     "text": [
      "Mean height:  360\n",
      "Mean width:  404\n"
     ]
    }
   ],
   "source": [
    "# height = 0\n",
    "# width = 0\n",
    "# for f in os.listdir(IMG_PATH_TRAIN):\n",
    "#     img = read_img(picture_path = IMG_PATH_TRAIN, filename = f)\n",
    "#     height += img.shape[0]\n",
    "#     width += img.shape[1]\n",
    "\n",
    "# print(\"Mean height:\", int(height/25000))\n",
    "# print(\"Mean width:\", int(width/25000))"
   ]
  },
  {
   "cell_type": "code",
   "execution_count": 76,
   "metadata": {},
   "outputs": [
    {
     "name": "stdout",
     "output_type": "stream",
     "text": [
      "Loading... 3%\n"
     ]
    }
   ],
   "source": [
    "# from IPython.display import clear_output\n",
    "# data = pd.DataFrame()\n",
    "# row = []\n",
    "# count = 0\n",
    "# for f in os.listdir(IMG_PATH_TRAIN_MOD):\n",
    "#     print(\"Loading...\", str(int(count/250)) + \"%\")\n",
    "#     img = cv2.imread(IMG_PATH_TRAIN_MOD+\"/\"+f, 0)\n",
    "#     data = data.append(pd.Series(img.reshape(img.size)), ignore_index=True)\n",
    "    \n",
    "#     clear_output(wait=True)\n",
    "#     count += 1\n",
    "    \n",
    "#     if(count >= 1000):\n",
    "#         break"
   ]
  },
  {
   "cell_type": "code",
   "execution_count": 21,
   "metadata": {},
   "outputs": [
    {
     "name": "stdout",
     "output_type": "stream",
     "text": [
      "Train data modification complete\n",
      "Wall time: 1min 34s\n"
     ]
    }
   ],
   "source": [
    "%%time\n",
    "modify_train()\n"
   ]
  },
  {
   "cell_type": "code",
   "execution_count": 22,
   "metadata": {},
   "outputs": [
    {
     "name": "stdout",
     "output_type": "stream",
     "text": [
      "Test data modification complete\n",
      "Wall time: 46.6 s\n"
     ]
    }
   ],
   "source": [
    "%%time\n",
    "modify_test()\n"
   ]
  },
  {
   "cell_type": "code",
   "execution_count": 23,
   "metadata": {},
   "outputs": [
    {
     "name": "stdout",
     "output_type": "stream",
     "text": [
      "Data loading complete\n",
      "Train dataframe loading complete\n",
      "Wall time: 11min 21s\n"
     ]
    }
   ],
   "source": [
    "%%time\n",
    "train_df = images_to_df_train()"
   ]
  },
  {
   "cell_type": "code",
   "execution_count": 24,
   "metadata": {},
   "outputs": [
    {
     "name": "stdout",
     "output_type": "stream",
     "text": [
      "Data loading complete\n",
      "Test dataframe loading complete\n",
      "Wall time: 3min 25s\n"
     ]
    }
   ],
   "source": [
    "%%time\n",
    "test_df = images_to_df_test()"
   ]
  },
  {
   "cell_type": "code",
   "execution_count": 25,
   "metadata": {},
   "outputs": [
    {
     "data": {
      "text/html": [
       "<div>\n",
       "<style scoped>\n",
       "    .dataframe tbody tr th:only-of-type {\n",
       "        vertical-align: middle;\n",
       "    }\n",
       "\n",
       "    .dataframe tbody tr th {\n",
       "        vertical-align: top;\n",
       "    }\n",
       "\n",
       "    .dataframe thead th {\n",
       "        text-align: right;\n",
       "    }\n",
       "</style>\n",
       "<table border=\"1\" class=\"dataframe\">\n",
       "  <thead>\n",
       "    <tr style=\"text-align: right;\">\n",
       "      <th></th>\n",
       "      <th>0</th>\n",
       "      <th>1</th>\n",
       "      <th>2</th>\n",
       "      <th>3</th>\n",
       "      <th>4</th>\n",
       "      <th>5</th>\n",
       "      <th>6</th>\n",
       "      <th>7</th>\n",
       "      <th>8</th>\n",
       "      <th>9</th>\n",
       "      <th>...</th>\n",
       "      <th>9990</th>\n",
       "      <th>9991</th>\n",
       "      <th>9992</th>\n",
       "      <th>9993</th>\n",
       "      <th>9994</th>\n",
       "      <th>9995</th>\n",
       "      <th>9996</th>\n",
       "      <th>9997</th>\n",
       "      <th>9998</th>\n",
       "      <th>9999</th>\n",
       "    </tr>\n",
       "  </thead>\n",
       "  <tbody>\n",
       "    <tr>\n",
       "      <th>0</th>\n",
       "      <td>168</td>\n",
       "      <td>173</td>\n",
       "      <td>178</td>\n",
       "      <td>181</td>\n",
       "      <td>185</td>\n",
       "      <td>188</td>\n",
       "      <td>190</td>\n",
       "      <td>193</td>\n",
       "      <td>196</td>\n",
       "      <td>198</td>\n",
       "      <td>...</td>\n",
       "      <td>3</td>\n",
       "      <td>3</td>\n",
       "      <td>3</td>\n",
       "      <td>2</td>\n",
       "      <td>2</td>\n",
       "      <td>2</td>\n",
       "      <td>2</td>\n",
       "      <td>2</td>\n",
       "      <td>2</td>\n",
       "      <td>2</td>\n",
       "    </tr>\n",
       "    <tr>\n",
       "      <th>1</th>\n",
       "      <td>44</td>\n",
       "      <td>43</td>\n",
       "      <td>43</td>\n",
       "      <td>42</td>\n",
       "      <td>52</td>\n",
       "      <td>32</td>\n",
       "      <td>53</td>\n",
       "      <td>38</td>\n",
       "      <td>41</td>\n",
       "      <td>60</td>\n",
       "      <td>...</td>\n",
       "      <td>47</td>\n",
       "      <td>51</td>\n",
       "      <td>49</td>\n",
       "      <td>50</td>\n",
       "      <td>55</td>\n",
       "      <td>61</td>\n",
       "      <td>62</td>\n",
       "      <td>90</td>\n",
       "      <td>18</td>\n",
       "      <td>34</td>\n",
       "    </tr>\n",
       "    <tr>\n",
       "      <th>2</th>\n",
       "      <td>38</td>\n",
       "      <td>27</td>\n",
       "      <td>42</td>\n",
       "      <td>50</td>\n",
       "      <td>46</td>\n",
       "      <td>56</td>\n",
       "      <td>59</td>\n",
       "      <td>55</td>\n",
       "      <td>54</td>\n",
       "      <td>58</td>\n",
       "      <td>...</td>\n",
       "      <td>157</td>\n",
       "      <td>160</td>\n",
       "      <td>148</td>\n",
       "      <td>135</td>\n",
       "      <td>132</td>\n",
       "      <td>148</td>\n",
       "      <td>159</td>\n",
       "      <td>168</td>\n",
       "      <td>171</td>\n",
       "      <td>153</td>\n",
       "    </tr>\n",
       "    <tr>\n",
       "      <th>3</th>\n",
       "      <td>220</td>\n",
       "      <td>224</td>\n",
       "      <td>223</td>\n",
       "      <td>227</td>\n",
       "      <td>229</td>\n",
       "      <td>223</td>\n",
       "      <td>225</td>\n",
       "      <td>234</td>\n",
       "      <td>229</td>\n",
       "      <td>226</td>\n",
       "      <td>...</td>\n",
       "      <td>228</td>\n",
       "      <td>212</td>\n",
       "      <td>205</td>\n",
       "      <td>204</td>\n",
       "      <td>202</td>\n",
       "      <td>214</td>\n",
       "      <td>222</td>\n",
       "      <td>215</td>\n",
       "      <td>212</td>\n",
       "      <td>213</td>\n",
       "    </tr>\n",
       "    <tr>\n",
       "      <th>4</th>\n",
       "      <td>118</td>\n",
       "      <td>117</td>\n",
       "      <td>123</td>\n",
       "      <td>91</td>\n",
       "      <td>82</td>\n",
       "      <td>95</td>\n",
       "      <td>132</td>\n",
       "      <td>131</td>\n",
       "      <td>149</td>\n",
       "      <td>179</td>\n",
       "      <td>...</td>\n",
       "      <td>95</td>\n",
       "      <td>95</td>\n",
       "      <td>96</td>\n",
       "      <td>91</td>\n",
       "      <td>102</td>\n",
       "      <td>121</td>\n",
       "      <td>96</td>\n",
       "      <td>89</td>\n",
       "      <td>92</td>\n",
       "      <td>81</td>\n",
       "    </tr>\n",
       "    <tr>\n",
       "      <th>...</th>\n",
       "      <td>...</td>\n",
       "      <td>...</td>\n",
       "      <td>...</td>\n",
       "      <td>...</td>\n",
       "      <td>...</td>\n",
       "      <td>...</td>\n",
       "      <td>...</td>\n",
       "      <td>...</td>\n",
       "      <td>...</td>\n",
       "      <td>...</td>\n",
       "      <td>...</td>\n",
       "      <td>...</td>\n",
       "      <td>...</td>\n",
       "      <td>...</td>\n",
       "      <td>...</td>\n",
       "      <td>...</td>\n",
       "      <td>...</td>\n",
       "      <td>...</td>\n",
       "      <td>...</td>\n",
       "      <td>...</td>\n",
       "      <td>...</td>\n",
       "    </tr>\n",
       "    <tr>\n",
       "      <th>24995</th>\n",
       "      <td>140</td>\n",
       "      <td>142</td>\n",
       "      <td>143</td>\n",
       "      <td>145</td>\n",
       "      <td>146</td>\n",
       "      <td>147</td>\n",
       "      <td>148</td>\n",
       "      <td>149</td>\n",
       "      <td>148</td>\n",
       "      <td>149</td>\n",
       "      <td>...</td>\n",
       "      <td>164</td>\n",
       "      <td>165</td>\n",
       "      <td>166</td>\n",
       "      <td>166</td>\n",
       "      <td>167</td>\n",
       "      <td>168</td>\n",
       "      <td>168</td>\n",
       "      <td>168</td>\n",
       "      <td>168</td>\n",
       "      <td>169</td>\n",
       "    </tr>\n",
       "    <tr>\n",
       "      <th>24996</th>\n",
       "      <td>116</td>\n",
       "      <td>78</td>\n",
       "      <td>104</td>\n",
       "      <td>85</td>\n",
       "      <td>97</td>\n",
       "      <td>115</td>\n",
       "      <td>71</td>\n",
       "      <td>83</td>\n",
       "      <td>86</td>\n",
       "      <td>88</td>\n",
       "      <td>...</td>\n",
       "      <td>95</td>\n",
       "      <td>94</td>\n",
       "      <td>79</td>\n",
       "      <td>99</td>\n",
       "      <td>87</td>\n",
       "      <td>77</td>\n",
       "      <td>85</td>\n",
       "      <td>94</td>\n",
       "      <td>92</td>\n",
       "      <td>76</td>\n",
       "    </tr>\n",
       "    <tr>\n",
       "      <th>24997</th>\n",
       "      <td>42</td>\n",
       "      <td>35</td>\n",
       "      <td>47</td>\n",
       "      <td>56</td>\n",
       "      <td>66</td>\n",
       "      <td>48</td>\n",
       "      <td>48</td>\n",
       "      <td>57</td>\n",
       "      <td>60</td>\n",
       "      <td>38</td>\n",
       "      <td>...</td>\n",
       "      <td>101</td>\n",
       "      <td>133</td>\n",
       "      <td>136</td>\n",
       "      <td>126</td>\n",
       "      <td>72</td>\n",
       "      <td>112</td>\n",
       "      <td>181</td>\n",
       "      <td>128</td>\n",
       "      <td>114</td>\n",
       "      <td>167</td>\n",
       "    </tr>\n",
       "    <tr>\n",
       "      <th>24998</th>\n",
       "      <td>254</td>\n",
       "      <td>250</td>\n",
       "      <td>246</td>\n",
       "      <td>235</td>\n",
       "      <td>224</td>\n",
       "      <td>208</td>\n",
       "      <td>187</td>\n",
       "      <td>144</td>\n",
       "      <td>113</td>\n",
       "      <td>74</td>\n",
       "      <td>...</td>\n",
       "      <td>119</td>\n",
       "      <td>103</td>\n",
       "      <td>104</td>\n",
       "      <td>113</td>\n",
       "      <td>111</td>\n",
       "      <td>112</td>\n",
       "      <td>106</td>\n",
       "      <td>118</td>\n",
       "      <td>115</td>\n",
       "      <td>119</td>\n",
       "    </tr>\n",
       "    <tr>\n",
       "      <th>24999</th>\n",
       "      <td>239</td>\n",
       "      <td>241</td>\n",
       "      <td>243</td>\n",
       "      <td>243</td>\n",
       "      <td>242</td>\n",
       "      <td>243</td>\n",
       "      <td>247</td>\n",
       "      <td>250</td>\n",
       "      <td>246</td>\n",
       "      <td>244</td>\n",
       "      <td>...</td>\n",
       "      <td>254</td>\n",
       "      <td>254</td>\n",
       "      <td>254</td>\n",
       "      <td>254</td>\n",
       "      <td>254</td>\n",
       "      <td>254</td>\n",
       "      <td>254</td>\n",
       "      <td>254</td>\n",
       "      <td>254</td>\n",
       "      <td>254</td>\n",
       "    </tr>\n",
       "  </tbody>\n",
       "</table>\n",
       "<p>25000 rows × 10000 columns</p>\n",
       "</div>"
      ],
      "text/plain": [
       "       0     1     2     3     4     5     6     7     8     9     ...  9990  \\\n",
       "0       168   173   178   181   185   188   190   193   196   198  ...     3   \n",
       "1        44    43    43    42    52    32    53    38    41    60  ...    47   \n",
       "2        38    27    42    50    46    56    59    55    54    58  ...   157   \n",
       "3       220   224   223   227   229   223   225   234   229   226  ...   228   \n",
       "4       118   117   123    91    82    95   132   131   149   179  ...    95   \n",
       "...     ...   ...   ...   ...   ...   ...   ...   ...   ...   ...  ...   ...   \n",
       "24995   140   142   143   145   146   147   148   149   148   149  ...   164   \n",
       "24996   116    78   104    85    97   115    71    83    86    88  ...    95   \n",
       "24997    42    35    47    56    66    48    48    57    60    38  ...   101   \n",
       "24998   254   250   246   235   224   208   187   144   113    74  ...   119   \n",
       "24999   239   241   243   243   242   243   247   250   246   244  ...   254   \n",
       "\n",
       "       9991  9992  9993  9994  9995  9996  9997  9998  9999  \n",
       "0         3     3     2     2     2     2     2     2     2  \n",
       "1        51    49    50    55    61    62    90    18    34  \n",
       "2       160   148   135   132   148   159   168   171   153  \n",
       "3       212   205   204   202   214   222   215   212   213  \n",
       "4        95    96    91   102   121    96    89    92    81  \n",
       "...     ...   ...   ...   ...   ...   ...   ...   ...   ...  \n",
       "24995   165   166   166   167   168   168   168   168   169  \n",
       "24996    94    79    99    87    77    85    94    92    76  \n",
       "24997   133   136   126    72   112   181   128   114   167  \n",
       "24998   103   104   113   111   112   106   118   115   119  \n",
       "24999   254   254   254   254   254   254   254   254   254  \n",
       "\n",
       "[25000 rows x 10000 columns]"
      ]
     },
     "execution_count": 25,
     "metadata": {},
     "output_type": "execute_result"
    }
   ],
   "source": [
    "train_df"
   ]
  },
  {
   "cell_type": "code",
   "execution_count": 26,
   "metadata": {},
   "outputs": [
    {
     "data": {
      "text/html": [
       "<div>\n",
       "<style scoped>\n",
       "    .dataframe tbody tr th:only-of-type {\n",
       "        vertical-align: middle;\n",
       "    }\n",
       "\n",
       "    .dataframe tbody tr th {\n",
       "        vertical-align: top;\n",
       "    }\n",
       "\n",
       "    .dataframe thead th {\n",
       "        text-align: right;\n",
       "    }\n",
       "</style>\n",
       "<table border=\"1\" class=\"dataframe\">\n",
       "  <thead>\n",
       "    <tr style=\"text-align: right;\">\n",
       "      <th></th>\n",
       "      <th>0</th>\n",
       "      <th>1</th>\n",
       "      <th>2</th>\n",
       "      <th>3</th>\n",
       "      <th>4</th>\n",
       "      <th>5</th>\n",
       "      <th>6</th>\n",
       "      <th>7</th>\n",
       "      <th>8</th>\n",
       "      <th>9</th>\n",
       "      <th>...</th>\n",
       "      <th>9990</th>\n",
       "      <th>9991</th>\n",
       "      <th>9992</th>\n",
       "      <th>9993</th>\n",
       "      <th>9994</th>\n",
       "      <th>9995</th>\n",
       "      <th>9996</th>\n",
       "      <th>9997</th>\n",
       "      <th>9998</th>\n",
       "      <th>9999</th>\n",
       "    </tr>\n",
       "  </thead>\n",
       "  <tbody>\n",
       "    <tr>\n",
       "      <th>0</th>\n",
       "      <td>63</td>\n",
       "      <td>59</td>\n",
       "      <td>52</td>\n",
       "      <td>63</td>\n",
       "      <td>66</td>\n",
       "      <td>66</td>\n",
       "      <td>67</td>\n",
       "      <td>64</td>\n",
       "      <td>57</td>\n",
       "      <td>60</td>\n",
       "      <td>...</td>\n",
       "      <td>151</td>\n",
       "      <td>214</td>\n",
       "      <td>210</td>\n",
       "      <td>191</td>\n",
       "      <td>116</td>\n",
       "      <td>134</td>\n",
       "      <td>149</td>\n",
       "      <td>172</td>\n",
       "      <td>176</td>\n",
       "      <td>79</td>\n",
       "    </tr>\n",
       "    <tr>\n",
       "      <th>1</th>\n",
       "      <td>10</td>\n",
       "      <td>6</td>\n",
       "      <td>9</td>\n",
       "      <td>11</td>\n",
       "      <td>2</td>\n",
       "      <td>7</td>\n",
       "      <td>105</td>\n",
       "      <td>98</td>\n",
       "      <td>86</td>\n",
       "      <td>85</td>\n",
       "      <td>...</td>\n",
       "      <td>103</td>\n",
       "      <td>77</td>\n",
       "      <td>76</td>\n",
       "      <td>81</td>\n",
       "      <td>80</td>\n",
       "      <td>66</td>\n",
       "      <td>67</td>\n",
       "      <td>71</td>\n",
       "      <td>65</td>\n",
       "      <td>77</td>\n",
       "    </tr>\n",
       "    <tr>\n",
       "      <th>2</th>\n",
       "      <td>4</td>\n",
       "      <td>3</td>\n",
       "      <td>3</td>\n",
       "      <td>3</td>\n",
       "      <td>2</td>\n",
       "      <td>2</td>\n",
       "      <td>3</td>\n",
       "      <td>4</td>\n",
       "      <td>4</td>\n",
       "      <td>6</td>\n",
       "      <td>...</td>\n",
       "      <td>248</td>\n",
       "      <td>248</td>\n",
       "      <td>246</td>\n",
       "      <td>244</td>\n",
       "      <td>250</td>\n",
       "      <td>250</td>\n",
       "      <td>251</td>\n",
       "      <td>249</td>\n",
       "      <td>237</td>\n",
       "      <td>253</td>\n",
       "    </tr>\n",
       "    <tr>\n",
       "      <th>3</th>\n",
       "      <td>132</td>\n",
       "      <td>135</td>\n",
       "      <td>193</td>\n",
       "      <td>155</td>\n",
       "      <td>198</td>\n",
       "      <td>219</td>\n",
       "      <td>153</td>\n",
       "      <td>175</td>\n",
       "      <td>185</td>\n",
       "      <td>193</td>\n",
       "      <td>...</td>\n",
       "      <td>158</td>\n",
       "      <td>172</td>\n",
       "      <td>165</td>\n",
       "      <td>177</td>\n",
       "      <td>140</td>\n",
       "      <td>126</td>\n",
       "      <td>154</td>\n",
       "      <td>193</td>\n",
       "      <td>160</td>\n",
       "      <td>125</td>\n",
       "    </tr>\n",
       "    <tr>\n",
       "      <th>4</th>\n",
       "      <td>124</td>\n",
       "      <td>134</td>\n",
       "      <td>108</td>\n",
       "      <td>190</td>\n",
       "      <td>217</td>\n",
       "      <td>222</td>\n",
       "      <td>223</td>\n",
       "      <td>190</td>\n",
       "      <td>216</td>\n",
       "      <td>219</td>\n",
       "      <td>...</td>\n",
       "      <td>147</td>\n",
       "      <td>137</td>\n",
       "      <td>116</td>\n",
       "      <td>137</td>\n",
       "      <td>158</td>\n",
       "      <td>159</td>\n",
       "      <td>152</td>\n",
       "      <td>119</td>\n",
       "      <td>135</td>\n",
       "      <td>124</td>\n",
       "    </tr>\n",
       "    <tr>\n",
       "      <th>...</th>\n",
       "      <td>...</td>\n",
       "      <td>...</td>\n",
       "      <td>...</td>\n",
       "      <td>...</td>\n",
       "      <td>...</td>\n",
       "      <td>...</td>\n",
       "      <td>...</td>\n",
       "      <td>...</td>\n",
       "      <td>...</td>\n",
       "      <td>...</td>\n",
       "      <td>...</td>\n",
       "      <td>...</td>\n",
       "      <td>...</td>\n",
       "      <td>...</td>\n",
       "      <td>...</td>\n",
       "      <td>...</td>\n",
       "      <td>...</td>\n",
       "      <td>...</td>\n",
       "      <td>...</td>\n",
       "      <td>...</td>\n",
       "      <td>...</td>\n",
       "    </tr>\n",
       "    <tr>\n",
       "      <th>12495</th>\n",
       "      <td>36</td>\n",
       "      <td>42</td>\n",
       "      <td>47</td>\n",
       "      <td>50</td>\n",
       "      <td>53</td>\n",
       "      <td>55</td>\n",
       "      <td>57</td>\n",
       "      <td>59</td>\n",
       "      <td>66</td>\n",
       "      <td>70</td>\n",
       "      <td>...</td>\n",
       "      <td>137</td>\n",
       "      <td>138</td>\n",
       "      <td>125</td>\n",
       "      <td>137</td>\n",
       "      <td>135</td>\n",
       "      <td>119</td>\n",
       "      <td>129</td>\n",
       "      <td>126</td>\n",
       "      <td>119</td>\n",
       "      <td>117</td>\n",
       "    </tr>\n",
       "    <tr>\n",
       "      <th>12496</th>\n",
       "      <td>142</td>\n",
       "      <td>145</td>\n",
       "      <td>50</td>\n",
       "      <td>204</td>\n",
       "      <td>124</td>\n",
       "      <td>143</td>\n",
       "      <td>144</td>\n",
       "      <td>92</td>\n",
       "      <td>193</td>\n",
       "      <td>102</td>\n",
       "      <td>...</td>\n",
       "      <td>28</td>\n",
       "      <td>36</td>\n",
       "      <td>12</td>\n",
       "      <td>54</td>\n",
       "      <td>31</td>\n",
       "      <td>21</td>\n",
       "      <td>11</td>\n",
       "      <td>17</td>\n",
       "      <td>31</td>\n",
       "      <td>30</td>\n",
       "    </tr>\n",
       "    <tr>\n",
       "      <th>12497</th>\n",
       "      <td>215</td>\n",
       "      <td>211</td>\n",
       "      <td>231</td>\n",
       "      <td>233</td>\n",
       "      <td>209</td>\n",
       "      <td>241</td>\n",
       "      <td>208</td>\n",
       "      <td>235</td>\n",
       "      <td>228</td>\n",
       "      <td>202</td>\n",
       "      <td>...</td>\n",
       "      <td>154</td>\n",
       "      <td>155</td>\n",
       "      <td>151</td>\n",
       "      <td>157</td>\n",
       "      <td>139</td>\n",
       "      <td>122</td>\n",
       "      <td>105</td>\n",
       "      <td>129</td>\n",
       "      <td>119</td>\n",
       "      <td>117</td>\n",
       "    </tr>\n",
       "    <tr>\n",
       "      <th>12498</th>\n",
       "      <td>108</td>\n",
       "      <td>108</td>\n",
       "      <td>119</td>\n",
       "      <td>137</td>\n",
       "      <td>143</td>\n",
       "      <td>149</td>\n",
       "      <td>155</td>\n",
       "      <td>170</td>\n",
       "      <td>174</td>\n",
       "      <td>178</td>\n",
       "      <td>...</td>\n",
       "      <td>126</td>\n",
       "      <td>129</td>\n",
       "      <td>133</td>\n",
       "      <td>130</td>\n",
       "      <td>125</td>\n",
       "      <td>122</td>\n",
       "      <td>121</td>\n",
       "      <td>119</td>\n",
       "      <td>121</td>\n",
       "      <td>122</td>\n",
       "    </tr>\n",
       "    <tr>\n",
       "      <th>12499</th>\n",
       "      <td>78</td>\n",
       "      <td>73</td>\n",
       "      <td>82</td>\n",
       "      <td>76</td>\n",
       "      <td>86</td>\n",
       "      <td>86</td>\n",
       "      <td>92</td>\n",
       "      <td>114</td>\n",
       "      <td>130</td>\n",
       "      <td>162</td>\n",
       "      <td>...</td>\n",
       "      <td>98</td>\n",
       "      <td>101</td>\n",
       "      <td>86</td>\n",
       "      <td>148</td>\n",
       "      <td>97</td>\n",
       "      <td>88</td>\n",
       "      <td>93</td>\n",
       "      <td>190</td>\n",
       "      <td>226</td>\n",
       "      <td>223</td>\n",
       "    </tr>\n",
       "  </tbody>\n",
       "</table>\n",
       "<p>12500 rows × 10000 columns</p>\n",
       "</div>"
      ],
      "text/plain": [
       "       0     1     2     3     4     5     6     7     8     9     ...  9990  \\\n",
       "0        63    59    52    63    66    66    67    64    57    60  ...   151   \n",
       "1        10     6     9    11     2     7   105    98    86    85  ...   103   \n",
       "2         4     3     3     3     2     2     3     4     4     6  ...   248   \n",
       "3       132   135   193   155   198   219   153   175   185   193  ...   158   \n",
       "4       124   134   108   190   217   222   223   190   216   219  ...   147   \n",
       "...     ...   ...   ...   ...   ...   ...   ...   ...   ...   ...  ...   ...   \n",
       "12495    36    42    47    50    53    55    57    59    66    70  ...   137   \n",
       "12496   142   145    50   204   124   143   144    92   193   102  ...    28   \n",
       "12497   215   211   231   233   209   241   208   235   228   202  ...   154   \n",
       "12498   108   108   119   137   143   149   155   170   174   178  ...   126   \n",
       "12499    78    73    82    76    86    86    92   114   130   162  ...    98   \n",
       "\n",
       "       9991  9992  9993  9994  9995  9996  9997  9998  9999  \n",
       "0       214   210   191   116   134   149   172   176    79  \n",
       "1        77    76    81    80    66    67    71    65    77  \n",
       "2       248   246   244   250   250   251   249   237   253  \n",
       "3       172   165   177   140   126   154   193   160   125  \n",
       "4       137   116   137   158   159   152   119   135   124  \n",
       "...     ...   ...   ...   ...   ...   ...   ...   ...   ...  \n",
       "12495   138   125   137   135   119   129   126   119   117  \n",
       "12496    36    12    54    31    21    11    17    31    30  \n",
       "12497   155   151   157   139   122   105   129   119   117  \n",
       "12498   129   133   130   125   122   121   119   121   122  \n",
       "12499   101    86   148    97    88    93   190   226   223  \n",
       "\n",
       "[12500 rows x 10000 columns]"
      ]
     },
     "execution_count": 26,
     "metadata": {},
     "output_type": "execute_result"
    }
   ],
   "source": [
    "test_df"
   ]
  },
  {
   "cell_type": "code",
   "execution_count": 27,
   "metadata": {},
   "outputs": [
    {
     "name": "stdout",
     "output_type": "stream",
     "text": [
      "Null count in the train dataframe: 0\n",
      "Null count in the test dataframe: 0\n"
     ]
    }
   ],
   "source": [
    "print(\"Null count in the train dataframe:\",train_df.isnull().sum().sum())\n",
    "print(\"Null count in the test dataframe:\",train_df.isnull().sum().sum())"
   ]
  },
  {
   "cell_type": "code",
   "execution_count": 28,
   "metadata": {},
   "outputs": [
    {
     "data": {
      "text/plain": [
       "<matplotlib.image.AxesImage at 0x17e15d18580>"
      ]
     },
     "execution_count": 28,
     "metadata": {},
     "output_type": "execute_result"
    },
    {
     "data": {
      "image/png": "[encoded data removed]",
      "text/plain": [
       "<Figure size 432x288 with 1 Axes>"
      ]
     },
     "metadata": {
      "needs_background": "light"
     },
     "output_type": "display_data"
    }
   ],
   "source": [
    "plt.imshow(train_df.iloc[15550].to_numpy().reshape(MODIFIED_WIDTH,MODIFIED_HEIGHT), cmap = 'gray')"
   ]
  },
  {
   "cell_type": "code",
   "execution_count": 29,
   "metadata": {},
   "outputs": [
    {
     "data": {
      "text/plain": [
       "<matplotlib.image.AxesImage at 0x17e15e43b20>"
      ]
     },
     "execution_count": 29,
     "metadata": {},
     "output_type": "execute_result"
    },
    {
     "data": {
      "image/png": "[encoded data removed]",
      "text/plain": [
       "<Figure size 432x288 with 1 Axes>"
      ]
     },
     "metadata": {
      "needs_background": "light"
     },
     "output_type": "display_data"
    }
   ],
   "source": [
    "plt.imshow(test_df.iloc[987].to_numpy().reshape(MODIFIED_WIDTH,MODIFIED_HEIGHT), cmap = 'gray')"
   ]
  },
  {
   "cell_type": "markdown",
   "metadata": {},
   "source": [
    "## K-MEANS"
   ]
  },
  {
   "cell_type": "code",
   "execution_count": 3,
   "metadata": {},
   "outputs": [],
   "source": [
    "from sklearn.cluster import KMeans"
   ]
  },
  {
   "cell_type": "code",
   "execution_count": 50,
   "metadata": {},
   "outputs": [],
   "source": [
    "train = train_df.values\n",
    "test = test_df.values"
   ]
  },
  {
   "cell_type": "code",
   "execution_count": 44,
   "metadata": {},
   "outputs": [
    {
     "data": {
      "text/plain": [
       "array([[168, 173, 178, ...,   2,   2,   2],\n",
       "       [ 44,  43,  43, ...,  90,  18,  34],\n",
       "       [ 38,  27,  42, ..., 168, 171, 153],\n",
       "       ...,\n",
       "       [ 42,  35,  47, ..., 128, 114, 167],\n",
       "       [254, 250, 246, ..., 118, 115, 119],\n",
       "       [239, 241, 243, ..., 254, 254, 254]], dtype=uint8)"
      ]
     },
     "execution_count": 44,
     "metadata": {},
     "output_type": "execute_result"
    }
   ],
   "source": [
    "train"
   ]
  },
  {
   "cell_type": "code",
   "execution_count": 45,
   "metadata": {},
   "outputs": [
    {
     "data": {
      "text/plain": [
       "(25000, 10000)"
      ]
     },
     "execution_count": 45,
     "metadata": {},
     "output_type": "execute_result"
    }
   ],
   "source": [
    "train.shape"
   ]
  },
  {
   "cell_type": "code",
   "execution_count": 46,
   "metadata": {},
   "outputs": [
    {
     "ename": "NameError",
     "evalue": "name 'KMeans' is not defined",
     "output_type": "error",
     "traceback": [
      "\u001b[1;31m---------------------------------------------------------------------------\u001b[0m",
      "\u001b[1;31mNameError\u001b[0m                                 Traceback (most recent call last)",
      "\u001b[1;32m<ipython-input-46-4d12a98d467e>\u001b[0m in \u001b[0;36m<module>\u001b[1;34m\u001b[0m\n\u001b[1;32m----> 1\u001b[1;33m \u001b[0mkmeans\u001b[0m \u001b[1;33m=\u001b[0m \u001b[0mKMeans\u001b[0m\u001b[1;33m(\u001b[0m\u001b[0mn_clusters\u001b[0m\u001b[1;33m=\u001b[0m\u001b[1;36m4\u001b[0m\u001b[1;33m,\u001b[0m \u001b[0minit\u001b[0m\u001b[1;33m=\u001b[0m\u001b[1;34m'k-means++'\u001b[0m\u001b[1;33m,\u001b[0m \u001b[0mrandom_state\u001b[0m\u001b[1;33m=\u001b[0m\u001b[1;36m42\u001b[0m\u001b[1;33m)\u001b[0m\u001b[1;33m.\u001b[0m\u001b[0mfit\u001b[0m\u001b[1;33m(\u001b[0m\u001b[0mtrain\u001b[0m\u001b[1;33m)\u001b[0m\u001b[1;33m\u001b[0m\u001b[1;33m\u001b[0m\u001b[0m\n\u001b[0m",
      "\u001b[1;31mNameError\u001b[0m: name 'KMeans' is not defined"
     ]
    }
   ],
   "source": [
    "kmeans = KMeans(n_clusters=4, init='k-means++', random_state=42).fit(train)"
   ]
  },
  {
   "cell_type": "code",
   "execution_count": 27,
   "metadata": {},
   "outputs": [
    {
     "data": {
      "text/plain": [
       "array([2, 3, 0, ..., 2, 2, 1])"
      ]
     },
     "execution_count": 27,
     "metadata": {},
     "output_type": "execute_result"
    }
   ],
   "source": [
    "\n",
    "\n",
    "kmeans.labels_"
   ]
  },
  {
   "cell_type": "code",
   "execution_count": 142,
   "metadata": {},
   "outputs": [
    {
     "data": {
      "text/plain": [
       "2015002512005.5488"
      ]
     },
     "execution_count": 142,
     "metadata": {},
     "output_type": "execute_result"
    }
   ],
   "source": [
    "kmeans.inertia_"
   ]
  },
  {
   "cell_type": "code",
   "execution_count": 145,
   "metadata": {},
   "outputs": [
    {
     "data": {
      "text/plain": [
       "0.11115547131711155"
      ]
     },
     "execution_count": 145,
     "metadata": {},
     "output_type": "execute_result"
    }
   ],
   "source": [
    "silhouette_score(TRAIN_VALUES, kmeans.labels_)"
   ]
  },
  {
   "cell_type": "code",
   "execution_count": 148,
   "metadata": {},
   "outputs": [
    {
     "data": {
      "text/plain": [
       "0.10913124113440027"
      ]
     },
     "execution_count": 148,
     "metadata": {},
     "output_type": "execute_result"
    }
   ],
   "source": [
    "silhouette_score(TEST_VALUES, kmeans.predict(test))"
   ]
  },
  {
   "cell_type": "markdown",
   "metadata": {},
   "source": [
    "## MiniBatchK-Means"
   ]
  },
  {
   "cell_type": "code",
   "execution_count": 1,
   "metadata": {},
   "outputs": [],
   "source": [
    "from sklearn.cluster import MiniBatchKMeans"
   ]
  },
  {
   "cell_type": "code",
   "execution_count": 157,
   "metadata": {},
   "outputs": [
    {
     "ename": "AttributeError",
     "evalue": "'NoneType' object has no attribute 'split'",
     "output_type": "error",
     "traceback": [
      "\u001b[1;31m---------------------------------------------------------------------------\u001b[0m",
      "\u001b[1;31mAttributeError\u001b[0m                            Traceback (most recent call last)",
      "\u001b[1;32m<ipython-input-157-ab39c8a682ad>\u001b[0m in \u001b[0;36m<module>\u001b[1;34m\u001b[0m\n\u001b[1;32m----> 1\u001b[1;33m \u001b[0mMBKmeans\u001b[0m \u001b[1;33m=\u001b[0m \u001b[0mMiniBatchKMeans\u001b[0m\u001b[1;33m(\u001b[0m\u001b[0mn_clusters\u001b[0m\u001b[1;33m=\u001b[0m\u001b[1;36m2\u001b[0m\u001b[1;33m,\u001b[0m \u001b[0minit\u001b[0m\u001b[1;33m=\u001b[0m\u001b[1;34m'k-means++'\u001b[0m\u001b[1;33m,\u001b[0m \u001b[0mrandom_state\u001b[0m\u001b[1;33m=\u001b[0m\u001b[1;36m42\u001b[0m\u001b[1;33m)\u001b[0m\u001b[1;33m.\u001b[0m\u001b[0mfit\u001b[0m\u001b[1;33m(\u001b[0m\u001b[0mTRAIN_VALUES\u001b[0m\u001b[1;33m)\u001b[0m\u001b[1;33m\u001b[0m\u001b[1;33m\u001b[0m\u001b[0m\n\u001b[0m",
      "\u001b[1;32m~\\anaconda3\\lib\\site-packages\\sklearn\\cluster\\_kmeans.py\u001b[0m in \u001b[0;36mfit\u001b[1;34m(self, X, y, sample_weight)\u001b[0m\n\u001b[0;32m   1912\u001b[0m             \u001b[0mself\u001b[0m\u001b[1;33m.\u001b[0m\u001b[0m_validate_center_shape\u001b[0m\u001b[1;33m(\u001b[0m\u001b[0mX\u001b[0m\u001b[1;33m,\u001b[0m \u001b[0minit\u001b[0m\u001b[1;33m)\u001b[0m\u001b[1;33m\u001b[0m\u001b[1;33m\u001b[0m\u001b[0m\n\u001b[0;32m   1913\u001b[0m \u001b[1;33m\u001b[0m\u001b[0m\n\u001b[1;32m-> 1914\u001b[1;33m         \u001b[0mself\u001b[0m\u001b[1;33m.\u001b[0m\u001b[0m_check_mkl_vcomp\u001b[0m\u001b[1;33m(\u001b[0m\u001b[0mX\u001b[0m\u001b[1;33m,\u001b[0m \u001b[0mself\u001b[0m\u001b[1;33m.\u001b[0m\u001b[0m_batch_size\u001b[0m\u001b[1;33m)\u001b[0m\u001b[1;33m\u001b[0m\u001b[1;33m\u001b[0m\u001b[0m\n\u001b[0m\u001b[0;32m   1915\u001b[0m \u001b[1;33m\u001b[0m\u001b[0m\n\u001b[0;32m   1916\u001b[0m         \u001b[1;31m# precompute squared norms of data points\u001b[0m\u001b[1;33m\u001b[0m\u001b[1;33m\u001b[0m\u001b[1;33m\u001b[0m\u001b[0m\n",
      "\u001b[1;32m~\\anaconda3\\lib\\site-packages\\sklearn\\cluster\\_kmeans.py\u001b[0m in \u001b[0;36m_check_mkl_vcomp\u001b[1;34m(self, X, n_samples)\u001b[0m\n\u001b[0;32m   1026\u001b[0m         \u001b[0mactive_threads\u001b[0m \u001b[1;33m=\u001b[0m \u001b[0mint\u001b[0m\u001b[1;33m(\u001b[0m\u001b[0mnp\u001b[0m\u001b[1;33m.\u001b[0m\u001b[0mceil\u001b[0m\u001b[1;33m(\u001b[0m\u001b[0mn_samples\u001b[0m \u001b[1;33m/\u001b[0m \u001b[0mCHUNK_SIZE\u001b[0m\u001b[1;33m)\u001b[0m\u001b[1;33m)\u001b[0m\u001b[1;33m\u001b[0m\u001b[1;33m\u001b[0m\u001b[0m\n\u001b[0;32m   1027\u001b[0m         \u001b[1;32mif\u001b[0m \u001b[0mactive_threads\u001b[0m \u001b[1;33m<\u001b[0m \u001b[0mself\u001b[0m\u001b[1;33m.\u001b[0m\u001b[0m_n_threads\u001b[0m\u001b[1;33m:\u001b[0m\u001b[1;33m\u001b[0m\u001b[1;33m\u001b[0m\u001b[0m\n\u001b[1;32m-> 1028\u001b[1;33m             \u001b[0mmodules\u001b[0m \u001b[1;33m=\u001b[0m \u001b[0mthreadpool_info\u001b[0m\u001b[1;33m(\u001b[0m\u001b[1;33m)\u001b[0m\u001b[1;33m\u001b[0m\u001b[1;33m\u001b[0m\u001b[0m\n\u001b[0m\u001b[0;32m   1029\u001b[0m             \u001b[0mhas_vcomp\u001b[0m \u001b[1;33m=\u001b[0m \u001b[1;34m\"vcomp\"\u001b[0m \u001b[1;32min\u001b[0m \u001b[1;33m[\u001b[0m\u001b[0mmodule\u001b[0m\u001b[1;33m[\u001b[0m\u001b[1;34m\"prefix\"\u001b[0m\u001b[1;33m]\u001b[0m \u001b[1;32mfor\u001b[0m \u001b[0mmodule\u001b[0m \u001b[1;32min\u001b[0m \u001b[0mmodules\u001b[0m\u001b[1;33m]\u001b[0m\u001b[1;33m\u001b[0m\u001b[1;33m\u001b[0m\u001b[0m\n\u001b[0;32m   1030\u001b[0m             has_mkl = (\"mkl\", \"intel\") in [\n",
      "\u001b[1;32m~\\anaconda3\\lib\\site-packages\\sklearn\\utils\\fixes.py\u001b[0m in \u001b[0;36mthreadpool_info\u001b[1;34m()\u001b[0m\n\u001b[0;32m    323\u001b[0m         \u001b[1;32mreturn\u001b[0m \u001b[0mcontroller\u001b[0m\u001b[1;33m.\u001b[0m\u001b[0minfo\u001b[0m\u001b[1;33m(\u001b[0m\u001b[1;33m)\u001b[0m\u001b[1;33m\u001b[0m\u001b[1;33m\u001b[0m\u001b[0m\n\u001b[0;32m    324\u001b[0m     \u001b[1;32melse\u001b[0m\u001b[1;33m:\u001b[0m\u001b[1;33m\u001b[0m\u001b[1;33m\u001b[0m\u001b[0m\n\u001b[1;32m--> 325\u001b[1;33m         \u001b[1;32mreturn\u001b[0m \u001b[0mthreadpoolctl\u001b[0m\u001b[1;33m.\u001b[0m\u001b[0mthreadpool_info\u001b[0m\u001b[1;33m(\u001b[0m\u001b[1;33m)\u001b[0m\u001b[1;33m\u001b[0m\u001b[1;33m\u001b[0m\u001b[0m\n\u001b[0m\u001b[0;32m    326\u001b[0m \u001b[1;33m\u001b[0m\u001b[0m\n\u001b[0;32m    327\u001b[0m \u001b[1;33m\u001b[0m\u001b[0m\n",
      "\u001b[1;32m~\\anaconda3\\lib\\site-packages\\threadpoolctl.py\u001b[0m in \u001b[0;36mthreadpool_info\u001b[1;34m()\u001b[0m\n\u001b[0;32m    122\u001b[0m     \u001b[0mIn\u001b[0m \u001b[0maddition\u001b[0m\u001b[1;33m,\u001b[0m \u001b[0meach\u001b[0m \u001b[0mmodule\u001b[0m \u001b[0mmay\u001b[0m \u001b[0mcontain\u001b[0m \u001b[0minternal_api\u001b[0m \u001b[0mspecific\u001b[0m \u001b[0mentries\u001b[0m\u001b[1;33m.\u001b[0m\u001b[1;33m\u001b[0m\u001b[1;33m\u001b[0m\u001b[0m\n\u001b[0;32m    123\u001b[0m     \"\"\"\n\u001b[1;32m--> 124\u001b[1;33m     \u001b[1;32mreturn\u001b[0m \u001b[0m_ThreadpoolInfo\u001b[0m\u001b[1;33m(\u001b[0m\u001b[0muser_api\u001b[0m\u001b[1;33m=\u001b[0m\u001b[0m_ALL_USER_APIS\u001b[0m\u001b[1;33m)\u001b[0m\u001b[1;33m.\u001b[0m\u001b[0mtodicts\u001b[0m\u001b[1;33m(\u001b[0m\u001b[1;33m)\u001b[0m\u001b[1;33m\u001b[0m\u001b[1;33m\u001b[0m\u001b[0m\n\u001b[0m\u001b[0;32m    125\u001b[0m \u001b[1;33m\u001b[0m\u001b[0m\n\u001b[0;32m    126\u001b[0m \u001b[1;33m\u001b[0m\u001b[0m\n",
      "\u001b[1;32m~\\anaconda3\\lib\\site-packages\\threadpoolctl.py\u001b[0m in \u001b[0;36m__init__\u001b[1;34m(self, user_api, prefixes, modules)\u001b[0m\n\u001b[0;32m    338\u001b[0m \u001b[1;33m\u001b[0m\u001b[0m\n\u001b[0;32m    339\u001b[0m             \u001b[0mself\u001b[0m\u001b[1;33m.\u001b[0m\u001b[0mmodules\u001b[0m \u001b[1;33m=\u001b[0m \u001b[1;33m[\u001b[0m\u001b[1;33m]\u001b[0m\u001b[1;33m\u001b[0m\u001b[1;33m\u001b[0m\u001b[0m\n\u001b[1;32m--> 340\u001b[1;33m             \u001b[0mself\u001b[0m\u001b[1;33m.\u001b[0m\u001b[0m_load_modules\u001b[0m\u001b[1;33m(\u001b[0m\u001b[1;33m)\u001b[0m\u001b[1;33m\u001b[0m\u001b[1;33m\u001b[0m\u001b[0m\n\u001b[0m\u001b[0;32m    341\u001b[0m             \u001b[0mself\u001b[0m\u001b[1;33m.\u001b[0m\u001b[0m_warn_if_incompatible_openmp\u001b[0m\u001b[1;33m(\u001b[0m\u001b[1;33m)\u001b[0m\u001b[1;33m\u001b[0m\u001b[1;33m\u001b[0m\u001b[0m\n\u001b[0;32m    342\u001b[0m         \u001b[1;32melse\u001b[0m\u001b[1;33m:\u001b[0m\u001b[1;33m\u001b[0m\u001b[1;33m\u001b[0m\u001b[0m\n",
      "\u001b[1;32m~\\anaconda3\\lib\\site-packages\\threadpoolctl.py\u001b[0m in \u001b[0;36m_load_modules\u001b[1;34m(self)\u001b[0m\n\u001b[0;32m    371\u001b[0m             \u001b[0mself\u001b[0m\u001b[1;33m.\u001b[0m\u001b[0m_find_modules_with_dyld\u001b[0m\u001b[1;33m(\u001b[0m\u001b[1;33m)\u001b[0m\u001b[1;33m\u001b[0m\u001b[1;33m\u001b[0m\u001b[0m\n\u001b[0;32m    372\u001b[0m         \u001b[1;32melif\u001b[0m \u001b[0msys\u001b[0m\u001b[1;33m.\u001b[0m\u001b[0mplatform\u001b[0m \u001b[1;33m==\u001b[0m \u001b[1;34m\"win32\"\u001b[0m\u001b[1;33m:\u001b[0m\u001b[1;33m\u001b[0m\u001b[1;33m\u001b[0m\u001b[0m\n\u001b[1;32m--> 373\u001b[1;33m             \u001b[0mself\u001b[0m\u001b[1;33m.\u001b[0m\u001b[0m_find_modules_with_enum_process_module_ex\u001b[0m\u001b[1;33m(\u001b[0m\u001b[1;33m)\u001b[0m\u001b[1;33m\u001b[0m\u001b[1;33m\u001b[0m\u001b[0m\n\u001b[0m\u001b[0;32m    374\u001b[0m         \u001b[1;32melse\u001b[0m\u001b[1;33m:\u001b[0m\u001b[1;33m\u001b[0m\u001b[1;33m\u001b[0m\u001b[0m\n\u001b[0;32m    375\u001b[0m             \u001b[0mself\u001b[0m\u001b[1;33m.\u001b[0m\u001b[0m_find_modules_with_dl_iterate_phdr\u001b[0m\u001b[1;33m(\u001b[0m\u001b[1;33m)\u001b[0m\u001b[1;33m\u001b[0m\u001b[1;33m\u001b[0m\u001b[0m\n",
      "\u001b[1;32m~\\anaconda3\\lib\\site-packages\\threadpoolctl.py\u001b[0m in \u001b[0;36m_find_modules_with_enum_process_module_ex\u001b[1;34m(self)\u001b[0m\n\u001b[0;32m    483\u001b[0m \u001b[1;33m\u001b[0m\u001b[0m\n\u001b[0;32m    484\u001b[0m                 \u001b[1;31m# Store the module if it is supported and selected\u001b[0m\u001b[1;33m\u001b[0m\u001b[1;33m\u001b[0m\u001b[1;33m\u001b[0m\u001b[0m\n\u001b[1;32m--> 485\u001b[1;33m                 \u001b[0mself\u001b[0m\u001b[1;33m.\u001b[0m\u001b[0m_make_module_from_path\u001b[0m\u001b[1;33m(\u001b[0m\u001b[0mfilepath\u001b[0m\u001b[1;33m)\u001b[0m\u001b[1;33m\u001b[0m\u001b[1;33m\u001b[0m\u001b[0m\n\u001b[0m\u001b[0;32m    486\u001b[0m         \u001b[1;32mfinally\u001b[0m\u001b[1;33m:\u001b[0m\u001b[1;33m\u001b[0m\u001b[1;33m\u001b[0m\u001b[0m\n\u001b[0;32m    487\u001b[0m             \u001b[0mkernel_32\u001b[0m\u001b[1;33m.\u001b[0m\u001b[0mCloseHandle\u001b[0m\u001b[1;33m(\u001b[0m\u001b[0mh_process\u001b[0m\u001b[1;33m)\u001b[0m\u001b[1;33m\u001b[0m\u001b[1;33m\u001b[0m\u001b[0m\n",
      "\u001b[1;32m~\\anaconda3\\lib\\site-packages\\threadpoolctl.py\u001b[0m in \u001b[0;36m_make_module_from_path\u001b[1;34m(self, filepath)\u001b[0m\n\u001b[0;32m    513\u001b[0m             \u001b[1;32mif\u001b[0m \u001b[0mprefix\u001b[0m \u001b[1;32min\u001b[0m \u001b[0mself\u001b[0m\u001b[1;33m.\u001b[0m\u001b[0mprefixes\u001b[0m \u001b[1;32mor\u001b[0m \u001b[0muser_api\u001b[0m \u001b[1;32min\u001b[0m \u001b[0mself\u001b[0m\u001b[1;33m.\u001b[0m\u001b[0muser_api\u001b[0m\u001b[1;33m:\u001b[0m\u001b[1;33m\u001b[0m\u001b[1;33m\u001b[0m\u001b[0m\n\u001b[0;32m    514\u001b[0m                 \u001b[0mmodule_class\u001b[0m \u001b[1;33m=\u001b[0m \u001b[0mglobals\u001b[0m\u001b[1;33m(\u001b[0m\u001b[1;33m)\u001b[0m\u001b[1;33m[\u001b[0m\u001b[0mmodule_class\u001b[0m\u001b[1;33m]\u001b[0m\u001b[1;33m\u001b[0m\u001b[1;33m\u001b[0m\u001b[0m\n\u001b[1;32m--> 515\u001b[1;33m                 \u001b[0mmodule\u001b[0m \u001b[1;33m=\u001b[0m \u001b[0mmodule_class\u001b[0m\u001b[1;33m(\u001b[0m\u001b[0mfilepath\u001b[0m\u001b[1;33m,\u001b[0m \u001b[0mprefix\u001b[0m\u001b[1;33m,\u001b[0m \u001b[0muser_api\u001b[0m\u001b[1;33m,\u001b[0m \u001b[0minternal_api\u001b[0m\u001b[1;33m)\u001b[0m\u001b[1;33m\u001b[0m\u001b[1;33m\u001b[0m\u001b[0m\n\u001b[0m\u001b[0;32m    516\u001b[0m                 \u001b[0mself\u001b[0m\u001b[1;33m.\u001b[0m\u001b[0mmodules\u001b[0m\u001b[1;33m.\u001b[0m\u001b[0mappend\u001b[0m\u001b[1;33m(\u001b[0m\u001b[0mmodule\u001b[0m\u001b[1;33m)\u001b[0m\u001b[1;33m\u001b[0m\u001b[1;33m\u001b[0m\u001b[0m\n\u001b[0;32m    517\u001b[0m \u001b[1;33m\u001b[0m\u001b[0m\n",
      "\u001b[1;32m~\\anaconda3\\lib\\site-packages\\threadpoolctl.py\u001b[0m in \u001b[0;36m__init__\u001b[1;34m(self, filepath, prefix, user_api, internal_api)\u001b[0m\n\u001b[0;32m    604\u001b[0m         \u001b[0mself\u001b[0m\u001b[1;33m.\u001b[0m\u001b[0minternal_api\u001b[0m \u001b[1;33m=\u001b[0m \u001b[0minternal_api\u001b[0m\u001b[1;33m\u001b[0m\u001b[1;33m\u001b[0m\u001b[0m\n\u001b[0;32m    605\u001b[0m         \u001b[0mself\u001b[0m\u001b[1;33m.\u001b[0m\u001b[0m_dynlib\u001b[0m \u001b[1;33m=\u001b[0m \u001b[0mctypes\u001b[0m\u001b[1;33m.\u001b[0m\u001b[0mCDLL\u001b[0m\u001b[1;33m(\u001b[0m\u001b[0mfilepath\u001b[0m\u001b[1;33m,\u001b[0m \u001b[0mmode\u001b[0m\u001b[1;33m=\u001b[0m\u001b[0m_RTLD_NOLOAD\u001b[0m\u001b[1;33m)\u001b[0m\u001b[1;33m\u001b[0m\u001b[1;33m\u001b[0m\u001b[0m\n\u001b[1;32m--> 606\u001b[1;33m         \u001b[0mself\u001b[0m\u001b[1;33m.\u001b[0m\u001b[0mversion\u001b[0m \u001b[1;33m=\u001b[0m \u001b[0mself\u001b[0m\u001b[1;33m.\u001b[0m\u001b[0mget_version\u001b[0m\u001b[1;33m(\u001b[0m\u001b[1;33m)\u001b[0m\u001b[1;33m\u001b[0m\u001b[1;33m\u001b[0m\u001b[0m\n\u001b[0m\u001b[0;32m    607\u001b[0m         \u001b[0mself\u001b[0m\u001b[1;33m.\u001b[0m\u001b[0mnum_threads\u001b[0m \u001b[1;33m=\u001b[0m \u001b[0mself\u001b[0m\u001b[1;33m.\u001b[0m\u001b[0mget_num_threads\u001b[0m\u001b[1;33m(\u001b[0m\u001b[1;33m)\u001b[0m\u001b[1;33m\u001b[0m\u001b[1;33m\u001b[0m\u001b[0m\n\u001b[0;32m    608\u001b[0m         \u001b[0mself\u001b[0m\u001b[1;33m.\u001b[0m\u001b[0m_get_extra_info\u001b[0m\u001b[1;33m(\u001b[0m\u001b[1;33m)\u001b[0m\u001b[1;33m\u001b[0m\u001b[1;33m\u001b[0m\u001b[0m\n",
      "\u001b[1;32m~\\anaconda3\\lib\\site-packages\\threadpoolctl.py\u001b[0m in \u001b[0;36mget_version\u001b[1;34m(self)\u001b[0m\n\u001b[0;32m    644\u001b[0m                              lambda: None)\n\u001b[0;32m    645\u001b[0m         \u001b[0mget_config\u001b[0m\u001b[1;33m.\u001b[0m\u001b[0mrestype\u001b[0m \u001b[1;33m=\u001b[0m \u001b[0mctypes\u001b[0m\u001b[1;33m.\u001b[0m\u001b[0mc_char_p\u001b[0m\u001b[1;33m\u001b[0m\u001b[1;33m\u001b[0m\u001b[0m\n\u001b[1;32m--> 646\u001b[1;33m         \u001b[0mconfig\u001b[0m \u001b[1;33m=\u001b[0m \u001b[0mget_config\u001b[0m\u001b[1;33m(\u001b[0m\u001b[1;33m)\u001b[0m\u001b[1;33m.\u001b[0m\u001b[0msplit\u001b[0m\u001b[1;33m(\u001b[0m\u001b[1;33m)\u001b[0m\u001b[1;33m\u001b[0m\u001b[1;33m\u001b[0m\u001b[0m\n\u001b[0m\u001b[0;32m    647\u001b[0m         \u001b[1;32mif\u001b[0m \u001b[0mconfig\u001b[0m\u001b[1;33m[\u001b[0m\u001b[1;36m0\u001b[0m\u001b[1;33m]\u001b[0m \u001b[1;33m==\u001b[0m \u001b[1;34mb\"OpenBLAS\"\u001b[0m\u001b[1;33m:\u001b[0m\u001b[1;33m\u001b[0m\u001b[1;33m\u001b[0m\u001b[0m\n\u001b[0;32m    648\u001b[0m             \u001b[1;32mreturn\u001b[0m \u001b[0mconfig\u001b[0m\u001b[1;33m[\u001b[0m\u001b[1;36m1\u001b[0m\u001b[1;33m]\u001b[0m\u001b[1;33m.\u001b[0m\u001b[0mdecode\u001b[0m\u001b[1;33m(\u001b[0m\u001b[1;34m\"utf-8\"\u001b[0m\u001b[1;33m)\u001b[0m\u001b[1;33m\u001b[0m\u001b[1;33m\u001b[0m\u001b[0m\n",
      "\u001b[1;31mAttributeError\u001b[0m: 'NoneType' object has no attribute 'split'"
     ]
    }
   ],
   "source": [
    "MBKmeans = MiniBatchKMeans(n_clusters=2, init='k-means++', random_state=42).fit(TRAIN_VALUES)"
   ]
  },
  {
   "cell_type": "code",
   "execution_count": null,
   "metadata": {},
   "outputs": [],
   "source": []
  }
 ],
 "metadata": {
  "kernelspec": {
   "display_name": "Python 3",
   "language": "python",
   "name": "python3"
  },
  "language_info": {
   "codemirror_mode": {
    "name": "ipython",
    "version": 3
   },
   "file_extension": ".py",
   "mimetype": "text/x-python",
   "name": "python",
   "nbconvert_exporter": "python",
   "pygments_lexer": "ipython3",
   "version": "3.8.5"
  }
 },
 "nbformat": 4,
 "nbformat_minor": 4
}
