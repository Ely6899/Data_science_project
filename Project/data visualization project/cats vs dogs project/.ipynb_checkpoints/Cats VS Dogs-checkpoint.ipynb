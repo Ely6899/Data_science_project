{
 "cells": [
  {
   "cell_type": "code",
   "execution_count": 1,
   "metadata": {},
   "outputs": [],
   "source": [
    "import os\n",
    "import numpy as np\n",
    "import matplotlib.pyplot as plt\n",
    "import pandas as pd\n",
    "from numba import jit\n",
    "import cv2\n",
    "from IPython.display import clear_output\n",
    "from sklearn.preprocessing import LabelEncoder\n",
    "from IPython.core import display as ICD\n",
    "\n",
    "plt.style.use(\"seaborn\")\n",
    "\n",
    "import warnings\n",
    "warnings.filterwarnings(\"ignore\")"
   ]
  },
  {
   "cell_type": "code",
   "execution_count": 2,
   "metadata": {},
   "outputs": [
    {
     "name": "stdout",
     "output_type": "stream",
     "text": [
      "C:\\Users\\eliko\\Desktop\\Data_science_project\\Project\\data visualization project\\cats vs dogs project\n"
     ]
    }
   ],
   "source": [
    "import sys, os\n",
    "script_dir = sys.path[0]\n",
    "print(script_dir)"
   ]
  },
  {
   "cell_type": "code",
   "execution_count": 3,
   "metadata": {},
   "outputs": [
    {
     "name": "stdout",
     "output_type": "stream",
     "text": [
      "Train path: C:\\Users\\eliko\\Desktop\\Data_science_project\\Project\\data visualization project\\cats vs dogs project\\train\n",
      "\n",
      "Test path: C:\\Users\\eliko\\Desktop\\Data_science_project\\Project\\data visualization project\\cats vs dogs project\\test1\n",
      "\n",
      "Modified train path: C:\\Users\\eliko\\Desktop\\Data_science_project\\Project\\data visualization project\\cats vs dogs project\\train_modified\n",
      "\n",
      "Modified test path: C:\\Users\\eliko\\Desktop\\Data_science_project\\Project\\data visualization project\\cats vs dogs project\\test_modified\n"
     ]
    }
   ],
   "source": [
    "#Constant zone\n",
    "IMG_PATH_TRAIN = os.path.join(script_dir+r'\\train')\n",
    "IMG_PATH_TEST = os.path.join(script_dir+r'\\test1')\n",
    "IMG_PATH_TRAIN_MOD = os.path.join(script_dir+r'\\train_modified')\n",
    "IMG_PATH_TEST_MOD = os.path.join(script_dir+r'\\test_modified')\n",
    "print(\"Train path:\",IMG_PATH_TRAIN+\"\\n\")\n",
    "print(\"Test path:\",IMG_PATH_TEST+\"\\n\")\n",
    "print(\"Modified train path:\",IMG_PATH_TRAIN_MOD+\"\\n\")\n",
    "print(\"Modified test path:\",IMG_PATH_TEST_MOD)\n",
    "\n",
    "MODIFIED_WIDTH = 100\n",
    "MODIFIED_HEIGHT = 100\n",
    "\n",
    "COLOR = 'white'\n",
    "#FONT = 'Adobe'\n",
    "plt.rcParams['text.color'] = COLOR\n",
    "plt.rcParams['axes.labelcolor'] = COLOR\n",
    "plt.rcParams['xtick.color'] = COLOR\n",
    "plt.rcParams['ytick.color'] = COLOR\n",
    "plt.rcParams['figure.facecolor'] = 'black'\n",
    "\n",
    "plt.rc('axes', titlesize=25) #fontsize of the title\n",
    "plt.rc('axes', labelsize=19) #fontsize of the x and y labels\n",
    "plt.rc('xtick', labelsize=19) #fontsize of the x tick labels\n",
    "plt.rc('ytick', labelsize=19) #fontsize of the y tick labels\n",
    "#plt.rcParams['font.family'] = FONT"
   ]
  },
  {
   "cell_type": "code",
   "execution_count": 4,
   "metadata": {},
   "outputs": [],
   "source": [
    "#Function zone\n",
    "\n",
    "def modify_img(image, new_width, new_height): #Modifies an image according to chosen parameters\n",
    "    gray_img = cv2.cvtColor(image, cv2.COLOR_BGR2GRAY)\n",
    "    modified_img = cv2.resize(gray_img, (new_width, new_height))\n",
    "    return modified_img\n",
    "\n",
    "def read_img(picture_path, filename): #Reads file from path\n",
    "    return cv2.imread(picture_path+\"/\"+filename, -1)\n",
    "\n",
    "def write_img(destination_path, filename, image): #Writes new file to given path\n",
    "    cv2.imwrite(destination_path+\"/\"+filename, image)\n",
    "     \n",
    "def modify_train(): #Modifies the train data and writes it to the appropriate directory\n",
    "    count = 0\n",
    "    for f in os.listdir(IMG_PATH_TRAIN):\n",
    "        img = read_img(picture_path = IMG_PATH_TRAIN, filename = f)\n",
    "        mod_img = modify_img(img, new_width = MODIFIED_WIDTH, new_height = MODIFIED_HEIGHT)\n",
    "        write_img(destination_path = IMG_PATH_TRAIN_MOD, filename = f, image = mod_img)\n",
    "        msg = \"Modified {0}% of training data\".format(int(count/250))\n",
    "        print(msg)\n",
    "        clear_output(wait=True)\n",
    "        count += 1\n",
    "\n",
    "    print(\"Train data modification complete\")\n",
    "    \n",
    "def modify_test(): #Modifies the test data and writes it to the appropriate directory\n",
    "    count = 0\n",
    "    for f in os.listdir(IMG_PATH_TEST):\n",
    "        img = read_img(picture_path = IMG_PATH_TEST, filename = f)\n",
    "        mod_img = modify_img(img, new_width = MODIFIED_WIDTH, new_height = MODIFIED_HEIGHT)\n",
    "        write_img(destination_path = IMG_PATH_TEST_MOD, filename = f, image = mod_img)\n",
    "        msg = \"Modified {0}% of testing data\".format(int(count/250))\n",
    "        print(msg)\n",
    "        clear_output(wait=True)\n",
    "        count += 1\n",
    "\n",
    "    print(\"Test data modification complete\")\n",
    "      \n",
    "@jit(nogil = True)\n",
    "def images_to_df_train(): #Returns dataframe of the train files\n",
    "    train_array = np.ndarray(shape = (0,MODIFIED_WIDTH,MODIFIED_HEIGHT), dtype= 'uint8')\n",
    "    label_names = []\n",
    "    count = 0\n",
    "    for f in os.listdir(IMG_PATH_TRAIN_MOD):\n",
    "        img = read_img(picture_path = IMG_PATH_TRAIN_MOD, filename = f)\n",
    "        train_array = np.insert(train_array, count , img.reshape((1,MODIFIED_WIDTH,MODIFIED_HEIGHT)), axis = 0)\n",
    "        label_names.append(f.split('.')[0])\n",
    "        msg = \"Loaded {0} images. {1}%\".format(count, count/250)\n",
    "        print(msg)\n",
    "\n",
    "        clear_output(wait=True)\n",
    "        count += 1\n",
    "    print(\"Data loading complete\")\n",
    "    \n",
    "    train_df = pd.DataFrame(data = train_array.reshape(25000, MODIFIED_WIDTH*MODIFIED_HEIGHT))\n",
    "    label_df = pd.DataFrame(data = label_names, columns = ['label'])\n",
    "    label_df.insert(loc=0, column='Label', value=LabelEncoder().fit_transform(label_df['label']))\n",
    "    label_df = label_df.drop(columns = ['label'])\n",
    "    train_final = pd.concat([train_df, label_df], axis = 1)\n",
    "    print(\"Train dataframe loading complete\")\n",
    "    return train_final\n",
    "\n",
    "@jit(nogil = True)\n",
    "def images_to_df_test(): #Returns dataframe of the test files\n",
    "    test_array = np.ndarray(shape = (0,MODIFIED_WIDTH,MODIFIED_HEIGHT), dtype= 'uint8')\n",
    "    count = 0\n",
    "    for f in os.listdir(IMG_PATH_TEST_MOD):\n",
    "        img = read_img(picture_path = IMG_PATH_TEST_MOD, filename = f)\n",
    "        test_array = np.insert(test_array, count , img.reshape((1,MODIFIED_WIDTH,MODIFIED_HEIGHT)), axis = 0)\n",
    "        msg = \"Loaded {0} images. {1}%\".format(count, count/125)\n",
    "        print(msg)\n",
    "\n",
    "        clear_output(wait=True)\n",
    "        count += 1\n",
    "    print(\"Data loading complete\")\n",
    "    test_df = pd.DataFrame(data = test_array.reshape(12500, MODIFIED_WIDTH*MODIFIED_HEIGHT))\n",
    "    print(\"Test dataframe loading complete\")\n",
    "    return test_df"
   ]
  },
  {
   "cell_type": "code",
   "execution_count": 5,
   "metadata": {},
   "outputs": [],
   "source": [
    "# colored_img = cv2.imread(IMG_PATH_TRAIN+\"/\"+\"cat.0.jpg\")\n",
    "# gray_img = cv2.cvtColor(colored_img, cv2.COLOR_BGR2GRAY)\n",
    "# modified_img = cv2.resize(gray_img,(150,150))"
   ]
  },
  {
   "cell_type": "code",
   "execution_count": 6,
   "metadata": {},
   "outputs": [],
   "source": [
    "# cv2.imshow('Original', colored_img)\n",
    "# cv2.imshow('Modified', modified_img)\n",
    "# cv2.waitKey(0)\n",
    "# cv2.destroyAllWindows()"
   ]
  },
  {
   "cell_type": "code",
   "execution_count": 7,
   "metadata": {},
   "outputs": [],
   "source": [
    "#plt.imshow(Image.open(img_path))"
   ]
  },
  {
   "cell_type": "code",
   "execution_count": 8,
   "metadata": {},
   "outputs": [],
   "source": [
    "#img = cv2.imread(img_path)\n",
    "#resize_img = cv2.resize(img,(600,600))"
   ]
  },
  {
   "cell_type": "code",
   "execution_count": 9,
   "metadata": {},
   "outputs": [],
   "source": [
    "#cv2.imshow('Original', img) \n",
    "#cv2.imshow('Resizing', resize_img) \n",
    "#cv2.waitKey(0) \n",
    "#cv2.destroyAllWindows()"
   ]
  },
  {
   "cell_type": "code",
   "execution_count": 10,
   "metadata": {},
   "outputs": [],
   "source": [
    "#import matplotlib.image as mpimg"
   ]
  },
  {
   "cell_type": "code",
   "execution_count": 11,
   "metadata": {},
   "outputs": [],
   "source": [
    "#plt.imshow(cv2.resize(img,(500,500)))"
   ]
  },
  {
   "cell_type": "code",
   "execution_count": 12,
   "metadata": {},
   "outputs": [],
   "source": [
    "\n",
    "# @jit(nogil = True)\n",
    "# def labels():\n",
    "#     count = 0\n",
    "#     labels = []\n",
    "#     for f in os.listdir(IMG_PATH_TRAIN):\n",
    "#         img = read_img(picture_path = IMG_PATH_TRAIN, filename = f)\n",
    "#         labels.append(f.split('.')[0])\n",
    "#         msg = \"Loaded {0} labels\".format(count)\n",
    "#         print(msg)\n",
    "#         clear_output(wait=True)\n",
    "#         count += 1\n",
    "#     df = pd.DataFrame(data = labels, columns= ['label'])\n",
    "#     return df\n",
    "    \n",
    "\n",
    "# df = labels()\n",
    "# df"
   ]
  },
  {
   "cell_type": "code",
   "execution_count": 13,
   "metadata": {},
   "outputs": [],
   "source": [
    "# from IPython.display import clear_output\n",
    "# data = pd.DataFrame()\n",
    "# row = []\n",
    "# count = 0\n",
    "# for f in os.listdir(IMG_PATH_TRAIN_MOD):\n",
    "#     print(\"Loading...\", str(int(count/250)) + \"%\")\n",
    "#     img = cv2.imread(IMG_PATH_TRAIN_MOD+\"/\"+f, 0)\n",
    "#     data = data.append(pd.Series(img.reshape(img.size)), ignore_index=True)\n",
    "    \n",
    "#     clear_output(wait=True)\n",
    "#     count += 1\n",
    "    \n",
    "#     if(count >= 1000):\n",
    "#         break"
   ]
  },
  {
   "cell_type": "code",
   "execution_count": 5,
   "metadata": {},
   "outputs": [
    {
     "name": "stdout",
     "output_type": "stream",
     "text": [
      "Train data modification complete\n",
      "Wall time: 1min 38s\n"
     ]
    }
   ],
   "source": [
    "%%time\n",
    "modify_train()"
   ]
  },
  {
   "cell_type": "code",
   "execution_count": 15,
   "metadata": {},
   "outputs": [],
   "source": [
    "# %%time\n",
    "# modify_test()\n"
   ]
  },
  {
   "cell_type": "code",
   "execution_count": 6,
   "metadata": {},
   "outputs": [
    {
     "name": "stdout",
     "output_type": "stream",
     "text": [
      "Data loading complete\n",
      "Train dataframe loading complete\n",
      "Wall time: 11min 27s\n"
     ]
    }
   ],
   "source": [
    "%%time\n",
    "train_df = images_to_df_train()"
   ]
  },
  {
   "cell_type": "code",
   "execution_count": 6,
   "metadata": {},
   "outputs": [
    {
     "name": "stdout",
     "output_type": "stream",
     "text": [
      "Data loading complete\n",
      "Test dataframe loading complete\n",
      "Wall time: 7min 1s\n"
     ]
    }
   ],
   "source": [
    "# %%time\n",
    "# test_df = images_to_df_test()"
   ]
  },
  {
   "cell_type": "code",
   "execution_count": 7,
   "metadata": {},
   "outputs": [
    {
     "data": {
      "text/html": [
       "<div>\n",
       "<style scoped>\n",
       "    .dataframe tbody tr th:only-of-type {\n",
       "        vertical-align: middle;\n",
       "    }\n",
       "\n",
       "    .dataframe tbody tr th {\n",
       "        vertical-align: top;\n",
       "    }\n",
       "\n",
       "    .dataframe thead th {\n",
       "        text-align: right;\n",
       "    }\n",
       "</style>\n",
       "<table border=\"1\" class=\"dataframe\">\n",
       "  <thead>\n",
       "    <tr style=\"text-align: right;\">\n",
       "      <th></th>\n",
       "      <th>0</th>\n",
       "      <th>1</th>\n",
       "      <th>2</th>\n",
       "      <th>3</th>\n",
       "      <th>4</th>\n",
       "      <th>5</th>\n",
       "      <th>6</th>\n",
       "      <th>7</th>\n",
       "      <th>8</th>\n",
       "      <th>9</th>\n",
       "      <th>...</th>\n",
       "      <th>9991</th>\n",
       "      <th>9992</th>\n",
       "      <th>9993</th>\n",
       "      <th>9994</th>\n",
       "      <th>9995</th>\n",
       "      <th>9996</th>\n",
       "      <th>9997</th>\n",
       "      <th>9998</th>\n",
       "      <th>9999</th>\n",
       "      <th>Label</th>\n",
       "    </tr>\n",
       "  </thead>\n",
       "  <tbody>\n",
       "    <tr>\n",
       "      <th>0</th>\n",
       "      <td>168</td>\n",
       "      <td>173</td>\n",
       "      <td>178</td>\n",
       "      <td>181</td>\n",
       "      <td>185</td>\n",
       "      <td>188</td>\n",
       "      <td>190</td>\n",
       "      <td>193</td>\n",
       "      <td>196</td>\n",
       "      <td>198</td>\n",
       "      <td>...</td>\n",
       "      <td>3</td>\n",
       "      <td>3</td>\n",
       "      <td>2</td>\n",
       "      <td>2</td>\n",
       "      <td>2</td>\n",
       "      <td>2</td>\n",
       "      <td>2</td>\n",
       "      <td>2</td>\n",
       "      <td>2</td>\n",
       "      <td>0</td>\n",
       "    </tr>\n",
       "    <tr>\n",
       "      <th>1</th>\n",
       "      <td>44</td>\n",
       "      <td>43</td>\n",
       "      <td>43</td>\n",
       "      <td>42</td>\n",
       "      <td>52</td>\n",
       "      <td>32</td>\n",
       "      <td>53</td>\n",
       "      <td>38</td>\n",
       "      <td>41</td>\n",
       "      <td>60</td>\n",
       "      <td>...</td>\n",
       "      <td>51</td>\n",
       "      <td>49</td>\n",
       "      <td>50</td>\n",
       "      <td>55</td>\n",
       "      <td>61</td>\n",
       "      <td>62</td>\n",
       "      <td>90</td>\n",
       "      <td>18</td>\n",
       "      <td>34</td>\n",
       "      <td>0</td>\n",
       "    </tr>\n",
       "    <tr>\n",
       "      <th>2</th>\n",
       "      <td>38</td>\n",
       "      <td>27</td>\n",
       "      <td>42</td>\n",
       "      <td>50</td>\n",
       "      <td>46</td>\n",
       "      <td>56</td>\n",
       "      <td>59</td>\n",
       "      <td>55</td>\n",
       "      <td>54</td>\n",
       "      <td>58</td>\n",
       "      <td>...</td>\n",
       "      <td>160</td>\n",
       "      <td>148</td>\n",
       "      <td>135</td>\n",
       "      <td>132</td>\n",
       "      <td>148</td>\n",
       "      <td>159</td>\n",
       "      <td>168</td>\n",
       "      <td>171</td>\n",
       "      <td>153</td>\n",
       "      <td>0</td>\n",
       "    </tr>\n",
       "    <tr>\n",
       "      <th>3</th>\n",
       "      <td>220</td>\n",
       "      <td>224</td>\n",
       "      <td>223</td>\n",
       "      <td>227</td>\n",
       "      <td>229</td>\n",
       "      <td>223</td>\n",
       "      <td>225</td>\n",
       "      <td>234</td>\n",
       "      <td>229</td>\n",
       "      <td>226</td>\n",
       "      <td>...</td>\n",
       "      <td>212</td>\n",
       "      <td>205</td>\n",
       "      <td>204</td>\n",
       "      <td>202</td>\n",
       "      <td>214</td>\n",
       "      <td>222</td>\n",
       "      <td>215</td>\n",
       "      <td>212</td>\n",
       "      <td>213</td>\n",
       "      <td>0</td>\n",
       "    </tr>\n",
       "    <tr>\n",
       "      <th>4</th>\n",
       "      <td>118</td>\n",
       "      <td>117</td>\n",
       "      <td>123</td>\n",
       "      <td>91</td>\n",
       "      <td>82</td>\n",
       "      <td>95</td>\n",
       "      <td>132</td>\n",
       "      <td>131</td>\n",
       "      <td>149</td>\n",
       "      <td>179</td>\n",
       "      <td>...</td>\n",
       "      <td>95</td>\n",
       "      <td>96</td>\n",
       "      <td>91</td>\n",
       "      <td>102</td>\n",
       "      <td>121</td>\n",
       "      <td>96</td>\n",
       "      <td>89</td>\n",
       "      <td>92</td>\n",
       "      <td>81</td>\n",
       "      <td>0</td>\n",
       "    </tr>\n",
       "    <tr>\n",
       "      <th>...</th>\n",
       "      <td>...</td>\n",
       "      <td>...</td>\n",
       "      <td>...</td>\n",
       "      <td>...</td>\n",
       "      <td>...</td>\n",
       "      <td>...</td>\n",
       "      <td>...</td>\n",
       "      <td>...</td>\n",
       "      <td>...</td>\n",
       "      <td>...</td>\n",
       "      <td>...</td>\n",
       "      <td>...</td>\n",
       "      <td>...</td>\n",
       "      <td>...</td>\n",
       "      <td>...</td>\n",
       "      <td>...</td>\n",
       "      <td>...</td>\n",
       "      <td>...</td>\n",
       "      <td>...</td>\n",
       "      <td>...</td>\n",
       "      <td>...</td>\n",
       "    </tr>\n",
       "    <tr>\n",
       "      <th>24995</th>\n",
       "      <td>140</td>\n",
       "      <td>142</td>\n",
       "      <td>143</td>\n",
       "      <td>145</td>\n",
       "      <td>146</td>\n",
       "      <td>147</td>\n",
       "      <td>148</td>\n",
       "      <td>149</td>\n",
       "      <td>148</td>\n",
       "      <td>149</td>\n",
       "      <td>...</td>\n",
       "      <td>165</td>\n",
       "      <td>166</td>\n",
       "      <td>166</td>\n",
       "      <td>167</td>\n",
       "      <td>168</td>\n",
       "      <td>168</td>\n",
       "      <td>168</td>\n",
       "      <td>168</td>\n",
       "      <td>169</td>\n",
       "      <td>1</td>\n",
       "    </tr>\n",
       "    <tr>\n",
       "      <th>24996</th>\n",
       "      <td>116</td>\n",
       "      <td>78</td>\n",
       "      <td>104</td>\n",
       "      <td>85</td>\n",
       "      <td>97</td>\n",
       "      <td>115</td>\n",
       "      <td>71</td>\n",
       "      <td>83</td>\n",
       "      <td>86</td>\n",
       "      <td>88</td>\n",
       "      <td>...</td>\n",
       "      <td>94</td>\n",
       "      <td>79</td>\n",
       "      <td>99</td>\n",
       "      <td>87</td>\n",
       "      <td>77</td>\n",
       "      <td>85</td>\n",
       "      <td>94</td>\n",
       "      <td>92</td>\n",
       "      <td>76</td>\n",
       "      <td>1</td>\n",
       "    </tr>\n",
       "    <tr>\n",
       "      <th>24997</th>\n",
       "      <td>42</td>\n",
       "      <td>35</td>\n",
       "      <td>47</td>\n",
       "      <td>56</td>\n",
       "      <td>66</td>\n",
       "      <td>48</td>\n",
       "      <td>48</td>\n",
       "      <td>57</td>\n",
       "      <td>60</td>\n",
       "      <td>38</td>\n",
       "      <td>...</td>\n",
       "      <td>133</td>\n",
       "      <td>136</td>\n",
       "      <td>126</td>\n",
       "      <td>72</td>\n",
       "      <td>112</td>\n",
       "      <td>181</td>\n",
       "      <td>128</td>\n",
       "      <td>114</td>\n",
       "      <td>167</td>\n",
       "      <td>1</td>\n",
       "    </tr>\n",
       "    <tr>\n",
       "      <th>24998</th>\n",
       "      <td>254</td>\n",
       "      <td>250</td>\n",
       "      <td>246</td>\n",
       "      <td>235</td>\n",
       "      <td>224</td>\n",
       "      <td>208</td>\n",
       "      <td>187</td>\n",
       "      <td>144</td>\n",
       "      <td>113</td>\n",
       "      <td>74</td>\n",
       "      <td>...</td>\n",
       "      <td>103</td>\n",
       "      <td>104</td>\n",
       "      <td>113</td>\n",
       "      <td>111</td>\n",
       "      <td>112</td>\n",
       "      <td>106</td>\n",
       "      <td>118</td>\n",
       "      <td>115</td>\n",
       "      <td>119</td>\n",
       "      <td>1</td>\n",
       "    </tr>\n",
       "    <tr>\n",
       "      <th>24999</th>\n",
       "      <td>239</td>\n",
       "      <td>241</td>\n",
       "      <td>243</td>\n",
       "      <td>243</td>\n",
       "      <td>242</td>\n",
       "      <td>243</td>\n",
       "      <td>247</td>\n",
       "      <td>250</td>\n",
       "      <td>246</td>\n",
       "      <td>244</td>\n",
       "      <td>...</td>\n",
       "      <td>254</td>\n",
       "      <td>254</td>\n",
       "      <td>254</td>\n",
       "      <td>254</td>\n",
       "      <td>254</td>\n",
       "      <td>254</td>\n",
       "      <td>254</td>\n",
       "      <td>254</td>\n",
       "      <td>254</td>\n",
       "      <td>1</td>\n",
       "    </tr>\n",
       "  </tbody>\n",
       "</table>\n",
       "<p>25000 rows × 10001 columns</p>\n",
       "</div>"
      ],
      "text/plain": [
       "         0    1    2    3    4    5    6    7    8    9  ...  9991  9992  \\\n",
       "0      168  173  178  181  185  188  190  193  196  198  ...     3     3   \n",
       "1       44   43   43   42   52   32   53   38   41   60  ...    51    49   \n",
       "2       38   27   42   50   46   56   59   55   54   58  ...   160   148   \n",
       "3      220  224  223  227  229  223  225  234  229  226  ...   212   205   \n",
       "4      118  117  123   91   82   95  132  131  149  179  ...    95    96   \n",
       "...    ...  ...  ...  ...  ...  ...  ...  ...  ...  ...  ...   ...   ...   \n",
       "24995  140  142  143  145  146  147  148  149  148  149  ...   165   166   \n",
       "24996  116   78  104   85   97  115   71   83   86   88  ...    94    79   \n",
       "24997   42   35   47   56   66   48   48   57   60   38  ...   133   136   \n",
       "24998  254  250  246  235  224  208  187  144  113   74  ...   103   104   \n",
       "24999  239  241  243  243  242  243  247  250  246  244  ...   254   254   \n",
       "\n",
       "       9993  9994  9995  9996  9997  9998  9999  Label  \n",
       "0         2     2     2     2     2     2     2      0  \n",
       "1        50    55    61    62    90    18    34      0  \n",
       "2       135   132   148   159   168   171   153      0  \n",
       "3       204   202   214   222   215   212   213      0  \n",
       "4        91   102   121    96    89    92    81      0  \n",
       "...     ...   ...   ...   ...   ...   ...   ...    ...  \n",
       "24995   166   167   168   168   168   168   169      1  \n",
       "24996    99    87    77    85    94    92    76      1  \n",
       "24997   126    72   112   181   128   114   167      1  \n",
       "24998   113   111   112   106   118   115   119      1  \n",
       "24999   254   254   254   254   254   254   254      1  \n",
       "\n",
       "[25000 rows x 10001 columns]"
      ]
     },
     "execution_count": 7,
     "metadata": {},
     "output_type": "execute_result"
    }
   ],
   "source": [
    "train_df"
   ]
  },
  {
   "cell_type": "code",
   "execution_count": 8,
   "metadata": {},
   "outputs": [
    {
     "data": {
      "text/html": [
       "<div>\n",
       "<style scoped>\n",
       "    .dataframe tbody tr th:only-of-type {\n",
       "        vertical-align: middle;\n",
       "    }\n",
       "\n",
       "    .dataframe tbody tr th {\n",
       "        vertical-align: top;\n",
       "    }\n",
       "\n",
       "    .dataframe thead th {\n",
       "        text-align: right;\n",
       "    }\n",
       "</style>\n",
       "<table border=\"1\" class=\"dataframe\">\n",
       "  <thead>\n",
       "    <tr style=\"text-align: right;\">\n",
       "      <th></th>\n",
       "      <th>0</th>\n",
       "      <th>1</th>\n",
       "      <th>2</th>\n",
       "      <th>3</th>\n",
       "      <th>4</th>\n",
       "      <th>5</th>\n",
       "      <th>6</th>\n",
       "      <th>7</th>\n",
       "      <th>8</th>\n",
       "      <th>9</th>\n",
       "      <th>...</th>\n",
       "      <th>9990</th>\n",
       "      <th>9991</th>\n",
       "      <th>9992</th>\n",
       "      <th>9993</th>\n",
       "      <th>9994</th>\n",
       "      <th>9995</th>\n",
       "      <th>9996</th>\n",
       "      <th>9997</th>\n",
       "      <th>9998</th>\n",
       "      <th>9999</th>\n",
       "    </tr>\n",
       "  </thead>\n",
       "  <tbody>\n",
       "    <tr>\n",
       "      <th>0</th>\n",
       "      <td>63</td>\n",
       "      <td>59</td>\n",
       "      <td>52</td>\n",
       "      <td>63</td>\n",
       "      <td>66</td>\n",
       "      <td>66</td>\n",
       "      <td>67</td>\n",
       "      <td>64</td>\n",
       "      <td>57</td>\n",
       "      <td>60</td>\n",
       "      <td>...</td>\n",
       "      <td>151</td>\n",
       "      <td>214</td>\n",
       "      <td>210</td>\n",
       "      <td>191</td>\n",
       "      <td>116</td>\n",
       "      <td>134</td>\n",
       "      <td>149</td>\n",
       "      <td>172</td>\n",
       "      <td>176</td>\n",
       "      <td>79</td>\n",
       "    </tr>\n",
       "    <tr>\n",
       "      <th>1</th>\n",
       "      <td>10</td>\n",
       "      <td>6</td>\n",
       "      <td>9</td>\n",
       "      <td>11</td>\n",
       "      <td>2</td>\n",
       "      <td>7</td>\n",
       "      <td>105</td>\n",
       "      <td>98</td>\n",
       "      <td>86</td>\n",
       "      <td>85</td>\n",
       "      <td>...</td>\n",
       "      <td>103</td>\n",
       "      <td>77</td>\n",
       "      <td>76</td>\n",
       "      <td>81</td>\n",
       "      <td>80</td>\n",
       "      <td>66</td>\n",
       "      <td>67</td>\n",
       "      <td>71</td>\n",
       "      <td>65</td>\n",
       "      <td>77</td>\n",
       "    </tr>\n",
       "    <tr>\n",
       "      <th>2</th>\n",
       "      <td>4</td>\n",
       "      <td>3</td>\n",
       "      <td>3</td>\n",
       "      <td>3</td>\n",
       "      <td>2</td>\n",
       "      <td>2</td>\n",
       "      <td>3</td>\n",
       "      <td>4</td>\n",
       "      <td>4</td>\n",
       "      <td>6</td>\n",
       "      <td>...</td>\n",
       "      <td>248</td>\n",
       "      <td>248</td>\n",
       "      <td>246</td>\n",
       "      <td>244</td>\n",
       "      <td>250</td>\n",
       "      <td>250</td>\n",
       "      <td>251</td>\n",
       "      <td>249</td>\n",
       "      <td>237</td>\n",
       "      <td>253</td>\n",
       "    </tr>\n",
       "    <tr>\n",
       "      <th>3</th>\n",
       "      <td>132</td>\n",
       "      <td>135</td>\n",
       "      <td>193</td>\n",
       "      <td>155</td>\n",
       "      <td>198</td>\n",
       "      <td>219</td>\n",
       "      <td>153</td>\n",
       "      <td>175</td>\n",
       "      <td>185</td>\n",
       "      <td>193</td>\n",
       "      <td>...</td>\n",
       "      <td>158</td>\n",
       "      <td>172</td>\n",
       "      <td>165</td>\n",
       "      <td>177</td>\n",
       "      <td>140</td>\n",
       "      <td>126</td>\n",
       "      <td>154</td>\n",
       "      <td>193</td>\n",
       "      <td>160</td>\n",
       "      <td>125</td>\n",
       "    </tr>\n",
       "    <tr>\n",
       "      <th>4</th>\n",
       "      <td>124</td>\n",
       "      <td>134</td>\n",
       "      <td>108</td>\n",
       "      <td>190</td>\n",
       "      <td>217</td>\n",
       "      <td>222</td>\n",
       "      <td>223</td>\n",
       "      <td>190</td>\n",
       "      <td>216</td>\n",
       "      <td>219</td>\n",
       "      <td>...</td>\n",
       "      <td>147</td>\n",
       "      <td>137</td>\n",
       "      <td>116</td>\n",
       "      <td>137</td>\n",
       "      <td>158</td>\n",
       "      <td>159</td>\n",
       "      <td>152</td>\n",
       "      <td>119</td>\n",
       "      <td>135</td>\n",
       "      <td>124</td>\n",
       "    </tr>\n",
       "    <tr>\n",
       "      <th>...</th>\n",
       "      <td>...</td>\n",
       "      <td>...</td>\n",
       "      <td>...</td>\n",
       "      <td>...</td>\n",
       "      <td>...</td>\n",
       "      <td>...</td>\n",
       "      <td>...</td>\n",
       "      <td>...</td>\n",
       "      <td>...</td>\n",
       "      <td>...</td>\n",
       "      <td>...</td>\n",
       "      <td>...</td>\n",
       "      <td>...</td>\n",
       "      <td>...</td>\n",
       "      <td>...</td>\n",
       "      <td>...</td>\n",
       "      <td>...</td>\n",
       "      <td>...</td>\n",
       "      <td>...</td>\n",
       "      <td>...</td>\n",
       "      <td>...</td>\n",
       "    </tr>\n",
       "    <tr>\n",
       "      <th>12495</th>\n",
       "      <td>36</td>\n",
       "      <td>42</td>\n",
       "      <td>47</td>\n",
       "      <td>50</td>\n",
       "      <td>53</td>\n",
       "      <td>55</td>\n",
       "      <td>57</td>\n",
       "      <td>59</td>\n",
       "      <td>66</td>\n",
       "      <td>70</td>\n",
       "      <td>...</td>\n",
       "      <td>137</td>\n",
       "      <td>138</td>\n",
       "      <td>125</td>\n",
       "      <td>137</td>\n",
       "      <td>135</td>\n",
       "      <td>119</td>\n",
       "      <td>129</td>\n",
       "      <td>126</td>\n",
       "      <td>119</td>\n",
       "      <td>117</td>\n",
       "    </tr>\n",
       "    <tr>\n",
       "      <th>12496</th>\n",
       "      <td>142</td>\n",
       "      <td>145</td>\n",
       "      <td>50</td>\n",
       "      <td>204</td>\n",
       "      <td>124</td>\n",
       "      <td>143</td>\n",
       "      <td>144</td>\n",
       "      <td>92</td>\n",
       "      <td>193</td>\n",
       "      <td>102</td>\n",
       "      <td>...</td>\n",
       "      <td>28</td>\n",
       "      <td>36</td>\n",
       "      <td>12</td>\n",
       "      <td>54</td>\n",
       "      <td>31</td>\n",
       "      <td>21</td>\n",
       "      <td>11</td>\n",
       "      <td>17</td>\n",
       "      <td>31</td>\n",
       "      <td>30</td>\n",
       "    </tr>\n",
       "    <tr>\n",
       "      <th>12497</th>\n",
       "      <td>215</td>\n",
       "      <td>211</td>\n",
       "      <td>231</td>\n",
       "      <td>233</td>\n",
       "      <td>209</td>\n",
       "      <td>241</td>\n",
       "      <td>208</td>\n",
       "      <td>235</td>\n",
       "      <td>228</td>\n",
       "      <td>202</td>\n",
       "      <td>...</td>\n",
       "      <td>154</td>\n",
       "      <td>155</td>\n",
       "      <td>151</td>\n",
       "      <td>157</td>\n",
       "      <td>139</td>\n",
       "      <td>122</td>\n",
       "      <td>105</td>\n",
       "      <td>129</td>\n",
       "      <td>119</td>\n",
       "      <td>117</td>\n",
       "    </tr>\n",
       "    <tr>\n",
       "      <th>12498</th>\n",
       "      <td>108</td>\n",
       "      <td>108</td>\n",
       "      <td>119</td>\n",
       "      <td>137</td>\n",
       "      <td>143</td>\n",
       "      <td>149</td>\n",
       "      <td>155</td>\n",
       "      <td>170</td>\n",
       "      <td>174</td>\n",
       "      <td>178</td>\n",
       "      <td>...</td>\n",
       "      <td>126</td>\n",
       "      <td>129</td>\n",
       "      <td>133</td>\n",
       "      <td>130</td>\n",
       "      <td>125</td>\n",
       "      <td>122</td>\n",
       "      <td>121</td>\n",
       "      <td>119</td>\n",
       "      <td>121</td>\n",
       "      <td>122</td>\n",
       "    </tr>\n",
       "    <tr>\n",
       "      <th>12499</th>\n",
       "      <td>78</td>\n",
       "      <td>73</td>\n",
       "      <td>82</td>\n",
       "      <td>76</td>\n",
       "      <td>86</td>\n",
       "      <td>86</td>\n",
       "      <td>92</td>\n",
       "      <td>114</td>\n",
       "      <td>130</td>\n",
       "      <td>162</td>\n",
       "      <td>...</td>\n",
       "      <td>98</td>\n",
       "      <td>101</td>\n",
       "      <td>86</td>\n",
       "      <td>148</td>\n",
       "      <td>97</td>\n",
       "      <td>88</td>\n",
       "      <td>93</td>\n",
       "      <td>190</td>\n",
       "      <td>226</td>\n",
       "      <td>223</td>\n",
       "    </tr>\n",
       "  </tbody>\n",
       "</table>\n",
       "<p>12500 rows × 10000 columns</p>\n",
       "</div>"
      ],
      "text/plain": [
       "       0     1     2     3     4     5     6     7     8     9     ...  9990  \\\n",
       "0        63    59    52    63    66    66    67    64    57    60  ...   151   \n",
       "1        10     6     9    11     2     7   105    98    86    85  ...   103   \n",
       "2         4     3     3     3     2     2     3     4     4     6  ...   248   \n",
       "3       132   135   193   155   198   219   153   175   185   193  ...   158   \n",
       "4       124   134   108   190   217   222   223   190   216   219  ...   147   \n",
       "...     ...   ...   ...   ...   ...   ...   ...   ...   ...   ...  ...   ...   \n",
       "12495    36    42    47    50    53    55    57    59    66    70  ...   137   \n",
       "12496   142   145    50   204   124   143   144    92   193   102  ...    28   \n",
       "12497   215   211   231   233   209   241   208   235   228   202  ...   154   \n",
       "12498   108   108   119   137   143   149   155   170   174   178  ...   126   \n",
       "12499    78    73    82    76    86    86    92   114   130   162  ...    98   \n",
       "\n",
       "       9991  9992  9993  9994  9995  9996  9997  9998  9999  \n",
       "0       214   210   191   116   134   149   172   176    79  \n",
       "1        77    76    81    80    66    67    71    65    77  \n",
       "2       248   246   244   250   250   251   249   237   253  \n",
       "3       172   165   177   140   126   154   193   160   125  \n",
       "4       137   116   137   158   159   152   119   135   124  \n",
       "...     ...   ...   ...   ...   ...   ...   ...   ...   ...  \n",
       "12495   138   125   137   135   119   129   126   119   117  \n",
       "12496    36    12    54    31    21    11    17    31    30  \n",
       "12497   155   151   157   139   122   105   129   119   117  \n",
       "12498   129   133   130   125   122   121   119   121   122  \n",
       "12499   101    86   148    97    88    93   190   226   223  \n",
       "\n",
       "[12500 rows x 10000 columns]"
      ]
     },
     "execution_count": 8,
     "metadata": {},
     "output_type": "execute_result"
    }
   ],
   "source": [
    "# test_df"
   ]
  },
  {
   "cell_type": "code",
   "execution_count": 8,
   "metadata": {},
   "outputs": [
    {
     "name": "stdout",
     "output_type": "stream",
     "text": [
      "Null count in the train dataframe: 0\n"
     ]
    }
   ],
   "source": [
    "print(\"Null count in the train dataframe:\",train_df.isnull().sum().sum())\n",
    "#print(\"Null count in the test dataframe:\",test_df.isnull().sum().sum())"
   ]
  },
  {
   "cell_type": "markdown",
   "metadata": {},
   "source": [
    "## Models without unsupervised preprocessing"
   ]
  },
  {
   "cell_type": "markdown",
   "metadata": {},
   "source": [
    "### Dummy model"
   ]
  },
  {
   "cell_type": "code",
   "execution_count": 9,
   "metadata": {},
   "outputs": [],
   "source": [
    "from sklearn.model_selection import train_test_split"
   ]
  },
  {
   "cell_type": "code",
   "execution_count": 10,
   "metadata": {},
   "outputs": [],
   "source": [
    "X = train_df.iloc[:,:-1]\n",
    "y = train_df.iloc[:,-1:]"
   ]
  },
  {
   "cell_type": "code",
   "execution_count": 11,
   "metadata": {},
   "outputs": [
    {
     "name": "stdout",
     "output_type": "stream",
     "text": [
      "Train shape: (22500, 10000)\n",
      "Test shape: (2500, 1)\n",
      "Test class counts: {0: 1250, 1: 1250}\n"
     ]
    }
   ],
   "source": [
    "X_train, X_test, y_train, y_test = train_test_split(X, y, test_size=0.10, random_state=42, stratify = y)\n",
    "print(\"Train shape:\",X_train.shape)\n",
    "print(\"Test shape:\",y_test.shape)\n",
    "unique, counts = np.unique(y_test, return_counts=True)\n",
    "print(\"Test class counts:\",dict(zip(unique, counts)))"
   ]
  },
  {
   "cell_type": "code",
   "execution_count": 12,
   "metadata": {},
   "outputs": [
    {
     "name": "stdout",
     "output_type": "stream",
     "text": [
      "Dummy model train score: 0.5061333333333333\n",
      "Dummy model test score: 0.4976\n"
     ]
    }
   ],
   "source": [
    "from sklearn.dummy import DummyClassifier\n",
    "dum = DummyClassifier(strategy=\"uniform\")\n",
    "dum.fit(X_train, y_train)\n",
    "print(\"Dummy model train score:\",dum.score(X_train, y_train))\n",
    "print(\"Dummy model test score:\",dum.score(X_test, y_test))"
   ]
  },
  {
   "cell_type": "markdown",
   "metadata": {},
   "source": [
    "### Logistic regression"
   ]
  },
  {
   "cell_type": "code",
   "execution_count": 13,
   "metadata": {},
   "outputs": [],
   "source": [
    "from sklearn.linear_model import LogisticRegression\n",
    "#from sklearn.model_selection import train_test_split"
   ]
  },
  {
   "cell_type": "code",
   "execution_count": 9,
   "metadata": {},
   "outputs": [],
   "source": [
    "# X = train_df.iloc[:,:-1]\n",
    "# y = train_df.iloc[:,-1:]"
   ]
  },
  {
   "cell_type": "code",
   "execution_count": 10,
   "metadata": {},
   "outputs": [
    {
     "data": {
      "text/html": [
       "<div>\n",
       "<style scoped>\n",
       "    .dataframe tbody tr th:only-of-type {\n",
       "        vertical-align: middle;\n",
       "    }\n",
       "\n",
       "    .dataframe tbody tr th {\n",
       "        vertical-align: top;\n",
       "    }\n",
       "\n",
       "    .dataframe thead th {\n",
       "        text-align: right;\n",
       "    }\n",
       "</style>\n",
       "<table border=\"1\" class=\"dataframe\">\n",
       "  <thead>\n",
       "    <tr style=\"text-align: right;\">\n",
       "      <th></th>\n",
       "      <th>0</th>\n",
       "      <th>1</th>\n",
       "      <th>2</th>\n",
       "      <th>3</th>\n",
       "      <th>4</th>\n",
       "      <th>5</th>\n",
       "      <th>6</th>\n",
       "      <th>7</th>\n",
       "      <th>8</th>\n",
       "      <th>9</th>\n",
       "      <th>...</th>\n",
       "      <th>9990</th>\n",
       "      <th>9991</th>\n",
       "      <th>9992</th>\n",
       "      <th>9993</th>\n",
       "      <th>9994</th>\n",
       "      <th>9995</th>\n",
       "      <th>9996</th>\n",
       "      <th>9997</th>\n",
       "      <th>9998</th>\n",
       "      <th>9999</th>\n",
       "    </tr>\n",
       "  </thead>\n",
       "  <tbody>\n",
       "    <tr>\n",
       "      <th>0</th>\n",
       "      <td>168</td>\n",
       "      <td>173</td>\n",
       "      <td>178</td>\n",
       "      <td>181</td>\n",
       "      <td>185</td>\n",
       "      <td>188</td>\n",
       "      <td>190</td>\n",
       "      <td>193</td>\n",
       "      <td>196</td>\n",
       "      <td>198</td>\n",
       "      <td>...</td>\n",
       "      <td>3</td>\n",
       "      <td>3</td>\n",
       "      <td>3</td>\n",
       "      <td>2</td>\n",
       "      <td>2</td>\n",
       "      <td>2</td>\n",
       "      <td>2</td>\n",
       "      <td>2</td>\n",
       "      <td>2</td>\n",
       "      <td>2</td>\n",
       "    </tr>\n",
       "    <tr>\n",
       "      <th>1</th>\n",
       "      <td>44</td>\n",
       "      <td>43</td>\n",
       "      <td>43</td>\n",
       "      <td>42</td>\n",
       "      <td>52</td>\n",
       "      <td>32</td>\n",
       "      <td>53</td>\n",
       "      <td>38</td>\n",
       "      <td>41</td>\n",
       "      <td>60</td>\n",
       "      <td>...</td>\n",
       "      <td>47</td>\n",
       "      <td>51</td>\n",
       "      <td>49</td>\n",
       "      <td>50</td>\n",
       "      <td>55</td>\n",
       "      <td>61</td>\n",
       "      <td>62</td>\n",
       "      <td>90</td>\n",
       "      <td>18</td>\n",
       "      <td>34</td>\n",
       "    </tr>\n",
       "    <tr>\n",
       "      <th>2</th>\n",
       "      <td>38</td>\n",
       "      <td>27</td>\n",
       "      <td>42</td>\n",
       "      <td>50</td>\n",
       "      <td>46</td>\n",
       "      <td>56</td>\n",
       "      <td>59</td>\n",
       "      <td>55</td>\n",
       "      <td>54</td>\n",
       "      <td>58</td>\n",
       "      <td>...</td>\n",
       "      <td>157</td>\n",
       "      <td>160</td>\n",
       "      <td>148</td>\n",
       "      <td>135</td>\n",
       "      <td>132</td>\n",
       "      <td>148</td>\n",
       "      <td>159</td>\n",
       "      <td>168</td>\n",
       "      <td>171</td>\n",
       "      <td>153</td>\n",
       "    </tr>\n",
       "    <tr>\n",
       "      <th>3</th>\n",
       "      <td>220</td>\n",
       "      <td>224</td>\n",
       "      <td>223</td>\n",
       "      <td>227</td>\n",
       "      <td>229</td>\n",
       "      <td>223</td>\n",
       "      <td>225</td>\n",
       "      <td>234</td>\n",
       "      <td>229</td>\n",
       "      <td>226</td>\n",
       "      <td>...</td>\n",
       "      <td>228</td>\n",
       "      <td>212</td>\n",
       "      <td>205</td>\n",
       "      <td>204</td>\n",
       "      <td>202</td>\n",
       "      <td>214</td>\n",
       "      <td>222</td>\n",
       "      <td>215</td>\n",
       "      <td>212</td>\n",
       "      <td>213</td>\n",
       "    </tr>\n",
       "    <tr>\n",
       "      <th>4</th>\n",
       "      <td>118</td>\n",
       "      <td>117</td>\n",
       "      <td>123</td>\n",
       "      <td>91</td>\n",
       "      <td>82</td>\n",
       "      <td>95</td>\n",
       "      <td>132</td>\n",
       "      <td>131</td>\n",
       "      <td>149</td>\n",
       "      <td>179</td>\n",
       "      <td>...</td>\n",
       "      <td>95</td>\n",
       "      <td>95</td>\n",
       "      <td>96</td>\n",
       "      <td>91</td>\n",
       "      <td>102</td>\n",
       "      <td>121</td>\n",
       "      <td>96</td>\n",
       "      <td>89</td>\n",
       "      <td>92</td>\n",
       "      <td>81</td>\n",
       "    </tr>\n",
       "    <tr>\n",
       "      <th>...</th>\n",
       "      <td>...</td>\n",
       "      <td>...</td>\n",
       "      <td>...</td>\n",
       "      <td>...</td>\n",
       "      <td>...</td>\n",
       "      <td>...</td>\n",
       "      <td>...</td>\n",
       "      <td>...</td>\n",
       "      <td>...</td>\n",
       "      <td>...</td>\n",
       "      <td>...</td>\n",
       "      <td>...</td>\n",
       "      <td>...</td>\n",
       "      <td>...</td>\n",
       "      <td>...</td>\n",
       "      <td>...</td>\n",
       "      <td>...</td>\n",
       "      <td>...</td>\n",
       "      <td>...</td>\n",
       "      <td>...</td>\n",
       "      <td>...</td>\n",
       "    </tr>\n",
       "    <tr>\n",
       "      <th>24995</th>\n",
       "      <td>140</td>\n",
       "      <td>142</td>\n",
       "      <td>143</td>\n",
       "      <td>145</td>\n",
       "      <td>146</td>\n",
       "      <td>147</td>\n",
       "      <td>148</td>\n",
       "      <td>149</td>\n",
       "      <td>148</td>\n",
       "      <td>149</td>\n",
       "      <td>...</td>\n",
       "      <td>164</td>\n",
       "      <td>165</td>\n",
       "      <td>166</td>\n",
       "      <td>166</td>\n",
       "      <td>167</td>\n",
       "      <td>168</td>\n",
       "      <td>168</td>\n",
       "      <td>168</td>\n",
       "      <td>168</td>\n",
       "      <td>169</td>\n",
       "    </tr>\n",
       "    <tr>\n",
       "      <th>24996</th>\n",
       "      <td>116</td>\n",
       "      <td>78</td>\n",
       "      <td>104</td>\n",
       "      <td>85</td>\n",
       "      <td>97</td>\n",
       "      <td>115</td>\n",
       "      <td>71</td>\n",
       "      <td>83</td>\n",
       "      <td>86</td>\n",
       "      <td>88</td>\n",
       "      <td>...</td>\n",
       "      <td>95</td>\n",
       "      <td>94</td>\n",
       "      <td>79</td>\n",
       "      <td>99</td>\n",
       "      <td>87</td>\n",
       "      <td>77</td>\n",
       "      <td>85</td>\n",
       "      <td>94</td>\n",
       "      <td>92</td>\n",
       "      <td>76</td>\n",
       "    </tr>\n",
       "    <tr>\n",
       "      <th>24997</th>\n",
       "      <td>42</td>\n",
       "      <td>35</td>\n",
       "      <td>47</td>\n",
       "      <td>56</td>\n",
       "      <td>66</td>\n",
       "      <td>48</td>\n",
       "      <td>48</td>\n",
       "      <td>57</td>\n",
       "      <td>60</td>\n",
       "      <td>38</td>\n",
       "      <td>...</td>\n",
       "      <td>101</td>\n",
       "      <td>133</td>\n",
       "      <td>136</td>\n",
       "      <td>126</td>\n",
       "      <td>72</td>\n",
       "      <td>112</td>\n",
       "      <td>181</td>\n",
       "      <td>128</td>\n",
       "      <td>114</td>\n",
       "      <td>167</td>\n",
       "    </tr>\n",
       "    <tr>\n",
       "      <th>24998</th>\n",
       "      <td>254</td>\n",
       "      <td>250</td>\n",
       "      <td>246</td>\n",
       "      <td>235</td>\n",
       "      <td>224</td>\n",
       "      <td>208</td>\n",
       "      <td>187</td>\n",
       "      <td>144</td>\n",
       "      <td>113</td>\n",
       "      <td>74</td>\n",
       "      <td>...</td>\n",
       "      <td>119</td>\n",
       "      <td>103</td>\n",
       "      <td>104</td>\n",
       "      <td>113</td>\n",
       "      <td>111</td>\n",
       "      <td>112</td>\n",
       "      <td>106</td>\n",
       "      <td>118</td>\n",
       "      <td>115</td>\n",
       "      <td>119</td>\n",
       "    </tr>\n",
       "    <tr>\n",
       "      <th>24999</th>\n",
       "      <td>239</td>\n",
       "      <td>241</td>\n",
       "      <td>243</td>\n",
       "      <td>243</td>\n",
       "      <td>242</td>\n",
       "      <td>243</td>\n",
       "      <td>247</td>\n",
       "      <td>250</td>\n",
       "      <td>246</td>\n",
       "      <td>244</td>\n",
       "      <td>...</td>\n",
       "      <td>254</td>\n",
       "      <td>254</td>\n",
       "      <td>254</td>\n",
       "      <td>254</td>\n",
       "      <td>254</td>\n",
       "      <td>254</td>\n",
       "      <td>254</td>\n",
       "      <td>254</td>\n",
       "      <td>254</td>\n",
       "      <td>254</td>\n",
       "    </tr>\n",
       "  </tbody>\n",
       "</table>\n",
       "<p>25000 rows × 10000 columns</p>\n",
       "</div>"
      ],
      "text/plain": [
       "       0     1     2     3     4     5     6     7     8     9     ...  9990  \\\n",
       "0       168   173   178   181   185   188   190   193   196   198  ...     3   \n",
       "1        44    43    43    42    52    32    53    38    41    60  ...    47   \n",
       "2        38    27    42    50    46    56    59    55    54    58  ...   157   \n",
       "3       220   224   223   227   229   223   225   234   229   226  ...   228   \n",
       "4       118   117   123    91    82    95   132   131   149   179  ...    95   \n",
       "...     ...   ...   ...   ...   ...   ...   ...   ...   ...   ...  ...   ...   \n",
       "24995   140   142   143   145   146   147   148   149   148   149  ...   164   \n",
       "24996   116    78   104    85    97   115    71    83    86    88  ...    95   \n",
       "24997    42    35    47    56    66    48    48    57    60    38  ...   101   \n",
       "24998   254   250   246   235   224   208   187   144   113    74  ...   119   \n",
       "24999   239   241   243   243   242   243   247   250   246   244  ...   254   \n",
       "\n",
       "       9991  9992  9993  9994  9995  9996  9997  9998  9999  \n",
       "0         3     3     2     2     2     2     2     2     2  \n",
       "1        51    49    50    55    61    62    90    18    34  \n",
       "2       160   148   135   132   148   159   168   171   153  \n",
       "3       212   205   204   202   214   222   215   212   213  \n",
       "4        95    96    91   102   121    96    89    92    81  \n",
       "...     ...   ...   ...   ...   ...   ...   ...   ...   ...  \n",
       "24995   165   166   166   167   168   168   168   168   169  \n",
       "24996    94    79    99    87    77    85    94    92    76  \n",
       "24997   133   136   126    72   112   181   128   114   167  \n",
       "24998   103   104   113   111   112   106   118   115   119  \n",
       "24999   254   254   254   254   254   254   254   254   254  \n",
       "\n",
       "[25000 rows x 10000 columns]"
      ]
     },
     "execution_count": 10,
     "metadata": {},
     "output_type": "execute_result"
    }
   ],
   "source": [
    "# X"
   ]
  },
  {
   "cell_type": "code",
   "execution_count": 11,
   "metadata": {},
   "outputs": [
    {
     "name": "stdout",
     "output_type": "stream",
     "text": [
      "Train shape: (22500, 10000)\n",
      "Test shape: (22500, 1)\n"
     ]
    }
   ],
   "source": [
    "# X_train, X_test, y_train, y_test = train_test_split(X, y, test_size=0.10, random_state=42)\n",
    "# print(\"Train shape:\",X_train.shape)\n",
    "# print(\"Test shape:\",y_train.shape)"
   ]
  },
  {
   "cell_type": "code",
   "execution_count": 14,
   "metadata": {},
   "outputs": [
    {
     "data": {
      "text/html": [
       "<style>#sk-container-id-1 {color: black;background-color: white;}#sk-container-id-1 pre{padding: 0;}#sk-container-id-1 div.sk-toggleable {background-color: white;}#sk-container-id-1 label.sk-toggleable__label {cursor: pointer;display: block;width: 100%;margin-bottom: 0;padding: 0.3em;box-sizing: border-box;text-align: center;}#sk-container-id-1 label.sk-toggleable__label-arrow:before {content: \"▸\";float: left;margin-right: 0.25em;color: #696969;}#sk-container-id-1 label.sk-toggleable__label-arrow:hover:before {color: black;}#sk-container-id-1 div.sk-estimator:hover label.sk-toggleable__label-arrow:before {color: black;}#sk-container-id-1 div.sk-toggleable__content {max-height: 0;max-width: 0;overflow: hidden;text-align: left;background-color: #f0f8ff;}#sk-container-id-1 div.sk-toggleable__content pre {margin: 0.2em;color: black;border-radius: 0.25em;background-color: #f0f8ff;}#sk-container-id-1 input.sk-toggleable__control:checked~div.sk-toggleable__content {max-height: 200px;max-width: 100%;overflow: auto;}#sk-container-id-1 input.sk-toggleable__control:checked~label.sk-toggleable__label-arrow:before {content: \"▾\";}#sk-container-id-1 div.sk-estimator input.sk-toggleable__control:checked~label.sk-toggleable__label {background-color: #d4ebff;}#sk-container-id-1 div.sk-label input.sk-toggleable__control:checked~label.sk-toggleable__label {background-color: #d4ebff;}#sk-container-id-1 input.sk-hidden--visually {border: 0;clip: rect(1px 1px 1px 1px);clip: rect(1px, 1px, 1px, 1px);height: 1px;margin: -1px;overflow: hidden;padding: 0;position: absolute;width: 1px;}#sk-container-id-1 div.sk-estimator {font-family: monospace;background-color: #f0f8ff;border: 1px dotted black;border-radius: 0.25em;box-sizing: border-box;margin-bottom: 0.5em;}#sk-container-id-1 div.sk-estimator:hover {background-color: #d4ebff;}#sk-container-id-1 div.sk-parallel-item::after {content: \"\";width: 100%;border-bottom: 1px solid gray;flex-grow: 1;}#sk-container-id-1 div.sk-label:hover label.sk-toggleable__label {background-color: #d4ebff;}#sk-container-id-1 div.sk-serial::before {content: \"\";position: absolute;border-left: 1px solid gray;box-sizing: border-box;top: 0;bottom: 0;left: 50%;z-index: 0;}#sk-container-id-1 div.sk-serial {display: flex;flex-direction: column;align-items: center;background-color: white;padding-right: 0.2em;padding-left: 0.2em;position: relative;}#sk-container-id-1 div.sk-item {position: relative;z-index: 1;}#sk-container-id-1 div.sk-parallel {display: flex;align-items: stretch;justify-content: center;background-color: white;position: relative;}#sk-container-id-1 div.sk-item::before, #sk-container-id-1 div.sk-parallel-item::before {content: \"\";position: absolute;border-left: 1px solid gray;box-sizing: border-box;top: 0;bottom: 0;left: 50%;z-index: -1;}#sk-container-id-1 div.sk-parallel-item {display: flex;flex-direction: column;z-index: 1;position: relative;background-color: white;}#sk-container-id-1 div.sk-parallel-item:first-child::after {align-self: flex-end;width: 50%;}#sk-container-id-1 div.sk-parallel-item:last-child::after {align-self: flex-start;width: 50%;}#sk-container-id-1 div.sk-parallel-item:only-child::after {width: 0;}#sk-container-id-1 div.sk-dashed-wrapped {border: 1px dashed gray;margin: 0 0.4em 0.5em 0.4em;box-sizing: border-box;padding-bottom: 0.4em;background-color: white;}#sk-container-id-1 div.sk-label label {font-family: monospace;font-weight: bold;display: inline-block;line-height: 1.2em;}#sk-container-id-1 div.sk-label-container {text-align: center;}#sk-container-id-1 div.sk-container {/* jupyter's `normalize.less` sets `[hidden] { display: none; }` but bootstrap.min.css set `[hidden] { display: none !important; }` so we also need the `!important` here to be able to override the default hidden behavior on the sphinx rendered scikit-learn.org. See: https://github.com/scikit-learn/scikit-learn/issues/21755 */display: inline-block !important;position: relative;}#sk-container-id-1 div.sk-text-repr-fallback {display: none;}</style><div id=\"sk-container-id-1\" class=\"sk-top-container\"><div class=\"sk-text-repr-fallback\"><pre>LogisticRegression(C=0.1, class_weight=&#x27;balanced&#x27;, l1_ratio=0.5,\n",
       "                   multi_class=&#x27;ovr&#x27;, n_jobs=11, penalty=&#x27;elasticnet&#x27;,\n",
       "                   random_state=42, solver=&#x27;saga&#x27;, tol=0.01)</pre><b>In a Jupyter environment, please rerun this cell to show the HTML representation or trust the notebook. <br />On GitHub, the HTML representation is unable to render, please try loading this page with nbviewer.org.</b></div><div class=\"sk-container\" hidden><div class=\"sk-item\"><div class=\"sk-estimator sk-toggleable\"><input class=\"sk-toggleable__control sk-hidden--visually\" id=\"sk-estimator-id-1\" type=\"checkbox\" checked><label for=\"sk-estimator-id-1\" class=\"sk-toggleable__label sk-toggleable__label-arrow\">LogisticRegression</label><div class=\"sk-toggleable__content\"><pre>LogisticRegression(C=0.1, class_weight=&#x27;balanced&#x27;, l1_ratio=0.5,\n",
       "                   multi_class=&#x27;ovr&#x27;, n_jobs=11, penalty=&#x27;elasticnet&#x27;,\n",
       "                   random_state=42, solver=&#x27;saga&#x27;, tol=0.01)</pre></div></div></div></div></div>"
      ],
      "text/plain": [
       "LogisticRegression(C=0.1, class_weight='balanced', l1_ratio=0.5,\n",
       "                   multi_class='ovr', n_jobs=11, penalty='elasticnet',\n",
       "                   random_state=42, solver='saga', tol=0.01)"
      ]
     },
     "execution_count": 14,
     "metadata": {},
     "output_type": "execute_result"
    }
   ],
   "source": [
    "logistic_model = LogisticRegression(penalty = 'elasticnet',\n",
    "                                    tol = 0.01, \n",
    "                                    solver = 'saga', \n",
    "                                    n_jobs = os.cpu_count() - 1, \n",
    "                                    C = 0.1, \n",
    "                                    class_weight = 'balanced', \n",
    "                                    multi_class = 'ovr', \n",
    "                                    l1_ratio = 0.5, \n",
    "                                    random_state=42)\n",
    "logistic_model.fit(X_train, y_train.values.ravel())"
   ]
  },
  {
   "cell_type": "code",
   "execution_count": 15,
   "metadata": {},
   "outputs": [
    {
     "name": "stdout",
     "output_type": "stream",
     "text": [
      "Classes known to the model: [0 1]\n",
      "Logistic baseline score(train): 0.7192\n",
      "Logistic baseline score(test): 0.5428\n"
     ]
    }
   ],
   "source": [
    "print(\"Classes known to the model:\",logistic_model.classes_)\n",
    "print(\"Logistic baseline score(train):\",logistic_model.score(X_train, y_train))\n",
    "print(\"Logistic baseline score(test):\",logistic_model.score(X_test, y_test))"
   ]
  },
  {
   "cell_type": "markdown",
   "metadata": {},
   "source": [
    "### Naive Bayes"
   ]
  },
  {
   "cell_type": "code",
   "execution_count": 16,
   "metadata": {},
   "outputs": [],
   "source": [
    "from sklearn.naive_bayes import CategoricalNB"
   ]
  },
  {
   "cell_type": "code",
   "execution_count": 17,
   "metadata": {},
   "outputs": [],
   "source": [
    "naive_bayes_model = CategoricalNB(alpha = 0.4).fit(X_train, y_train.values.ravel())"
   ]
  },
  {
   "cell_type": "code",
   "execution_count": 18,
   "metadata": {},
   "outputs": [
    {
     "name": "stdout",
     "output_type": "stream",
     "text": [
      "Class count: [11250. 11250.]\n",
      "Classes known to the model: [0 1]\n",
      "Naive bayes baseline score: 0.7320888888888889\n",
      "Naive bayes baseline score: 0.5604\n"
     ]
    }
   ],
   "source": [
    "print(\"Class count:\",naive_bayes_model.class_count_)\n",
    "print(\"Classes known to the model:\",naive_bayes_model.classes_)\n",
    "print(\"Naive bayes baseline score:\",naive_bayes_model.score(X_train, y_train))\n",
    "print(\"Naive bayes baseline score:\",naive_bayes_model.score(X_test, y_test))"
   ]
  },
  {
   "cell_type": "markdown",
   "metadata": {},
   "source": [
    "### Random forest and pixel importance"
   ]
  },
  {
   "cell_type": "code",
   "execution_count": 19,
   "metadata": {},
   "outputs": [],
   "source": [
    "from sklearn.ensemble import RandomForestClassifier"
   ]
  },
  {
   "cell_type": "code",
   "execution_count": 20,
   "metadata": {},
   "outputs": [
    {
     "data": {
      "text/html": [
       "<style>#sk-container-id-2 {color: black;background-color: white;}#sk-container-id-2 pre{padding: 0;}#sk-container-id-2 div.sk-toggleable {background-color: white;}#sk-container-id-2 label.sk-toggleable__label {cursor: pointer;display: block;width: 100%;margin-bottom: 0;padding: 0.3em;box-sizing: border-box;text-align: center;}#sk-container-id-2 label.sk-toggleable__label-arrow:before {content: \"▸\";float: left;margin-right: 0.25em;color: #696969;}#sk-container-id-2 label.sk-toggleable__label-arrow:hover:before {color: black;}#sk-container-id-2 div.sk-estimator:hover label.sk-toggleable__label-arrow:before {color: black;}#sk-container-id-2 div.sk-toggleable__content {max-height: 0;max-width: 0;overflow: hidden;text-align: left;background-color: #f0f8ff;}#sk-container-id-2 div.sk-toggleable__content pre {margin: 0.2em;color: black;border-radius: 0.25em;background-color: #f0f8ff;}#sk-container-id-2 input.sk-toggleable__control:checked~div.sk-toggleable__content {max-height: 200px;max-width: 100%;overflow: auto;}#sk-container-id-2 input.sk-toggleable__control:checked~label.sk-toggleable__label-arrow:before {content: \"▾\";}#sk-container-id-2 div.sk-estimator input.sk-toggleable__control:checked~label.sk-toggleable__label {background-color: #d4ebff;}#sk-container-id-2 div.sk-label input.sk-toggleable__control:checked~label.sk-toggleable__label {background-color: #d4ebff;}#sk-container-id-2 input.sk-hidden--visually {border: 0;clip: rect(1px 1px 1px 1px);clip: rect(1px, 1px, 1px, 1px);height: 1px;margin: -1px;overflow: hidden;padding: 0;position: absolute;width: 1px;}#sk-container-id-2 div.sk-estimator {font-family: monospace;background-color: #f0f8ff;border: 1px dotted black;border-radius: 0.25em;box-sizing: border-box;margin-bottom: 0.5em;}#sk-container-id-2 div.sk-estimator:hover {background-color: #d4ebff;}#sk-container-id-2 div.sk-parallel-item::after {content: \"\";width: 100%;border-bottom: 1px solid gray;flex-grow: 1;}#sk-container-id-2 div.sk-label:hover label.sk-toggleable__label {background-color: #d4ebff;}#sk-container-id-2 div.sk-serial::before {content: \"\";position: absolute;border-left: 1px solid gray;box-sizing: border-box;top: 0;bottom: 0;left: 50%;z-index: 0;}#sk-container-id-2 div.sk-serial {display: flex;flex-direction: column;align-items: center;background-color: white;padding-right: 0.2em;padding-left: 0.2em;position: relative;}#sk-container-id-2 div.sk-item {position: relative;z-index: 1;}#sk-container-id-2 div.sk-parallel {display: flex;align-items: stretch;justify-content: center;background-color: white;position: relative;}#sk-container-id-2 div.sk-item::before, #sk-container-id-2 div.sk-parallel-item::before {content: \"\";position: absolute;border-left: 1px solid gray;box-sizing: border-box;top: 0;bottom: 0;left: 50%;z-index: -1;}#sk-container-id-2 div.sk-parallel-item {display: flex;flex-direction: column;z-index: 1;position: relative;background-color: white;}#sk-container-id-2 div.sk-parallel-item:first-child::after {align-self: flex-end;width: 50%;}#sk-container-id-2 div.sk-parallel-item:last-child::after {align-self: flex-start;width: 50%;}#sk-container-id-2 div.sk-parallel-item:only-child::after {width: 0;}#sk-container-id-2 div.sk-dashed-wrapped {border: 1px dashed gray;margin: 0 0.4em 0.5em 0.4em;box-sizing: border-box;padding-bottom: 0.4em;background-color: white;}#sk-container-id-2 div.sk-label label {font-family: monospace;font-weight: bold;display: inline-block;line-height: 1.2em;}#sk-container-id-2 div.sk-label-container {text-align: center;}#sk-container-id-2 div.sk-container {/* jupyter's `normalize.less` sets `[hidden] { display: none; }` but bootstrap.min.css set `[hidden] { display: none !important; }` so we also need the `!important` here to be able to override the default hidden behavior on the sphinx rendered scikit-learn.org. See: https://github.com/scikit-learn/scikit-learn/issues/21755 */display: inline-block !important;position: relative;}#sk-container-id-2 div.sk-text-repr-fallback {display: none;}</style><div id=\"sk-container-id-2\" class=\"sk-top-container\"><div class=\"sk-text-repr-fallback\"><pre>RandomForestClassifier(max_depth=3, n_estimators=200, n_jobs=11,\n",
       "                       random_state=42)</pre><b>In a Jupyter environment, please rerun this cell to show the HTML representation or trust the notebook. <br />On GitHub, the HTML representation is unable to render, please try loading this page with nbviewer.org.</b></div><div class=\"sk-container\" hidden><div class=\"sk-item\"><div class=\"sk-estimator sk-toggleable\"><input class=\"sk-toggleable__control sk-hidden--visually\" id=\"sk-estimator-id-2\" type=\"checkbox\" checked><label for=\"sk-estimator-id-2\" class=\"sk-toggleable__label sk-toggleable__label-arrow\">RandomForestClassifier</label><div class=\"sk-toggleable__content\"><pre>RandomForestClassifier(max_depth=3, n_estimators=200, n_jobs=11,\n",
       "                       random_state=42)</pre></div></div></div></div></div>"
      ],
      "text/plain": [
       "RandomForestClassifier(max_depth=3, n_estimators=200, n_jobs=11,\n",
       "                       random_state=42)"
      ]
     },
     "execution_count": 20,
     "metadata": {},
     "output_type": "execute_result"
    }
   ],
   "source": [
    "forest = RandomForestClassifier(n_estimators=200, random_state=42, n_jobs = os.cpu_count() - 1, max_depth=3)\n",
    "forest.fit(X_train, y_train.values.ravel())"
   ]
  },
  {
   "cell_type": "code",
   "execution_count": 21,
   "metadata": {},
   "outputs": [
    {
     "name": "stdout",
     "output_type": "stream",
     "text": [
      "Random forest baseline train score: 0.6012\n",
      "Random forest baseline test score: 0.5652\n"
     ]
    }
   ],
   "source": [
    "print(\"Random forest baseline train score:\",forest.score(X_train, y_train))\n",
    "print(\"Random forest baseline test score:\",forest.score(X_test, y_test))\n",
    "#cv_scores = cross_val_score(forest, X_train, y_train, cv=3)\n",
    "#print(cv_scores)\n",
    "#print(\"cv_scores mean: \" + str(np.mean(cv_scores)))"
   ]
  },
  {
   "cell_type": "code",
   "execution_count": 22,
   "metadata": {},
   "outputs": [
    {
     "data": {
      "image/png": "[encoded data removed]",
      "text/plain": [
       "<Figure size 396x396 with 2 Axes>"
      ]
     },
     "metadata": {},
     "output_type": "display_data"
    }
   ],
   "source": [
    "importances = forest.feature_importances_\n",
    "imp_reshaped = importances.reshape((MODIFIED_WIDTH, MODIFIED_HEIGHT))\n",
    "plt.matshow(imp_reshaped, cmap=plt.cm.viridis)\n",
    "plt.grid(False)\n",
    "plt.title(\"Pixel importances using impurity values\")\n",
    "plt.colorbar()\n",
    "plt.show()"
   ]
  },
  {
   "cell_type": "markdown",
   "metadata": {},
   "source": [
    "### Gradient boosting"
   ]
  },
  {
   "cell_type": "code",
   "execution_count": 23,
   "metadata": {},
   "outputs": [],
   "source": [
    "from sklearn.ensemble import GradientBoostingClassifier"
   ]
  },
  {
   "cell_type": "code",
   "execution_count": 24,
   "metadata": {},
   "outputs": [
    {
     "name": "stdout",
     "output_type": "stream",
     "text": [
      "      Iter       Train Loss   Remaining Time \n",
      "         1           1.3797           86.43m\n",
      "         2           1.3736           84.64m\n",
      "         3           1.3683           83.11m\n",
      "         4           1.3630           82.00m\n",
      "         5           1.3582           80.94m\n",
      "         6           1.3530           80.33m\n",
      "         7           1.3485           79.61m\n",
      "         8           1.3441           78.74m\n",
      "         9           1.3406           78.05m\n",
      "        10           1.3370           77.18m\n"
     ]
    },
    {
     "data": {
      "text/html": [
       "<style>#sk-container-id-3 {color: black;background-color: white;}#sk-container-id-3 pre{padding: 0;}#sk-container-id-3 div.sk-toggleable {background-color: white;}#sk-container-id-3 label.sk-toggleable__label {cursor: pointer;display: block;width: 100%;margin-bottom: 0;padding: 0.3em;box-sizing: border-box;text-align: center;}#sk-container-id-3 label.sk-toggleable__label-arrow:before {content: \"▸\";float: left;margin-right: 0.25em;color: #696969;}#sk-container-id-3 label.sk-toggleable__label-arrow:hover:before {color: black;}#sk-container-id-3 div.sk-estimator:hover label.sk-toggleable__label-arrow:before {color: black;}#sk-container-id-3 div.sk-toggleable__content {max-height: 0;max-width: 0;overflow: hidden;text-align: left;background-color: #f0f8ff;}#sk-container-id-3 div.sk-toggleable__content pre {margin: 0.2em;color: black;border-radius: 0.25em;background-color: #f0f8ff;}#sk-container-id-3 input.sk-toggleable__control:checked~div.sk-toggleable__content {max-height: 200px;max-width: 100%;overflow: auto;}#sk-container-id-3 input.sk-toggleable__control:checked~label.sk-toggleable__label-arrow:before {content: \"▾\";}#sk-container-id-3 div.sk-estimator input.sk-toggleable__control:checked~label.sk-toggleable__label {background-color: #d4ebff;}#sk-container-id-3 div.sk-label input.sk-toggleable__control:checked~label.sk-toggleable__label {background-color: #d4ebff;}#sk-container-id-3 input.sk-hidden--visually {border: 0;clip: rect(1px 1px 1px 1px);clip: rect(1px, 1px, 1px, 1px);height: 1px;margin: -1px;overflow: hidden;padding: 0;position: absolute;width: 1px;}#sk-container-id-3 div.sk-estimator {font-family: monospace;background-color: #f0f8ff;border: 1px dotted black;border-radius: 0.25em;box-sizing: border-box;margin-bottom: 0.5em;}#sk-container-id-3 div.sk-estimator:hover {background-color: #d4ebff;}#sk-container-id-3 div.sk-parallel-item::after {content: \"\";width: 100%;border-bottom: 1px solid gray;flex-grow: 1;}#sk-container-id-3 div.sk-label:hover label.sk-toggleable__label {background-color: #d4ebff;}#sk-container-id-3 div.sk-serial::before {content: \"\";position: absolute;border-left: 1px solid gray;box-sizing: border-box;top: 0;bottom: 0;left: 50%;z-index: 0;}#sk-container-id-3 div.sk-serial {display: flex;flex-direction: column;align-items: center;background-color: white;padding-right: 0.2em;padding-left: 0.2em;position: relative;}#sk-container-id-3 div.sk-item {position: relative;z-index: 1;}#sk-container-id-3 div.sk-parallel {display: flex;align-items: stretch;justify-content: center;background-color: white;position: relative;}#sk-container-id-3 div.sk-item::before, #sk-container-id-3 div.sk-parallel-item::before {content: \"\";position: absolute;border-left: 1px solid gray;box-sizing: border-box;top: 0;bottom: 0;left: 50%;z-index: -1;}#sk-container-id-3 div.sk-parallel-item {display: flex;flex-direction: column;z-index: 1;position: relative;background-color: white;}#sk-container-id-3 div.sk-parallel-item:first-child::after {align-self: flex-end;width: 50%;}#sk-container-id-3 div.sk-parallel-item:last-child::after {align-self: flex-start;width: 50%;}#sk-container-id-3 div.sk-parallel-item:only-child::after {width: 0;}#sk-container-id-3 div.sk-dashed-wrapped {border: 1px dashed gray;margin: 0 0.4em 0.5em 0.4em;box-sizing: border-box;padding-bottom: 0.4em;background-color: white;}#sk-container-id-3 div.sk-label label {font-family: monospace;font-weight: bold;display: inline-block;line-height: 1.2em;}#sk-container-id-3 div.sk-label-container {text-align: center;}#sk-container-id-3 div.sk-container {/* jupyter's `normalize.less` sets `[hidden] { display: none; }` but bootstrap.min.css set `[hidden] { display: none !important; }` so we also need the `!important` here to be able to override the default hidden behavior on the sphinx rendered scikit-learn.org. See: https://github.com/scikit-learn/scikit-learn/issues/21755 */display: inline-block !important;position: relative;}#sk-container-id-3 div.sk-text-repr-fallback {display: none;}</style><div id=\"sk-container-id-3\" class=\"sk-top-container\"><div class=\"sk-text-repr-fallback\"><pre>GradientBoostingClassifier(n_iter_no_change=10, random_state=42, tol=0.5,\n",
       "                           verbose=1, warm_start=True)</pre><b>In a Jupyter environment, please rerun this cell to show the HTML representation or trust the notebook. <br />On GitHub, the HTML representation is unable to render, please try loading this page with nbviewer.org.</b></div><div class=\"sk-container\" hidden><div class=\"sk-item\"><div class=\"sk-estimator sk-toggleable\"><input class=\"sk-toggleable__control sk-hidden--visually\" id=\"sk-estimator-id-3\" type=\"checkbox\" checked><label for=\"sk-estimator-id-3\" class=\"sk-toggleable__label sk-toggleable__label-arrow\">GradientBoostingClassifier</label><div class=\"sk-toggleable__content\"><pre>GradientBoostingClassifier(n_iter_no_change=10, random_state=42, tol=0.5,\n",
       "                           verbose=1, warm_start=True)</pre></div></div></div></div></div>"
      ],
      "text/plain": [
       "GradientBoostingClassifier(n_iter_no_change=10, random_state=42, tol=0.5,\n",
       "                           verbose=1, warm_start=True)"
      ]
     },
     "execution_count": 24,
     "metadata": {},
     "output_type": "execute_result"
    }
   ],
   "source": [
    "Gradient_classifier = GradientBoostingClassifier(max_features = None,random_state = 42, verbose = 1, warm_start = True, n_iter_no_change = 10, tol = 0.5)\n",
    "Gradient_classifier.fit(X_train, y_train.values.ravel())"
   ]
  },
  {
   "cell_type": "code",
   "execution_count": 25,
   "metadata": {},
   "outputs": [
    {
     "name": "stdout",
     "output_type": "stream",
     "text": [
      "Number of clases known to model: [0 1]\n",
      "Gradient classifier baseline training score: 0.6250222222222223\n",
      "Gradient classifier baseline test score: 0.5716\n"
     ]
    }
   ],
   "source": [
    "print(\"Number of clases known to model:\",Gradient_classifier.classes_)\n",
    "print(\"Gradient classifier baseline training score:\",Gradient_classifier.score(X_train, y_train))\n",
    "print(\"Gradient classifier baseline test score:\",Gradient_classifier.score(X_test, y_test))"
   ]
  },
  {
   "cell_type": "markdown",
   "metadata": {},
   "source": [
    "## Apply PCA on the data"
   ]
  },
  {
   "cell_type": "code",
   "execution_count": 28,
   "metadata": {},
   "outputs": [
    {
     "data": {
      "text/plain": [
       "10000"
      ]
     },
     "execution_count": 28,
     "metadata": {},
     "output_type": "execute_result"
    }
   ],
   "source": [
    "PCA_data = train_df.iloc[:,:-1]\n",
    "PCA_data.shape[1]"
   ]
  },
  {
   "cell_type": "code",
   "execution_count": 31,
   "metadata": {},
   "outputs": [],
   "source": [
    "from sklearn.decomposition import PCA"
   ]
  },
  {
   "cell_type": "code",
   "execution_count": 36,
   "metadata": {},
   "outputs": [
    {
     "data": {
      "text/html": [
       "<style>#sk-container-id-5 {color: black;background-color: white;}#sk-container-id-5 pre{padding: 0;}#sk-container-id-5 div.sk-toggleable {background-color: white;}#sk-container-id-5 label.sk-toggleable__label {cursor: pointer;display: block;width: 100%;margin-bottom: 0;padding: 0.3em;box-sizing: border-box;text-align: center;}#sk-container-id-5 label.sk-toggleable__label-arrow:before {content: \"▸\";float: left;margin-right: 0.25em;color: #696969;}#sk-container-id-5 label.sk-toggleable__label-arrow:hover:before {color: black;}#sk-container-id-5 div.sk-estimator:hover label.sk-toggleable__label-arrow:before {color: black;}#sk-container-id-5 div.sk-toggleable__content {max-height: 0;max-width: 0;overflow: hidden;text-align: left;background-color: #f0f8ff;}#sk-container-id-5 div.sk-toggleable__content pre {margin: 0.2em;color: black;border-radius: 0.25em;background-color: #f0f8ff;}#sk-container-id-5 input.sk-toggleable__control:checked~div.sk-toggleable__content {max-height: 200px;max-width: 100%;overflow: auto;}#sk-container-id-5 input.sk-toggleable__control:checked~label.sk-toggleable__label-arrow:before {content: \"▾\";}#sk-container-id-5 div.sk-estimator input.sk-toggleable__control:checked~label.sk-toggleable__label {background-color: #d4ebff;}#sk-container-id-5 div.sk-label input.sk-toggleable__control:checked~label.sk-toggleable__label {background-color: #d4ebff;}#sk-container-id-5 input.sk-hidden--visually {border: 0;clip: rect(1px 1px 1px 1px);clip: rect(1px, 1px, 1px, 1px);height: 1px;margin: -1px;overflow: hidden;padding: 0;position: absolute;width: 1px;}#sk-container-id-5 div.sk-estimator {font-family: monospace;background-color: #f0f8ff;border: 1px dotted black;border-radius: 0.25em;box-sizing: border-box;margin-bottom: 0.5em;}#sk-container-id-5 div.sk-estimator:hover {background-color: #d4ebff;}#sk-container-id-5 div.sk-parallel-item::after {content: \"\";width: 100%;border-bottom: 1px solid gray;flex-grow: 1;}#sk-container-id-5 div.sk-label:hover label.sk-toggleable__label {background-color: #d4ebff;}#sk-container-id-5 div.sk-serial::before {content: \"\";position: absolute;border-left: 1px solid gray;box-sizing: border-box;top: 0;bottom: 0;left: 50%;z-index: 0;}#sk-container-id-5 div.sk-serial {display: flex;flex-direction: column;align-items: center;background-color: white;padding-right: 0.2em;padding-left: 0.2em;position: relative;}#sk-container-id-5 div.sk-item {position: relative;z-index: 1;}#sk-container-id-5 div.sk-parallel {display: flex;align-items: stretch;justify-content: center;background-color: white;position: relative;}#sk-container-id-5 div.sk-item::before, #sk-container-id-5 div.sk-parallel-item::before {content: \"\";position: absolute;border-left: 1px solid gray;box-sizing: border-box;top: 0;bottom: 0;left: 50%;z-index: -1;}#sk-container-id-5 div.sk-parallel-item {display: flex;flex-direction: column;z-index: 1;position: relative;background-color: white;}#sk-container-id-5 div.sk-parallel-item:first-child::after {align-self: flex-end;width: 50%;}#sk-container-id-5 div.sk-parallel-item:last-child::after {align-self: flex-start;width: 50%;}#sk-container-id-5 div.sk-parallel-item:only-child::after {width: 0;}#sk-container-id-5 div.sk-dashed-wrapped {border: 1px dashed gray;margin: 0 0.4em 0.5em 0.4em;box-sizing: border-box;padding-bottom: 0.4em;background-color: white;}#sk-container-id-5 div.sk-label label {font-family: monospace;font-weight: bold;display: inline-block;line-height: 1.2em;}#sk-container-id-5 div.sk-label-container {text-align: center;}#sk-container-id-5 div.sk-container {/* jupyter's `normalize.less` sets `[hidden] { display: none; }` but bootstrap.min.css set `[hidden] { display: none !important; }` so we also need the `!important` here to be able to override the default hidden behavior on the sphinx rendered scikit-learn.org. See: https://github.com/scikit-learn/scikit-learn/issues/21755 */display: inline-block !important;position: relative;}#sk-container-id-5 div.sk-text-repr-fallback {display: none;}</style><div id=\"sk-container-id-5\" class=\"sk-top-container\"><div class=\"sk-text-repr-fallback\"><pre>PCA(n_components=10000, random_state=42, svd_solver=&#x27;randomized&#x27;)</pre><b>In a Jupyter environment, please rerun this cell to show the HTML representation or trust the notebook. <br />On GitHub, the HTML representation is unable to render, please try loading this page with nbviewer.org.</b></div><div class=\"sk-container\" hidden><div class=\"sk-item\"><div class=\"sk-estimator sk-toggleable\"><input class=\"sk-toggleable__control sk-hidden--visually\" id=\"sk-estimator-id-5\" type=\"checkbox\" checked><label for=\"sk-estimator-id-5\" class=\"sk-toggleable__label sk-toggleable__label-arrow\">PCA</label><div class=\"sk-toggleable__content\"><pre>PCA(n_components=10000, random_state=42, svd_solver=&#x27;randomized&#x27;)</pre></div></div></div></div></div>"
      ],
      "text/plain": [
       "PCA(n_components=10000, random_state=42, svd_solver='randomized')"
      ]
     },
     "execution_count": 36,
     "metadata": {},
     "output_type": "execute_result"
    }
   ],
   "source": [
    "pca_model = PCA(n_components=10000,svd_solver = 'randomized', random_state = 42)\n",
    "pca_model.fit(PCA_data)"
   ]
  },
  {
   "cell_type": "code",
   "execution_count": 37,
   "metadata": {},
   "outputs": [
    {
     "data": {
      "text/plain": [
       "Text(0, 0.5, 'Explained variance')"
      ]
     },
     "execution_count": 37,
     "metadata": {},
     "output_type": "execute_result"
    },
    {
     "data": {
      "image/png": "[encoded data removed]",
      "text/plain": [
       "<Figure size 576x396 with 1 Axes>"
      ]
     },
     "metadata": {},
     "output_type": "display_data"
    }
   ],
   "source": [
    "plt.grid(True)\n",
    "plt.plot(np.cumsum(pca_model.explained_variance_ratio_ * 100))\n",
    "plt.title(\"Percentage of explained variance by the number of components\")\n",
    "plt.xlabel('Number of components')\n",
    "plt.ylabel('Explained variance')"
   ]
  },
  {
   "cell_type": "markdown",
   "metadata": {},
   "source": [
    "## Grid-search on models"
   ]
  },
  {
   "cell_type": "code",
   "execution_count": 19,
   "metadata": {},
   "outputs": [],
   "source": [
    "from sklearn.model_selection import GridSearchCV"
   ]
  },
  {
   "cell_type": "code",
   "execution_count": 109,
   "metadata": {},
   "outputs": [],
   "source": [
    "def plot_grid_results(model_checked, grid_model): #Plots grid-search score results from best to worst\n",
    "    grid_data = pd.DataFrame(grid_model.cv_results_)\n",
    "    params = []\n",
    "    for param in grid_model.best_params_:\n",
    "        params.append(\"param_\"+param)\n",
    "    params.append('mean_test_score')\n",
    "    \n",
    "    grid_frame_mod = grid_data.loc[:,params]\n",
    "    grid_frame_mod = grid_frame_mod.fillna(value = \"None\") ##Replace None with 'None' strings for plotability.\n",
    "    grp = grid_frame_mod.groupby(by = params[:-1]).agg(lambda x: x).mean_test_score.nlargest(n = grid_data.shape[0])\n",
    "    min_value = grid_data['mean_test_score'].min()\n",
    "    max_value = grid_data['mean_test_score'].max()\n",
    "    \n",
    "    \n",
    "    ICD.display(grid_data)#Display the results data-frame\n",
    "    plt.figure(facecolor='black') \n",
    "    grp.plot(kind = \"bar\", figsize = (24, 8), color = \"Blue\")\n",
    "    ax = plt.axes()\n",
    "    ax.set_facecolor(\"black\")\n",
    "    plt.ylabel(\"Score\")\n",
    "    plt.title(\"Gridsearch results sorted from highest to lowest({0})\".format(model_checked))\n",
    "    ax.set_ylim([(min_value - 0.001) ,max_value])\n",
    "    plt.show()\n",
    "    msg = \"Best {0} model: {1} with an accuracy of {2}\".format(model_checked, grid_model.best_params_, grid_model.best_score_)\n",
    "    print(msg)"
   ]
  },
  {
   "cell_type": "markdown",
   "metadata": {},
   "source": [
    "### Logistic-regression"
   ]
  },
  {
   "cell_type": "code",
   "execution_count": 21,
   "metadata": {},
   "outputs": [
    {
     "name": "stdout",
     "output_type": "stream",
     "text": [
      "Fitting 3 folds for each of 2 candidates, totalling 6 fits\n",
      "[CV 1/3] END ........................solver=sag;, score=0.528 total time= 2.4min\n",
      "[CV 2/3] END ........................solver=sag;, score=0.524 total time= 1.8min\n",
      "[CV 3/3] END ........................solver=sag;, score=0.545 total time= 1.5min\n",
      "[CV 1/3] END .......................solver=saga;, score=0.533 total time= 2.9min\n",
      "[CV 2/3] END .......................solver=saga;, score=0.529 total time= 2.0min\n",
      "[CV 3/3] END .......................solver=saga;, score=0.550 total time= 1.8min\n"
     ]
    }
   ],
   "source": [
    "LOG = LogisticRegression(tol = 0.01, random_state=42, n_jobs = os.cpu_count() - 1)\n",
    "parameters = {\"solver\": ['sag', 'saga']}\n",
    "LOG_grid = GridSearchCV(LOG, parameters, cv = 3 ,verbose = 4).fit(X_train, y_train.values.ravel())"
   ]
  },
  {
   "cell_type": "code",
   "execution_count": 26,
   "metadata": {},
   "outputs": [
    {
     "data": {
      "text/html": [
       "<div>\n",
       "<style scoped>\n",
       "    .dataframe tbody tr th:only-of-type {\n",
       "        vertical-align: middle;\n",
       "    }\n",
       "\n",
       "    .dataframe tbody tr th {\n",
       "        vertical-align: top;\n",
       "    }\n",
       "\n",
       "    .dataframe thead th {\n",
       "        text-align: right;\n",
       "    }\n",
       "</style>\n",
       "<table border=\"1\" class=\"dataframe\">\n",
       "  <thead>\n",
       "    <tr style=\"text-align: right;\">\n",
       "      <th></th>\n",
       "      <th>mean_fit_time</th>\n",
       "      <th>std_fit_time</th>\n",
       "      <th>mean_score_time</th>\n",
       "      <th>std_score_time</th>\n",
       "      <th>param_solver</th>\n",
       "      <th>params</th>\n",
       "      <th>split0_test_score</th>\n",
       "      <th>split1_test_score</th>\n",
       "      <th>split2_test_score</th>\n",
       "      <th>mean_test_score</th>\n",
       "      <th>std_test_score</th>\n",
       "      <th>rank_test_score</th>\n",
       "    </tr>\n",
       "  </thead>\n",
       "  <tbody>\n",
       "    <tr>\n",
       "      <th>0</th>\n",
       "      <td>113.224324</td>\n",
       "      <td>22.349419</td>\n",
       "      <td>0.605217</td>\n",
       "      <td>0.027597</td>\n",
       "      <td>sag</td>\n",
       "      <td>{'solver': 'sag'}</td>\n",
       "      <td>0.5276</td>\n",
       "      <td>0.524400</td>\n",
       "      <td>0.544667</td>\n",
       "      <td>0.532222</td>\n",
       "      <td>0.008896</td>\n",
       "      <td>2</td>\n",
       "    </tr>\n",
       "    <tr>\n",
       "      <th>1</th>\n",
       "      <td>133.310257</td>\n",
       "      <td>27.646619</td>\n",
       "      <td>0.586844</td>\n",
       "      <td>0.028284</td>\n",
       "      <td>saga</td>\n",
       "      <td>{'solver': 'saga'}</td>\n",
       "      <td>0.5328</td>\n",
       "      <td>0.528533</td>\n",
       "      <td>0.550000</td>\n",
       "      <td>0.537111</td>\n",
       "      <td>0.009279</td>\n",
       "      <td>1</td>\n",
       "    </tr>\n",
       "  </tbody>\n",
       "</table>\n",
       "</div>"
      ],
      "text/plain": [
       "   mean_fit_time  std_fit_time  mean_score_time  std_score_time param_solver  \\\n",
       "0     113.224324     22.349419         0.605217        0.027597          sag   \n",
       "1     133.310257     27.646619         0.586844        0.028284         saga   \n",
       "\n",
       "               params  split0_test_score  split1_test_score  \\\n",
       "0   {'solver': 'sag'}             0.5276           0.524400   \n",
       "1  {'solver': 'saga'}             0.5328           0.528533   \n",
       "\n",
       "   split2_test_score  mean_test_score  std_test_score  rank_test_score  \n",
       "0           0.544667         0.532222        0.008896                2  \n",
       "1           0.550000         0.537111        0.009279                1  "
      ]
     },
     "execution_count": 26,
     "metadata": {},
     "output_type": "execute_result"
    }
   ],
   "source": [
    "#pd.DataFrame(LOG_grid.cv_results_)"
   ]
  },
  {
   "cell_type": "code",
   "execution_count": 94,
   "metadata": {},
   "outputs": [
    {
     "name": "stdout",
     "output_type": "stream",
     "text": [
      "['param_solver', 'mean_test_score']\n",
      "param_solver\n",
      "saga    0.537111\n",
      "sag     0.532222\n",
      "Name: mean_test_score, dtype: float64\n"
     ]
    },
    {
     "name": "stderr",
     "output_type": "stream",
     "text": [
      "<ipython-input-93-365c802c397d>:30: MatplotlibDeprecationWarning: Adding an axes using the same arguments as a previous axes currently reuses the earlier instance.  In a future version, a new instance will always be created and returned.  Meanwhile, this warning can be suppressed, and the future behavior ensured, by passing a unique label to each axes instance.\n",
      "  ax = plt.axes()\n"
     ]
    },
    {
     "data": {
      "image/png": "[encoded data removed]",
      "text/plain": [
       "<Figure size 1728x576 with 1 Axes>"
      ]
     },
     "metadata": {},
     "output_type": "display_data"
    },
    {
     "name": "stdout",
     "output_type": "stream",
     "text": [
      "Best Logistic regression model: {'solver': 'saga'} with an accuracy of 0.5371111111111111\n"
     ]
    }
   ],
   "source": [
    "plot_grid_results(\"Logistic regression\", LOG_grid)"
   ]
  },
  {
   "cell_type": "markdown",
   "metadata": {},
   "source": [
    "### Naive bayes"
   ]
  },
  {
   "cell_type": "code",
   "execution_count": 115,
   "metadata": {},
   "outputs": [
    {
     "name": "stdout",
     "output_type": "stream",
     "text": [
      "Fitting 3 folds for each of 7 candidates, totalling 21 fits\n",
      "[CV 1/3] END .........................alpha=0.2;, score=0.585 total time=   8.6s\n",
      "[CV 2/3] END .........................alpha=0.2;, score=0.578 total time=   8.7s\n",
      "[CV 3/3] END .........................alpha=0.2;, score=0.577 total time=   8.6s\n",
      "[CV 1/3] END .........................alpha=0.4;, score=0.585 total time=   9.0s\n",
      "[CV 2/3] END .........................alpha=0.4;, score=0.579 total time=   9.0s\n",
      "[CV 3/3] END .........................alpha=0.4;, score=0.577 total time=   8.8s\n",
      "[CV 1/3] END .........................alpha=0.6;, score=0.584 total time=   8.9s\n",
      "[CV 2/3] END .........................alpha=0.6;, score=0.579 total time=   8.6s\n",
      "[CV 3/3] END .........................alpha=0.6;, score=0.577 total time=   8.7s\n",
      "[CV 1/3] END .........................alpha=0.8;, score=0.584 total time=   8.5s\n",
      "[CV 2/3] END .........................alpha=0.8;, score=0.578 total time=   8.7s\n",
      "[CV 3/3] END .........................alpha=0.8;, score=0.577 total time=   8.9s\n",
      "[CV 1/3] END ...........................alpha=1;, score=0.584 total time=   8.7s\n",
      "[CV 2/3] END ...........................alpha=1;, score=0.577 total time=   8.8s\n",
      "[CV 3/3] END ...........................alpha=1;, score=0.577 total time=   8.7s\n",
      "[CV 1/3] END .........................alpha=1.2;, score=0.584 total time=   9.1s\n",
      "[CV 2/3] END .........................alpha=1.2;, score=0.577 total time=   8.6s\n",
      "[CV 3/3] END .........................alpha=1.2;, score=0.577 total time=   8.7s\n",
      "[CV 1/3] END .........................alpha=1.4;, score=0.583 total time=   8.6s\n",
      "[CV 2/3] END .........................alpha=1.4;, score=0.577 total time=   8.7s\n",
      "[CV 3/3] END .........................alpha=1.4;, score=0.577 total time=   8.7s\n"
     ]
    }
   ],
   "source": [
    "BAYES = CategoricalNB()\n",
    "parameters = {\"alpha\": np.arange(0.2,1.6,0.2)}\n",
    "BAYES_grid = GridSearchCV(BAYES, parameters, cv = 3 ,verbose = 4).fit(X_train, y_train.values.ravel())"
   ]
  },
  {
   "cell_type": "code",
   "execution_count": 116,
   "metadata": {},
   "outputs": [
    {
     "name": "stderr",
     "output_type": "stream",
     "text": [
      "<ipython-input-109-4f0d3242a55f>:28: MatplotlibDeprecationWarning: Adding an axes using the same arguments as a previous axes currently reuses the earlier instance.  In a future version, a new instance will always be created and returned.  Meanwhile, this warning can be suppressed, and the future behavior ensured, by passing a unique label to each axes instance.\n",
      "  ax = plt.axes()\n"
     ]
    },
    {
     "data": {
      "image/png": "[encoded data removed]",
      "text/plain": [
       "<Figure size 1728x576 with 1 Axes>"
      ]
     },
     "metadata": {},
     "output_type": "display_data"
    },
    {
     "name": "stdout",
     "output_type": "stream",
     "text": [
      "Best Naive bayes model: {'alpha': 0.4} with an accuracy of 0.5801777777777778\n"
     ]
    }
   ],
   "source": [
    "plot_grid_results(\"Naive bayes\", BAYES_grid)"
   ]
  },
  {
   "cell_type": "markdown",
   "metadata": {},
   "source": [
    "### Random forest"
   ]
  },
  {
   "cell_type": "code",
   "execution_count": 119,
   "metadata": {},
   "outputs": [
    {
     "name": "stdout",
     "output_type": "stream",
     "text": [
      "Fitting 3 folds for each of 3 candidates, totalling 9 fits\n",
      "[CV 1/3] END ...................n_estimators=50;, score=0.626 total time=  22.2s\n",
      "[CV 2/3] END ...................n_estimators=50;, score=0.623 total time=  21.8s\n",
      "[CV 3/3] END ...................n_estimators=50;, score=0.624 total time=  23.8s\n",
      "[CV 1/3] END ..................n_estimators=100;, score=0.639 total time=  38.7s\n",
      "[CV 2/3] END ..................n_estimators=100;, score=0.635 total time=  38.8s\n",
      "[CV 3/3] END ..................n_estimators=100;, score=0.644 total time=  38.2s\n",
      "[CV 1/3] END ..................n_estimators=150;, score=0.644 total time=  54.2s\n",
      "[CV 2/3] END ..................n_estimators=150;, score=0.636 total time=  54.2s\n",
      "[CV 3/3] END ..................n_estimators=150;, score=0.643 total time=  54.9s\n"
     ]
    }
   ],
   "source": [
    "FOREST = RandomForestClassifier(random_state=42, n_jobs = os.cpu_count() - 1)\n",
    "parameters = {\"criterion\": [\"gini\", \"entropy\"],\n",
    "              \"max_features\": [\"sqrt\", \"log2\"]}\n",
    "FOREST_grid = GridSearchCV(FOREST, parameters, cv = 3 ,verbose = 4).fit(X_train, y_train.values.ravel())"
   ]
  },
  {
   "cell_type": "code",
   "execution_count": 120,
   "metadata": {},
   "outputs": [
    {
     "name": "stderr",
     "output_type": "stream",
     "text": [
      "<ipython-input-109-4f0d3242a55f>:28: MatplotlibDeprecationWarning: Adding an axes using the same arguments as a previous axes currently reuses the earlier instance.  In a future version, a new instance will always be created and returned.  Meanwhile, this warning can be suppressed, and the future behavior ensured, by passing a unique label to each axes instance.\n",
      "  ax = plt.axes()\n"
     ]
    },
    {
     "data": {
      "image/png": "[encoded data removed]",
      "text/plain": [
       "<Figure size 1728x576 with 1 Axes>"
      ]
     },
     "metadata": {},
     "output_type": "display_data"
    },
    {
     "name": "stdout",
     "output_type": "stream",
     "text": [
      "Best Random forest model: {'n_estimators': 150} with an accuracy of 0.6412888888888889\n"
     ]
    }
   ],
   "source": [
    "plot_grid_results(\"Random forest\", FOREST_grid)"
   ]
  },
  {
   "cell_type": "markdown",
   "metadata": {},
   "source": [
    "## MiniBatchK-Means with both Logistic regression and Naive Bayes"
   ]
  },
  {
   "cell_type": "code",
   "execution_count": 121,
   "metadata": {},
   "outputs": [],
   "source": [
    "from sklearn.cluster import MiniBatchKMeans\n",
    "from sklearn.pipeline import Pipeline"
   ]
  },
  {
   "cell_type": "code",
   "execution_count": 122,
   "metadata": {},
   "outputs": [
    {
     "name": "stdout",
     "output_type": "stream",
     "text": [
      "[Pipeline] ... (step 1 of 2) Processing minibatchKmeans, total=  31.8s\n",
      "[Pipeline] ........... (step 2 of 2) Processing log_reg, total=   0.2s\n"
     ]
    },
    {
     "data": {
      "text/html": [
       "<style>#sk-container-id-1 {color: black;background-color: white;}#sk-container-id-1 pre{padding: 0;}#sk-container-id-1 div.sk-toggleable {background-color: white;}#sk-container-id-1 label.sk-toggleable__label {cursor: pointer;display: block;width: 100%;margin-bottom: 0;padding: 0.3em;box-sizing: border-box;text-align: center;}#sk-container-id-1 label.sk-toggleable__label-arrow:before {content: \"▸\";float: left;margin-right: 0.25em;color: #696969;}#sk-container-id-1 label.sk-toggleable__label-arrow:hover:before {color: black;}#sk-container-id-1 div.sk-estimator:hover label.sk-toggleable__label-arrow:before {color: black;}#sk-container-id-1 div.sk-toggleable__content {max-height: 0;max-width: 0;overflow: hidden;text-align: left;background-color: #f0f8ff;}#sk-container-id-1 div.sk-toggleable__content pre {margin: 0.2em;color: black;border-radius: 0.25em;background-color: #f0f8ff;}#sk-container-id-1 input.sk-toggleable__control:checked~div.sk-toggleable__content {max-height: 200px;max-width: 100%;overflow: auto;}#sk-container-id-1 input.sk-toggleable__control:checked~label.sk-toggleable__label-arrow:before {content: \"▾\";}#sk-container-id-1 div.sk-estimator input.sk-toggleable__control:checked~label.sk-toggleable__label {background-color: #d4ebff;}#sk-container-id-1 div.sk-label input.sk-toggleable__control:checked~label.sk-toggleable__label {background-color: #d4ebff;}#sk-container-id-1 input.sk-hidden--visually {border: 0;clip: rect(1px 1px 1px 1px);clip: rect(1px, 1px, 1px, 1px);height: 1px;margin: -1px;overflow: hidden;padding: 0;position: absolute;width: 1px;}#sk-container-id-1 div.sk-estimator {font-family: monospace;background-color: #f0f8ff;border: 1px dotted black;border-radius: 0.25em;box-sizing: border-box;margin-bottom: 0.5em;}#sk-container-id-1 div.sk-estimator:hover {background-color: #d4ebff;}#sk-container-id-1 div.sk-parallel-item::after {content: \"\";width: 100%;border-bottom: 1px solid gray;flex-grow: 1;}#sk-container-id-1 div.sk-label:hover label.sk-toggleable__label {background-color: #d4ebff;}#sk-container-id-1 div.sk-serial::before {content: \"\";position: absolute;border-left: 1px solid gray;box-sizing: border-box;top: 0;bottom: 0;left: 50%;z-index: 0;}#sk-container-id-1 div.sk-serial {display: flex;flex-direction: column;align-items: center;background-color: white;padding-right: 0.2em;padding-left: 0.2em;position: relative;}#sk-container-id-1 div.sk-item {position: relative;z-index: 1;}#sk-container-id-1 div.sk-parallel {display: flex;align-items: stretch;justify-content: center;background-color: white;position: relative;}#sk-container-id-1 div.sk-item::before, #sk-container-id-1 div.sk-parallel-item::before {content: \"\";position: absolute;border-left: 1px solid gray;box-sizing: border-box;top: 0;bottom: 0;left: 50%;z-index: -1;}#sk-container-id-1 div.sk-parallel-item {display: flex;flex-direction: column;z-index: 1;position: relative;background-color: white;}#sk-container-id-1 div.sk-parallel-item:first-child::after {align-self: flex-end;width: 50%;}#sk-container-id-1 div.sk-parallel-item:last-child::after {align-self: flex-start;width: 50%;}#sk-container-id-1 div.sk-parallel-item:only-child::after {width: 0;}#sk-container-id-1 div.sk-dashed-wrapped {border: 1px dashed gray;margin: 0 0.4em 0.5em 0.4em;box-sizing: border-box;padding-bottom: 0.4em;background-color: white;}#sk-container-id-1 div.sk-label label {font-family: monospace;font-weight: bold;display: inline-block;line-height: 1.2em;}#sk-container-id-1 div.sk-label-container {text-align: center;}#sk-container-id-1 div.sk-container {/* jupyter's `normalize.less` sets `[hidden] { display: none; }` but bootstrap.min.css set `[hidden] { display: none !important; }` so we also need the `!important` here to be able to override the default hidden behavior on the sphinx rendered scikit-learn.org. See: https://github.com/scikit-learn/scikit-learn/issues/21755 */display: inline-block !important;position: relative;}#sk-container-id-1 div.sk-text-repr-fallback {display: none;}</style><div id=\"sk-container-id-1\" class=\"sk-top-container\"><div class=\"sk-text-repr-fallback\"><pre>Pipeline(steps=[(&#x27;minibatchKmeans&#x27;,\n",
       "                 MiniBatchKMeans(batch_size=3072, n_clusters=10,\n",
       "                                 random_state=42)),\n",
       "                (&#x27;log_reg&#x27;,\n",
       "                 LogisticRegression(n_jobs=7, random_state=42, solver=&#x27;saga&#x27;,\n",
       "                                    tol=0.01))],\n",
       "         verbose=True)</pre><b>In a Jupyter environment, please rerun this cell to show the HTML representation or trust the notebook. <br />On GitHub, the HTML representation is unable to render, please try loading this page with nbviewer.org.</b></div><div class=\"sk-container\" hidden><div class=\"sk-item sk-dashed-wrapped\"><div class=\"sk-label-container\"><div class=\"sk-label sk-toggleable\"><input class=\"sk-toggleable__control sk-hidden--visually\" id=\"sk-estimator-id-1\" type=\"checkbox\" ><label for=\"sk-estimator-id-1\" class=\"sk-toggleable__label sk-toggleable__label-arrow\">Pipeline</label><div class=\"sk-toggleable__content\"><pre>Pipeline(steps=[(&#x27;minibatchKmeans&#x27;,\n",
       "                 MiniBatchKMeans(batch_size=3072, n_clusters=10,\n",
       "                                 random_state=42)),\n",
       "                (&#x27;log_reg&#x27;,\n",
       "                 LogisticRegression(n_jobs=7, random_state=42, solver=&#x27;saga&#x27;,\n",
       "                                    tol=0.01))],\n",
       "         verbose=True)</pre></div></div></div><div class=\"sk-serial\"><div class=\"sk-item\"><div class=\"sk-estimator sk-toggleable\"><input class=\"sk-toggleable__control sk-hidden--visually\" id=\"sk-estimator-id-2\" type=\"checkbox\" ><label for=\"sk-estimator-id-2\" class=\"sk-toggleable__label sk-toggleable__label-arrow\">MiniBatchKMeans</label><div class=\"sk-toggleable__content\"><pre>MiniBatchKMeans(batch_size=3072, n_clusters=10, random_state=42)</pre></div></div></div><div class=\"sk-item\"><div class=\"sk-estimator sk-toggleable\"><input class=\"sk-toggleable__control sk-hidden--visually\" id=\"sk-estimator-id-3\" type=\"checkbox\" ><label for=\"sk-estimator-id-3\" class=\"sk-toggleable__label sk-toggleable__label-arrow\">LogisticRegression</label><div class=\"sk-toggleable__content\"><pre>LogisticRegression(n_jobs=7, random_state=42, solver=&#x27;saga&#x27;, tol=0.01)</pre></div></div></div></div></div></div></div>"
      ],
      "text/plain": [
       "Pipeline(steps=[('minibatchKmeans',\n",
       "                 MiniBatchKMeans(batch_size=3072, n_clusters=10,\n",
       "                                 random_state=42)),\n",
       "                ('log_reg',\n",
       "                 LogisticRegression(n_jobs=7, random_state=42, solver='saga',\n",
       "                                    tol=0.01))],\n",
       "         verbose=True)"
      ]
     },
     "execution_count": 122,
     "metadata": {},
     "output_type": "execute_result"
    }
   ],
   "source": [
    "pipeline_log = Pipeline([\n",
    " (\"minibatchKmeans\", MiniBatchKMeans(n_clusters=10,random_state=42, batch_size=3072)),\n",
    " (\"log_reg\", LogisticRegression(tol = 0.01, solver = 'saga', random_state=42, n_jobs = os.cpu_count() - 1)),\n",
    "], verbose = True)\n",
    "pipeline_log.fit(X_train, y_train.values.ravel())"
   ]
  },
  {
   "cell_type": "code",
   "execution_count": 123,
   "metadata": {},
   "outputs": [
    {
     "name": "stdout",
     "output_type": "stream",
     "text": [
      "Pipeline score when using minibatchKmeans on Logistic regression: 0.562\n"
     ]
    }
   ],
   "source": [
    "print(\"Pipeline score when using minibatchKmeans on Logistic regression:\",pipeline_log.score(X_test, y_test))"
   ]
  },
  {
   "cell_type": "code",
   "execution_count": 124,
   "metadata": {},
   "outputs": [
    {
     "name": "stdout",
     "output_type": "stream",
     "text": [
      "[Pipeline] ... (step 1 of 2) Processing minibatchKmeans, total=  28.0s\n",
      "[Pipeline] ....... (step 2 of 2) Processing naive_bayes, total=   0.1s\n"
     ]
    },
    {
     "data": {
      "text/html": [
       "<style>#sk-container-id-2 {color: black;background-color: white;}#sk-container-id-2 pre{padding: 0;}#sk-container-id-2 div.sk-toggleable {background-color: white;}#sk-container-id-2 label.sk-toggleable__label {cursor: pointer;display: block;width: 100%;margin-bottom: 0;padding: 0.3em;box-sizing: border-box;text-align: center;}#sk-container-id-2 label.sk-toggleable__label-arrow:before {content: \"▸\";float: left;margin-right: 0.25em;color: #696969;}#sk-container-id-2 label.sk-toggleable__label-arrow:hover:before {color: black;}#sk-container-id-2 div.sk-estimator:hover label.sk-toggleable__label-arrow:before {color: black;}#sk-container-id-2 div.sk-toggleable__content {max-height: 0;max-width: 0;overflow: hidden;text-align: left;background-color: #f0f8ff;}#sk-container-id-2 div.sk-toggleable__content pre {margin: 0.2em;color: black;border-radius: 0.25em;background-color: #f0f8ff;}#sk-container-id-2 input.sk-toggleable__control:checked~div.sk-toggleable__content {max-height: 200px;max-width: 100%;overflow: auto;}#sk-container-id-2 input.sk-toggleable__control:checked~label.sk-toggleable__label-arrow:before {content: \"▾\";}#sk-container-id-2 div.sk-estimator input.sk-toggleable__control:checked~label.sk-toggleable__label {background-color: #d4ebff;}#sk-container-id-2 div.sk-label input.sk-toggleable__control:checked~label.sk-toggleable__label {background-color: #d4ebff;}#sk-container-id-2 input.sk-hidden--visually {border: 0;clip: rect(1px 1px 1px 1px);clip: rect(1px, 1px, 1px, 1px);height: 1px;margin: -1px;overflow: hidden;padding: 0;position: absolute;width: 1px;}#sk-container-id-2 div.sk-estimator {font-family: monospace;background-color: #f0f8ff;border: 1px dotted black;border-radius: 0.25em;box-sizing: border-box;margin-bottom: 0.5em;}#sk-container-id-2 div.sk-estimator:hover {background-color: #d4ebff;}#sk-container-id-2 div.sk-parallel-item::after {content: \"\";width: 100%;border-bottom: 1px solid gray;flex-grow: 1;}#sk-container-id-2 div.sk-label:hover label.sk-toggleable__label {background-color: #d4ebff;}#sk-container-id-2 div.sk-serial::before {content: \"\";position: absolute;border-left: 1px solid gray;box-sizing: border-box;top: 0;bottom: 0;left: 50%;z-index: 0;}#sk-container-id-2 div.sk-serial {display: flex;flex-direction: column;align-items: center;background-color: white;padding-right: 0.2em;padding-left: 0.2em;position: relative;}#sk-container-id-2 div.sk-item {position: relative;z-index: 1;}#sk-container-id-2 div.sk-parallel {display: flex;align-items: stretch;justify-content: center;background-color: white;position: relative;}#sk-container-id-2 div.sk-item::before, #sk-container-id-2 div.sk-parallel-item::before {content: \"\";position: absolute;border-left: 1px solid gray;box-sizing: border-box;top: 0;bottom: 0;left: 50%;z-index: -1;}#sk-container-id-2 div.sk-parallel-item {display: flex;flex-direction: column;z-index: 1;position: relative;background-color: white;}#sk-container-id-2 div.sk-parallel-item:first-child::after {align-self: flex-end;width: 50%;}#sk-container-id-2 div.sk-parallel-item:last-child::after {align-self: flex-start;width: 50%;}#sk-container-id-2 div.sk-parallel-item:only-child::after {width: 0;}#sk-container-id-2 div.sk-dashed-wrapped {border: 1px dashed gray;margin: 0 0.4em 0.5em 0.4em;box-sizing: border-box;padding-bottom: 0.4em;background-color: white;}#sk-container-id-2 div.sk-label label {font-family: monospace;font-weight: bold;display: inline-block;line-height: 1.2em;}#sk-container-id-2 div.sk-label-container {text-align: center;}#sk-container-id-2 div.sk-container {/* jupyter's `normalize.less` sets `[hidden] { display: none; }` but bootstrap.min.css set `[hidden] { display: none !important; }` so we also need the `!important` here to be able to override the default hidden behavior on the sphinx rendered scikit-learn.org. See: https://github.com/scikit-learn/scikit-learn/issues/21755 */display: inline-block !important;position: relative;}#sk-container-id-2 div.sk-text-repr-fallback {display: none;}</style><div id=\"sk-container-id-2\" class=\"sk-top-container\"><div class=\"sk-text-repr-fallback\"><pre>Pipeline(steps=[(&#x27;minibatchKmeans&#x27;,\n",
       "                 MiniBatchKMeans(batch_size=3072, n_clusters=10,\n",
       "                                 random_state=42)),\n",
       "                (&#x27;naive_bayes&#x27;, CategoricalNB())],\n",
       "         verbose=True)</pre><b>In a Jupyter environment, please rerun this cell to show the HTML representation or trust the notebook. <br />On GitHub, the HTML representation is unable to render, please try loading this page with nbviewer.org.</b></div><div class=\"sk-container\" hidden><div class=\"sk-item sk-dashed-wrapped\"><div class=\"sk-label-container\"><div class=\"sk-label sk-toggleable\"><input class=\"sk-toggleable__control sk-hidden--visually\" id=\"sk-estimator-id-4\" type=\"checkbox\" ><label for=\"sk-estimator-id-4\" class=\"sk-toggleable__label sk-toggleable__label-arrow\">Pipeline</label><div class=\"sk-toggleable__content\"><pre>Pipeline(steps=[(&#x27;minibatchKmeans&#x27;,\n",
       "                 MiniBatchKMeans(batch_size=3072, n_clusters=10,\n",
       "                                 random_state=42)),\n",
       "                (&#x27;naive_bayes&#x27;, CategoricalNB())],\n",
       "         verbose=True)</pre></div></div></div><div class=\"sk-serial\"><div class=\"sk-item\"><div class=\"sk-estimator sk-toggleable\"><input class=\"sk-toggleable__control sk-hidden--visually\" id=\"sk-estimator-id-5\" type=\"checkbox\" ><label for=\"sk-estimator-id-5\" class=\"sk-toggleable__label sk-toggleable__label-arrow\">MiniBatchKMeans</label><div class=\"sk-toggleable__content\"><pre>MiniBatchKMeans(batch_size=3072, n_clusters=10, random_state=42)</pre></div></div></div><div class=\"sk-item\"><div class=\"sk-estimator sk-toggleable\"><input class=\"sk-toggleable__control sk-hidden--visually\" id=\"sk-estimator-id-6\" type=\"checkbox\" ><label for=\"sk-estimator-id-6\" class=\"sk-toggleable__label sk-toggleable__label-arrow\">CategoricalNB</label><div class=\"sk-toggleable__content\"><pre>CategoricalNB()</pre></div></div></div></div></div></div></div>"
      ],
      "text/plain": [
       "Pipeline(steps=[('minibatchKmeans',\n",
       "                 MiniBatchKMeans(batch_size=3072, n_clusters=10,\n",
       "                                 random_state=42)),\n",
       "                ('naive_bayes', CategoricalNB())],\n",
       "         verbose=True)"
      ]
     },
     "execution_count": 124,
     "metadata": {},
     "output_type": "execute_result"
    }
   ],
   "source": [
    "pipeline_bayes = Pipeline([\n",
    " (\"minibatchKmeans\", MiniBatchKMeans(n_clusters=10,random_state=42, batch_size=3072)),\n",
    " (\"naive_bayes\", CategoricalNB()),\n",
    "], verbose = True)\n",
    "pipeline_bayes.fit(X_train, y_train.values.ravel())"
   ]
  },
  {
   "cell_type": "code",
   "execution_count": 125,
   "metadata": {},
   "outputs": [
    {
     "ename": "IndexError",
     "evalue": "index 18474 is out of bounds for axis 1 with size 18465",
     "output_type": "error",
     "traceback": [
      "\u001b[1;31m---------------------------------------------------------------------------\u001b[0m",
      "\u001b[1;31mIndexError\u001b[0m                                Traceback (most recent call last)",
      "\u001b[1;32m<ipython-input-125-226c918b91d9>\u001b[0m in \u001b[0;36m<module>\u001b[1;34m\u001b[0m\n\u001b[1;32m----> 1\u001b[1;33m \u001b[0mprint\u001b[0m\u001b[1;33m(\u001b[0m\u001b[1;34m\"Pipeline score when using minibatchKmeans on naive bayes:\"\u001b[0m\u001b[1;33m,\u001b[0m\u001b[0mpipeline_bayes\u001b[0m\u001b[1;33m.\u001b[0m\u001b[0mscore\u001b[0m\u001b[1;33m(\u001b[0m\u001b[0mX_test\u001b[0m\u001b[1;33m,\u001b[0m \u001b[0my_test\u001b[0m\u001b[1;33m)\u001b[0m\u001b[1;33m)\u001b[0m\u001b[1;33m\u001b[0m\u001b[1;33m\u001b[0m\u001b[0m\n\u001b[0m",
      "\u001b[1;32m~\\anaconda3\\lib\\site-packages\\sklearn\\pipeline.py\u001b[0m in \u001b[0;36mscore\u001b[1;34m(self, X, y, sample_weight)\u001b[0m\n\u001b[0;32m    697\u001b[0m         \u001b[1;32mif\u001b[0m \u001b[0msample_weight\u001b[0m \u001b[1;32mis\u001b[0m \u001b[1;32mnot\u001b[0m \u001b[1;32mNone\u001b[0m\u001b[1;33m:\u001b[0m\u001b[1;33m\u001b[0m\u001b[1;33m\u001b[0m\u001b[0m\n\u001b[0;32m    698\u001b[0m             \u001b[0mscore_params\u001b[0m\u001b[1;33m[\u001b[0m\u001b[1;34m\"sample_weight\"\u001b[0m\u001b[1;33m]\u001b[0m \u001b[1;33m=\u001b[0m \u001b[0msample_weight\u001b[0m\u001b[1;33m\u001b[0m\u001b[1;33m\u001b[0m\u001b[0m\n\u001b[1;32m--> 699\u001b[1;33m         \u001b[1;32mreturn\u001b[0m \u001b[0mself\u001b[0m\u001b[1;33m.\u001b[0m\u001b[0msteps\u001b[0m\u001b[1;33m[\u001b[0m\u001b[1;33m-\u001b[0m\u001b[1;36m1\u001b[0m\u001b[1;33m]\u001b[0m\u001b[1;33m[\u001b[0m\u001b[1;36m1\u001b[0m\u001b[1;33m]\u001b[0m\u001b[1;33m.\u001b[0m\u001b[0mscore\u001b[0m\u001b[1;33m(\u001b[0m\u001b[0mXt\u001b[0m\u001b[1;33m,\u001b[0m \u001b[0my\u001b[0m\u001b[1;33m,\u001b[0m \u001b[1;33m**\u001b[0m\u001b[0mscore_params\u001b[0m\u001b[1;33m)\u001b[0m\u001b[1;33m\u001b[0m\u001b[1;33m\u001b[0m\u001b[0m\n\u001b[0m\u001b[0;32m    700\u001b[0m \u001b[1;33m\u001b[0m\u001b[0m\n\u001b[0;32m    701\u001b[0m     \u001b[1;33m@\u001b[0m\u001b[0mproperty\u001b[0m\u001b[1;33m\u001b[0m\u001b[1;33m\u001b[0m\u001b[0m\n",
      "\u001b[1;32m~\\anaconda3\\lib\\site-packages\\sklearn\\base.py\u001b[0m in \u001b[0;36mscore\u001b[1;34m(self, X, y, sample_weight)\u001b[0m\n\u001b[0;32m    664\u001b[0m         \u001b[1;32mfrom\u001b[0m \u001b[1;33m.\u001b[0m\u001b[0mmetrics\u001b[0m \u001b[1;32mimport\u001b[0m \u001b[0maccuracy_score\u001b[0m\u001b[1;33m\u001b[0m\u001b[1;33m\u001b[0m\u001b[0m\n\u001b[0;32m    665\u001b[0m \u001b[1;33m\u001b[0m\u001b[0m\n\u001b[1;32m--> 666\u001b[1;33m         \u001b[1;32mreturn\u001b[0m \u001b[0maccuracy_score\u001b[0m\u001b[1;33m(\u001b[0m\u001b[0my\u001b[0m\u001b[1;33m,\u001b[0m \u001b[0mself\u001b[0m\u001b[1;33m.\u001b[0m\u001b[0mpredict\u001b[0m\u001b[1;33m(\u001b[0m\u001b[0mX\u001b[0m\u001b[1;33m)\u001b[0m\u001b[1;33m,\u001b[0m \u001b[0msample_weight\u001b[0m\u001b[1;33m=\u001b[0m\u001b[0msample_weight\u001b[0m\u001b[1;33m)\u001b[0m\u001b[1;33m\u001b[0m\u001b[1;33m\u001b[0m\u001b[0m\n\u001b[0m\u001b[0;32m    667\u001b[0m \u001b[1;33m\u001b[0m\u001b[0m\n\u001b[0;32m    668\u001b[0m     \u001b[1;32mdef\u001b[0m \u001b[0m_more_tags\u001b[0m\u001b[1;33m(\u001b[0m\u001b[0mself\u001b[0m\u001b[1;33m)\u001b[0m\u001b[1;33m:\u001b[0m\u001b[1;33m\u001b[0m\u001b[1;33m\u001b[0m\u001b[0m\n",
      "\u001b[1;32m~\\anaconda3\\lib\\site-packages\\sklearn\\naive_bayes.py\u001b[0m in \u001b[0;36mpredict\u001b[1;34m(self, X)\u001b[0m\n\u001b[0;32m     79\u001b[0m         \u001b[0mcheck_is_fitted\u001b[0m\u001b[1;33m(\u001b[0m\u001b[0mself\u001b[0m\u001b[1;33m)\u001b[0m\u001b[1;33m\u001b[0m\u001b[1;33m\u001b[0m\u001b[0m\n\u001b[0;32m     80\u001b[0m         \u001b[0mX\u001b[0m \u001b[1;33m=\u001b[0m \u001b[0mself\u001b[0m\u001b[1;33m.\u001b[0m\u001b[0m_check_X\u001b[0m\u001b[1;33m(\u001b[0m\u001b[0mX\u001b[0m\u001b[1;33m)\u001b[0m\u001b[1;33m\u001b[0m\u001b[1;33m\u001b[0m\u001b[0m\n\u001b[1;32m---> 81\u001b[1;33m         \u001b[0mjll\u001b[0m \u001b[1;33m=\u001b[0m \u001b[0mself\u001b[0m\u001b[1;33m.\u001b[0m\u001b[0m_joint_log_likelihood\u001b[0m\u001b[1;33m(\u001b[0m\u001b[0mX\u001b[0m\u001b[1;33m)\u001b[0m\u001b[1;33m\u001b[0m\u001b[1;33m\u001b[0m\u001b[0m\n\u001b[0m\u001b[0;32m     82\u001b[0m         \u001b[1;32mreturn\u001b[0m \u001b[0mself\u001b[0m\u001b[1;33m.\u001b[0m\u001b[0mclasses_\u001b[0m\u001b[1;33m[\u001b[0m\u001b[0mnp\u001b[0m\u001b[1;33m.\u001b[0m\u001b[0margmax\u001b[0m\u001b[1;33m(\u001b[0m\u001b[0mjll\u001b[0m\u001b[1;33m,\u001b[0m \u001b[0maxis\u001b[0m\u001b[1;33m=\u001b[0m\u001b[1;36m1\u001b[0m\u001b[1;33m)\u001b[0m\u001b[1;33m]\u001b[0m\u001b[1;33m\u001b[0m\u001b[1;33m\u001b[0m\u001b[0m\n\u001b[0;32m     83\u001b[0m \u001b[1;33m\u001b[0m\u001b[0m\n",
      "\u001b[1;32m~\\anaconda3\\lib\\site-packages\\sklearn\\naive_bayes.py\u001b[0m in \u001b[0;36m_joint_log_likelihood\u001b[1;34m(self, X)\u001b[0m\n\u001b[0;32m   1423\u001b[0m         \u001b[1;32mfor\u001b[0m \u001b[0mi\u001b[0m \u001b[1;32min\u001b[0m \u001b[0mrange\u001b[0m\u001b[1;33m(\u001b[0m\u001b[0mself\u001b[0m\u001b[1;33m.\u001b[0m\u001b[0mn_features_in_\u001b[0m\u001b[1;33m)\u001b[0m\u001b[1;33m:\u001b[0m\u001b[1;33m\u001b[0m\u001b[1;33m\u001b[0m\u001b[0m\n\u001b[0;32m   1424\u001b[0m             \u001b[0mindices\u001b[0m \u001b[1;33m=\u001b[0m \u001b[0mX\u001b[0m\u001b[1;33m[\u001b[0m\u001b[1;33m:\u001b[0m\u001b[1;33m,\u001b[0m \u001b[0mi\u001b[0m\u001b[1;33m]\u001b[0m\u001b[1;33m\u001b[0m\u001b[1;33m\u001b[0m\u001b[0m\n\u001b[1;32m-> 1425\u001b[1;33m             \u001b[0mjll\u001b[0m \u001b[1;33m+=\u001b[0m \u001b[0mself\u001b[0m\u001b[1;33m.\u001b[0m\u001b[0mfeature_log_prob_\u001b[0m\u001b[1;33m[\u001b[0m\u001b[0mi\u001b[0m\u001b[1;33m]\u001b[0m\u001b[1;33m[\u001b[0m\u001b[1;33m:\u001b[0m\u001b[1;33m,\u001b[0m \u001b[0mindices\u001b[0m\u001b[1;33m]\u001b[0m\u001b[1;33m.\u001b[0m\u001b[0mT\u001b[0m\u001b[1;33m\u001b[0m\u001b[1;33m\u001b[0m\u001b[0m\n\u001b[0m\u001b[0;32m   1426\u001b[0m         \u001b[0mtotal_ll\u001b[0m \u001b[1;33m=\u001b[0m \u001b[0mjll\u001b[0m \u001b[1;33m+\u001b[0m \u001b[0mself\u001b[0m\u001b[1;33m.\u001b[0m\u001b[0mclass_log_prior_\u001b[0m\u001b[1;33m\u001b[0m\u001b[1;33m\u001b[0m\u001b[0m\n\u001b[0;32m   1427\u001b[0m         \u001b[1;32mreturn\u001b[0m \u001b[0mtotal_ll\u001b[0m\u001b[1;33m\u001b[0m\u001b[1;33m\u001b[0m\u001b[0m\n",
      "\u001b[1;31mIndexError\u001b[0m: index 18474 is out of bounds for axis 1 with size 18465"
     ]
    }
   ],
   "source": [
    "print(\"Pipeline score when using minibatchKmeans on naive bayes:\",pipeline_bayes.score(X_test, y_test))"
   ]
  },
  {
   "cell_type": "code",
   "execution_count": 126,
   "metadata": {},
   "outputs": [
    {
     "name": "stdout",
     "output_type": "stream",
     "text": [
      "[Pipeline] ... (step 1 of 2) Processing minibatchKmeans, total=  26.4s\n",
      "[Pipeline] ..... (step 2 of 2) Processing random_forest, total=   2.8s\n"
     ]
    },
    {
     "data": {
      "text/html": [
       "<style>#sk-container-id-3 {color: black;background-color: white;}#sk-container-id-3 pre{padding: 0;}#sk-container-id-3 div.sk-toggleable {background-color: white;}#sk-container-id-3 label.sk-toggleable__label {cursor: pointer;display: block;width: 100%;margin-bottom: 0;padding: 0.3em;box-sizing: border-box;text-align: center;}#sk-container-id-3 label.sk-toggleable__label-arrow:before {content: \"▸\";float: left;margin-right: 0.25em;color: #696969;}#sk-container-id-3 label.sk-toggleable__label-arrow:hover:before {color: black;}#sk-container-id-3 div.sk-estimator:hover label.sk-toggleable__label-arrow:before {color: black;}#sk-container-id-3 div.sk-toggleable__content {max-height: 0;max-width: 0;overflow: hidden;text-align: left;background-color: #f0f8ff;}#sk-container-id-3 div.sk-toggleable__content pre {margin: 0.2em;color: black;border-radius: 0.25em;background-color: #f0f8ff;}#sk-container-id-3 input.sk-toggleable__control:checked~div.sk-toggleable__content {max-height: 200px;max-width: 100%;overflow: auto;}#sk-container-id-3 input.sk-toggleable__control:checked~label.sk-toggleable__label-arrow:before {content: \"▾\";}#sk-container-id-3 div.sk-estimator input.sk-toggleable__control:checked~label.sk-toggleable__label {background-color: #d4ebff;}#sk-container-id-3 div.sk-label input.sk-toggleable__control:checked~label.sk-toggleable__label {background-color: #d4ebff;}#sk-container-id-3 input.sk-hidden--visually {border: 0;clip: rect(1px 1px 1px 1px);clip: rect(1px, 1px, 1px, 1px);height: 1px;margin: -1px;overflow: hidden;padding: 0;position: absolute;width: 1px;}#sk-container-id-3 div.sk-estimator {font-family: monospace;background-color: #f0f8ff;border: 1px dotted black;border-radius: 0.25em;box-sizing: border-box;margin-bottom: 0.5em;}#sk-container-id-3 div.sk-estimator:hover {background-color: #d4ebff;}#sk-container-id-3 div.sk-parallel-item::after {content: \"\";width: 100%;border-bottom: 1px solid gray;flex-grow: 1;}#sk-container-id-3 div.sk-label:hover label.sk-toggleable__label {background-color: #d4ebff;}#sk-container-id-3 div.sk-serial::before {content: \"\";position: absolute;border-left: 1px solid gray;box-sizing: border-box;top: 0;bottom: 0;left: 50%;z-index: 0;}#sk-container-id-3 div.sk-serial {display: flex;flex-direction: column;align-items: center;background-color: white;padding-right: 0.2em;padding-left: 0.2em;position: relative;}#sk-container-id-3 div.sk-item {position: relative;z-index: 1;}#sk-container-id-3 div.sk-parallel {display: flex;align-items: stretch;justify-content: center;background-color: white;position: relative;}#sk-container-id-3 div.sk-item::before, #sk-container-id-3 div.sk-parallel-item::before {content: \"\";position: absolute;border-left: 1px solid gray;box-sizing: border-box;top: 0;bottom: 0;left: 50%;z-index: -1;}#sk-container-id-3 div.sk-parallel-item {display: flex;flex-direction: column;z-index: 1;position: relative;background-color: white;}#sk-container-id-3 div.sk-parallel-item:first-child::after {align-self: flex-end;width: 50%;}#sk-container-id-3 div.sk-parallel-item:last-child::after {align-self: flex-start;width: 50%;}#sk-container-id-3 div.sk-parallel-item:only-child::after {width: 0;}#sk-container-id-3 div.sk-dashed-wrapped {border: 1px dashed gray;margin: 0 0.4em 0.5em 0.4em;box-sizing: border-box;padding-bottom: 0.4em;background-color: white;}#sk-container-id-3 div.sk-label label {font-family: monospace;font-weight: bold;display: inline-block;line-height: 1.2em;}#sk-container-id-3 div.sk-label-container {text-align: center;}#sk-container-id-3 div.sk-container {/* jupyter's `normalize.less` sets `[hidden] { display: none; }` but bootstrap.min.css set `[hidden] { display: none !important; }` so we also need the `!important` here to be able to override the default hidden behavior on the sphinx rendered scikit-learn.org. See: https://github.com/scikit-learn/scikit-learn/issues/21755 */display: inline-block !important;position: relative;}#sk-container-id-3 div.sk-text-repr-fallback {display: none;}</style><div id=\"sk-container-id-3\" class=\"sk-top-container\"><div class=\"sk-text-repr-fallback\"><pre>Pipeline(steps=[(&#x27;minibatchKmeans&#x27;,\n",
       "                 MiniBatchKMeans(batch_size=3072, n_clusters=10,\n",
       "                                 random_state=42)),\n",
       "                (&#x27;random_forest&#x27;,\n",
       "                 RandomForestClassifier(n_jobs=7, random_state=42))],\n",
       "         verbose=True)</pre><b>In a Jupyter environment, please rerun this cell to show the HTML representation or trust the notebook. <br />On GitHub, the HTML representation is unable to render, please try loading this page with nbviewer.org.</b></div><div class=\"sk-container\" hidden><div class=\"sk-item sk-dashed-wrapped\"><div class=\"sk-label-container\"><div class=\"sk-label sk-toggleable\"><input class=\"sk-toggleable__control sk-hidden--visually\" id=\"sk-estimator-id-7\" type=\"checkbox\" ><label for=\"sk-estimator-id-7\" class=\"sk-toggleable__label sk-toggleable__label-arrow\">Pipeline</label><div class=\"sk-toggleable__content\"><pre>Pipeline(steps=[(&#x27;minibatchKmeans&#x27;,\n",
       "                 MiniBatchKMeans(batch_size=3072, n_clusters=10,\n",
       "                                 random_state=42)),\n",
       "                (&#x27;random_forest&#x27;,\n",
       "                 RandomForestClassifier(n_jobs=7, random_state=42))],\n",
       "         verbose=True)</pre></div></div></div><div class=\"sk-serial\"><div class=\"sk-item\"><div class=\"sk-estimator sk-toggleable\"><input class=\"sk-toggleable__control sk-hidden--visually\" id=\"sk-estimator-id-8\" type=\"checkbox\" ><label for=\"sk-estimator-id-8\" class=\"sk-toggleable__label sk-toggleable__label-arrow\">MiniBatchKMeans</label><div class=\"sk-toggleable__content\"><pre>MiniBatchKMeans(batch_size=3072, n_clusters=10, random_state=42)</pre></div></div></div><div class=\"sk-item\"><div class=\"sk-estimator sk-toggleable\"><input class=\"sk-toggleable__control sk-hidden--visually\" id=\"sk-estimator-id-9\" type=\"checkbox\" ><label for=\"sk-estimator-id-9\" class=\"sk-toggleable__label sk-toggleable__label-arrow\">RandomForestClassifier</label><div class=\"sk-toggleable__content\"><pre>RandomForestClassifier(n_jobs=7, random_state=42)</pre></div></div></div></div></div></div></div>"
      ],
      "text/plain": [
       "Pipeline(steps=[('minibatchKmeans',\n",
       "                 MiniBatchKMeans(batch_size=3072, n_clusters=10,\n",
       "                                 random_state=42)),\n",
       "                ('random_forest',\n",
       "                 RandomForestClassifier(n_jobs=7, random_state=42))],\n",
       "         verbose=True)"
      ]
     },
     "execution_count": 126,
     "metadata": {},
     "output_type": "execute_result"
    }
   ],
   "source": [
    "pipeline_bayes = Pipeline([\n",
    " (\"minibatchKmeans\", MiniBatchKMeans(n_clusters=10,random_state=42, batch_size=3072)),\n",
    " (\"random_forest\", RandomForestClassifier(n_estimators = 100,random_state=42, n_jobs = os.cpu_count() - 1)),\n",
    "], verbose = True)\n",
    "pipeline_bayes.fit(X_train, y_train.values.ravel())"
   ]
  },
  {
   "cell_type": "code",
   "execution_count": 127,
   "metadata": {},
   "outputs": [
    {
     "name": "stdout",
     "output_type": "stream",
     "text": [
      "Pipeline score when using minibatchKmeans on random forest: 0.5688\n"
     ]
    }
   ],
   "source": [
    "print(\"Pipeline score when using minibatchKmeans on random forest:\",pipeline_bayes.score(X_test, y_test))"
   ]
  },
  {
   "cell_type": "markdown",
   "metadata": {},
   "source": [
    "## Gridsearch for optimal K-clusters"
   ]
  },
  {
   "cell_type": "code",
   "execution_count": 30,
   "metadata": {},
   "outputs": [],
   "source": []
  },
  {
   "cell_type": "code",
   "execution_count": null,
   "metadata": {},
   "outputs": [],
   "source": []
  },
  {
   "cell_type": "code",
   "execution_count": 45,
   "metadata": {},
   "outputs": [
    {
     "name": "stdout",
     "output_type": "stream",
     "text": [
      "Fitting 3 folds for each of 10 candidates, totalling 30 fits\n",
      "[CV 1/3] END .....minibatchKmeans__n_clusters=2;, score=0.527 total time=  15.6s\n",
      "[CV 2/3] END .....minibatchKmeans__n_clusters=2;, score=0.526 total time=  13.9s\n",
      "[CV 3/3] END .....minibatchKmeans__n_clusters=2;, score=0.512 total time=  17.7s\n",
      "[CV 1/3] END ....minibatchKmeans__n_clusters=12;, score=0.576 total time=  22.6s\n",
      "[CV 2/3] END ....minibatchKmeans__n_clusters=12;, score=0.582 total time=  22.1s\n",
      "[CV 3/3] END ....minibatchKmeans__n_clusters=12;, score=0.574 total time=  25.1s\n",
      "[CV 1/3] END ....minibatchKmeans__n_clusters=22;, score=0.589 total time=  32.5s\n",
      "[CV 2/3] END ....minibatchKmeans__n_clusters=22;, score=0.580 total time=  30.8s\n",
      "[CV 3/3] END ....minibatchKmeans__n_clusters=22;, score=0.575 total time=  32.3s\n",
      "[CV 1/3] END ....minibatchKmeans__n_clusters=32;, score=0.587 total time=  39.9s\n",
      "[CV 2/3] END ....minibatchKmeans__n_clusters=32;, score=0.586 total time=  39.4s\n",
      "[CV 3/3] END ....minibatchKmeans__n_clusters=32;, score=0.576 total time=  38.7s\n",
      "[CV 1/3] END ....minibatchKmeans__n_clusters=42;, score=0.589 total time= 1.0min\n",
      "[CV 2/3] END ....minibatchKmeans__n_clusters=42;, score=0.587 total time=  55.3s\n",
      "[CV 3/3] END ....minibatchKmeans__n_clusters=42;, score=0.583 total time=  49.2s\n",
      "[CV 1/3] END ....minibatchKmeans__n_clusters=52;, score=0.598 total time=  51.1s\n",
      "[CV 2/3] END ....minibatchKmeans__n_clusters=52;, score=0.588 total time= 1.1min\n",
      "[CV 3/3] END ....minibatchKmeans__n_clusters=52;, score=0.583 total time=  54.5s\n",
      "[CV 1/3] END ....minibatchKmeans__n_clusters=62;, score=0.595 total time=  59.0s\n",
      "[CV 2/3] END ....minibatchKmeans__n_clusters=62;, score=0.591 total time= 1.1min\n",
      "[CV 3/3] END ....minibatchKmeans__n_clusters=62;, score=0.592 total time= 1.0min\n",
      "[CV 1/3] END ....minibatchKmeans__n_clusters=72;, score=0.597 total time= 1.1min\n",
      "[CV 2/3] END ....minibatchKmeans__n_clusters=72;, score=0.588 total time= 1.3min\n",
      "[CV 3/3] END ....minibatchKmeans__n_clusters=72;, score=0.593 total time= 1.1min\n",
      "[CV 1/3] END ....minibatchKmeans__n_clusters=82;, score=0.597 total time= 1.3min\n",
      "[CV 2/3] END ....minibatchKmeans__n_clusters=82;, score=0.592 total time= 1.4min\n",
      "[CV 3/3] END ....minibatchKmeans__n_clusters=82;, score=0.590 total time= 1.6min\n",
      "[CV 1/3] END ....minibatchKmeans__n_clusters=92;, score=0.595 total time= 1.4min\n",
      "[CV 2/3] END ....minibatchKmeans__n_clusters=92;, score=0.593 total time= 1.6min\n",
      "[CV 3/3] END ....minibatchKmeans__n_clusters=92;, score=0.595 total time= 1.5min\n"
     ]
    }
   ],
   "source": [
    "# param_grid = {\"minibatchKmeans__n_clusters\":range(2, 102, 10)}\n",
    "# grid_clf = GridSearchCV(pipeline, param_grid, cv=3, verbose=4).fit(X_train, y_train.values.ravel())"
   ]
  },
  {
   "cell_type": "code",
   "execution_count": 46,
   "metadata": {},
   "outputs": [
    {
     "data": {
      "text/html": [
       "<div>\n",
       "<style scoped>\n",
       "    .dataframe tbody tr th:only-of-type {\n",
       "        vertical-align: middle;\n",
       "    }\n",
       "\n",
       "    .dataframe tbody tr th {\n",
       "        vertical-align: top;\n",
       "    }\n",
       "\n",
       "    .dataframe thead th {\n",
       "        text-align: right;\n",
       "    }\n",
       "</style>\n",
       "<table border=\"1\" class=\"dataframe\">\n",
       "  <thead>\n",
       "    <tr style=\"text-align: right;\">\n",
       "      <th></th>\n",
       "      <th>mean_fit_time</th>\n",
       "      <th>std_fit_time</th>\n",
       "      <th>mean_score_time</th>\n",
       "      <th>std_score_time</th>\n",
       "      <th>param_minibatchKmeans__n_clusters</th>\n",
       "      <th>params</th>\n",
       "      <th>split0_test_score</th>\n",
       "      <th>split1_test_score</th>\n",
       "      <th>split2_test_score</th>\n",
       "      <th>mean_test_score</th>\n",
       "      <th>std_test_score</th>\n",
       "      <th>rank_test_score</th>\n",
       "    </tr>\n",
       "  </thead>\n",
       "  <tbody>\n",
       "    <tr>\n",
       "      <th>0</th>\n",
       "      <td>14.243083</td>\n",
       "      <td>1.625439</td>\n",
       "      <td>1.574348</td>\n",
       "      <td>0.070665</td>\n",
       "      <td>2</td>\n",
       "      <td>{'minibatchKmeans__n_clusters': 2}</td>\n",
       "      <td>0.526667</td>\n",
       "      <td>0.526267</td>\n",
       "      <td>0.512133</td>\n",
       "      <td>0.521689</td>\n",
       "      <td>0.006759</td>\n",
       "      <td>10</td>\n",
       "    </tr>\n",
       "    <tr>\n",
       "      <th>1</th>\n",
       "      <td>21.760257</td>\n",
       "      <td>1.340238</td>\n",
       "      <td>1.571628</td>\n",
       "      <td>0.010773</td>\n",
       "      <td>12</td>\n",
       "      <td>{'minibatchKmeans__n_clusters': 12}</td>\n",
       "      <td>0.575867</td>\n",
       "      <td>0.581867</td>\n",
       "      <td>0.573733</td>\n",
       "      <td>0.577156</td>\n",
       "      <td>0.003443</td>\n",
       "      <td>9</td>\n",
       "    </tr>\n",
       "    <tr>\n",
       "      <th>2</th>\n",
       "      <td>30.266823</td>\n",
       "      <td>0.766828</td>\n",
       "      <td>1.710015</td>\n",
       "      <td>0.015748</td>\n",
       "      <td>22</td>\n",
       "      <td>{'minibatchKmeans__n_clusters': 22}</td>\n",
       "      <td>0.588800</td>\n",
       "      <td>0.580000</td>\n",
       "      <td>0.574933</td>\n",
       "      <td>0.581244</td>\n",
       "      <td>0.005729</td>\n",
       "      <td>8</td>\n",
       "    </tr>\n",
       "    <tr>\n",
       "      <th>3</th>\n",
       "      <td>37.796140</td>\n",
       "      <td>0.446291</td>\n",
       "      <td>1.647454</td>\n",
       "      <td>0.075832</td>\n",
       "      <td>32</td>\n",
       "      <td>{'minibatchKmeans__n_clusters': 32}</td>\n",
       "      <td>0.586800</td>\n",
       "      <td>0.585867</td>\n",
       "      <td>0.576133</td>\n",
       "      <td>0.582933</td>\n",
       "      <td>0.004823</td>\n",
       "      <td>7</td>\n",
       "    </tr>\n",
       "    <tr>\n",
       "      <th>4</th>\n",
       "      <td>53.716379</td>\n",
       "      <td>4.956299</td>\n",
       "      <td>1.691794</td>\n",
       "      <td>0.085216</td>\n",
       "      <td>42</td>\n",
       "      <td>{'minibatchKmeans__n_clusters': 42}</td>\n",
       "      <td>0.589333</td>\n",
       "      <td>0.586800</td>\n",
       "      <td>0.582533</td>\n",
       "      <td>0.586222</td>\n",
       "      <td>0.002806</td>\n",
       "      <td>6</td>\n",
       "    </tr>\n",
       "    <tr>\n",
       "      <th>5</th>\n",
       "      <td>55.007676</td>\n",
       "      <td>5.504316</td>\n",
       "      <td>1.731729</td>\n",
       "      <td>0.096373</td>\n",
       "      <td>52</td>\n",
       "      <td>{'minibatchKmeans__n_clusters': 52}</td>\n",
       "      <td>0.597867</td>\n",
       "      <td>0.588133</td>\n",
       "      <td>0.583067</td>\n",
       "      <td>0.589689</td>\n",
       "      <td>0.006141</td>\n",
       "      <td>5</td>\n",
       "    </tr>\n",
       "    <tr>\n",
       "      <th>6</th>\n",
       "      <td>59.640994</td>\n",
       "      <td>1.782167</td>\n",
       "      <td>1.819679</td>\n",
       "      <td>0.064726</td>\n",
       "      <td>62</td>\n",
       "      <td>{'minibatchKmeans__n_clusters': 62}</td>\n",
       "      <td>0.595200</td>\n",
       "      <td>0.591333</td>\n",
       "      <td>0.592267</td>\n",
       "      <td>0.592933</td>\n",
       "      <td>0.001647</td>\n",
       "      <td>3</td>\n",
       "    </tr>\n",
       "    <tr>\n",
       "      <th>7</th>\n",
       "      <td>66.564672</td>\n",
       "      <td>5.594763</td>\n",
       "      <td>1.820013</td>\n",
       "      <td>0.060076</td>\n",
       "      <td>72</td>\n",
       "      <td>{'minibatchKmeans__n_clusters': 72}</td>\n",
       "      <td>0.597067</td>\n",
       "      <td>0.588133</td>\n",
       "      <td>0.593200</td>\n",
       "      <td>0.592800</td>\n",
       "      <td>0.003658</td>\n",
       "      <td>4</td>\n",
       "    </tr>\n",
       "    <tr>\n",
       "      <th>8</th>\n",
       "      <td>84.358686</td>\n",
       "      <td>8.027694</td>\n",
       "      <td>1.795292</td>\n",
       "      <td>0.083802</td>\n",
       "      <td>82</td>\n",
       "      <td>{'minibatchKmeans__n_clusters': 82}</td>\n",
       "      <td>0.597067</td>\n",
       "      <td>0.592400</td>\n",
       "      <td>0.589600</td>\n",
       "      <td>0.593022</td>\n",
       "      <td>0.003080</td>\n",
       "      <td>2</td>\n",
       "    </tr>\n",
       "    <tr>\n",
       "      <th>9</th>\n",
       "      <td>89.787482</td>\n",
       "      <td>5.884303</td>\n",
       "      <td>2.049178</td>\n",
       "      <td>0.107537</td>\n",
       "      <td>92</td>\n",
       "      <td>{'minibatchKmeans__n_clusters': 92}</td>\n",
       "      <td>0.594533</td>\n",
       "      <td>0.592933</td>\n",
       "      <td>0.595333</td>\n",
       "      <td>0.594267</td>\n",
       "      <td>0.000998</td>\n",
       "      <td>1</td>\n",
       "    </tr>\n",
       "  </tbody>\n",
       "</table>\n",
       "</div>"
      ],
      "text/plain": [
       "   mean_fit_time  std_fit_time  mean_score_time  std_score_time  \\\n",
       "0      14.243083      1.625439         1.574348        0.070665   \n",
       "1      21.760257      1.340238         1.571628        0.010773   \n",
       "2      30.266823      0.766828         1.710015        0.015748   \n",
       "3      37.796140      0.446291         1.647454        0.075832   \n",
       "4      53.716379      4.956299         1.691794        0.085216   \n",
       "5      55.007676      5.504316         1.731729        0.096373   \n",
       "6      59.640994      1.782167         1.819679        0.064726   \n",
       "7      66.564672      5.594763         1.820013        0.060076   \n",
       "8      84.358686      8.027694         1.795292        0.083802   \n",
       "9      89.787482      5.884303         2.049178        0.107537   \n",
       "\n",
       "  param_minibatchKmeans__n_clusters                               params  \\\n",
       "0                                 2   {'minibatchKmeans__n_clusters': 2}   \n",
       "1                                12  {'minibatchKmeans__n_clusters': 12}   \n",
       "2                                22  {'minibatchKmeans__n_clusters': 22}   \n",
       "3                                32  {'minibatchKmeans__n_clusters': 32}   \n",
       "4                                42  {'minibatchKmeans__n_clusters': 42}   \n",
       "5                                52  {'minibatchKmeans__n_clusters': 52}   \n",
       "6                                62  {'minibatchKmeans__n_clusters': 62}   \n",
       "7                                72  {'minibatchKmeans__n_clusters': 72}   \n",
       "8                                82  {'minibatchKmeans__n_clusters': 82}   \n",
       "9                                92  {'minibatchKmeans__n_clusters': 92}   \n",
       "\n",
       "   split0_test_score  split1_test_score  split2_test_score  mean_test_score  \\\n",
       "0           0.526667           0.526267           0.512133         0.521689   \n",
       "1           0.575867           0.581867           0.573733         0.577156   \n",
       "2           0.588800           0.580000           0.574933         0.581244   \n",
       "3           0.586800           0.585867           0.576133         0.582933   \n",
       "4           0.589333           0.586800           0.582533         0.586222   \n",
       "5           0.597867           0.588133           0.583067         0.589689   \n",
       "6           0.595200           0.591333           0.592267         0.592933   \n",
       "7           0.597067           0.588133           0.593200         0.592800   \n",
       "8           0.597067           0.592400           0.589600         0.593022   \n",
       "9           0.594533           0.592933           0.595333         0.594267   \n",
       "\n",
       "   std_test_score  rank_test_score  \n",
       "0        0.006759               10  \n",
       "1        0.003443                9  \n",
       "2        0.005729                8  \n",
       "3        0.004823                7  \n",
       "4        0.002806                6  \n",
       "5        0.006141                5  \n",
       "6        0.001647                3  \n",
       "7        0.003658                4  \n",
       "8        0.003080                2  \n",
       "9        0.000998                1  "
      ]
     },
     "execution_count": 46,
     "metadata": {},
     "output_type": "execute_result"
    }
   ],
   "source": [
    "# pd.DataFrame(grid_clf.cv_results_)"
   ]
  },
  {
   "cell_type": "code",
   "execution_count": 49,
   "metadata": {},
   "outputs": [
    {
     "name": "stdout",
     "output_type": "stream",
     "text": [
      "Best pipeline clusters using minibatchKmeans and logistic regression:\n",
      " Pipeline(steps=[('minibatchKmeans',\n",
      "                 MiniBatchKMeans(batch_size=3072, n_clusters=92,\n",
      "                                 random_state=42)),\n",
      "                ('log_reg',\n",
      "                 LogisticRegression(n_jobs=7, random_state=42, solver='saga',\n",
      "                                    tol=0.01))]) \n",
      "with a score of: 0.5942666666666666\n"
     ]
    }
   ],
   "source": [
    "# print(\"Best pipeline clusters using minibatchKmeans and logistic regression:\\n\", grid_clf.best_estimator_,\"\\nwith a score of:\",grid_clf.best_score_)"
   ]
  }
 ],
 "metadata": {
  "kernelspec": {
   "display_name": "Python 3",
   "language": "python",
   "name": "python3"
  },
  "language_info": {
   "codemirror_mode": {
    "name": "ipython",
    "version": 3
   },
   "file_extension": ".py",
   "mimetype": "text/x-python",
   "name": "python",
   "nbconvert_exporter": "python",
   "pygments_lexer": "ipython3",
   "version": "3.8.5"
  }
 },
 "nbformat": 4,
 "nbformat_minor": 4
}
