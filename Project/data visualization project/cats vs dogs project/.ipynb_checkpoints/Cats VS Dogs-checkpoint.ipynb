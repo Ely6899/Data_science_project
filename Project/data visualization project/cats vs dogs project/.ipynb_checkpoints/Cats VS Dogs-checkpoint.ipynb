{
 "cells": [
  {
   "cell_type": "code",
   "execution_count": 259,
   "metadata": {},
   "outputs": [],
   "source": [
    "import os\n",
    "import numpy as np\n",
    "import matplotlib.pyplot as plt\n",
    "import pandas as pd\n",
    "from numba import jit\n",
    "import cv2\n",
    "from IPython.display import clear_output\n",
    "from sklearn.preprocessing import LabelEncoder\n",
    "from IPython.core import display as ICD\n",
    "from sklearn.pipeline import Pipeline\n",
    "from sklearn.pipeline import make_pipeline\n",
    "\n",
    "plt.style.use(\"seaborn\")\n",
    "\n",
    "import warnings\n",
    "warnings.filterwarnings(\"ignore\")"
   ]
  },
  {
   "cell_type": "code",
   "execution_count": 260,
   "metadata": {},
   "outputs": [
    {
     "name": "stdout",
     "output_type": "stream",
     "text": [
      "C:\\Users\\eliko\\Desktop\\Data_science_project\\Project\\data visualization project\\cats vs dogs project\n"
     ]
    }
   ],
   "source": [
    "import sys, os\n",
    "script_dir = sys.path[0]\n",
    "print(script_dir)"
   ]
  },
  {
   "cell_type": "code",
   "execution_count": 264,
   "metadata": {},
   "outputs": [
    {
     "name": "stdout",
     "output_type": "stream",
     "text": [
      "Train path: C:\\Users\\eliko\\Desktop\\Data_science_project\\Project\\data visualization project\\cats vs dogs project\\train\n",
      "\n",
      "Test path: C:\\Users\\eliko\\Desktop\\Data_science_project\\Project\\data visualization project\\cats vs dogs project\\test1\n",
      "\n",
      "Modified train path: C:\\Users\\eliko\\Desktop\\Data_science_project\\Project\\data visualization project\\cats vs dogs project\\train_modified\n",
      "\n",
      "Modified test path: C:\\Users\\eliko\\Desktop\\Data_science_project\\Project\\data visualization project\\cats vs dogs project\\test_modified\n"
     ]
    }
   ],
   "source": [
    "#Constant zone\n",
    "IMG_PATH_TRAIN = os.path.join(script_dir+r'\\train')\n",
    "IMG_PATH_TEST = os.path.join(script_dir+r'\\test1')\n",
    "IMG_PATH_TRAIN_MOD = os.path.join(script_dir+r'\\train_modified')\n",
    "IMG_PATH_TEST_MOD = os.path.join(script_dir+r'\\test_modified')\n",
    "print(\"Train path:\",IMG_PATH_TRAIN+\"\\n\")\n",
    "print(\"Test path:\",IMG_PATH_TEST+\"\\n\")\n",
    "print(\"Modified train path:\",IMG_PATH_TRAIN_MOD+\"\\n\")\n",
    "print(\"Modified test path:\",IMG_PATH_TEST_MOD)\n",
    "\n",
    "MODIFIED_WIDTH = 250\n",
    "MODIFIED_HEIGHT = 250\n",
    "\n",
    "COLOR = 'white'\n",
    "#FONT = 'Adobe'\n",
    "plt.rcParams['text.color'] = COLOR\n",
    "plt.rcParams['axes.labelcolor'] = COLOR\n",
    "plt.rcParams['xtick.color'] = COLOR\n",
    "plt.rcParams['ytick.color'] = COLOR\n",
    "plt.rcParams['figure.facecolor'] = 'black'\n",
    "\n",
    "plt.rc('axes', titlesize=25) #fontsize of the title\n",
    "plt.rc('axes', labelsize=19) #fontsize of the x and y labels\n",
    "plt.rc('xtick', labelsize=19) #fontsize of the x tick labels\n",
    "plt.rc('ytick', labelsize=19) #fontsize of the y tick labels\n",
    "#plt.rcParams['font.family'] = FONT"
   ]
  },
  {
   "cell_type": "code",
   "execution_count": 262,
   "metadata": {},
   "outputs": [],
   "source": [
    "#Function zone\n",
    "\n",
    "def modify_img(image, new_width, new_height): #Modifies an image according to chosen parameters\n",
    "    gray_img = cv2.cvtColor(image, cv2.COLOR_BGR2GRAY)\n",
    "    modified_img = cv2.resize(gray_img, (new_width, new_height))\n",
    "    return modified_img\n",
    "\n",
    "def read_img(picture_path, filename): #Reads file from path\n",
    "    return cv2.imread(picture_path+\"/\"+filename, -1)\n",
    "\n",
    "def write_img(destination_path, filename, image): #Writes new file to given path\n",
    "    cv2.imwrite(destination_path+\"/\"+filename, image)\n",
    "     \n",
    "def modify_train(): #Modifies the train data and writes it to the appropriate directory\n",
    "    count = 0\n",
    "    for f in os.listdir(IMG_PATH_TRAIN):\n",
    "        img = read_img(picture_path = IMG_PATH_TRAIN, filename = f)\n",
    "        mod_img = modify_img(img, new_width = MODIFIED_WIDTH, new_height = MODIFIED_HEIGHT)\n",
    "        write_img(destination_path = IMG_PATH_TRAIN_MOD, filename = f, image = mod_img)\n",
    "        msg = \"Modified {0}% of training data\".format(int(count/250))\n",
    "        print(msg)\n",
    "        clear_output(wait=True)\n",
    "        count += 1\n",
    "\n",
    "    print(\"Train data modification complete\")\n",
    "    \n",
    "def modify_test(): #Modifies the test data and writes it to the appropriate directory\n",
    "    count = 0\n",
    "    for f in os.listdir(IMG_PATH_TEST):\n",
    "        img = read_img(picture_path = IMG_PATH_TEST, filename = f)\n",
    "        mod_img = modify_img(img, new_width = MODIFIED_WIDTH, new_height = MODIFIED_HEIGHT)\n",
    "        write_img(destination_path = IMG_PATH_TEST_MOD, filename = f, image = mod_img)\n",
    "        msg = \"Modified {0}% of testing data\".format(int(count/250))\n",
    "        print(msg)\n",
    "        clear_output(wait=True)\n",
    "        count += 1\n",
    "\n",
    "    print(\"Test data modification complete\")\n",
    "      \n",
    "@jit(nogil = True)\n",
    "def images_to_df_train(): #Returns dataframe of the train files\n",
    "    train_array = np.ndarray(shape = (0,MODIFIED_WIDTH,MODIFIED_HEIGHT), dtype= 'uint8')\n",
    "    label_names = []\n",
    "    count = 0\n",
    "    for f in os.listdir(IMG_PATH_TRAIN_MOD):\n",
    "        img = read_img(picture_path = IMG_PATH_TRAIN_MOD, filename = f)\n",
    "        train_array = np.insert(train_array, count , img.reshape((1,MODIFIED_WIDTH,MODIFIED_HEIGHT)), axis = 0)\n",
    "        label_names.append(f.split('.')[0])\n",
    "        msg = \"Loaded {0} images. {1}%\".format(count, count/250)\n",
    "        print(msg)\n",
    "\n",
    "        clear_output(wait=True)\n",
    "        count += 1\n",
    "    print(\"Data loading complete\")\n",
    "    \n",
    "    train_df = pd.DataFrame(data = train_array.reshape(25000, MODIFIED_WIDTH*MODIFIED_HEIGHT))\n",
    "    label_df = pd.DataFrame(data = label_names, columns = ['label'])\n",
    "    label_df.insert(loc=0, column='Label', value=LabelEncoder().fit_transform(label_df['label']))\n",
    "    label_df = label_df.drop(columns = ['label'])\n",
    "    train_final = pd.concat([train_df, label_df], axis = 1)\n",
    "    print(\"Train dataframe loading complete\")\n",
    "    return train_final\n",
    "\n",
    "@jit(nogil = True)\n",
    "def images_to_df_test(): #Returns dataframe of the test files\n",
    "    test_array = np.ndarray(shape = (0,MODIFIED_WIDTH,MODIFIED_HEIGHT), dtype= 'uint8')\n",
    "    count = 0\n",
    "    for f in os.listdir(IMG_PATH_TEST_MOD):\n",
    "        img = read_img(picture_path = IMG_PATH_TEST_MOD, filename = f)\n",
    "        test_array = np.insert(test_array, count , img.reshape((1,MODIFIED_WIDTH,MODIFIED_HEIGHT)), axis = 0)\n",
    "        msg = \"Loaded {0} images. {1}%\".format(count, count/125)\n",
    "        print(msg)\n",
    "\n",
    "        clear_output(wait=True)\n",
    "        count += 1\n",
    "    print(\"Data loading complete\")\n",
    "    test_df = pd.DataFrame(data = test_array.reshape(12500, MODIFIED_WIDTH*MODIFIED_HEIGHT))\n",
    "    print(\"Test dataframe loading complete\")\n",
    "    return test_df"
   ]
  },
  {
   "cell_type": "code",
   "execution_count": 5,
   "metadata": {},
   "outputs": [],
   "source": [
    "# colored_img = cv2.imread(IMG_PATH_TRAIN+\"/\"+\"cat.0.jpg\")\n",
    "# gray_img = cv2.cvtColor(colored_img, cv2.COLOR_BGR2GRAY)\n",
    "# modified_img = cv2.resize(gray_img,(150,150))"
   ]
  },
  {
   "cell_type": "code",
   "execution_count": 6,
   "metadata": {},
   "outputs": [],
   "source": [
    "# cv2.imshow('Original', colored_img)\n",
    "# cv2.imshow('Modified', modified_img)\n",
    "# cv2.waitKey(0)\n",
    "# cv2.destroyAllWindows()"
   ]
  },
  {
   "cell_type": "code",
   "execution_count": 7,
   "metadata": {},
   "outputs": [],
   "source": [
    "#plt.imshow(Image.open(img_path))"
   ]
  },
  {
   "cell_type": "code",
   "execution_count": 8,
   "metadata": {},
   "outputs": [],
   "source": [
    "#img = cv2.imread(img_path)\n",
    "#resize_img = cv2.resize(img,(600,600))"
   ]
  },
  {
   "cell_type": "code",
   "execution_count": 9,
   "metadata": {},
   "outputs": [],
   "source": [
    "#cv2.imshow('Original', img) \n",
    "#cv2.imshow('Resizing', resize_img) \n",
    "#cv2.waitKey(0) \n",
    "#cv2.destroyAllWindows()"
   ]
  },
  {
   "cell_type": "code",
   "execution_count": 10,
   "metadata": {},
   "outputs": [],
   "source": [
    "#import matplotlib.image as mpimg"
   ]
  },
  {
   "cell_type": "code",
   "execution_count": 11,
   "metadata": {},
   "outputs": [],
   "source": [
    "#plt.imshow(cv2.resize(img,(500,500)))"
   ]
  },
  {
   "cell_type": "code",
   "execution_count": 12,
   "metadata": {},
   "outputs": [],
   "source": [
    "\n",
    "# @jit(nogil = True)\n",
    "# def labels():\n",
    "#     count = 0\n",
    "#     labels = []\n",
    "#     for f in os.listdir(IMG_PATH_TRAIN):\n",
    "#         img = read_img(picture_path = IMG_PATH_TRAIN, filename = f)\n",
    "#         labels.append(f.split('.')[0])\n",
    "#         msg = \"Loaded {0} labels\".format(count)\n",
    "#         print(msg)\n",
    "#         clear_output(wait=True)\n",
    "#         count += 1\n",
    "#     df = pd.DataFrame(data = labels, columns= ['label'])\n",
    "#     return df\n",
    "    \n",
    "\n",
    "# df = labels()\n",
    "# df"
   ]
  },
  {
   "cell_type": "code",
   "execution_count": 13,
   "metadata": {},
   "outputs": [],
   "source": [
    "# from IPython.display import clear_output\n",
    "# data = pd.DataFrame()\n",
    "# row = []\n",
    "# count = 0\n",
    "# for f in os.listdir(IMG_PATH_TRAIN_MOD):\n",
    "#     print(\"Loading...\", str(int(count/250)) + \"%\")\n",
    "#     img = cv2.imread(IMG_PATH_TRAIN_MOD+\"/\"+f, 0)\n",
    "#     data = data.append(pd.Series(img.reshape(img.size)), ignore_index=True)\n",
    "    \n",
    "#     clear_output(wait=True)\n",
    "#     count += 1\n",
    "    \n",
    "#     if(count >= 1000):\n",
    "#         break"
   ]
  },
  {
   "cell_type": "code",
   "execution_count": 265,
   "metadata": {},
   "outputs": [
    {
     "name": "stdout",
     "output_type": "stream",
     "text": [
      "Train data modification complete\n",
      "Wall time: 3min 46s\n"
     ]
    }
   ],
   "source": [
    "# %%time\n",
    "# modify_train()"
   ]
  },
  {
   "cell_type": "code",
   "execution_count": 15,
   "metadata": {},
   "outputs": [],
   "source": [
    "# %%time\n",
    "# modify_test()\n"
   ]
  },
  {
   "cell_type": "code",
   "execution_count": 266,
   "metadata": {},
   "outputs": [
    {
     "name": "stdout",
     "output_type": "stream",
     "text": [
      "Data loading complete\n",
      "Train dataframe loading complete\n",
      "Wall time: 1h 23min\n"
     ]
    }
   ],
   "source": [
    "%%time\n",
    "train_df = images_to_df_train()"
   ]
  },
  {
   "cell_type": "code",
   "execution_count": 6,
   "metadata": {},
   "outputs": [
    {
     "name": "stdout",
     "output_type": "stream",
     "text": [
      "Data loading complete\n",
      "Test dataframe loading complete\n",
      "Wall time: 7min 1s\n"
     ]
    }
   ],
   "source": [
    "# %%time\n",
    "# test_df = images_to_df_test()"
   ]
  },
  {
   "cell_type": "code",
   "execution_count": 267,
   "metadata": {},
   "outputs": [
    {
     "data": {
      "text/html": [
       "<div>\n",
       "<style scoped>\n",
       "    .dataframe tbody tr th:only-of-type {\n",
       "        vertical-align: middle;\n",
       "    }\n",
       "\n",
       "    .dataframe tbody tr th {\n",
       "        vertical-align: top;\n",
       "    }\n",
       "\n",
       "    .dataframe thead th {\n",
       "        text-align: right;\n",
       "    }\n",
       "</style>\n",
       "<table border=\"1\" class=\"dataframe\">\n",
       "  <thead>\n",
       "    <tr style=\"text-align: right;\">\n",
       "      <th></th>\n",
       "      <th>0</th>\n",
       "      <th>1</th>\n",
       "      <th>2</th>\n",
       "      <th>3</th>\n",
       "      <th>4</th>\n",
       "      <th>5</th>\n",
       "      <th>6</th>\n",
       "      <th>7</th>\n",
       "      <th>8</th>\n",
       "      <th>9</th>\n",
       "      <th>...</th>\n",
       "      <th>62491</th>\n",
       "      <th>62492</th>\n",
       "      <th>62493</th>\n",
       "      <th>62494</th>\n",
       "      <th>62495</th>\n",
       "      <th>62496</th>\n",
       "      <th>62497</th>\n",
       "      <th>62498</th>\n",
       "      <th>62499</th>\n",
       "      <th>Label</th>\n",
       "    </tr>\n",
       "  </thead>\n",
       "  <tbody>\n",
       "    <tr>\n",
       "      <th>0</th>\n",
       "      <td>167</td>\n",
       "      <td>169</td>\n",
       "      <td>172</td>\n",
       "      <td>173</td>\n",
       "      <td>174</td>\n",
       "      <td>175</td>\n",
       "      <td>178</td>\n",
       "      <td>180</td>\n",
       "      <td>181</td>\n",
       "      <td>182</td>\n",
       "      <td>...</td>\n",
       "      <td>1</td>\n",
       "      <td>1</td>\n",
       "      <td>1</td>\n",
       "      <td>1</td>\n",
       "      <td>1</td>\n",
       "      <td>1</td>\n",
       "      <td>1</td>\n",
       "      <td>1</td>\n",
       "      <td>1</td>\n",
       "      <td>0</td>\n",
       "    </tr>\n",
       "    <tr>\n",
       "      <th>1</th>\n",
       "      <td>42</td>\n",
       "      <td>42</td>\n",
       "      <td>44</td>\n",
       "      <td>44</td>\n",
       "      <td>43</td>\n",
       "      <td>43</td>\n",
       "      <td>50</td>\n",
       "      <td>65</td>\n",
       "      <td>46</td>\n",
       "      <td>36</td>\n",
       "      <td>...</td>\n",
       "      <td>79</td>\n",
       "      <td>78</td>\n",
       "      <td>75</td>\n",
       "      <td>59</td>\n",
       "      <td>48</td>\n",
       "      <td>40</td>\n",
       "      <td>42</td>\n",
       "      <td>34</td>\n",
       "      <td>35</td>\n",
       "      <td>0</td>\n",
       "    </tr>\n",
       "    <tr>\n",
       "      <th>2</th>\n",
       "      <td>31</td>\n",
       "      <td>25</td>\n",
       "      <td>11</td>\n",
       "      <td>13</td>\n",
       "      <td>27</td>\n",
       "      <td>40</td>\n",
       "      <td>48</td>\n",
       "      <td>46</td>\n",
       "      <td>44</td>\n",
       "      <td>44</td>\n",
       "      <td>...</td>\n",
       "      <td>161</td>\n",
       "      <td>164</td>\n",
       "      <td>167</td>\n",
       "      <td>170</td>\n",
       "      <td>171</td>\n",
       "      <td>170</td>\n",
       "      <td>164</td>\n",
       "      <td>155</td>\n",
       "      <td>147</td>\n",
       "      <td>0</td>\n",
       "    </tr>\n",
       "    <tr>\n",
       "      <th>3</th>\n",
       "      <td>223</td>\n",
       "      <td>223</td>\n",
       "      <td>223</td>\n",
       "      <td>224</td>\n",
       "      <td>223</td>\n",
       "      <td>220</td>\n",
       "      <td>220</td>\n",
       "      <td>222</td>\n",
       "      <td>227</td>\n",
       "      <td>226</td>\n",
       "      <td>...</td>\n",
       "      <td>222</td>\n",
       "      <td>219</td>\n",
       "      <td>216</td>\n",
       "      <td>215</td>\n",
       "      <td>212</td>\n",
       "      <td>211</td>\n",
       "      <td>212</td>\n",
       "      <td>213</td>\n",
       "      <td>213</td>\n",
       "      <td>0</td>\n",
       "    </tr>\n",
       "    <tr>\n",
       "      <th>4</th>\n",
       "      <td>116</td>\n",
       "      <td>115</td>\n",
       "      <td>116</td>\n",
       "      <td>118</td>\n",
       "      <td>120</td>\n",
       "      <td>121</td>\n",
       "      <td>121</td>\n",
       "      <td>122</td>\n",
       "      <td>96</td>\n",
       "      <td>80</td>\n",
       "      <td>...</td>\n",
       "      <td>92</td>\n",
       "      <td>85</td>\n",
       "      <td>89</td>\n",
       "      <td>91</td>\n",
       "      <td>96</td>\n",
       "      <td>92</td>\n",
       "      <td>85</td>\n",
       "      <td>81</td>\n",
       "      <td>80</td>\n",
       "      <td>0</td>\n",
       "    </tr>\n",
       "    <tr>\n",
       "      <th>...</th>\n",
       "      <td>...</td>\n",
       "      <td>...</td>\n",
       "      <td>...</td>\n",
       "      <td>...</td>\n",
       "      <td>...</td>\n",
       "      <td>...</td>\n",
       "      <td>...</td>\n",
       "      <td>...</td>\n",
       "      <td>...</td>\n",
       "      <td>...</td>\n",
       "      <td>...</td>\n",
       "      <td>...</td>\n",
       "      <td>...</td>\n",
       "      <td>...</td>\n",
       "      <td>...</td>\n",
       "      <td>...</td>\n",
       "      <td>...</td>\n",
       "      <td>...</td>\n",
       "      <td>...</td>\n",
       "      <td>...</td>\n",
       "      <td>...</td>\n",
       "    </tr>\n",
       "    <tr>\n",
       "      <th>24995</th>\n",
       "      <td>140</td>\n",
       "      <td>140</td>\n",
       "      <td>141</td>\n",
       "      <td>143</td>\n",
       "      <td>143</td>\n",
       "      <td>142</td>\n",
       "      <td>143</td>\n",
       "      <td>144</td>\n",
       "      <td>145</td>\n",
       "      <td>145</td>\n",
       "      <td>...</td>\n",
       "      <td>168</td>\n",
       "      <td>168</td>\n",
       "      <td>168</td>\n",
       "      <td>168</td>\n",
       "      <td>168</td>\n",
       "      <td>168</td>\n",
       "      <td>169</td>\n",
       "      <td>169</td>\n",
       "      <td>169</td>\n",
       "      <td>1</td>\n",
       "    </tr>\n",
       "    <tr>\n",
       "      <th>24996</th>\n",
       "      <td>120</td>\n",
       "      <td>100</td>\n",
       "      <td>56</td>\n",
       "      <td>63</td>\n",
       "      <td>68</td>\n",
       "      <td>71</td>\n",
       "      <td>115</td>\n",
       "      <td>137</td>\n",
       "      <td>87</td>\n",
       "      <td>55</td>\n",
       "      <td>...</td>\n",
       "      <td>94</td>\n",
       "      <td>74</td>\n",
       "      <td>84</td>\n",
       "      <td>103</td>\n",
       "      <td>115</td>\n",
       "      <td>104</td>\n",
       "      <td>85</td>\n",
       "      <td>75</td>\n",
       "      <td>72</td>\n",
       "      <td>1</td>\n",
       "    </tr>\n",
       "    <tr>\n",
       "      <th>24997</th>\n",
       "      <td>47</td>\n",
       "      <td>55</td>\n",
       "      <td>53</td>\n",
       "      <td>48</td>\n",
       "      <td>39</td>\n",
       "      <td>30</td>\n",
       "      <td>39</td>\n",
       "      <td>55</td>\n",
       "      <td>69</td>\n",
       "      <td>52</td>\n",
       "      <td>...</td>\n",
       "      <td>170</td>\n",
       "      <td>99</td>\n",
       "      <td>112</td>\n",
       "      <td>71</td>\n",
       "      <td>81</td>\n",
       "      <td>92</td>\n",
       "      <td>168</td>\n",
       "      <td>168</td>\n",
       "      <td>154</td>\n",
       "      <td>1</td>\n",
       "    </tr>\n",
       "    <tr>\n",
       "      <th>24998</th>\n",
       "      <td>253</td>\n",
       "      <td>254</td>\n",
       "      <td>253</td>\n",
       "      <td>251</td>\n",
       "      <td>249</td>\n",
       "      <td>247</td>\n",
       "      <td>244</td>\n",
       "      <td>241</td>\n",
       "      <td>236</td>\n",
       "      <td>232</td>\n",
       "      <td>...</td>\n",
       "      <td>109</td>\n",
       "      <td>113</td>\n",
       "      <td>119</td>\n",
       "      <td>121</td>\n",
       "      <td>119</td>\n",
       "      <td>115</td>\n",
       "      <td>114</td>\n",
       "      <td>117</td>\n",
       "      <td>118</td>\n",
       "      <td>1</td>\n",
       "    </tr>\n",
       "    <tr>\n",
       "      <th>24999</th>\n",
       "      <td>239</td>\n",
       "      <td>239</td>\n",
       "      <td>240</td>\n",
       "      <td>241</td>\n",
       "      <td>242</td>\n",
       "      <td>242</td>\n",
       "      <td>242</td>\n",
       "      <td>243</td>\n",
       "      <td>242</td>\n",
       "      <td>243</td>\n",
       "      <td>...</td>\n",
       "      <td>254</td>\n",
       "      <td>254</td>\n",
       "      <td>254</td>\n",
       "      <td>254</td>\n",
       "      <td>254</td>\n",
       "      <td>254</td>\n",
       "      <td>254</td>\n",
       "      <td>254</td>\n",
       "      <td>254</td>\n",
       "      <td>1</td>\n",
       "    </tr>\n",
       "  </tbody>\n",
       "</table>\n",
       "<p>25000 rows × 62501 columns</p>\n",
       "</div>"
      ],
      "text/plain": [
       "         0    1    2    3    4    5    6    7    8    9  ...  62491  62492  \\\n",
       "0      167  169  172  173  174  175  178  180  181  182  ...      1      1   \n",
       "1       42   42   44   44   43   43   50   65   46   36  ...     79     78   \n",
       "2       31   25   11   13   27   40   48   46   44   44  ...    161    164   \n",
       "3      223  223  223  224  223  220  220  222  227  226  ...    222    219   \n",
       "4      116  115  116  118  120  121  121  122   96   80  ...     92     85   \n",
       "...    ...  ...  ...  ...  ...  ...  ...  ...  ...  ...  ...    ...    ...   \n",
       "24995  140  140  141  143  143  142  143  144  145  145  ...    168    168   \n",
       "24996  120  100   56   63   68   71  115  137   87   55  ...     94     74   \n",
       "24997   47   55   53   48   39   30   39   55   69   52  ...    170     99   \n",
       "24998  253  254  253  251  249  247  244  241  236  232  ...    109    113   \n",
       "24999  239  239  240  241  242  242  242  243  242  243  ...    254    254   \n",
       "\n",
       "       62493  62494  62495  62496  62497  62498  62499  Label  \n",
       "0          1      1      1      1      1      1      1      0  \n",
       "1         75     59     48     40     42     34     35      0  \n",
       "2        167    170    171    170    164    155    147      0  \n",
       "3        216    215    212    211    212    213    213      0  \n",
       "4         89     91     96     92     85     81     80      0  \n",
       "...      ...    ...    ...    ...    ...    ...    ...    ...  \n",
       "24995    168    168    168    168    169    169    169      1  \n",
       "24996     84    103    115    104     85     75     72      1  \n",
       "24997    112     71     81     92    168    168    154      1  \n",
       "24998    119    121    119    115    114    117    118      1  \n",
       "24999    254    254    254    254    254    254    254      1  \n",
       "\n",
       "[25000 rows x 62501 columns]"
      ]
     },
     "execution_count": 267,
     "metadata": {},
     "output_type": "execute_result"
    }
   ],
   "source": [
    "train_df"
   ]
  },
  {
   "cell_type": "code",
   "execution_count": 8,
   "metadata": {},
   "outputs": [
    {
     "data": {
      "text/html": [
       "<div>\n",
       "<style scoped>\n",
       "    .dataframe tbody tr th:only-of-type {\n",
       "        vertical-align: middle;\n",
       "    }\n",
       "\n",
       "    .dataframe tbody tr th {\n",
       "        vertical-align: top;\n",
       "    }\n",
       "\n",
       "    .dataframe thead th {\n",
       "        text-align: right;\n",
       "    }\n",
       "</style>\n",
       "<table border=\"1\" class=\"dataframe\">\n",
       "  <thead>\n",
       "    <tr style=\"text-align: right;\">\n",
       "      <th></th>\n",
       "      <th>0</th>\n",
       "      <th>1</th>\n",
       "      <th>2</th>\n",
       "      <th>3</th>\n",
       "      <th>4</th>\n",
       "      <th>5</th>\n",
       "      <th>6</th>\n",
       "      <th>7</th>\n",
       "      <th>8</th>\n",
       "      <th>9</th>\n",
       "      <th>...</th>\n",
       "      <th>9990</th>\n",
       "      <th>9991</th>\n",
       "      <th>9992</th>\n",
       "      <th>9993</th>\n",
       "      <th>9994</th>\n",
       "      <th>9995</th>\n",
       "      <th>9996</th>\n",
       "      <th>9997</th>\n",
       "      <th>9998</th>\n",
       "      <th>9999</th>\n",
       "    </tr>\n",
       "  </thead>\n",
       "  <tbody>\n",
       "    <tr>\n",
       "      <th>0</th>\n",
       "      <td>63</td>\n",
       "      <td>59</td>\n",
       "      <td>52</td>\n",
       "      <td>63</td>\n",
       "      <td>66</td>\n",
       "      <td>66</td>\n",
       "      <td>67</td>\n",
       "      <td>64</td>\n",
       "      <td>57</td>\n",
       "      <td>60</td>\n",
       "      <td>...</td>\n",
       "      <td>151</td>\n",
       "      <td>214</td>\n",
       "      <td>210</td>\n",
       "      <td>191</td>\n",
       "      <td>116</td>\n",
       "      <td>134</td>\n",
       "      <td>149</td>\n",
       "      <td>172</td>\n",
       "      <td>176</td>\n",
       "      <td>79</td>\n",
       "    </tr>\n",
       "    <tr>\n",
       "      <th>1</th>\n",
       "      <td>10</td>\n",
       "      <td>6</td>\n",
       "      <td>9</td>\n",
       "      <td>11</td>\n",
       "      <td>2</td>\n",
       "      <td>7</td>\n",
       "      <td>105</td>\n",
       "      <td>98</td>\n",
       "      <td>86</td>\n",
       "      <td>85</td>\n",
       "      <td>...</td>\n",
       "      <td>103</td>\n",
       "      <td>77</td>\n",
       "      <td>76</td>\n",
       "      <td>81</td>\n",
       "      <td>80</td>\n",
       "      <td>66</td>\n",
       "      <td>67</td>\n",
       "      <td>71</td>\n",
       "      <td>65</td>\n",
       "      <td>77</td>\n",
       "    </tr>\n",
       "    <tr>\n",
       "      <th>2</th>\n",
       "      <td>4</td>\n",
       "      <td>3</td>\n",
       "      <td>3</td>\n",
       "      <td>3</td>\n",
       "      <td>2</td>\n",
       "      <td>2</td>\n",
       "      <td>3</td>\n",
       "      <td>4</td>\n",
       "      <td>4</td>\n",
       "      <td>6</td>\n",
       "      <td>...</td>\n",
       "      <td>248</td>\n",
       "      <td>248</td>\n",
       "      <td>246</td>\n",
       "      <td>244</td>\n",
       "      <td>250</td>\n",
       "      <td>250</td>\n",
       "      <td>251</td>\n",
       "      <td>249</td>\n",
       "      <td>237</td>\n",
       "      <td>253</td>\n",
       "    </tr>\n",
       "    <tr>\n",
       "      <th>3</th>\n",
       "      <td>132</td>\n",
       "      <td>135</td>\n",
       "      <td>193</td>\n",
       "      <td>155</td>\n",
       "      <td>198</td>\n",
       "      <td>219</td>\n",
       "      <td>153</td>\n",
       "      <td>175</td>\n",
       "      <td>185</td>\n",
       "      <td>193</td>\n",
       "      <td>...</td>\n",
       "      <td>158</td>\n",
       "      <td>172</td>\n",
       "      <td>165</td>\n",
       "      <td>177</td>\n",
       "      <td>140</td>\n",
       "      <td>126</td>\n",
       "      <td>154</td>\n",
       "      <td>193</td>\n",
       "      <td>160</td>\n",
       "      <td>125</td>\n",
       "    </tr>\n",
       "    <tr>\n",
       "      <th>4</th>\n",
       "      <td>124</td>\n",
       "      <td>134</td>\n",
       "      <td>108</td>\n",
       "      <td>190</td>\n",
       "      <td>217</td>\n",
       "      <td>222</td>\n",
       "      <td>223</td>\n",
       "      <td>190</td>\n",
       "      <td>216</td>\n",
       "      <td>219</td>\n",
       "      <td>...</td>\n",
       "      <td>147</td>\n",
       "      <td>137</td>\n",
       "      <td>116</td>\n",
       "      <td>137</td>\n",
       "      <td>158</td>\n",
       "      <td>159</td>\n",
       "      <td>152</td>\n",
       "      <td>119</td>\n",
       "      <td>135</td>\n",
       "      <td>124</td>\n",
       "    </tr>\n",
       "    <tr>\n",
       "      <th>...</th>\n",
       "      <td>...</td>\n",
       "      <td>...</td>\n",
       "      <td>...</td>\n",
       "      <td>...</td>\n",
       "      <td>...</td>\n",
       "      <td>...</td>\n",
       "      <td>...</td>\n",
       "      <td>...</td>\n",
       "      <td>...</td>\n",
       "      <td>...</td>\n",
       "      <td>...</td>\n",
       "      <td>...</td>\n",
       "      <td>...</td>\n",
       "      <td>...</td>\n",
       "      <td>...</td>\n",
       "      <td>...</td>\n",
       "      <td>...</td>\n",
       "      <td>...</td>\n",
       "      <td>...</td>\n",
       "      <td>...</td>\n",
       "      <td>...</td>\n",
       "    </tr>\n",
       "    <tr>\n",
       "      <th>12495</th>\n",
       "      <td>36</td>\n",
       "      <td>42</td>\n",
       "      <td>47</td>\n",
       "      <td>50</td>\n",
       "      <td>53</td>\n",
       "      <td>55</td>\n",
       "      <td>57</td>\n",
       "      <td>59</td>\n",
       "      <td>66</td>\n",
       "      <td>70</td>\n",
       "      <td>...</td>\n",
       "      <td>137</td>\n",
       "      <td>138</td>\n",
       "      <td>125</td>\n",
       "      <td>137</td>\n",
       "      <td>135</td>\n",
       "      <td>119</td>\n",
       "      <td>129</td>\n",
       "      <td>126</td>\n",
       "      <td>119</td>\n",
       "      <td>117</td>\n",
       "    </tr>\n",
       "    <tr>\n",
       "      <th>12496</th>\n",
       "      <td>142</td>\n",
       "      <td>145</td>\n",
       "      <td>50</td>\n",
       "      <td>204</td>\n",
       "      <td>124</td>\n",
       "      <td>143</td>\n",
       "      <td>144</td>\n",
       "      <td>92</td>\n",
       "      <td>193</td>\n",
       "      <td>102</td>\n",
       "      <td>...</td>\n",
       "      <td>28</td>\n",
       "      <td>36</td>\n",
       "      <td>12</td>\n",
       "      <td>54</td>\n",
       "      <td>31</td>\n",
       "      <td>21</td>\n",
       "      <td>11</td>\n",
       "      <td>17</td>\n",
       "      <td>31</td>\n",
       "      <td>30</td>\n",
       "    </tr>\n",
       "    <tr>\n",
       "      <th>12497</th>\n",
       "      <td>215</td>\n",
       "      <td>211</td>\n",
       "      <td>231</td>\n",
       "      <td>233</td>\n",
       "      <td>209</td>\n",
       "      <td>241</td>\n",
       "      <td>208</td>\n",
       "      <td>235</td>\n",
       "      <td>228</td>\n",
       "      <td>202</td>\n",
       "      <td>...</td>\n",
       "      <td>154</td>\n",
       "      <td>155</td>\n",
       "      <td>151</td>\n",
       "      <td>157</td>\n",
       "      <td>139</td>\n",
       "      <td>122</td>\n",
       "      <td>105</td>\n",
       "      <td>129</td>\n",
       "      <td>119</td>\n",
       "      <td>117</td>\n",
       "    </tr>\n",
       "    <tr>\n",
       "      <th>12498</th>\n",
       "      <td>108</td>\n",
       "      <td>108</td>\n",
       "      <td>119</td>\n",
       "      <td>137</td>\n",
       "      <td>143</td>\n",
       "      <td>149</td>\n",
       "      <td>155</td>\n",
       "      <td>170</td>\n",
       "      <td>174</td>\n",
       "      <td>178</td>\n",
       "      <td>...</td>\n",
       "      <td>126</td>\n",
       "      <td>129</td>\n",
       "      <td>133</td>\n",
       "      <td>130</td>\n",
       "      <td>125</td>\n",
       "      <td>122</td>\n",
       "      <td>121</td>\n",
       "      <td>119</td>\n",
       "      <td>121</td>\n",
       "      <td>122</td>\n",
       "    </tr>\n",
       "    <tr>\n",
       "      <th>12499</th>\n",
       "      <td>78</td>\n",
       "      <td>73</td>\n",
       "      <td>82</td>\n",
       "      <td>76</td>\n",
       "      <td>86</td>\n",
       "      <td>86</td>\n",
       "      <td>92</td>\n",
       "      <td>114</td>\n",
       "      <td>130</td>\n",
       "      <td>162</td>\n",
       "      <td>...</td>\n",
       "      <td>98</td>\n",
       "      <td>101</td>\n",
       "      <td>86</td>\n",
       "      <td>148</td>\n",
       "      <td>97</td>\n",
       "      <td>88</td>\n",
       "      <td>93</td>\n",
       "      <td>190</td>\n",
       "      <td>226</td>\n",
       "      <td>223</td>\n",
       "    </tr>\n",
       "  </tbody>\n",
       "</table>\n",
       "<p>12500 rows × 10000 columns</p>\n",
       "</div>"
      ],
      "text/plain": [
       "       0     1     2     3     4     5     6     7     8     9     ...  9990  \\\n",
       "0        63    59    52    63    66    66    67    64    57    60  ...   151   \n",
       "1        10     6     9    11     2     7   105    98    86    85  ...   103   \n",
       "2         4     3     3     3     2     2     3     4     4     6  ...   248   \n",
       "3       132   135   193   155   198   219   153   175   185   193  ...   158   \n",
       "4       124   134   108   190   217   222   223   190   216   219  ...   147   \n",
       "...     ...   ...   ...   ...   ...   ...   ...   ...   ...   ...  ...   ...   \n",
       "12495    36    42    47    50    53    55    57    59    66    70  ...   137   \n",
       "12496   142   145    50   204   124   143   144    92   193   102  ...    28   \n",
       "12497   215   211   231   233   209   241   208   235   228   202  ...   154   \n",
       "12498   108   108   119   137   143   149   155   170   174   178  ...   126   \n",
       "12499    78    73    82    76    86    86    92   114   130   162  ...    98   \n",
       "\n",
       "       9991  9992  9993  9994  9995  9996  9997  9998  9999  \n",
       "0       214   210   191   116   134   149   172   176    79  \n",
       "1        77    76    81    80    66    67    71    65    77  \n",
       "2       248   246   244   250   250   251   249   237   253  \n",
       "3       172   165   177   140   126   154   193   160   125  \n",
       "4       137   116   137   158   159   152   119   135   124  \n",
       "...     ...   ...   ...   ...   ...   ...   ...   ...   ...  \n",
       "12495   138   125   137   135   119   129   126   119   117  \n",
       "12496    36    12    54    31    21    11    17    31    30  \n",
       "12497   155   151   157   139   122   105   129   119   117  \n",
       "12498   129   133   130   125   122   121   119   121   122  \n",
       "12499   101    86   148    97    88    93   190   226   223  \n",
       "\n",
       "[12500 rows x 10000 columns]"
      ]
     },
     "execution_count": 8,
     "metadata": {},
     "output_type": "execute_result"
    }
   ],
   "source": [
    "# test_df"
   ]
  },
  {
   "cell_type": "code",
   "execution_count": 268,
   "metadata": {},
   "outputs": [
    {
     "name": "stdout",
     "output_type": "stream",
     "text": [
      "Null count in the train dataframe: 0\n"
     ]
    }
   ],
   "source": [
    "print(\"Null count in the train dataframe:\",train_df.isnull().sum().sum())\n",
    "#print(\"Null count in the test dataframe:\",test_df.isnull().sum().sum())"
   ]
  },
  {
   "cell_type": "markdown",
   "metadata": {},
   "source": [
    "## Models without unsupervised preprocessing"
   ]
  },
  {
   "cell_type": "markdown",
   "metadata": {},
   "source": [
    "### Dummy model"
   ]
  },
  {
   "cell_type": "code",
   "execution_count": 269,
   "metadata": {},
   "outputs": [],
   "source": [
    "from sklearn.model_selection import train_test_split"
   ]
  },
  {
   "cell_type": "code",
   "execution_count": 270,
   "metadata": {},
   "outputs": [],
   "source": [
    "X = train_df.iloc[:,:-1]\n",
    "y = train_df.iloc[:,-1:]"
   ]
  },
  {
   "cell_type": "code",
   "execution_count": 271,
   "metadata": {},
   "outputs": [
    {
     "name": "stdout",
     "output_type": "stream",
     "text": [
      "Train shape: (22500, 62500)\n",
      "Test shape: (2500, 1)\n",
      "Test class counts: {0: 1250, 1: 1250}\n"
     ]
    }
   ],
   "source": [
    "X_train, X_test, y_train, y_test = train_test_split(X, y, test_size=0.10, random_state=42, stratify = y)\n",
    "print(\"Train shape:\",X_train.shape)\n",
    "print(\"Test shape:\",y_test.shape)\n",
    "unique, counts = np.unique(y_test, return_counts=True)\n",
    "print(\"Test class counts:\",dict(zip(unique, counts)))"
   ]
  },
  {
   "cell_type": "code",
   "execution_count": 272,
   "metadata": {},
   "outputs": [
    {
     "name": "stdout",
     "output_type": "stream",
     "text": [
      "Dummy model train score: 0.49853333333333333\n",
      "Dummy model test score: 0.4924\n"
     ]
    }
   ],
   "source": [
    "from sklearn.dummy import DummyClassifier\n",
    "dum = DummyClassifier(strategy=\"uniform\")\n",
    "dum.fit(X_train, y_train)\n",
    "print(\"Dummy model train score:\",dum.score(X_train, y_train))\n",
    "print(\"Dummy model test score:\",dum.score(X_test, y_test))"
   ]
  },
  {
   "cell_type": "markdown",
   "metadata": {},
   "source": [
    "### Logistic regression"
   ]
  },
  {
   "cell_type": "code",
   "execution_count": 273,
   "metadata": {},
   "outputs": [],
   "source": [
    "from sklearn.linear_model import LogisticRegression\n",
    "#from sklearn.model_selection import train_test_split"
   ]
  },
  {
   "cell_type": "code",
   "execution_count": 9,
   "metadata": {},
   "outputs": [],
   "source": [
    "# X = train_df.iloc[:,:-1]\n",
    "# y = train_df.iloc[:,-1:]"
   ]
  },
  {
   "cell_type": "code",
   "execution_count": 10,
   "metadata": {},
   "outputs": [
    {
     "data": {
      "text/html": [
       "<div>\n",
       "<style scoped>\n",
       "    .dataframe tbody tr th:only-of-type {\n",
       "        vertical-align: middle;\n",
       "    }\n",
       "\n",
       "    .dataframe tbody tr th {\n",
       "        vertical-align: top;\n",
       "    }\n",
       "\n",
       "    .dataframe thead th {\n",
       "        text-align: right;\n",
       "    }\n",
       "</style>\n",
       "<table border=\"1\" class=\"dataframe\">\n",
       "  <thead>\n",
       "    <tr style=\"text-align: right;\">\n",
       "      <th></th>\n",
       "      <th>0</th>\n",
       "      <th>1</th>\n",
       "      <th>2</th>\n",
       "      <th>3</th>\n",
       "      <th>4</th>\n",
       "      <th>5</th>\n",
       "      <th>6</th>\n",
       "      <th>7</th>\n",
       "      <th>8</th>\n",
       "      <th>9</th>\n",
       "      <th>...</th>\n",
       "      <th>9990</th>\n",
       "      <th>9991</th>\n",
       "      <th>9992</th>\n",
       "      <th>9993</th>\n",
       "      <th>9994</th>\n",
       "      <th>9995</th>\n",
       "      <th>9996</th>\n",
       "      <th>9997</th>\n",
       "      <th>9998</th>\n",
       "      <th>9999</th>\n",
       "    </tr>\n",
       "  </thead>\n",
       "  <tbody>\n",
       "    <tr>\n",
       "      <th>0</th>\n",
       "      <td>168</td>\n",
       "      <td>173</td>\n",
       "      <td>178</td>\n",
       "      <td>181</td>\n",
       "      <td>185</td>\n",
       "      <td>188</td>\n",
       "      <td>190</td>\n",
       "      <td>193</td>\n",
       "      <td>196</td>\n",
       "      <td>198</td>\n",
       "      <td>...</td>\n",
       "      <td>3</td>\n",
       "      <td>3</td>\n",
       "      <td>3</td>\n",
       "      <td>2</td>\n",
       "      <td>2</td>\n",
       "      <td>2</td>\n",
       "      <td>2</td>\n",
       "      <td>2</td>\n",
       "      <td>2</td>\n",
       "      <td>2</td>\n",
       "    </tr>\n",
       "    <tr>\n",
       "      <th>1</th>\n",
       "      <td>44</td>\n",
       "      <td>43</td>\n",
       "      <td>43</td>\n",
       "      <td>42</td>\n",
       "      <td>52</td>\n",
       "      <td>32</td>\n",
       "      <td>53</td>\n",
       "      <td>38</td>\n",
       "      <td>41</td>\n",
       "      <td>60</td>\n",
       "      <td>...</td>\n",
       "      <td>47</td>\n",
       "      <td>51</td>\n",
       "      <td>49</td>\n",
       "      <td>50</td>\n",
       "      <td>55</td>\n",
       "      <td>61</td>\n",
       "      <td>62</td>\n",
       "      <td>90</td>\n",
       "      <td>18</td>\n",
       "      <td>34</td>\n",
       "    </tr>\n",
       "    <tr>\n",
       "      <th>2</th>\n",
       "      <td>38</td>\n",
       "      <td>27</td>\n",
       "      <td>42</td>\n",
       "      <td>50</td>\n",
       "      <td>46</td>\n",
       "      <td>56</td>\n",
       "      <td>59</td>\n",
       "      <td>55</td>\n",
       "      <td>54</td>\n",
       "      <td>58</td>\n",
       "      <td>...</td>\n",
       "      <td>157</td>\n",
       "      <td>160</td>\n",
       "      <td>148</td>\n",
       "      <td>135</td>\n",
       "      <td>132</td>\n",
       "      <td>148</td>\n",
       "      <td>159</td>\n",
       "      <td>168</td>\n",
       "      <td>171</td>\n",
       "      <td>153</td>\n",
       "    </tr>\n",
       "    <tr>\n",
       "      <th>3</th>\n",
       "      <td>220</td>\n",
       "      <td>224</td>\n",
       "      <td>223</td>\n",
       "      <td>227</td>\n",
       "      <td>229</td>\n",
       "      <td>223</td>\n",
       "      <td>225</td>\n",
       "      <td>234</td>\n",
       "      <td>229</td>\n",
       "      <td>226</td>\n",
       "      <td>...</td>\n",
       "      <td>228</td>\n",
       "      <td>212</td>\n",
       "      <td>205</td>\n",
       "      <td>204</td>\n",
       "      <td>202</td>\n",
       "      <td>214</td>\n",
       "      <td>222</td>\n",
       "      <td>215</td>\n",
       "      <td>212</td>\n",
       "      <td>213</td>\n",
       "    </tr>\n",
       "    <tr>\n",
       "      <th>4</th>\n",
       "      <td>118</td>\n",
       "      <td>117</td>\n",
       "      <td>123</td>\n",
       "      <td>91</td>\n",
       "      <td>82</td>\n",
       "      <td>95</td>\n",
       "      <td>132</td>\n",
       "      <td>131</td>\n",
       "      <td>149</td>\n",
       "      <td>179</td>\n",
       "      <td>...</td>\n",
       "      <td>95</td>\n",
       "      <td>95</td>\n",
       "      <td>96</td>\n",
       "      <td>91</td>\n",
       "      <td>102</td>\n",
       "      <td>121</td>\n",
       "      <td>96</td>\n",
       "      <td>89</td>\n",
       "      <td>92</td>\n",
       "      <td>81</td>\n",
       "    </tr>\n",
       "    <tr>\n",
       "      <th>...</th>\n",
       "      <td>...</td>\n",
       "      <td>...</td>\n",
       "      <td>...</td>\n",
       "      <td>...</td>\n",
       "      <td>...</td>\n",
       "      <td>...</td>\n",
       "      <td>...</td>\n",
       "      <td>...</td>\n",
       "      <td>...</td>\n",
       "      <td>...</td>\n",
       "      <td>...</td>\n",
       "      <td>...</td>\n",
       "      <td>...</td>\n",
       "      <td>...</td>\n",
       "      <td>...</td>\n",
       "      <td>...</td>\n",
       "      <td>...</td>\n",
       "      <td>...</td>\n",
       "      <td>...</td>\n",
       "      <td>...</td>\n",
       "      <td>...</td>\n",
       "    </tr>\n",
       "    <tr>\n",
       "      <th>24995</th>\n",
       "      <td>140</td>\n",
       "      <td>142</td>\n",
       "      <td>143</td>\n",
       "      <td>145</td>\n",
       "      <td>146</td>\n",
       "      <td>147</td>\n",
       "      <td>148</td>\n",
       "      <td>149</td>\n",
       "      <td>148</td>\n",
       "      <td>149</td>\n",
       "      <td>...</td>\n",
       "      <td>164</td>\n",
       "      <td>165</td>\n",
       "      <td>166</td>\n",
       "      <td>166</td>\n",
       "      <td>167</td>\n",
       "      <td>168</td>\n",
       "      <td>168</td>\n",
       "      <td>168</td>\n",
       "      <td>168</td>\n",
       "      <td>169</td>\n",
       "    </tr>\n",
       "    <tr>\n",
       "      <th>24996</th>\n",
       "      <td>116</td>\n",
       "      <td>78</td>\n",
       "      <td>104</td>\n",
       "      <td>85</td>\n",
       "      <td>97</td>\n",
       "      <td>115</td>\n",
       "      <td>71</td>\n",
       "      <td>83</td>\n",
       "      <td>86</td>\n",
       "      <td>88</td>\n",
       "      <td>...</td>\n",
       "      <td>95</td>\n",
       "      <td>94</td>\n",
       "      <td>79</td>\n",
       "      <td>99</td>\n",
       "      <td>87</td>\n",
       "      <td>77</td>\n",
       "      <td>85</td>\n",
       "      <td>94</td>\n",
       "      <td>92</td>\n",
       "      <td>76</td>\n",
       "    </tr>\n",
       "    <tr>\n",
       "      <th>24997</th>\n",
       "      <td>42</td>\n",
       "      <td>35</td>\n",
       "      <td>47</td>\n",
       "      <td>56</td>\n",
       "      <td>66</td>\n",
       "      <td>48</td>\n",
       "      <td>48</td>\n",
       "      <td>57</td>\n",
       "      <td>60</td>\n",
       "      <td>38</td>\n",
       "      <td>...</td>\n",
       "      <td>101</td>\n",
       "      <td>133</td>\n",
       "      <td>136</td>\n",
       "      <td>126</td>\n",
       "      <td>72</td>\n",
       "      <td>112</td>\n",
       "      <td>181</td>\n",
       "      <td>128</td>\n",
       "      <td>114</td>\n",
       "      <td>167</td>\n",
       "    </tr>\n",
       "    <tr>\n",
       "      <th>24998</th>\n",
       "      <td>254</td>\n",
       "      <td>250</td>\n",
       "      <td>246</td>\n",
       "      <td>235</td>\n",
       "      <td>224</td>\n",
       "      <td>208</td>\n",
       "      <td>187</td>\n",
       "      <td>144</td>\n",
       "      <td>113</td>\n",
       "      <td>74</td>\n",
       "      <td>...</td>\n",
       "      <td>119</td>\n",
       "      <td>103</td>\n",
       "      <td>104</td>\n",
       "      <td>113</td>\n",
       "      <td>111</td>\n",
       "      <td>112</td>\n",
       "      <td>106</td>\n",
       "      <td>118</td>\n",
       "      <td>115</td>\n",
       "      <td>119</td>\n",
       "    </tr>\n",
       "    <tr>\n",
       "      <th>24999</th>\n",
       "      <td>239</td>\n",
       "      <td>241</td>\n",
       "      <td>243</td>\n",
       "      <td>243</td>\n",
       "      <td>242</td>\n",
       "      <td>243</td>\n",
       "      <td>247</td>\n",
       "      <td>250</td>\n",
       "      <td>246</td>\n",
       "      <td>244</td>\n",
       "      <td>...</td>\n",
       "      <td>254</td>\n",
       "      <td>254</td>\n",
       "      <td>254</td>\n",
       "      <td>254</td>\n",
       "      <td>254</td>\n",
       "      <td>254</td>\n",
       "      <td>254</td>\n",
       "      <td>254</td>\n",
       "      <td>254</td>\n",
       "      <td>254</td>\n",
       "    </tr>\n",
       "  </tbody>\n",
       "</table>\n",
       "<p>25000 rows × 10000 columns</p>\n",
       "</div>"
      ],
      "text/plain": [
       "       0     1     2     3     4     5     6     7     8     9     ...  9990  \\\n",
       "0       168   173   178   181   185   188   190   193   196   198  ...     3   \n",
       "1        44    43    43    42    52    32    53    38    41    60  ...    47   \n",
       "2        38    27    42    50    46    56    59    55    54    58  ...   157   \n",
       "3       220   224   223   227   229   223   225   234   229   226  ...   228   \n",
       "4       118   117   123    91    82    95   132   131   149   179  ...    95   \n",
       "...     ...   ...   ...   ...   ...   ...   ...   ...   ...   ...  ...   ...   \n",
       "24995   140   142   143   145   146   147   148   149   148   149  ...   164   \n",
       "24996   116    78   104    85    97   115    71    83    86    88  ...    95   \n",
       "24997    42    35    47    56    66    48    48    57    60    38  ...   101   \n",
       "24998   254   250   246   235   224   208   187   144   113    74  ...   119   \n",
       "24999   239   241   243   243   242   243   247   250   246   244  ...   254   \n",
       "\n",
       "       9991  9992  9993  9994  9995  9996  9997  9998  9999  \n",
       "0         3     3     2     2     2     2     2     2     2  \n",
       "1        51    49    50    55    61    62    90    18    34  \n",
       "2       160   148   135   132   148   159   168   171   153  \n",
       "3       212   205   204   202   214   222   215   212   213  \n",
       "4        95    96    91   102   121    96    89    92    81  \n",
       "...     ...   ...   ...   ...   ...   ...   ...   ...   ...  \n",
       "24995   165   166   166   167   168   168   168   168   169  \n",
       "24996    94    79    99    87    77    85    94    92    76  \n",
       "24997   133   136   126    72   112   181   128   114   167  \n",
       "24998   103   104   113   111   112   106   118   115   119  \n",
       "24999   254   254   254   254   254   254   254   254   254  \n",
       "\n",
       "[25000 rows x 10000 columns]"
      ]
     },
     "execution_count": 10,
     "metadata": {},
     "output_type": "execute_result"
    }
   ],
   "source": [
    "# X"
   ]
  },
  {
   "cell_type": "code",
   "execution_count": 11,
   "metadata": {},
   "outputs": [
    {
     "name": "stdout",
     "output_type": "stream",
     "text": [
      "Train shape: (22500, 10000)\n",
      "Test shape: (22500, 1)\n"
     ]
    }
   ],
   "source": [
    "# X_train, X_test, y_train, y_test = train_test_split(X, y, test_size=0.10, random_state=42)\n",
    "# print(\"Train shape:\",X_train.shape)\n",
    "# print(\"Test shape:\",y_train.shape)"
   ]
  },
  {
   "cell_type": "code",
   "execution_count": 274,
   "metadata": {},
   "outputs": [
    {
     "ename": "MemoryError",
     "evalue": "Unable to allocate 10.5 GiB for an array with shape (22500, 62500) and data type float64",
     "output_type": "error",
     "traceback": [
      "\u001b[1;31m---------------------------------------------------------------------------\u001b[0m",
      "\u001b[1;31mMemoryError\u001b[0m                               Traceback (most recent call last)",
      "\u001b[1;32m<timed exec>\u001b[0m in \u001b[0;36m<module>\u001b[1;34m\u001b[0m\n",
      "\u001b[1;32m~\\anaconda3\\lib\\site-packages\\sklearn\\linear_model\\_logistic.py\u001b[0m in \u001b[0;36mfit\u001b[1;34m(self, X, y, sample_weight)\u001b[0m\n\u001b[0;32m   1136\u001b[0m             \u001b[0m_dtype\u001b[0m \u001b[1;33m=\u001b[0m \u001b[1;33m[\u001b[0m\u001b[0mnp\u001b[0m\u001b[1;33m.\u001b[0m\u001b[0mfloat64\u001b[0m\u001b[1;33m,\u001b[0m \u001b[0mnp\u001b[0m\u001b[1;33m.\u001b[0m\u001b[0mfloat32\u001b[0m\u001b[1;33m]\u001b[0m\u001b[1;33m\u001b[0m\u001b[1;33m\u001b[0m\u001b[0m\n\u001b[0;32m   1137\u001b[0m \u001b[1;33m\u001b[0m\u001b[0m\n\u001b[1;32m-> 1138\u001b[1;33m         X, y = self._validate_data(\n\u001b[0m\u001b[0;32m   1139\u001b[0m             \u001b[0mX\u001b[0m\u001b[1;33m,\u001b[0m\u001b[1;33m\u001b[0m\u001b[1;33m\u001b[0m\u001b[0m\n\u001b[0;32m   1140\u001b[0m             \u001b[0my\u001b[0m\u001b[1;33m,\u001b[0m\u001b[1;33m\u001b[0m\u001b[1;33m\u001b[0m\u001b[0m\n",
      "\u001b[1;32m~\\anaconda3\\lib\\site-packages\\sklearn\\base.py\u001b[0m in \u001b[0;36m_validate_data\u001b[1;34m(self, X, y, reset, validate_separately, **check_params)\u001b[0m\n\u001b[0;32m    594\u001b[0m                 \u001b[0my\u001b[0m \u001b[1;33m=\u001b[0m \u001b[0mcheck_array\u001b[0m\u001b[1;33m(\u001b[0m\u001b[0my\u001b[0m\u001b[1;33m,\u001b[0m \u001b[0minput_name\u001b[0m\u001b[1;33m=\u001b[0m\u001b[1;34m\"y\"\u001b[0m\u001b[1;33m,\u001b[0m \u001b[1;33m**\u001b[0m\u001b[0mcheck_y_params\u001b[0m\u001b[1;33m)\u001b[0m\u001b[1;33m\u001b[0m\u001b[1;33m\u001b[0m\u001b[0m\n\u001b[0;32m    595\u001b[0m             \u001b[1;32melse\u001b[0m\u001b[1;33m:\u001b[0m\u001b[1;33m\u001b[0m\u001b[1;33m\u001b[0m\u001b[0m\n\u001b[1;32m--> 596\u001b[1;33m                 \u001b[0mX\u001b[0m\u001b[1;33m,\u001b[0m \u001b[0my\u001b[0m \u001b[1;33m=\u001b[0m \u001b[0mcheck_X_y\u001b[0m\u001b[1;33m(\u001b[0m\u001b[0mX\u001b[0m\u001b[1;33m,\u001b[0m \u001b[0my\u001b[0m\u001b[1;33m,\u001b[0m \u001b[1;33m**\u001b[0m\u001b[0mcheck_params\u001b[0m\u001b[1;33m)\u001b[0m\u001b[1;33m\u001b[0m\u001b[1;33m\u001b[0m\u001b[0m\n\u001b[0m\u001b[0;32m    597\u001b[0m             \u001b[0mout\u001b[0m \u001b[1;33m=\u001b[0m \u001b[0mX\u001b[0m\u001b[1;33m,\u001b[0m \u001b[0my\u001b[0m\u001b[1;33m\u001b[0m\u001b[1;33m\u001b[0m\u001b[0m\n\u001b[0;32m    598\u001b[0m \u001b[1;33m\u001b[0m\u001b[0m\n",
      "\u001b[1;32m~\\anaconda3\\lib\\site-packages\\sklearn\\utils\\validation.py\u001b[0m in \u001b[0;36mcheck_X_y\u001b[1;34m(X, y, accept_sparse, accept_large_sparse, dtype, order, copy, force_all_finite, ensure_2d, allow_nd, multi_output, ensure_min_samples, ensure_min_features, y_numeric, estimator)\u001b[0m\n\u001b[0;32m   1072\u001b[0m         )\n\u001b[0;32m   1073\u001b[0m \u001b[1;33m\u001b[0m\u001b[0m\n\u001b[1;32m-> 1074\u001b[1;33m     X = check_array(\n\u001b[0m\u001b[0;32m   1075\u001b[0m         \u001b[0mX\u001b[0m\u001b[1;33m,\u001b[0m\u001b[1;33m\u001b[0m\u001b[1;33m\u001b[0m\u001b[0m\n\u001b[0;32m   1076\u001b[0m         \u001b[0maccept_sparse\u001b[0m\u001b[1;33m=\u001b[0m\u001b[0maccept_sparse\u001b[0m\u001b[1;33m,\u001b[0m\u001b[1;33m\u001b[0m\u001b[1;33m\u001b[0m\u001b[0m\n",
      "\u001b[1;32m~\\anaconda3\\lib\\site-packages\\sklearn\\utils\\validation.py\u001b[0m in \u001b[0;36mcheck_array\u001b[1;34m(array, accept_sparse, accept_large_sparse, dtype, order, copy, force_all_finite, ensure_2d, allow_nd, ensure_min_samples, ensure_min_features, estimator, input_name)\u001b[0m\n\u001b[0;32m    854\u001b[0m                     \u001b[0marray\u001b[0m \u001b[1;33m=\u001b[0m \u001b[0marray\u001b[0m\u001b[1;33m.\u001b[0m\u001b[0mastype\u001b[0m\u001b[1;33m(\u001b[0m\u001b[0mdtype\u001b[0m\u001b[1;33m,\u001b[0m \u001b[0mcasting\u001b[0m\u001b[1;33m=\u001b[0m\u001b[1;34m\"unsafe\"\u001b[0m\u001b[1;33m,\u001b[0m \u001b[0mcopy\u001b[0m\u001b[1;33m=\u001b[0m\u001b[1;32mFalse\u001b[0m\u001b[1;33m)\u001b[0m\u001b[1;33m\u001b[0m\u001b[1;33m\u001b[0m\u001b[0m\n\u001b[0;32m    855\u001b[0m                 \u001b[1;32melse\u001b[0m\u001b[1;33m:\u001b[0m\u001b[1;33m\u001b[0m\u001b[1;33m\u001b[0m\u001b[0m\n\u001b[1;32m--> 856\u001b[1;33m                     \u001b[0marray\u001b[0m \u001b[1;33m=\u001b[0m \u001b[0mnp\u001b[0m\u001b[1;33m.\u001b[0m\u001b[0masarray\u001b[0m\u001b[1;33m(\u001b[0m\u001b[0marray\u001b[0m\u001b[1;33m,\u001b[0m \u001b[0morder\u001b[0m\u001b[1;33m=\u001b[0m\u001b[0morder\u001b[0m\u001b[1;33m,\u001b[0m \u001b[0mdtype\u001b[0m\u001b[1;33m=\u001b[0m\u001b[0mdtype\u001b[0m\u001b[1;33m)\u001b[0m\u001b[1;33m\u001b[0m\u001b[1;33m\u001b[0m\u001b[0m\n\u001b[0m\u001b[0;32m    857\u001b[0m             \u001b[1;32mexcept\u001b[0m \u001b[0mComplexWarning\u001b[0m \u001b[1;32mas\u001b[0m \u001b[0mcomplex_warning\u001b[0m\u001b[1;33m:\u001b[0m\u001b[1;33m\u001b[0m\u001b[1;33m\u001b[0m\u001b[0m\n\u001b[0;32m    858\u001b[0m                 raise ValueError(\n",
      "\u001b[1;31mMemoryError\u001b[0m: Unable to allocate 10.5 GiB for an array with shape (22500, 62500) and data type float64"
     ]
    }
   ],
   "source": [
    "%%time\n",
    "logistic_model = LogisticRegression(penalty = 'elasticnet',\n",
    "                                    tol = 0.01, \n",
    "                                    solver = 'saga', \n",
    "                                    n_jobs = os.cpu_count() - 1, \n",
    "                                    C = 0.1, \n",
    "                                    class_weight = 'balanced', \n",
    "                                    multi_class = 'ovr', \n",
    "                                    l1_ratio = 0.5, \n",
    "                                    random_state=42)\n",
    "logistic_model.fit(X_train, y_train.values.ravel())"
   ]
  },
  {
   "cell_type": "code",
   "execution_count": 275,
   "metadata": {},
   "outputs": [
    {
     "ename": "AttributeError",
     "evalue": "'LogisticRegression' object has no attribute 'classes_'",
     "output_type": "error",
     "traceback": [
      "\u001b[1;31m---------------------------------------------------------------------------\u001b[0m",
      "\u001b[1;31mAttributeError\u001b[0m                            Traceback (most recent call last)",
      "\u001b[1;32m<ipython-input-275-8eb228f292cd>\u001b[0m in \u001b[0;36m<module>\u001b[1;34m\u001b[0m\n\u001b[1;32m----> 1\u001b[1;33m \u001b[0mprint\u001b[0m\u001b[1;33m(\u001b[0m\u001b[1;34m\"Classes known to the model:\"\u001b[0m\u001b[1;33m,\u001b[0m\u001b[0mlogistic_model\u001b[0m\u001b[1;33m.\u001b[0m\u001b[0mclasses_\u001b[0m\u001b[1;33m)\u001b[0m\u001b[1;33m\u001b[0m\u001b[1;33m\u001b[0m\u001b[0m\n\u001b[0m\u001b[0;32m      2\u001b[0m \u001b[0mprint\u001b[0m\u001b[1;33m(\u001b[0m\u001b[1;34m\"Logistic baseline score(train):\"\u001b[0m\u001b[1;33m,\u001b[0m\u001b[0mlogistic_model\u001b[0m\u001b[1;33m.\u001b[0m\u001b[0mscore\u001b[0m\u001b[1;33m(\u001b[0m\u001b[0mX_train\u001b[0m\u001b[1;33m,\u001b[0m \u001b[0my_train\u001b[0m\u001b[1;33m)\u001b[0m\u001b[1;33m)\u001b[0m\u001b[1;33m\u001b[0m\u001b[1;33m\u001b[0m\u001b[0m\n\u001b[0;32m      3\u001b[0m \u001b[0mprint\u001b[0m\u001b[1;33m(\u001b[0m\u001b[1;34m\"Logistic baseline score(test):\"\u001b[0m\u001b[1;33m,\u001b[0m\u001b[0mlogistic_model\u001b[0m\u001b[1;33m.\u001b[0m\u001b[0mscore\u001b[0m\u001b[1;33m(\u001b[0m\u001b[0mX_test\u001b[0m\u001b[1;33m,\u001b[0m \u001b[0my_test\u001b[0m\u001b[1;33m)\u001b[0m\u001b[1;33m)\u001b[0m\u001b[1;33m\u001b[0m\u001b[1;33m\u001b[0m\u001b[0m\n",
      "\u001b[1;31mAttributeError\u001b[0m: 'LogisticRegression' object has no attribute 'classes_'"
     ]
    }
   ],
   "source": [
    "print(\"Classes known to the model:\",logistic_model.classes_)\n",
    "print(\"Logistic baseline score(train):\",logistic_model.score(X_train, y_train))\n",
    "print(\"Logistic baseline score(test):\",logistic_model.score(X_test, y_test))"
   ]
  },
  {
   "cell_type": "markdown",
   "metadata": {},
   "source": [
    "### Naive Bayes"
   ]
  },
  {
   "cell_type": "code",
   "execution_count": 15,
   "metadata": {},
   "outputs": [],
   "source": [
    "# from sklearn.naive_bayes import CategoricalNB"
   ]
  },
  {
   "cell_type": "code",
   "execution_count": 16,
   "metadata": {},
   "outputs": [],
   "source": [
    "# %%time\n",
    "# naive_bayes_model = CategoricalNB(alpha = 0.4).fit(X_train, y_train.values.ravel())"
   ]
  },
  {
   "cell_type": "code",
   "execution_count": 17,
   "metadata": {},
   "outputs": [
    {
     "name": "stdout",
     "output_type": "stream",
     "text": [
      "Class count: [11250. 11250.]\n",
      "Classes known to the model: [0 1]\n",
      "Naive bayes baseline score: 0.7320888888888889\n",
      "Naive bayes baseline score: 0.5604\n"
     ]
    }
   ],
   "source": [
    "# print(\"Class count:\",naive_bayes_model.class_count_)\n",
    "# print(\"Classes known to the model:\",naive_bayes_model.classes_)\n",
    "# print(\"Naive bayes baseline score:\",naive_bayes_model.score(X_train, y_train))\n",
    "# print(\"Naive bayes baseline score:\",naive_bayes_model.score(X_test, y_test))"
   ]
  },
  {
   "cell_type": "markdown",
   "metadata": {},
   "source": [
    "### SGD classifier"
   ]
  },
  {
   "cell_type": "code",
   "execution_count": 202,
   "metadata": {},
   "outputs": [],
   "source": [
    "from sklearn.linear_model import SGDClassifier\n",
    "from sklearn.preprocessing import StandardScaler"
   ]
  },
  {
   "cell_type": "code",
   "execution_count": 225,
   "metadata": {},
   "outputs": [
    {
     "name": "stdout",
     "output_type": "stream",
     "text": [
      "[Pipeline] .... (step 1 of 2) Processing standardscaler, total=   3.4s\n",
      "[Pipeline] ..... (step 2 of 2) Processing sgdclassifier, total=  23.7s\n",
      "Wall time: 27.2 s\n"
     ]
    }
   ],
   "source": [
    "%%time\n",
    "pipeline_SGD = make_pipeline(\n",
    " StandardScaler(),\n",
    " SGDClassifier(alpha = 1, n_iter_no_change=10 ,random_state=42), \n",
    "    verbose = True).fit(X_train, y_train.values.ravel())\n"
   ]
  },
  {
   "cell_type": "code",
   "execution_count": 226,
   "metadata": {},
   "outputs": [
    {
     "name": "stdout",
     "output_type": "stream",
     "text": [
      "SGD baseline score: 0.5707555555555556\n",
      "SGD baseline score: 0.5436\n"
     ]
    }
   ],
   "source": [
    "print(\"SGD baseline score:\",pipeline_SGD.score(X_train, y_train))\n",
    "print(\"SGD baseline score:\",pipeline_SGD.score(X_test, y_test))"
   ]
  },
  {
   "cell_type": "markdown",
   "metadata": {},
   "source": [
    "### Random forest and pixel importance"
   ]
  },
  {
   "cell_type": "code",
   "execution_count": 18,
   "metadata": {},
   "outputs": [],
   "source": [
    "from sklearn.ensemble import RandomForestClassifier"
   ]
  },
  {
   "cell_type": "code",
   "execution_count": 19,
   "metadata": {},
   "outputs": [
    {
     "data": {
      "text/html": [
       "<style>#sk-container-id-2 {color: black;background-color: white;}#sk-container-id-2 pre{padding: 0;}#sk-container-id-2 div.sk-toggleable {background-color: white;}#sk-container-id-2 label.sk-toggleable__label {cursor: pointer;display: block;width: 100%;margin-bottom: 0;padding: 0.3em;box-sizing: border-box;text-align: center;}#sk-container-id-2 label.sk-toggleable__label-arrow:before {content: \"▸\";float: left;margin-right: 0.25em;color: #696969;}#sk-container-id-2 label.sk-toggleable__label-arrow:hover:before {color: black;}#sk-container-id-2 div.sk-estimator:hover label.sk-toggleable__label-arrow:before {color: black;}#sk-container-id-2 div.sk-toggleable__content {max-height: 0;max-width: 0;overflow: hidden;text-align: left;background-color: #f0f8ff;}#sk-container-id-2 div.sk-toggleable__content pre {margin: 0.2em;color: black;border-radius: 0.25em;background-color: #f0f8ff;}#sk-container-id-2 input.sk-toggleable__control:checked~div.sk-toggleable__content {max-height: 200px;max-width: 100%;overflow: auto;}#sk-container-id-2 input.sk-toggleable__control:checked~label.sk-toggleable__label-arrow:before {content: \"▾\";}#sk-container-id-2 div.sk-estimator input.sk-toggleable__control:checked~label.sk-toggleable__label {background-color: #d4ebff;}#sk-container-id-2 div.sk-label input.sk-toggleable__control:checked~label.sk-toggleable__label {background-color: #d4ebff;}#sk-container-id-2 input.sk-hidden--visually {border: 0;clip: rect(1px 1px 1px 1px);clip: rect(1px, 1px, 1px, 1px);height: 1px;margin: -1px;overflow: hidden;padding: 0;position: absolute;width: 1px;}#sk-container-id-2 div.sk-estimator {font-family: monospace;background-color: #f0f8ff;border: 1px dotted black;border-radius: 0.25em;box-sizing: border-box;margin-bottom: 0.5em;}#sk-container-id-2 div.sk-estimator:hover {background-color: #d4ebff;}#sk-container-id-2 div.sk-parallel-item::after {content: \"\";width: 100%;border-bottom: 1px solid gray;flex-grow: 1;}#sk-container-id-2 div.sk-label:hover label.sk-toggleable__label {background-color: #d4ebff;}#sk-container-id-2 div.sk-serial::before {content: \"\";position: absolute;border-left: 1px solid gray;box-sizing: border-box;top: 0;bottom: 0;left: 50%;z-index: 0;}#sk-container-id-2 div.sk-serial {display: flex;flex-direction: column;align-items: center;background-color: white;padding-right: 0.2em;padding-left: 0.2em;position: relative;}#sk-container-id-2 div.sk-item {position: relative;z-index: 1;}#sk-container-id-2 div.sk-parallel {display: flex;align-items: stretch;justify-content: center;background-color: white;position: relative;}#sk-container-id-2 div.sk-item::before, #sk-container-id-2 div.sk-parallel-item::before {content: \"\";position: absolute;border-left: 1px solid gray;box-sizing: border-box;top: 0;bottom: 0;left: 50%;z-index: -1;}#sk-container-id-2 div.sk-parallel-item {display: flex;flex-direction: column;z-index: 1;position: relative;background-color: white;}#sk-container-id-2 div.sk-parallel-item:first-child::after {align-self: flex-end;width: 50%;}#sk-container-id-2 div.sk-parallel-item:last-child::after {align-self: flex-start;width: 50%;}#sk-container-id-2 div.sk-parallel-item:only-child::after {width: 0;}#sk-container-id-2 div.sk-dashed-wrapped {border: 1px dashed gray;margin: 0 0.4em 0.5em 0.4em;box-sizing: border-box;padding-bottom: 0.4em;background-color: white;}#sk-container-id-2 div.sk-label label {font-family: monospace;font-weight: bold;display: inline-block;line-height: 1.2em;}#sk-container-id-2 div.sk-label-container {text-align: center;}#sk-container-id-2 div.sk-container {/* jupyter's `normalize.less` sets `[hidden] { display: none; }` but bootstrap.min.css set `[hidden] { display: none !important; }` so we also need the `!important` here to be able to override the default hidden behavior on the sphinx rendered scikit-learn.org. See: https://github.com/scikit-learn/scikit-learn/issues/21755 */display: inline-block !important;position: relative;}#sk-container-id-2 div.sk-text-repr-fallback {display: none;}</style><div id=\"sk-container-id-2\" class=\"sk-top-container\"><div class=\"sk-text-repr-fallback\"><pre>RandomForestClassifier(max_depth=3, n_estimators=200, n_jobs=11,\n",
       "                       random_state=42)</pre><b>In a Jupyter environment, please rerun this cell to show the HTML representation or trust the notebook. <br />On GitHub, the HTML representation is unable to render, please try loading this page with nbviewer.org.</b></div><div class=\"sk-container\" hidden><div class=\"sk-item\"><div class=\"sk-estimator sk-toggleable\"><input class=\"sk-toggleable__control sk-hidden--visually\" id=\"sk-estimator-id-2\" type=\"checkbox\" checked><label for=\"sk-estimator-id-2\" class=\"sk-toggleable__label sk-toggleable__label-arrow\">RandomForestClassifier</label><div class=\"sk-toggleable__content\"><pre>RandomForestClassifier(max_depth=3, n_estimators=200, n_jobs=11,\n",
       "                       random_state=42)</pre></div></div></div></div></div>"
      ],
      "text/plain": [
       "RandomForestClassifier(max_depth=3, n_estimators=200, n_jobs=11,\n",
       "                       random_state=42)"
      ]
     },
     "execution_count": 19,
     "metadata": {},
     "output_type": "execute_result"
    }
   ],
   "source": [
    "%%time\n",
    "forest = RandomForestClassifier(n_estimators=200, random_state=42, n_jobs = os.cpu_count() - 1)\n",
    "forest.fit(X_train, y_train.values.ravel())"
   ]
  },
  {
   "cell_type": "code",
   "execution_count": 20,
   "metadata": {},
   "outputs": [
    {
     "name": "stdout",
     "output_type": "stream",
     "text": [
      "Random forest baseline train score: 0.6012\n",
      "Random forest baseline test score: 0.5652\n"
     ]
    }
   ],
   "source": [
    "print(\"Random forest baseline train score:\",forest.score(X_train, y_train))\n",
    "print(\"Random forest baseline test score:\",forest.score(X_test, y_test))\n",
    "#cv_scores = cross_val_score(forest, X_train, y_train, cv=3)\n",
    "#print(cv_scores)\n",
    "#print(\"cv_scores mean: \" + str(np.mean(cv_scores)))"
   ]
  },
  {
   "cell_type": "code",
   "execution_count": 21,
   "metadata": {},
   "outputs": [
    {
     "data": {
      "image/png": "[encoded data removed]",
      "text/plain": [
       "<Figure size 396x396 with 2 Axes>"
      ]
     },
     "metadata": {},
     "output_type": "display_data"
    }
   ],
   "source": [
    "importances = forest.feature_importances_\n",
    "imp_reshaped = importances.reshape((MODIFIED_WIDTH, MODIFIED_HEIGHT))\n",
    "plt.matshow(imp_reshaped, cmap=plt.cm.viridis)\n",
    "plt.grid(False)\n",
    "plt.title(\"Pixel importances using impurity values\")\n",
    "plt.colorbar()\n",
    "plt.show()"
   ]
  },
  {
   "cell_type": "markdown",
   "metadata": {},
   "source": [
    "### Gradient boosting"
   ]
  },
  {
   "cell_type": "code",
   "execution_count": 22,
   "metadata": {},
   "outputs": [],
   "source": [
    "from sklearn.ensemble import GradientBoostingClassifier"
   ]
  },
  {
   "cell_type": "code",
   "execution_count": 23,
   "metadata": {},
   "outputs": [
    {
     "name": "stdout",
     "output_type": "stream",
     "text": [
      "      Iter       Train Loss   Remaining Time \n",
      "         1           1.3797           84.37m\n",
      "         2           1.3736           83.17m\n",
      "         3           1.3683           82.08m\n",
      "         4           1.3630           81.18m\n",
      "         5           1.3582           80.23m\n",
      "         6           1.3530           79.67m\n",
      "         7           1.3485           79.01m\n",
      "         8           1.3441           78.20m\n",
      "         9           1.3406           77.53m\n",
      "        10           1.3370           76.70m\n"
     ]
    },
    {
     "data": {
      "text/html": [
       "<style>#sk-container-id-3 {color: black;background-color: white;}#sk-container-id-3 pre{padding: 0;}#sk-container-id-3 div.sk-toggleable {background-color: white;}#sk-container-id-3 label.sk-toggleable__label {cursor: pointer;display: block;width: 100%;margin-bottom: 0;padding: 0.3em;box-sizing: border-box;text-align: center;}#sk-container-id-3 label.sk-toggleable__label-arrow:before {content: \"▸\";float: left;margin-right: 0.25em;color: #696969;}#sk-container-id-3 label.sk-toggleable__label-arrow:hover:before {color: black;}#sk-container-id-3 div.sk-estimator:hover label.sk-toggleable__label-arrow:before {color: black;}#sk-container-id-3 div.sk-toggleable__content {max-height: 0;max-width: 0;overflow: hidden;text-align: left;background-color: #f0f8ff;}#sk-container-id-3 div.sk-toggleable__content pre {margin: 0.2em;color: black;border-radius: 0.25em;background-color: #f0f8ff;}#sk-container-id-3 input.sk-toggleable__control:checked~div.sk-toggleable__content {max-height: 200px;max-width: 100%;overflow: auto;}#sk-container-id-3 input.sk-toggleable__control:checked~label.sk-toggleable__label-arrow:before {content: \"▾\";}#sk-container-id-3 div.sk-estimator input.sk-toggleable__control:checked~label.sk-toggleable__label {background-color: #d4ebff;}#sk-container-id-3 div.sk-label input.sk-toggleable__control:checked~label.sk-toggleable__label {background-color: #d4ebff;}#sk-container-id-3 input.sk-hidden--visually {border: 0;clip: rect(1px 1px 1px 1px);clip: rect(1px, 1px, 1px, 1px);height: 1px;margin: -1px;overflow: hidden;padding: 0;position: absolute;width: 1px;}#sk-container-id-3 div.sk-estimator {font-family: monospace;background-color: #f0f8ff;border: 1px dotted black;border-radius: 0.25em;box-sizing: border-box;margin-bottom: 0.5em;}#sk-container-id-3 div.sk-estimator:hover {background-color: #d4ebff;}#sk-container-id-3 div.sk-parallel-item::after {content: \"\";width: 100%;border-bottom: 1px solid gray;flex-grow: 1;}#sk-container-id-3 div.sk-label:hover label.sk-toggleable__label {background-color: #d4ebff;}#sk-container-id-3 div.sk-serial::before {content: \"\";position: absolute;border-left: 1px solid gray;box-sizing: border-box;top: 0;bottom: 0;left: 50%;z-index: 0;}#sk-container-id-3 div.sk-serial {display: flex;flex-direction: column;align-items: center;background-color: white;padding-right: 0.2em;padding-left: 0.2em;position: relative;}#sk-container-id-3 div.sk-item {position: relative;z-index: 1;}#sk-container-id-3 div.sk-parallel {display: flex;align-items: stretch;justify-content: center;background-color: white;position: relative;}#sk-container-id-3 div.sk-item::before, #sk-container-id-3 div.sk-parallel-item::before {content: \"\";position: absolute;border-left: 1px solid gray;box-sizing: border-box;top: 0;bottom: 0;left: 50%;z-index: -1;}#sk-container-id-3 div.sk-parallel-item {display: flex;flex-direction: column;z-index: 1;position: relative;background-color: white;}#sk-container-id-3 div.sk-parallel-item:first-child::after {align-self: flex-end;width: 50%;}#sk-container-id-3 div.sk-parallel-item:last-child::after {align-self: flex-start;width: 50%;}#sk-container-id-3 div.sk-parallel-item:only-child::after {width: 0;}#sk-container-id-3 div.sk-dashed-wrapped {border: 1px dashed gray;margin: 0 0.4em 0.5em 0.4em;box-sizing: border-box;padding-bottom: 0.4em;background-color: white;}#sk-container-id-3 div.sk-label label {font-family: monospace;font-weight: bold;display: inline-block;line-height: 1.2em;}#sk-container-id-3 div.sk-label-container {text-align: center;}#sk-container-id-3 div.sk-container {/* jupyter's `normalize.less` sets `[hidden] { display: none; }` but bootstrap.min.css set `[hidden] { display: none !important; }` so we also need the `!important` here to be able to override the default hidden behavior on the sphinx rendered scikit-learn.org. See: https://github.com/scikit-learn/scikit-learn/issues/21755 */display: inline-block !important;position: relative;}#sk-container-id-3 div.sk-text-repr-fallback {display: none;}</style><div id=\"sk-container-id-3\" class=\"sk-top-container\"><div class=\"sk-text-repr-fallback\"><pre>GradientBoostingClassifier(n_iter_no_change=10, random_state=42, tol=0.5,\n",
       "                           verbose=1, warm_start=True)</pre><b>In a Jupyter environment, please rerun this cell to show the HTML representation or trust the notebook. <br />On GitHub, the HTML representation is unable to render, please try loading this page with nbviewer.org.</b></div><div class=\"sk-container\" hidden><div class=\"sk-item\"><div class=\"sk-estimator sk-toggleable\"><input class=\"sk-toggleable__control sk-hidden--visually\" id=\"sk-estimator-id-3\" type=\"checkbox\" checked><label for=\"sk-estimator-id-3\" class=\"sk-toggleable__label sk-toggleable__label-arrow\">GradientBoostingClassifier</label><div class=\"sk-toggleable__content\"><pre>GradientBoostingClassifier(n_iter_no_change=10, random_state=42, tol=0.5,\n",
       "                           verbose=1, warm_start=True)</pre></div></div></div></div></div>"
      ],
      "text/plain": [
       "GradientBoostingClassifier(n_iter_no_change=10, random_state=42, tol=0.5,\n",
       "                           verbose=1, warm_start=True)"
      ]
     },
     "execution_count": 23,
     "metadata": {},
     "output_type": "execute_result"
    }
   ],
   "source": [
    "%%time\n",
    "Gradient_classifier = GradientBoostingClassifier(max_features = None,random_state = 42, verbose = 1, warm_start = True, n_iter_no_change = 10, tol = 0.5)\n",
    "Gradient_classifier.fit(X_train, y_train.values.ravel())"
   ]
  },
  {
   "cell_type": "code",
   "execution_count": 24,
   "metadata": {},
   "outputs": [
    {
     "name": "stdout",
     "output_type": "stream",
     "text": [
      "Number of clases known to model: [0 1]\n",
      "Gradient classifier baseline training score: 0.6250222222222223\n",
      "Gradient classifier baseline test score: 0.5716\n"
     ]
    }
   ],
   "source": [
    "print(\"Number of clases known to model:\",Gradient_classifier.classes_)\n",
    "print(\"Gradient classifier baseline training score:\",Gradient_classifier.score(X_train, y_train))\n",
    "print(\"Gradient classifier baseline test score:\",Gradient_classifier.score(X_test, y_test))"
   ]
  },
  {
   "cell_type": "markdown",
   "metadata": {},
   "source": [
    "## Apply PCA on the data"
   ]
  },
  {
   "cell_type": "code",
   "execution_count": 25,
   "metadata": {},
   "outputs": [],
   "source": [
    "PCA_data = train_df.iloc[:,:-1]"
   ]
  },
  {
   "cell_type": "code",
   "execution_count": 26,
   "metadata": {},
   "outputs": [],
   "source": [
    "from sklearn.decomposition import PCA"
   ]
  },
  {
   "cell_type": "code",
   "execution_count": 27,
   "metadata": {},
   "outputs": [
    {
     "data": {
      "text/html": [
       "<style>#sk-container-id-4 {color: black;background-color: white;}#sk-container-id-4 pre{padding: 0;}#sk-container-id-4 div.sk-toggleable {background-color: white;}#sk-container-id-4 label.sk-toggleable__label {cursor: pointer;display: block;width: 100%;margin-bottom: 0;padding: 0.3em;box-sizing: border-box;text-align: center;}#sk-container-id-4 label.sk-toggleable__label-arrow:before {content: \"▸\";float: left;margin-right: 0.25em;color: #696969;}#sk-container-id-4 label.sk-toggleable__label-arrow:hover:before {color: black;}#sk-container-id-4 div.sk-estimator:hover label.sk-toggleable__label-arrow:before {color: black;}#sk-container-id-4 div.sk-toggleable__content {max-height: 0;max-width: 0;overflow: hidden;text-align: left;background-color: #f0f8ff;}#sk-container-id-4 div.sk-toggleable__content pre {margin: 0.2em;color: black;border-radius: 0.25em;background-color: #f0f8ff;}#sk-container-id-4 input.sk-toggleable__control:checked~div.sk-toggleable__content {max-height: 200px;max-width: 100%;overflow: auto;}#sk-container-id-4 input.sk-toggleable__control:checked~label.sk-toggleable__label-arrow:before {content: \"▾\";}#sk-container-id-4 div.sk-estimator input.sk-toggleable__control:checked~label.sk-toggleable__label {background-color: #d4ebff;}#sk-container-id-4 div.sk-label input.sk-toggleable__control:checked~label.sk-toggleable__label {background-color: #d4ebff;}#sk-container-id-4 input.sk-hidden--visually {border: 0;clip: rect(1px 1px 1px 1px);clip: rect(1px, 1px, 1px, 1px);height: 1px;margin: -1px;overflow: hidden;padding: 0;position: absolute;width: 1px;}#sk-container-id-4 div.sk-estimator {font-family: monospace;background-color: #f0f8ff;border: 1px dotted black;border-radius: 0.25em;box-sizing: border-box;margin-bottom: 0.5em;}#sk-container-id-4 div.sk-estimator:hover {background-color: #d4ebff;}#sk-container-id-4 div.sk-parallel-item::after {content: \"\";width: 100%;border-bottom: 1px solid gray;flex-grow: 1;}#sk-container-id-4 div.sk-label:hover label.sk-toggleable__label {background-color: #d4ebff;}#sk-container-id-4 div.sk-serial::before {content: \"\";position: absolute;border-left: 1px solid gray;box-sizing: border-box;top: 0;bottom: 0;left: 50%;z-index: 0;}#sk-container-id-4 div.sk-serial {display: flex;flex-direction: column;align-items: center;background-color: white;padding-right: 0.2em;padding-left: 0.2em;position: relative;}#sk-container-id-4 div.sk-item {position: relative;z-index: 1;}#sk-container-id-4 div.sk-parallel {display: flex;align-items: stretch;justify-content: center;background-color: white;position: relative;}#sk-container-id-4 div.sk-item::before, #sk-container-id-4 div.sk-parallel-item::before {content: \"\";position: absolute;border-left: 1px solid gray;box-sizing: border-box;top: 0;bottom: 0;left: 50%;z-index: -1;}#sk-container-id-4 div.sk-parallel-item {display: flex;flex-direction: column;z-index: 1;position: relative;background-color: white;}#sk-container-id-4 div.sk-parallel-item:first-child::after {align-self: flex-end;width: 50%;}#sk-container-id-4 div.sk-parallel-item:last-child::after {align-self: flex-start;width: 50%;}#sk-container-id-4 div.sk-parallel-item:only-child::after {width: 0;}#sk-container-id-4 div.sk-dashed-wrapped {border: 1px dashed gray;margin: 0 0.4em 0.5em 0.4em;box-sizing: border-box;padding-bottom: 0.4em;background-color: white;}#sk-container-id-4 div.sk-label label {font-family: monospace;font-weight: bold;display: inline-block;line-height: 1.2em;}#sk-container-id-4 div.sk-label-container {text-align: center;}#sk-container-id-4 div.sk-container {/* jupyter's `normalize.less` sets `[hidden] { display: none; }` but bootstrap.min.css set `[hidden] { display: none !important; }` so we also need the `!important` here to be able to override the default hidden behavior on the sphinx rendered scikit-learn.org. See: https://github.com/scikit-learn/scikit-learn/issues/21755 */display: inline-block !important;position: relative;}#sk-container-id-4 div.sk-text-repr-fallback {display: none;}</style><div id=\"sk-container-id-4\" class=\"sk-top-container\"><div class=\"sk-text-repr-fallback\"><pre>PCA(n_components=10000, random_state=42, svd_solver=&#x27;randomized&#x27;)</pre><b>In a Jupyter environment, please rerun this cell to show the HTML representation or trust the notebook. <br />On GitHub, the HTML representation is unable to render, please try loading this page with nbviewer.org.</b></div><div class=\"sk-container\" hidden><div class=\"sk-item\"><div class=\"sk-estimator sk-toggleable\"><input class=\"sk-toggleable__control sk-hidden--visually\" id=\"sk-estimator-id-4\" type=\"checkbox\" checked><label for=\"sk-estimator-id-4\" class=\"sk-toggleable__label sk-toggleable__label-arrow\">PCA</label><div class=\"sk-toggleable__content\"><pre>PCA(n_components=10000, random_state=42, svd_solver=&#x27;randomized&#x27;)</pre></div></div></div></div></div>"
      ],
      "text/plain": [
       "PCA(n_components=10000, random_state=42, svd_solver='randomized')"
      ]
     },
     "execution_count": 27,
     "metadata": {},
     "output_type": "execute_result"
    }
   ],
   "source": [
    "%%time\n",
    "pca_model = PCA(n_components=PCA_data.shape[1],svd_solver = 'randomized', random_state = 42)\n",
    "pca_model.fit(PCA_data)"
   ]
  },
  {
   "cell_type": "code",
   "execution_count": 28,
   "metadata": {},
   "outputs": [
    {
     "data": {
      "text/plain": [
       "Text(0, 0.5, 'Explained variance')"
      ]
     },
     "execution_count": 28,
     "metadata": {},
     "output_type": "execute_result"
    },
    {
     "data": {
      "image/png": "[encoded data removed]",
      "text/plain": [
       "<Figure size 576x396 with 1 Axes>"
      ]
     },
     "metadata": {},
     "output_type": "display_data"
    }
   ],
   "source": [
    "plt.grid(True)\n",
    "plt.plot(np.cumsum(pca_model.explained_variance_ratio_ * 100))\n",
    "plt.title(\"Percentage of explained variance by the number of components\")\n",
    "plt.xlabel('Number of components')\n",
    "plt.ylabel('Explained variance')"
   ]
  },
  {
   "cell_type": "code",
   "execution_count": 59,
   "metadata": {},
   "outputs": [
    {
     "name": "stdout",
     "output_type": "stream",
     "text": [
      "Fit complete with n_components = 2000\n"
     ]
    }
   ],
   "source": [
    "%%time\n",
    "pca_reduced = PCA(n_components=2000, random_state = 42)\n",
    "pca_new_reduced = pca_reduced.fit_transform(PCA_data)\n",
    "print(\"Fit complete with n_components = {0}\".format(pca_reduced.n_components_))\n",
    "pca_recovered = pca_reduced.inverse_transform(pca_new_reduced)"
   ]
  },
  {
   "cell_type": "code",
   "execution_count": 60,
   "metadata": {},
   "outputs": [
    {
     "data": {
      "image/png": "[encoded data removed]",
      "text/plain": [
       "<Figure size 576x396 with 1 Axes>"
      ]
     },
     "metadata": {},
     "output_type": "display_data"
    }
   ],
   "source": [
    "image_pca = pca_recovered[24999,:].reshape([MODIFIED_WIDTH,MODIFIED_HEIGHT])\n",
    "plt.imshow(image_pca, cmap='gray_r')\n",
    "plt.title('Compressed image using {0} components'.format(pca_reduced.n_components_), fontsize=15, pad=15)\n",
    "plt.savefig(\"image_pca_{0}.png\".format(pca_reduced.n_components_))"
   ]
  },
  {
   "cell_type": "code",
   "execution_count": 74,
   "metadata": {},
   "outputs": [
    {
     "name": "stdout",
     "output_type": "stream",
     "text": [
      "New dataframe shape: (25000, 2000)\n",
      "New recovered dataframe shape: (25000, 10000)\n"
     ]
    }
   ],
   "source": [
    "print(\"New dataframe shape:\",pca_new_reduced.shape)\n",
    "print(\"New recovered dataframe shape:\",pca_recovered.shape)"
   ]
  },
  {
   "cell_type": "code",
   "execution_count": 83,
   "metadata": {},
   "outputs": [
    {
     "name": "stdout",
     "output_type": "stream",
     "text": [
      "Train shape: (22500, 2000)\n",
      "Test shape: (2500, 2000)\n",
      "Test class counts: {0: 1250, 1: 1250}\n"
     ]
    }
   ],
   "source": [
    "pca_data = pd.DataFrame(pca_new_reduced)\n",
    "pca_data = pd.concat([pca_data, y], axis = 1)\n",
    "X_new = pca_data.iloc[:,:-1]\n",
    "y_new = pca_data.iloc[:,-1:]\n",
    "\n",
    "X_train_new, X_test_new, y_train_new, y_test_new = train_test_split(X_new, y_new, test_size=0.10, random_state=42, stratify = y)\n",
    "print(\"Train shape:\",X_train_new.shape)\n",
    "print(\"Test shape:\",X_test_new.shape)\n",
    "unique, counts = np.unique(y_test_new, return_counts=True)\n",
    "print(\"Test class counts:\",dict(zip(unique, counts)))"
   ]
  },
  {
   "cell_type": "markdown",
   "metadata": {},
   "source": [
    "## Applying models on data after PCA dimensionality reduction"
   ]
  },
  {
   "cell_type": "markdown",
   "metadata": {},
   "source": [
    "### Logistic regression"
   ]
  },
  {
   "cell_type": "code",
   "execution_count": 120,
   "metadata": {},
   "outputs": [
    {
     "name": "stdout",
     "output_type": "stream",
     "text": [
      "Wall time: 41.9 s\n"
     ]
    },
    {
     "data": {
      "text/html": [
       "<style>#sk-container-id-15 {color: black;background-color: white;}#sk-container-id-15 pre{padding: 0;}#sk-container-id-15 div.sk-toggleable {background-color: white;}#sk-container-id-15 label.sk-toggleable__label {cursor: pointer;display: block;width: 100%;margin-bottom: 0;padding: 0.3em;box-sizing: border-box;text-align: center;}#sk-container-id-15 label.sk-toggleable__label-arrow:before {content: \"▸\";float: left;margin-right: 0.25em;color: #696969;}#sk-container-id-15 label.sk-toggleable__label-arrow:hover:before {color: black;}#sk-container-id-15 div.sk-estimator:hover label.sk-toggleable__label-arrow:before {color: black;}#sk-container-id-15 div.sk-toggleable__content {max-height: 0;max-width: 0;overflow: hidden;text-align: left;background-color: #f0f8ff;}#sk-container-id-15 div.sk-toggleable__content pre {margin: 0.2em;color: black;border-radius: 0.25em;background-color: #f0f8ff;}#sk-container-id-15 input.sk-toggleable__control:checked~div.sk-toggleable__content {max-height: 200px;max-width: 100%;overflow: auto;}#sk-container-id-15 input.sk-toggleable__control:checked~label.sk-toggleable__label-arrow:before {content: \"▾\";}#sk-container-id-15 div.sk-estimator input.sk-toggleable__control:checked~label.sk-toggleable__label {background-color: #d4ebff;}#sk-container-id-15 div.sk-label input.sk-toggleable__control:checked~label.sk-toggleable__label {background-color: #d4ebff;}#sk-container-id-15 input.sk-hidden--visually {border: 0;clip: rect(1px 1px 1px 1px);clip: rect(1px, 1px, 1px, 1px);height: 1px;margin: -1px;overflow: hidden;padding: 0;position: absolute;width: 1px;}#sk-container-id-15 div.sk-estimator {font-family: monospace;background-color: #f0f8ff;border: 1px dotted black;border-radius: 0.25em;box-sizing: border-box;margin-bottom: 0.5em;}#sk-container-id-15 div.sk-estimator:hover {background-color: #d4ebff;}#sk-container-id-15 div.sk-parallel-item::after {content: \"\";width: 100%;border-bottom: 1px solid gray;flex-grow: 1;}#sk-container-id-15 div.sk-label:hover label.sk-toggleable__label {background-color: #d4ebff;}#sk-container-id-15 div.sk-serial::before {content: \"\";position: absolute;border-left: 1px solid gray;box-sizing: border-box;top: 0;bottom: 0;left: 50%;z-index: 0;}#sk-container-id-15 div.sk-serial {display: flex;flex-direction: column;align-items: center;background-color: white;padding-right: 0.2em;padding-left: 0.2em;position: relative;}#sk-container-id-15 div.sk-item {position: relative;z-index: 1;}#sk-container-id-15 div.sk-parallel {display: flex;align-items: stretch;justify-content: center;background-color: white;position: relative;}#sk-container-id-15 div.sk-item::before, #sk-container-id-15 div.sk-parallel-item::before {content: \"\";position: absolute;border-left: 1px solid gray;box-sizing: border-box;top: 0;bottom: 0;left: 50%;z-index: -1;}#sk-container-id-15 div.sk-parallel-item {display: flex;flex-direction: column;z-index: 1;position: relative;background-color: white;}#sk-container-id-15 div.sk-parallel-item:first-child::after {align-self: flex-end;width: 50%;}#sk-container-id-15 div.sk-parallel-item:last-child::after {align-self: flex-start;width: 50%;}#sk-container-id-15 div.sk-parallel-item:only-child::after {width: 0;}#sk-container-id-15 div.sk-dashed-wrapped {border: 1px dashed gray;margin: 0 0.4em 0.5em 0.4em;box-sizing: border-box;padding-bottom: 0.4em;background-color: white;}#sk-container-id-15 div.sk-label label {font-family: monospace;font-weight: bold;display: inline-block;line-height: 1.2em;}#sk-container-id-15 div.sk-label-container {text-align: center;}#sk-container-id-15 div.sk-container {/* jupyter's `normalize.less` sets `[hidden] { display: none; }` but bootstrap.min.css set `[hidden] { display: none !important; }` so we also need the `!important` here to be able to override the default hidden behavior on the sphinx rendered scikit-learn.org. See: https://github.com/scikit-learn/scikit-learn/issues/21755 */display: inline-block !important;position: relative;}#sk-container-id-15 div.sk-text-repr-fallback {display: none;}</style><div id=\"sk-container-id-15\" class=\"sk-top-container\"><div class=\"sk-text-repr-fallback\"><pre>LogisticRegression(class_weight=&#x27;balanced&#x27;, l1_ratio=0.5, multi_class=&#x27;ovr&#x27;,\n",
       "                   n_jobs=11, penalty=&#x27;elasticnet&#x27;, random_state=42,\n",
       "                   solver=&#x27;saga&#x27;, tol=0.01)</pre><b>In a Jupyter environment, please rerun this cell to show the HTML representation or trust the notebook. <br />On GitHub, the HTML representation is unable to render, please try loading this page with nbviewer.org.</b></div><div class=\"sk-container\" hidden><div class=\"sk-item\"><div class=\"sk-estimator sk-toggleable\"><input class=\"sk-toggleable__control sk-hidden--visually\" id=\"sk-estimator-id-15\" type=\"checkbox\" checked><label for=\"sk-estimator-id-15\" class=\"sk-toggleable__label sk-toggleable__label-arrow\">LogisticRegression</label><div class=\"sk-toggleable__content\"><pre>LogisticRegression(class_weight=&#x27;balanced&#x27;, l1_ratio=0.5, multi_class=&#x27;ovr&#x27;,\n",
       "                   n_jobs=11, penalty=&#x27;elasticnet&#x27;, random_state=42,\n",
       "                   solver=&#x27;saga&#x27;, tol=0.01)</pre></div></div></div></div></div>"
      ],
      "text/plain": [
       "LogisticRegression(class_weight='balanced', l1_ratio=0.5, multi_class='ovr',\n",
       "                   n_jobs=11, penalty='elasticnet', random_state=42,\n",
       "                   solver='saga', tol=0.01)"
      ]
     },
     "execution_count": 120,
     "metadata": {},
     "output_type": "execute_result"
    }
   ],
   "source": [
    "%%time\n",
    "logistic_model = LogisticRegression(penalty = 'elasticnet',\n",
    "                                    tol = 0.01, \n",
    "                                    solver = 'saga', \n",
    "                                    n_jobs = os.cpu_count() - 1,  \n",
    "                                    class_weight = 'balanced', \n",
    "                                    multi_class = 'ovr', \n",
    "                                    l1_ratio = 0.5, \n",
    "                                    random_state=42)\n",
    "logistic_model.fit(X_train_new, y_train_new.values.ravel())"
   ]
  },
  {
   "cell_type": "code",
   "execution_count": 121,
   "metadata": {},
   "outputs": [
    {
     "name": "stdout",
     "output_type": "stream",
     "text": [
      "Classes known to the model: [0 1]\n",
      "Logistic baseline score(train): 0.6396444444444445\n",
      "Logistic baseline score(test): 0.5472\n"
     ]
    }
   ],
   "source": [
    "print(\"Classes known to the model:\",logistic_model.classes_)\n",
    "print(\"Logistic baseline score(train):\",logistic_model.score(X_train_new, y_train_new))\n",
    "print(\"Logistic baseline score(test):\",logistic_model.score(X_test_new, y_test_new))"
   ]
  },
  {
   "cell_type": "markdown",
   "metadata": {},
   "source": [
    "### Naive bayes (Bernoulli)"
   ]
  },
  {
   "cell_type": "code",
   "execution_count": 88,
   "metadata": {},
   "outputs": [],
   "source": [
    "# from sklearn.naive_bayes import BernoulliNB\n",
    "\n",
    "# \"\"\"\n",
    "# NOTE: Here we used BernoulliNB instead of CategoricalNB because the new PCA data is not categorically numbered.\n",
    "# And because of that CategoricalNB is useless for the new PCA data\n",
    "# \"\"\""
   ]
  },
  {
   "cell_type": "code",
   "execution_count": 126,
   "metadata": {},
   "outputs": [
    {
     "name": "stdout",
     "output_type": "stream",
     "text": [
      "Wall time: 1.34 s\n"
     ]
    }
   ],
   "source": [
    "# %%time\n",
    "# naive_bayes_model = BernoulliNB(alpha = 0.2).fit(X_train_new, y_train_new.values.ravel())"
   ]
  },
  {
   "cell_type": "code",
   "execution_count": 127,
   "metadata": {},
   "outputs": [
    {
     "name": "stdout",
     "output_type": "stream",
     "text": [
      "Class count: [11250. 11250.]\n",
      "Classes known to the model: [0 1]\n",
      "Naive bayes baseline score: 0.6324444444444445\n",
      "Naive bayes baseline score: 0.5248\n"
     ]
    }
   ],
   "source": [
    "# print(\"Class count:\",naive_bayes_model.class_count_)\n",
    "# print(\"Classes known to the model:\",naive_bayes_model.classes_)\n",
    "# print(\"Naive bayes baseline score:\",naive_bayes_model.score(X_train_new, y_train_new))\n",
    "# print(\"Naive bayes baseline score:\",naive_bayes_model.score(X_test_new, y_test_new))"
   ]
  },
  {
   "cell_type": "markdown",
   "metadata": {},
   "source": [
    "### SGD classifier"
   ]
  },
  {
   "cell_type": "code",
   "execution_count": 238,
   "metadata": {},
   "outputs": [
    {
     "name": "stdout",
     "output_type": "stream",
     "text": [
      "[Pipeline] .... (step 1 of 2) Processing standardscaler, total=   0.6s\n",
      "[Pipeline] ..... (step 2 of 2) Processing sgdclassifier, total=   2.0s\n",
      "Wall time: 2.59 s\n"
     ]
    }
   ],
   "source": [
    "%%time\n",
    "pipeline_SGD = make_pipeline(\n",
    " StandardScaler(),\n",
    " SGDClassifier(alpha = 1, n_iter_no_change=10 ,random_state=42), \n",
    "    verbose = True).fit(X_train_new, y_train_new.values.ravel())"
   ]
  },
  {
   "cell_type": "code",
   "execution_count": 239,
   "metadata": {},
   "outputs": [
    {
     "name": "stdout",
     "output_type": "stream",
     "text": [
      "SGD baseline score: 0.5357777777777778\n",
      "SGD baseline score: 0.5092\n"
     ]
    }
   ],
   "source": [
    "print(\"SGD baseline score:\",pipeline_SGD.score(X_train_new, y_train_new))\n",
    "print(\"SGD baseline score:\",pipeline_SGD.score(X_test_new, y_test_new))"
   ]
  },
  {
   "cell_type": "markdown",
   "metadata": {},
   "source": [
    "### Random forest"
   ]
  },
  {
   "cell_type": "code",
   "execution_count": 167,
   "metadata": {},
   "outputs": [
    {
     "name": "stdout",
     "output_type": "stream",
     "text": [
      "Wall time: 31.3 s\n"
     ]
    },
    {
     "data": {
      "text/html": [
       "<style>#sk-container-id-28 {color: black;background-color: white;}#sk-container-id-28 pre{padding: 0;}#sk-container-id-28 div.sk-toggleable {background-color: white;}#sk-container-id-28 label.sk-toggleable__label {cursor: pointer;display: block;width: 100%;margin-bottom: 0;padding: 0.3em;box-sizing: border-box;text-align: center;}#sk-container-id-28 label.sk-toggleable__label-arrow:before {content: \"▸\";float: left;margin-right: 0.25em;color: #696969;}#sk-container-id-28 label.sk-toggleable__label-arrow:hover:before {color: black;}#sk-container-id-28 div.sk-estimator:hover label.sk-toggleable__label-arrow:before {color: black;}#sk-container-id-28 div.sk-toggleable__content {max-height: 0;max-width: 0;overflow: hidden;text-align: left;background-color: #f0f8ff;}#sk-container-id-28 div.sk-toggleable__content pre {margin: 0.2em;color: black;border-radius: 0.25em;background-color: #f0f8ff;}#sk-container-id-28 input.sk-toggleable__control:checked~div.sk-toggleable__content {max-height: 200px;max-width: 100%;overflow: auto;}#sk-container-id-28 input.sk-toggleable__control:checked~label.sk-toggleable__label-arrow:before {content: \"▾\";}#sk-container-id-28 div.sk-estimator input.sk-toggleable__control:checked~label.sk-toggleable__label {background-color: #d4ebff;}#sk-container-id-28 div.sk-label input.sk-toggleable__control:checked~label.sk-toggleable__label {background-color: #d4ebff;}#sk-container-id-28 input.sk-hidden--visually {border: 0;clip: rect(1px 1px 1px 1px);clip: rect(1px, 1px, 1px, 1px);height: 1px;margin: -1px;overflow: hidden;padding: 0;position: absolute;width: 1px;}#sk-container-id-28 div.sk-estimator {font-family: monospace;background-color: #f0f8ff;border: 1px dotted black;border-radius: 0.25em;box-sizing: border-box;margin-bottom: 0.5em;}#sk-container-id-28 div.sk-estimator:hover {background-color: #d4ebff;}#sk-container-id-28 div.sk-parallel-item::after {content: \"\";width: 100%;border-bottom: 1px solid gray;flex-grow: 1;}#sk-container-id-28 div.sk-label:hover label.sk-toggleable__label {background-color: #d4ebff;}#sk-container-id-28 div.sk-serial::before {content: \"\";position: absolute;border-left: 1px solid gray;box-sizing: border-box;top: 0;bottom: 0;left: 50%;z-index: 0;}#sk-container-id-28 div.sk-serial {display: flex;flex-direction: column;align-items: center;background-color: white;padding-right: 0.2em;padding-left: 0.2em;position: relative;}#sk-container-id-28 div.sk-item {position: relative;z-index: 1;}#sk-container-id-28 div.sk-parallel {display: flex;align-items: stretch;justify-content: center;background-color: white;position: relative;}#sk-container-id-28 div.sk-item::before, #sk-container-id-28 div.sk-parallel-item::before {content: \"\";position: absolute;border-left: 1px solid gray;box-sizing: border-box;top: 0;bottom: 0;left: 50%;z-index: -1;}#sk-container-id-28 div.sk-parallel-item {display: flex;flex-direction: column;z-index: 1;position: relative;background-color: white;}#sk-container-id-28 div.sk-parallel-item:first-child::after {align-self: flex-end;width: 50%;}#sk-container-id-28 div.sk-parallel-item:last-child::after {align-self: flex-start;width: 50%;}#sk-container-id-28 div.sk-parallel-item:only-child::after {width: 0;}#sk-container-id-28 div.sk-dashed-wrapped {border: 1px dashed gray;margin: 0 0.4em 0.5em 0.4em;box-sizing: border-box;padding-bottom: 0.4em;background-color: white;}#sk-container-id-28 div.sk-label label {font-family: monospace;font-weight: bold;display: inline-block;line-height: 1.2em;}#sk-container-id-28 div.sk-label-container {text-align: center;}#sk-container-id-28 div.sk-container {/* jupyter's `normalize.less` sets `[hidden] { display: none; }` but bootstrap.min.css set `[hidden] { display: none !important; }` so we also need the `!important` here to be able to override the default hidden behavior on the sphinx rendered scikit-learn.org. See: https://github.com/scikit-learn/scikit-learn/issues/21755 */display: inline-block !important;position: relative;}#sk-container-id-28 div.sk-text-repr-fallback {display: none;}</style><div id=\"sk-container-id-28\" class=\"sk-top-container\"><div class=\"sk-text-repr-fallback\"><pre>RandomForestClassifier(criterion=&#x27;entropy&#x27;, max_depth=7, n_estimators=300,\n",
       "                       n_jobs=11, random_state=42)</pre><b>In a Jupyter environment, please rerun this cell to show the HTML representation or trust the notebook. <br />On GitHub, the HTML representation is unable to render, please try loading this page with nbviewer.org.</b></div><div class=\"sk-container\" hidden><div class=\"sk-item\"><div class=\"sk-estimator sk-toggleable\"><input class=\"sk-toggleable__control sk-hidden--visually\" id=\"sk-estimator-id-46\" type=\"checkbox\" checked><label for=\"sk-estimator-id-46\" class=\"sk-toggleable__label sk-toggleable__label-arrow\">RandomForestClassifier</label><div class=\"sk-toggleable__content\"><pre>RandomForestClassifier(criterion=&#x27;entropy&#x27;, max_depth=7, n_estimators=300,\n",
       "                       n_jobs=11, random_state=42)</pre></div></div></div></div></div>"
      ],
      "text/plain": [
       "RandomForestClassifier(criterion='entropy', max_depth=7, n_estimators=300,\n",
       "                       n_jobs=11, random_state=42)"
      ]
     },
     "execution_count": 167,
     "metadata": {},
     "output_type": "execute_result"
    }
   ],
   "source": [
    "%%time\n",
    "forest = RandomForestClassifier(criterion = 'entropy',n_estimators=300, random_state=42, n_jobs = os.cpu_count() - 1,max_depth=7)\n",
    "forest.fit(X_train_new, y_train_new.values.ravel())"
   ]
  },
  {
   "cell_type": "code",
   "execution_count": 168,
   "metadata": {},
   "outputs": [
    {
     "name": "stdout",
     "output_type": "stream",
     "text": [
      "Random forest baseline train score: 0.7096\n",
      "Random forest baseline test score: 0.5876\n"
     ]
    }
   ],
   "source": [
    "print(\"Random forest baseline train score:\",forest.score(X_train_new, y_train_new))\n",
    "print(\"Random forest baseline test score:\",forest.score(X_test_new, y_test_new))"
   ]
  },
  {
   "cell_type": "markdown",
   "metadata": {},
   "source": [
    "### Gradient boosting"
   ]
  },
  {
   "cell_type": "code",
   "execution_count": 108,
   "metadata": {},
   "outputs": [
    {
     "name": "stdout",
     "output_type": "stream",
     "text": [
      "      Iter       Train Loss   Remaining Time \n",
      "         1           1.3794           22.46m\n",
      "         2           1.3735           22.13m\n",
      "         3           1.3679           21.87m\n",
      "         4           1.3630           21.69m\n",
      "         5           1.3588           21.50m\n",
      "         6           1.3551           21.32m\n",
      "         7           1.3509           21.09m\n",
      "         8           1.3475           20.87m\n",
      "         9           1.3443           20.66m\n",
      "        10           1.3407           20.51m\n",
      "Wall time: 2min 31s\n"
     ]
    },
    {
     "data": {
      "text/html": [
       "<style>#sk-container-id-14 {color: black;background-color: white;}#sk-container-id-14 pre{padding: 0;}#sk-container-id-14 div.sk-toggleable {background-color: white;}#sk-container-id-14 label.sk-toggleable__label {cursor: pointer;display: block;width: 100%;margin-bottom: 0;padding: 0.3em;box-sizing: border-box;text-align: center;}#sk-container-id-14 label.sk-toggleable__label-arrow:before {content: \"▸\";float: left;margin-right: 0.25em;color: #696969;}#sk-container-id-14 label.sk-toggleable__label-arrow:hover:before {color: black;}#sk-container-id-14 div.sk-estimator:hover label.sk-toggleable__label-arrow:before {color: black;}#sk-container-id-14 div.sk-toggleable__content {max-height: 0;max-width: 0;overflow: hidden;text-align: left;background-color: #f0f8ff;}#sk-container-id-14 div.sk-toggleable__content pre {margin: 0.2em;color: black;border-radius: 0.25em;background-color: #f0f8ff;}#sk-container-id-14 input.sk-toggleable__control:checked~div.sk-toggleable__content {max-height: 200px;max-width: 100%;overflow: auto;}#sk-container-id-14 input.sk-toggleable__control:checked~label.sk-toggleable__label-arrow:before {content: \"▾\";}#sk-container-id-14 div.sk-estimator input.sk-toggleable__control:checked~label.sk-toggleable__label {background-color: #d4ebff;}#sk-container-id-14 div.sk-label input.sk-toggleable__control:checked~label.sk-toggleable__label {background-color: #d4ebff;}#sk-container-id-14 input.sk-hidden--visually {border: 0;clip: rect(1px 1px 1px 1px);clip: rect(1px, 1px, 1px, 1px);height: 1px;margin: -1px;overflow: hidden;padding: 0;position: absolute;width: 1px;}#sk-container-id-14 div.sk-estimator {font-family: monospace;background-color: #f0f8ff;border: 1px dotted black;border-radius: 0.25em;box-sizing: border-box;margin-bottom: 0.5em;}#sk-container-id-14 div.sk-estimator:hover {background-color: #d4ebff;}#sk-container-id-14 div.sk-parallel-item::after {content: \"\";width: 100%;border-bottom: 1px solid gray;flex-grow: 1;}#sk-container-id-14 div.sk-label:hover label.sk-toggleable__label {background-color: #d4ebff;}#sk-container-id-14 div.sk-serial::before {content: \"\";position: absolute;border-left: 1px solid gray;box-sizing: border-box;top: 0;bottom: 0;left: 50%;z-index: 0;}#sk-container-id-14 div.sk-serial {display: flex;flex-direction: column;align-items: center;background-color: white;padding-right: 0.2em;padding-left: 0.2em;position: relative;}#sk-container-id-14 div.sk-item {position: relative;z-index: 1;}#sk-container-id-14 div.sk-parallel {display: flex;align-items: stretch;justify-content: center;background-color: white;position: relative;}#sk-container-id-14 div.sk-item::before, #sk-container-id-14 div.sk-parallel-item::before {content: \"\";position: absolute;border-left: 1px solid gray;box-sizing: border-box;top: 0;bottom: 0;left: 50%;z-index: -1;}#sk-container-id-14 div.sk-parallel-item {display: flex;flex-direction: column;z-index: 1;position: relative;background-color: white;}#sk-container-id-14 div.sk-parallel-item:first-child::after {align-self: flex-end;width: 50%;}#sk-container-id-14 div.sk-parallel-item:last-child::after {align-self: flex-start;width: 50%;}#sk-container-id-14 div.sk-parallel-item:only-child::after {width: 0;}#sk-container-id-14 div.sk-dashed-wrapped {border: 1px dashed gray;margin: 0 0.4em 0.5em 0.4em;box-sizing: border-box;padding-bottom: 0.4em;background-color: white;}#sk-container-id-14 div.sk-label label {font-family: monospace;font-weight: bold;display: inline-block;line-height: 1.2em;}#sk-container-id-14 div.sk-label-container {text-align: center;}#sk-container-id-14 div.sk-container {/* jupyter's `normalize.less` sets `[hidden] { display: none; }` but bootstrap.min.css set `[hidden] { display: none !important; }` so we also need the `!important` here to be able to override the default hidden behavior on the sphinx rendered scikit-learn.org. See: https://github.com/scikit-learn/scikit-learn/issues/21755 */display: inline-block !important;position: relative;}#sk-container-id-14 div.sk-text-repr-fallback {display: none;}</style><div id=\"sk-container-id-14\" class=\"sk-top-container\"><div class=\"sk-text-repr-fallback\"><pre>GradientBoostingClassifier(n_iter_no_change=10, random_state=42, tol=0.5,\n",
       "                           verbose=1, warm_start=True)</pre><b>In a Jupyter environment, please rerun this cell to show the HTML representation or trust the notebook. <br />On GitHub, the HTML representation is unable to render, please try loading this page with nbviewer.org.</b></div><div class=\"sk-container\" hidden><div class=\"sk-item\"><div class=\"sk-estimator sk-toggleable\"><input class=\"sk-toggleable__control sk-hidden--visually\" id=\"sk-estimator-id-14\" type=\"checkbox\" checked><label for=\"sk-estimator-id-14\" class=\"sk-toggleable__label sk-toggleable__label-arrow\">GradientBoostingClassifier</label><div class=\"sk-toggleable__content\"><pre>GradientBoostingClassifier(n_iter_no_change=10, random_state=42, tol=0.5,\n",
       "                           verbose=1, warm_start=True)</pre></div></div></div></div></div>"
      ],
      "text/plain": [
       "GradientBoostingClassifier(n_iter_no_change=10, random_state=42, tol=0.5,\n",
       "                           verbose=1, warm_start=True)"
      ]
     },
     "execution_count": 108,
     "metadata": {},
     "output_type": "execute_result"
    }
   ],
   "source": [
    "%%time\n",
    "Gradient_classifier = GradientBoostingClassifier(max_features = None,random_state = 42, verbose = 1, warm_start = True, n_iter_no_change = 10, tol = 0.5)\n",
    "Gradient_classifier.fit(X_train_new, y_train_new.values.ravel())"
   ]
  },
  {
   "cell_type": "code",
   "execution_count": 109,
   "metadata": {},
   "outputs": [
    {
     "name": "stdout",
     "output_type": "stream",
     "text": [
      "Number of clases known to model: [0 1]\n",
      "Gradient classifier baseline training score: 0.6269777777777777\n",
      "Gradient classifier baseline test score: 0.5848\n"
     ]
    }
   ],
   "source": [
    "print(\"Number of clases known to model:\",Gradient_classifier.classes_)\n",
    "print(\"Gradient classifier baseline training score:\",Gradient_classifier.score(X_train_new, y_train_new))\n",
    "print(\"Gradient classifier baseline test score:\",Gradient_classifier.score(X_test_new, y_test_new))"
   ]
  },
  {
   "cell_type": "markdown",
   "metadata": {},
   "source": [
    "## Grid-search on models"
   ]
  },
  {
   "cell_type": "code",
   "execution_count": 110,
   "metadata": {},
   "outputs": [],
   "source": [
    "from sklearn.model_selection import GridSearchCV\n",
    "\n",
    "\"\"\"\n",
    "We will use gridsearch on the new PCA data since the training of the models is much faster on the data with less dimensions\n",
    "\"\"\""
   ]
  },
  {
   "cell_type": "code",
   "execution_count": 111,
   "metadata": {},
   "outputs": [],
   "source": [
    "def plot_grid_results(model_checked, grid_model): #Plots grid-search score results from best to worst\n",
    "    grid_data = pd.DataFrame(grid_model.cv_results_)\n",
    "    params = []\n",
    "    for param in grid_model.best_params_:\n",
    "        params.append(\"param_\"+param)\n",
    "    params.append('mean_test_score')\n",
    "    \n",
    "    grid_frame_mod = grid_data.loc[:,params]\n",
    "    grid_frame_mod = grid_frame_mod.fillna(value = \"None\") ##Replace None with 'None' strings for plotability.\n",
    "    grp = grid_frame_mod.groupby(by = params[:-1]).agg(lambda x: x).mean_test_score.nlargest(n = grid_data.shape[0])\n",
    "    min_value = grid_data['mean_test_score'].min()\n",
    "    max_value = grid_data['mean_test_score'].max()\n",
    "    \n",
    "    \n",
    "    ICD.display(grid_data)#Display the results data-frame\n",
    "    plt.figure(facecolor='black') \n",
    "    grp.plot(kind = \"bar\", figsize = (24, 8), color = \"Blue\")\n",
    "    ax = plt.axes()\n",
    "    ax.set_facecolor(\"black\")\n",
    "    plt.ylabel(\"Score\")\n",
    "    plt.title(\"Gridsearch results sorted from highest to lowest({0})\".format(model_checked))\n",
    "    ax.set_ylim([(min_value - 0.001) ,max_value])\n",
    "    plt.show()\n",
    "    msg = \"Best {0} model: {1} with an accuracy of {2}\".format(model_checked, grid_model.best_params_, grid_model.best_score_)\n",
    "    print(msg)"
   ]
  },
  {
   "cell_type": "markdown",
   "metadata": {},
   "source": [
    "### Logistic-regression"
   ]
  },
  {
   "cell_type": "code",
   "execution_count": 118,
   "metadata": {},
   "outputs": [
    {
     "name": "stdout",
     "output_type": "stream",
     "text": [
      "Fitting 3 folds for each of 10 candidates, totalling 30 fits\n",
      "[CV 1/3] END .................C=0.2, solver=sag;, score=0.532 total time=  13.7s\n",
      "[CV 2/3] END .................C=0.2, solver=sag;, score=0.529 total time=  10.8s\n",
      "[CV 3/3] END .................C=0.2, solver=sag;, score=0.529 total time=  10.7s\n",
      "[CV 1/3] END ................C=0.2, solver=saga;, score=0.532 total time=  15.9s\n",
      "[CV 2/3] END ................C=0.2, solver=saga;, score=0.533 total time=  15.3s\n",
      "[CV 3/3] END ................C=0.2, solver=saga;, score=0.531 total time=  18.2s\n",
      "[CV 1/3] END .................C=0.4, solver=sag;, score=0.532 total time=  11.5s\n",
      "[CV 2/3] END .................C=0.4, solver=sag;, score=0.529 total time=  10.9s\n",
      "[CV 3/3] END .................C=0.4, solver=sag;, score=0.529 total time=  10.8s\n",
      "[CV 1/3] END ................C=0.4, solver=saga;, score=0.532 total time=  16.3s\n",
      "[CV 2/3] END ................C=0.4, solver=saga;, score=0.533 total time=  15.4s\n",
      "[CV 3/3] END ................C=0.4, solver=saga;, score=0.531 total time=  15.5s\n",
      "[CV 1/3] END ..C=0.6000000000000001, solver=sag;, score=0.532 total time=  11.0s\n",
      "[CV 2/3] END ..C=0.6000000000000001, solver=sag;, score=0.529 total time=  10.9s\n",
      "[CV 3/3] END ..C=0.6000000000000001, solver=sag;, score=0.529 total time=  10.5s\n",
      "[CV 1/3] END .C=0.6000000000000001, solver=saga;, score=0.532 total time=  15.6s\n",
      "[CV 2/3] END .C=0.6000000000000001, solver=saga;, score=0.533 total time=  14.9s\n",
      "[CV 3/3] END .C=0.6000000000000001, solver=saga;, score=0.531 total time=  15.3s\n",
      "[CV 1/3] END .................C=0.8, solver=sag;, score=0.532 total time=  10.7s\n",
      "[CV 2/3] END .................C=0.8, solver=sag;, score=0.529 total time=  10.2s\n",
      "[CV 3/3] END .................C=0.8, solver=sag;, score=0.529 total time=  10.4s\n",
      "[CV 1/3] END ................C=0.8, solver=saga;, score=0.532 total time=  15.6s\n",
      "[CV 2/3] END ................C=0.8, solver=saga;, score=0.533 total time=  14.8s\n",
      "[CV 3/3] END ................C=0.8, solver=saga;, score=0.531 total time=  15.4s\n",
      "[CV 1/3] END .................C=1.0, solver=sag;, score=0.532 total time=  10.8s\n",
      "[CV 2/3] END .................C=1.0, solver=sag;, score=0.529 total time=  10.3s\n",
      "[CV 3/3] END .................C=1.0, solver=sag;, score=0.529 total time=  10.5s\n",
      "[CV 1/3] END ................C=1.0, solver=saga;, score=0.532 total time=  15.3s\n",
      "[CV 2/3] END ................C=1.0, solver=saga;, score=0.533 total time=  14.6s\n",
      "[CV 3/3] END ................C=1.0, solver=saga;, score=0.531 total time=  15.7s\n"
     ]
    }
   ],
   "source": [
    "LOG = LogisticRegression(class_weight = 'balanced', multi_class = 'ovr', tol = 0.01, random_state=42, n_jobs = os.cpu_count() - 1)\n",
    "parameters = {\"solver\": ['sag', 'saga'], \"C\" : np.arange(0.2,1.2,0.2)}\n",
    "LOG_grid = GridSearchCV(LOG, parameters, cv = 3 ,verbose = 4).fit(X_train_new, y_train_new.values.ravel())"
   ]
  },
  {
   "cell_type": "code",
   "execution_count": 119,
   "metadata": {},
   "outputs": [
    {
     "data": {
      "text/html": [
       "<div>\n",
       "<style scoped>\n",
       "    .dataframe tbody tr th:only-of-type {\n",
       "        vertical-align: middle;\n",
       "    }\n",
       "\n",
       "    .dataframe tbody tr th {\n",
       "        vertical-align: top;\n",
       "    }\n",
       "\n",
       "    .dataframe thead th {\n",
       "        text-align: right;\n",
       "    }\n",
       "</style>\n",
       "<table border=\"1\" class=\"dataframe\">\n",
       "  <thead>\n",
       "    <tr style=\"text-align: right;\">\n",
       "      <th></th>\n",
       "      <th>mean_fit_time</th>\n",
       "      <th>std_fit_time</th>\n",
       "      <th>mean_score_time</th>\n",
       "      <th>std_score_time</th>\n",
       "      <th>param_C</th>\n",
       "      <th>param_solver</th>\n",
       "      <th>params</th>\n",
       "      <th>split0_test_score</th>\n",
       "      <th>split1_test_score</th>\n",
       "      <th>split2_test_score</th>\n",
       "      <th>mean_test_score</th>\n",
       "      <th>std_test_score</th>\n",
       "      <th>rank_test_score</th>\n",
       "    </tr>\n",
       "  </thead>\n",
       "  <tbody>\n",
       "    <tr>\n",
       "      <th>0</th>\n",
       "      <td>11.812861</td>\n",
       "      <td>1.408972</td>\n",
       "      <td>0.037674</td>\n",
       "      <td>2.356290e-04</td>\n",
       "      <td>0.2</td>\n",
       "      <td>sag</td>\n",
       "      <td>{'C': 0.2, 'solver': 'sag'}</td>\n",
       "      <td>0.531733</td>\n",
       "      <td>0.529067</td>\n",
       "      <td>0.529467</td>\n",
       "      <td>0.530089</td>\n",
       "      <td>0.001174</td>\n",
       "      <td>6</td>\n",
       "    </tr>\n",
       "    <tr>\n",
       "      <th>1</th>\n",
       "      <td>16.540629</td>\n",
       "      <td>1.270218</td>\n",
       "      <td>0.037507</td>\n",
       "      <td>2.973602e-07</td>\n",
       "      <td>0.2</td>\n",
       "      <td>saga</td>\n",
       "      <td>{'C': 0.2, 'solver': 'saga'}</td>\n",
       "      <td>0.531867</td>\n",
       "      <td>0.532533</td>\n",
       "      <td>0.531467</td>\n",
       "      <td>0.531956</td>\n",
       "      <td>0.000440</td>\n",
       "      <td>1</td>\n",
       "    </tr>\n",
       "    <tr>\n",
       "      <th>2</th>\n",
       "      <td>11.116532</td>\n",
       "      <td>0.312968</td>\n",
       "      <td>0.040007</td>\n",
       "      <td>2.857906e-03</td>\n",
       "      <td>0.4</td>\n",
       "      <td>sag</td>\n",
       "      <td>{'C': 0.4, 'solver': 'sag'}</td>\n",
       "      <td>0.531733</td>\n",
       "      <td>0.529067</td>\n",
       "      <td>0.529467</td>\n",
       "      <td>0.530089</td>\n",
       "      <td>0.001174</td>\n",
       "      <td>6</td>\n",
       "    </tr>\n",
       "    <tr>\n",
       "      <th>3</th>\n",
       "      <td>15.791791</td>\n",
       "      <td>0.376857</td>\n",
       "      <td>0.038507</td>\n",
       "      <td>4.079268e-04</td>\n",
       "      <td>0.4</td>\n",
       "      <td>saga</td>\n",
       "      <td>{'C': 0.4, 'solver': 'saga'}</td>\n",
       "      <td>0.531867</td>\n",
       "      <td>0.532533</td>\n",
       "      <td>0.531467</td>\n",
       "      <td>0.531956</td>\n",
       "      <td>0.000440</td>\n",
       "      <td>1</td>\n",
       "    </tr>\n",
       "    <tr>\n",
       "      <th>4</th>\n",
       "      <td>10.841991</td>\n",
       "      <td>0.213838</td>\n",
       "      <td>0.038174</td>\n",
       "      <td>8.506791e-04</td>\n",
       "      <td>0.6</td>\n",
       "      <td>sag</td>\n",
       "      <td>{'C': 0.6000000000000001, 'solver': 'sag'}</td>\n",
       "      <td>0.531733</td>\n",
       "      <td>0.529067</td>\n",
       "      <td>0.529467</td>\n",
       "      <td>0.530089</td>\n",
       "      <td>0.001174</td>\n",
       "      <td>6</td>\n",
       "    </tr>\n",
       "    <tr>\n",
       "      <th>5</th>\n",
       "      <td>15.321157</td>\n",
       "      <td>0.272732</td>\n",
       "      <td>0.038841</td>\n",
       "      <td>6.228847e-04</td>\n",
       "      <td>0.6</td>\n",
       "      <td>saga</td>\n",
       "      <td>{'C': 0.6000000000000001, 'solver': 'saga'}</td>\n",
       "      <td>0.531867</td>\n",
       "      <td>0.532533</td>\n",
       "      <td>0.531467</td>\n",
       "      <td>0.531956</td>\n",
       "      <td>0.000440</td>\n",
       "      <td>1</td>\n",
       "    </tr>\n",
       "    <tr>\n",
       "      <th>6</th>\n",
       "      <td>10.479325</td>\n",
       "      <td>0.219865</td>\n",
       "      <td>0.037340</td>\n",
       "      <td>6.236069e-04</td>\n",
       "      <td>0.8</td>\n",
       "      <td>sag</td>\n",
       "      <td>{'C': 0.8, 'solver': 'sag'}</td>\n",
       "      <td>0.531733</td>\n",
       "      <td>0.529067</td>\n",
       "      <td>0.529467</td>\n",
       "      <td>0.530089</td>\n",
       "      <td>0.001174</td>\n",
       "      <td>6</td>\n",
       "    </tr>\n",
       "    <tr>\n",
       "      <th>7</th>\n",
       "      <td>15.294824</td>\n",
       "      <td>0.342784</td>\n",
       "      <td>0.037674</td>\n",
       "      <td>6.242872e-04</td>\n",
       "      <td>0.8</td>\n",
       "      <td>saga</td>\n",
       "      <td>{'C': 0.8, 'solver': 'saga'}</td>\n",
       "      <td>0.531867</td>\n",
       "      <td>0.532533</td>\n",
       "      <td>0.531467</td>\n",
       "      <td>0.531956</td>\n",
       "      <td>0.000440</td>\n",
       "      <td>1</td>\n",
       "    </tr>\n",
       "    <tr>\n",
       "      <th>8</th>\n",
       "      <td>10.579983</td>\n",
       "      <td>0.202709</td>\n",
       "      <td>0.039007</td>\n",
       "      <td>7.072243e-04</td>\n",
       "      <td>1</td>\n",
       "      <td>sag</td>\n",
       "      <td>{'C': 1.0, 'solver': 'sag'}</td>\n",
       "      <td>0.531733</td>\n",
       "      <td>0.529067</td>\n",
       "      <td>0.529467</td>\n",
       "      <td>0.530089</td>\n",
       "      <td>0.001174</td>\n",
       "      <td>6</td>\n",
       "    </tr>\n",
       "    <tr>\n",
       "      <th>9</th>\n",
       "      <td>15.232316</td>\n",
       "      <td>0.456996</td>\n",
       "      <td>0.037007</td>\n",
       "      <td>4.081214e-04</td>\n",
       "      <td>1</td>\n",
       "      <td>saga</td>\n",
       "      <td>{'C': 1.0, 'solver': 'saga'}</td>\n",
       "      <td>0.531867</td>\n",
       "      <td>0.532533</td>\n",
       "      <td>0.531467</td>\n",
       "      <td>0.531956</td>\n",
       "      <td>0.000440</td>\n",
       "      <td>1</td>\n",
       "    </tr>\n",
       "  </tbody>\n",
       "</table>\n",
       "</div>"
      ],
      "text/plain": [
       "   mean_fit_time  std_fit_time  mean_score_time  std_score_time param_C  \\\n",
       "0      11.812861      1.408972         0.037674    2.356290e-04     0.2   \n",
       "1      16.540629      1.270218         0.037507    2.973602e-07     0.2   \n",
       "2      11.116532      0.312968         0.040007    2.857906e-03     0.4   \n",
       "3      15.791791      0.376857         0.038507    4.079268e-04     0.4   \n",
       "4      10.841991      0.213838         0.038174    8.506791e-04     0.6   \n",
       "5      15.321157      0.272732         0.038841    6.228847e-04     0.6   \n",
       "6      10.479325      0.219865         0.037340    6.236069e-04     0.8   \n",
       "7      15.294824      0.342784         0.037674    6.242872e-04     0.8   \n",
       "8      10.579983      0.202709         0.039007    7.072243e-04       1   \n",
       "9      15.232316      0.456996         0.037007    4.081214e-04       1   \n",
       "\n",
       "  param_solver                                       params  \\\n",
       "0          sag                  {'C': 0.2, 'solver': 'sag'}   \n",
       "1         saga                 {'C': 0.2, 'solver': 'saga'}   \n",
       "2          sag                  {'C': 0.4, 'solver': 'sag'}   \n",
       "3         saga                 {'C': 0.4, 'solver': 'saga'}   \n",
       "4          sag   {'C': 0.6000000000000001, 'solver': 'sag'}   \n",
       "5         saga  {'C': 0.6000000000000001, 'solver': 'saga'}   \n",
       "6          sag                  {'C': 0.8, 'solver': 'sag'}   \n",
       "7         saga                 {'C': 0.8, 'solver': 'saga'}   \n",
       "8          sag                  {'C': 1.0, 'solver': 'sag'}   \n",
       "9         saga                 {'C': 1.0, 'solver': 'saga'}   \n",
       "\n",
       "   split0_test_score  split1_test_score  split2_test_score  mean_test_score  \\\n",
       "0           0.531733           0.529067           0.529467         0.530089   \n",
       "1           0.531867           0.532533           0.531467         0.531956   \n",
       "2           0.531733           0.529067           0.529467         0.530089   \n",
       "3           0.531867           0.532533           0.531467         0.531956   \n",
       "4           0.531733           0.529067           0.529467         0.530089   \n",
       "5           0.531867           0.532533           0.531467         0.531956   \n",
       "6           0.531733           0.529067           0.529467         0.530089   \n",
       "7           0.531867           0.532533           0.531467         0.531956   \n",
       "8           0.531733           0.529067           0.529467         0.530089   \n",
       "9           0.531867           0.532533           0.531467         0.531956   \n",
       "\n",
       "   std_test_score  rank_test_score  \n",
       "0        0.001174                6  \n",
       "1        0.000440                1  \n",
       "2        0.001174                6  \n",
       "3        0.000440                1  \n",
       "4        0.001174                6  \n",
       "5        0.000440                1  \n",
       "6        0.001174                6  \n",
       "7        0.000440                1  \n",
       "8        0.001174                6  \n",
       "9        0.000440                1  "
      ]
     },
     "metadata": {},
     "output_type": "display_data"
    },
    {
     "data": {
      "image/png": "[encoded data removed]",
      "text/plain": [
       "<Figure size 1728x576 with 1 Axes>"
      ]
     },
     "metadata": {},
     "output_type": "display_data"
    },
    {
     "name": "stdout",
     "output_type": "stream",
     "text": [
      "Best Logistic regression model: {'C': 0.2, 'solver': 'saga'} with an accuracy of 0.5319555555555556\n"
     ]
    }
   ],
   "source": [
    "plot_grid_results(\"Logistic regression\", LOG_grid)"
   ]
  },
  {
   "cell_type": "code",
   "execution_count": 122,
   "metadata": {},
   "outputs": [
    {
     "name": "stdout",
     "output_type": "stream",
     "text": [
      "Fitting 3 folds for each of 10 candidates, totalling 30 fits\n",
      "[CV 1/3] END .....l1_ratio=0.2, warm_start=True;, score=0.532 total time=  34.6s\n",
      "[CV 2/3] END .....l1_ratio=0.2, warm_start=True;, score=0.533 total time=  31.6s\n",
      "[CV 3/3] END .....l1_ratio=0.2, warm_start=True;, score=0.531 total time=  34.4s\n",
      "[CV 1/3] END ....l1_ratio=0.2, warm_start=False;, score=0.532 total time=  34.4s\n",
      "[CV 2/3] END ....l1_ratio=0.2, warm_start=False;, score=0.533 total time=  32.3s\n",
      "[CV 3/3] END ....l1_ratio=0.2, warm_start=False;, score=0.531 total time=  34.4s\n",
      "[CV 1/3] END .....l1_ratio=0.4, warm_start=True;, score=0.532 total time=  34.3s\n",
      "[CV 2/3] END .....l1_ratio=0.4, warm_start=True;, score=0.533 total time=  31.9s\n",
      "[CV 3/3] END .....l1_ratio=0.4, warm_start=True;, score=0.531 total time=  34.5s\n",
      "[CV 1/3] END ....l1_ratio=0.4, warm_start=False;, score=0.532 total time=  33.2s\n",
      "[CV 2/3] END ....l1_ratio=0.4, warm_start=False;, score=0.533 total time=  31.3s\n",
      "[CV 3/3] END ....l1_ratio=0.4, warm_start=False;, score=0.531 total time=  34.0s\n",
      "[CV 1/3] END l1_ratio=0.6000000000000001, warm_start=True;, score=0.532 total time=  33.4s\n",
      "[CV 2/3] END l1_ratio=0.6000000000000001, warm_start=True;, score=0.533 total time=  31.1s\n",
      "[CV 3/3] END l1_ratio=0.6000000000000001, warm_start=True;, score=0.531 total time=  33.6s\n",
      "[CV 1/3] END l1_ratio=0.6000000000000001, warm_start=False;, score=0.532 total time=  33.2s\n",
      "[CV 2/3] END l1_ratio=0.6000000000000001, warm_start=False;, score=0.533 total time=  30.9s\n",
      "[CV 3/3] END l1_ratio=0.6000000000000001, warm_start=False;, score=0.531 total time=  33.3s\n",
      "[CV 1/3] END .....l1_ratio=0.8, warm_start=True;, score=0.532 total time=  33.9s\n",
      "[CV 2/3] END .....l1_ratio=0.8, warm_start=True;, score=0.533 total time=  31.0s\n",
      "[CV 3/3] END .....l1_ratio=0.8, warm_start=True;, score=0.531 total time=  33.5s\n",
      "[CV 1/3] END ....l1_ratio=0.8, warm_start=False;, score=0.532 total time=  33.2s\n",
      "[CV 2/3] END ....l1_ratio=0.8, warm_start=False;, score=0.533 total time=  31.0s\n",
      "[CV 3/3] END ....l1_ratio=0.8, warm_start=False;, score=0.531 total time=  33.6s\n",
      "[CV 1/3] END .....l1_ratio=1.0, warm_start=True;, score=0.532 total time=  32.7s\n",
      "[CV 2/3] END .....l1_ratio=1.0, warm_start=True;, score=0.532 total time=  30.7s\n",
      "[CV 3/3] END .....l1_ratio=1.0, warm_start=True;, score=0.531 total time=  33.5s\n",
      "[CV 1/3] END ....l1_ratio=1.0, warm_start=False;, score=0.532 total time=  32.6s\n",
      "[CV 2/3] END ....l1_ratio=1.0, warm_start=False;, score=0.532 total time=  30.9s\n",
      "[CV 3/3] END ....l1_ratio=1.0, warm_start=False;, score=0.531 total time=  33.3s\n"
     ]
    }
   ],
   "source": [
    "LOG = LogisticRegression(penalty = 'elasticnet',solver = 'saga',class_weight = 'balanced', multi_class = 'ovr', tol = 0.01, random_state=42, n_jobs = os.cpu_count() - 1)\n",
    "parameters = {\"warm_start\" : [True, False], \"l1_ratio\" : np.arange(0.2,1.2,0.2)}\n",
    "LOG_grid = GridSearchCV(LOG, parameters, cv = 3 ,verbose = 4).fit(X_train_new, y_train_new.values.ravel())"
   ]
  },
  {
   "cell_type": "code",
   "execution_count": 123,
   "metadata": {},
   "outputs": [
    {
     "data": {
      "text/html": [
       "<div>\n",
       "<style scoped>\n",
       "    .dataframe tbody tr th:only-of-type {\n",
       "        vertical-align: middle;\n",
       "    }\n",
       "\n",
       "    .dataframe tbody tr th {\n",
       "        vertical-align: top;\n",
       "    }\n",
       "\n",
       "    .dataframe thead th {\n",
       "        text-align: right;\n",
       "    }\n",
       "</style>\n",
       "<table border=\"1\" class=\"dataframe\">\n",
       "  <thead>\n",
       "    <tr style=\"text-align: right;\">\n",
       "      <th></th>\n",
       "      <th>mean_fit_time</th>\n",
       "      <th>std_fit_time</th>\n",
       "      <th>mean_score_time</th>\n",
       "      <th>std_score_time</th>\n",
       "      <th>param_l1_ratio</th>\n",
       "      <th>param_warm_start</th>\n",
       "      <th>params</th>\n",
       "      <th>split0_test_score</th>\n",
       "      <th>split1_test_score</th>\n",
       "      <th>split2_test_score</th>\n",
       "      <th>mean_test_score</th>\n",
       "      <th>std_test_score</th>\n",
       "      <th>rank_test_score</th>\n",
       "    </tr>\n",
       "  </thead>\n",
       "  <tbody>\n",
       "    <tr>\n",
       "      <th>0</th>\n",
       "      <td>33.574159</td>\n",
       "      <td>1.390970</td>\n",
       "      <td>0.037507</td>\n",
       "      <td>0.000408</td>\n",
       "      <td>0.2</td>\n",
       "      <td>True</td>\n",
       "      <td>{'l1_ratio': 0.2, 'warm_start': True}</td>\n",
       "      <td>0.531733</td>\n",
       "      <td>0.532533</td>\n",
       "      <td>0.531467</td>\n",
       "      <td>0.531911</td>\n",
       "      <td>0.000453</td>\n",
       "      <td>7</td>\n",
       "    </tr>\n",
       "    <tr>\n",
       "      <th>1</th>\n",
       "      <td>33.777157</td>\n",
       "      <td>0.983374</td>\n",
       "      <td>0.038506</td>\n",
       "      <td>0.002161</td>\n",
       "      <td>0.2</td>\n",
       "      <td>False</td>\n",
       "      <td>{'l1_ratio': 0.2, 'warm_start': False}</td>\n",
       "      <td>0.531733</td>\n",
       "      <td>0.532533</td>\n",
       "      <td>0.531467</td>\n",
       "      <td>0.531911</td>\n",
       "      <td>0.000453</td>\n",
       "      <td>7</td>\n",
       "    </tr>\n",
       "    <tr>\n",
       "      <th>2</th>\n",
       "      <td>33.652652</td>\n",
       "      <td>1.178776</td>\n",
       "      <td>0.038340</td>\n",
       "      <td>0.001312</td>\n",
       "      <td>0.4</td>\n",
       "      <td>True</td>\n",
       "      <td>{'l1_ratio': 0.4, 'warm_start': True}</td>\n",
       "      <td>0.531867</td>\n",
       "      <td>0.532533</td>\n",
       "      <td>0.531467</td>\n",
       "      <td>0.531956</td>\n",
       "      <td>0.000440</td>\n",
       "      <td>1</td>\n",
       "    </tr>\n",
       "    <tr>\n",
       "      <th>3</th>\n",
       "      <td>32.873661</td>\n",
       "      <td>1.149436</td>\n",
       "      <td>0.039674</td>\n",
       "      <td>0.001700</td>\n",
       "      <td>0.4</td>\n",
       "      <td>False</td>\n",
       "      <td>{'l1_ratio': 0.4, 'warm_start': False}</td>\n",
       "      <td>0.531867</td>\n",
       "      <td>0.532533</td>\n",
       "      <td>0.531467</td>\n",
       "      <td>0.531956</td>\n",
       "      <td>0.000440</td>\n",
       "      <td>1</td>\n",
       "    </tr>\n",
       "    <tr>\n",
       "      <th>4</th>\n",
       "      <td>32.760652</td>\n",
       "      <td>1.140685</td>\n",
       "      <td>0.039174</td>\n",
       "      <td>0.001028</td>\n",
       "      <td>0.6</td>\n",
       "      <td>True</td>\n",
       "      <td>{'l1_ratio': 0.6000000000000001, 'warm_start':...</td>\n",
       "      <td>0.531867</td>\n",
       "      <td>0.532533</td>\n",
       "      <td>0.531467</td>\n",
       "      <td>0.531956</td>\n",
       "      <td>0.000440</td>\n",
       "      <td>1</td>\n",
       "    </tr>\n",
       "    <tr>\n",
       "      <th>5</th>\n",
       "      <td>32.511330</td>\n",
       "      <td>1.093727</td>\n",
       "      <td>0.038507</td>\n",
       "      <td>0.000816</td>\n",
       "      <td>0.6</td>\n",
       "      <td>False</td>\n",
       "      <td>{'l1_ratio': 0.6000000000000001, 'warm_start':...</td>\n",
       "      <td>0.531867</td>\n",
       "      <td>0.532533</td>\n",
       "      <td>0.531467</td>\n",
       "      <td>0.531956</td>\n",
       "      <td>0.000440</td>\n",
       "      <td>1</td>\n",
       "    </tr>\n",
       "    <tr>\n",
       "      <th>6</th>\n",
       "      <td>32.845491</td>\n",
       "      <td>1.249464</td>\n",
       "      <td>0.038007</td>\n",
       "      <td>0.000707</td>\n",
       "      <td>0.8</td>\n",
       "      <td>True</td>\n",
       "      <td>{'l1_ratio': 0.8, 'warm_start': True}</td>\n",
       "      <td>0.531867</td>\n",
       "      <td>0.532533</td>\n",
       "      <td>0.531467</td>\n",
       "      <td>0.531956</td>\n",
       "      <td>0.000440</td>\n",
       "      <td>1</td>\n",
       "    </tr>\n",
       "    <tr>\n",
       "      <th>7</th>\n",
       "      <td>32.671701</td>\n",
       "      <td>1.162729</td>\n",
       "      <td>0.040508</td>\n",
       "      <td>0.002677</td>\n",
       "      <td>0.8</td>\n",
       "      <td>False</td>\n",
       "      <td>{'l1_ratio': 0.8, 'warm_start': False}</td>\n",
       "      <td>0.531867</td>\n",
       "      <td>0.532533</td>\n",
       "      <td>0.531467</td>\n",
       "      <td>0.531956</td>\n",
       "      <td>0.000440</td>\n",
       "      <td>1</td>\n",
       "    </tr>\n",
       "    <tr>\n",
       "      <th>8</th>\n",
       "      <td>32.346945</td>\n",
       "      <td>1.167810</td>\n",
       "      <td>0.038841</td>\n",
       "      <td>0.001312</td>\n",
       "      <td>1</td>\n",
       "      <td>True</td>\n",
       "      <td>{'l1_ratio': 1.0, 'warm_start': True}</td>\n",
       "      <td>0.531867</td>\n",
       "      <td>0.532400</td>\n",
       "      <td>0.531467</td>\n",
       "      <td>0.531911</td>\n",
       "      <td>0.000382</td>\n",
       "      <td>7</td>\n",
       "    </tr>\n",
       "    <tr>\n",
       "      <th>9</th>\n",
       "      <td>32.301157</td>\n",
       "      <td>1.007919</td>\n",
       "      <td>0.038507</td>\n",
       "      <td>0.000707</td>\n",
       "      <td>1</td>\n",
       "      <td>False</td>\n",
       "      <td>{'l1_ratio': 1.0, 'warm_start': False}</td>\n",
       "      <td>0.531867</td>\n",
       "      <td>0.532400</td>\n",
       "      <td>0.531467</td>\n",
       "      <td>0.531911</td>\n",
       "      <td>0.000382</td>\n",
       "      <td>7</td>\n",
       "    </tr>\n",
       "  </tbody>\n",
       "</table>\n",
       "</div>"
      ],
      "text/plain": [
       "   mean_fit_time  std_fit_time  mean_score_time  std_score_time  \\\n",
       "0      33.574159      1.390970         0.037507        0.000408   \n",
       "1      33.777157      0.983374         0.038506        0.002161   \n",
       "2      33.652652      1.178776         0.038340        0.001312   \n",
       "3      32.873661      1.149436         0.039674        0.001700   \n",
       "4      32.760652      1.140685         0.039174        0.001028   \n",
       "5      32.511330      1.093727         0.038507        0.000816   \n",
       "6      32.845491      1.249464         0.038007        0.000707   \n",
       "7      32.671701      1.162729         0.040508        0.002677   \n",
       "8      32.346945      1.167810         0.038841        0.001312   \n",
       "9      32.301157      1.007919         0.038507        0.000707   \n",
       "\n",
       "  param_l1_ratio param_warm_start  \\\n",
       "0            0.2             True   \n",
       "1            0.2            False   \n",
       "2            0.4             True   \n",
       "3            0.4            False   \n",
       "4            0.6             True   \n",
       "5            0.6            False   \n",
       "6            0.8             True   \n",
       "7            0.8            False   \n",
       "8              1             True   \n",
       "9              1            False   \n",
       "\n",
       "                                              params  split0_test_score  \\\n",
       "0              {'l1_ratio': 0.2, 'warm_start': True}           0.531733   \n",
       "1             {'l1_ratio': 0.2, 'warm_start': False}           0.531733   \n",
       "2              {'l1_ratio': 0.4, 'warm_start': True}           0.531867   \n",
       "3             {'l1_ratio': 0.4, 'warm_start': False}           0.531867   \n",
       "4  {'l1_ratio': 0.6000000000000001, 'warm_start':...           0.531867   \n",
       "5  {'l1_ratio': 0.6000000000000001, 'warm_start':...           0.531867   \n",
       "6              {'l1_ratio': 0.8, 'warm_start': True}           0.531867   \n",
       "7             {'l1_ratio': 0.8, 'warm_start': False}           0.531867   \n",
       "8              {'l1_ratio': 1.0, 'warm_start': True}           0.531867   \n",
       "9             {'l1_ratio': 1.0, 'warm_start': False}           0.531867   \n",
       "\n",
       "   split1_test_score  split2_test_score  mean_test_score  std_test_score  \\\n",
       "0           0.532533           0.531467         0.531911        0.000453   \n",
       "1           0.532533           0.531467         0.531911        0.000453   \n",
       "2           0.532533           0.531467         0.531956        0.000440   \n",
       "3           0.532533           0.531467         0.531956        0.000440   \n",
       "4           0.532533           0.531467         0.531956        0.000440   \n",
       "5           0.532533           0.531467         0.531956        0.000440   \n",
       "6           0.532533           0.531467         0.531956        0.000440   \n",
       "7           0.532533           0.531467         0.531956        0.000440   \n",
       "8           0.532400           0.531467         0.531911        0.000382   \n",
       "9           0.532400           0.531467         0.531911        0.000382   \n",
       "\n",
       "   rank_test_score  \n",
       "0                7  \n",
       "1                7  \n",
       "2                1  \n",
       "3                1  \n",
       "4                1  \n",
       "5                1  \n",
       "6                1  \n",
       "7                1  \n",
       "8                7  \n",
       "9                7  "
      ]
     },
     "metadata": {},
     "output_type": "display_data"
    },
    {
     "data": {
      "image/png": "[encoded data removed]",
      "text/plain": [
       "<Figure size 1728x576 with 1 Axes>"
      ]
     },
     "metadata": {},
     "output_type": "display_data"
    },
    {
     "name": "stdout",
     "output_type": "stream",
     "text": [
      "Best Logistic regression model: {'l1_ratio': 0.4, 'warm_start': True} with an accuracy of 0.5319555555555556\n"
     ]
    }
   ],
   "source": [
    "plot_grid_results(\"Logistic regression\", LOG_grid)"
   ]
  },
  {
   "cell_type": "markdown",
   "metadata": {},
   "source": [
    "### Naive bayes"
   ]
  },
  {
   "cell_type": "code",
   "execution_count": 139,
   "metadata": {},
   "outputs": [
    {
     "name": "stdout",
     "output_type": "stream",
     "text": [
      "Fitting 3 folds for each of 5 candidates, totalling 15 fits\n",
      "[CV 1/3] END .........................alpha=0.2;, score=0.530 total time=   1.1s\n",
      "[CV 2/3] END .........................alpha=0.2;, score=0.528 total time=   1.1s\n",
      "[CV 3/3] END .........................alpha=0.2;, score=0.521 total time=   1.1s\n",
      "[CV 1/3] END .........................alpha=0.4;, score=0.530 total time=   1.1s\n",
      "[CV 2/3] END .........................alpha=0.4;, score=0.528 total time=   1.1s\n",
      "[CV 3/3] END .........................alpha=0.4;, score=0.521 total time=   1.1s\n",
      "[CV 1/3] END ..........alpha=0.6000000000000001;, score=0.530 total time=   1.1s\n",
      "[CV 2/3] END ..........alpha=0.6000000000000001;, score=0.528 total time=   1.1s\n",
      "[CV 3/3] END ..........alpha=0.6000000000000001;, score=0.521 total time=   1.1s\n",
      "[CV 1/3] END .........................alpha=0.8;, score=0.530 total time=   1.1s\n",
      "[CV 2/3] END .........................alpha=0.8;, score=0.528 total time=   1.1s\n",
      "[CV 3/3] END .........................alpha=0.8;, score=0.521 total time=   1.1s\n",
      "[CV 1/3] END .........................alpha=1.0;, score=0.530 total time=   1.1s\n",
      "[CV 2/3] END .........................alpha=1.0;, score=0.528 total time=   1.1s\n",
      "[CV 3/3] END .........................alpha=1.0;, score=0.521 total time=   1.1s\n"
     ]
    }
   ],
   "source": [
    "BAYES = BernoulliNB()\n",
    "parameters = {\"alpha\": np.arange(0.2,1.2,0.2)}\n",
    "BAYES_grid = GridSearchCV(BAYES, parameters, cv = 3 ,verbose = 4).fit(X_train_new, y_train_new.values.ravel())"
   ]
  },
  {
   "cell_type": "code",
   "execution_count": 140,
   "metadata": {},
   "outputs": [
    {
     "data": {
      "text/html": [
       "<div>\n",
       "<style scoped>\n",
       "    .dataframe tbody tr th:only-of-type {\n",
       "        vertical-align: middle;\n",
       "    }\n",
       "\n",
       "    .dataframe tbody tr th {\n",
       "        vertical-align: top;\n",
       "    }\n",
       "\n",
       "    .dataframe thead th {\n",
       "        text-align: right;\n",
       "    }\n",
       "</style>\n",
       "<table border=\"1\" class=\"dataframe\">\n",
       "  <thead>\n",
       "    <tr style=\"text-align: right;\">\n",
       "      <th></th>\n",
       "      <th>mean_fit_time</th>\n",
       "      <th>std_fit_time</th>\n",
       "      <th>mean_score_time</th>\n",
       "      <th>std_score_time</th>\n",
       "      <th>param_alpha</th>\n",
       "      <th>params</th>\n",
       "      <th>split0_test_score</th>\n",
       "      <th>split1_test_score</th>\n",
       "      <th>split2_test_score</th>\n",
       "      <th>mean_test_score</th>\n",
       "      <th>std_test_score</th>\n",
       "      <th>rank_test_score</th>\n",
       "    </tr>\n",
       "  </thead>\n",
       "  <tbody>\n",
       "    <tr>\n",
       "      <th>0</th>\n",
       "      <td>0.841647</td>\n",
       "      <td>0.005355</td>\n",
       "      <td>0.365065</td>\n",
       "      <td>0.008729</td>\n",
       "      <td>0.2</td>\n",
       "      <td>{'alpha': 0.2}</td>\n",
       "      <td>0.529733</td>\n",
       "      <td>0.528267</td>\n",
       "      <td>0.521467</td>\n",
       "      <td>0.526489</td>\n",
       "      <td>0.003601</td>\n",
       "      <td>1</td>\n",
       "    </tr>\n",
       "    <tr>\n",
       "      <th>1</th>\n",
       "      <td>0.833146</td>\n",
       "      <td>0.004814</td>\n",
       "      <td>0.362564</td>\n",
       "      <td>0.002160</td>\n",
       "      <td>0.4</td>\n",
       "      <td>{'alpha': 0.4}</td>\n",
       "      <td>0.529733</td>\n",
       "      <td>0.528267</td>\n",
       "      <td>0.521467</td>\n",
       "      <td>0.526489</td>\n",
       "      <td>0.003601</td>\n",
       "      <td>1</td>\n",
       "    </tr>\n",
       "    <tr>\n",
       "      <th>2</th>\n",
       "      <td>0.852983</td>\n",
       "      <td>0.003794</td>\n",
       "      <td>0.359230</td>\n",
       "      <td>0.001248</td>\n",
       "      <td>0.6</td>\n",
       "      <td>{'alpha': 0.6000000000000001}</td>\n",
       "      <td>0.529733</td>\n",
       "      <td>0.528267</td>\n",
       "      <td>0.521467</td>\n",
       "      <td>0.526489</td>\n",
       "      <td>0.003601</td>\n",
       "      <td>1</td>\n",
       "    </tr>\n",
       "    <tr>\n",
       "      <th>3</th>\n",
       "      <td>0.839148</td>\n",
       "      <td>0.008379</td>\n",
       "      <td>0.364230</td>\n",
       "      <td>0.004008</td>\n",
       "      <td>0.8</td>\n",
       "      <td>{'alpha': 0.8}</td>\n",
       "      <td>0.529733</td>\n",
       "      <td>0.528267</td>\n",
       "      <td>0.521467</td>\n",
       "      <td>0.526489</td>\n",
       "      <td>0.003601</td>\n",
       "      <td>1</td>\n",
       "    </tr>\n",
       "    <tr>\n",
       "      <th>4</th>\n",
       "      <td>0.842815</td>\n",
       "      <td>0.015630</td>\n",
       "      <td>0.363730</td>\n",
       "      <td>0.006512</td>\n",
       "      <td>1</td>\n",
       "      <td>{'alpha': 1.0}</td>\n",
       "      <td>0.529733</td>\n",
       "      <td>0.528267</td>\n",
       "      <td>0.521467</td>\n",
       "      <td>0.526489</td>\n",
       "      <td>0.003601</td>\n",
       "      <td>1</td>\n",
       "    </tr>\n",
       "  </tbody>\n",
       "</table>\n",
       "</div>"
      ],
      "text/plain": [
       "   mean_fit_time  std_fit_time  mean_score_time  std_score_time param_alpha  \\\n",
       "0       0.841647      0.005355         0.365065        0.008729         0.2   \n",
       "1       0.833146      0.004814         0.362564        0.002160         0.4   \n",
       "2       0.852983      0.003794         0.359230        0.001248         0.6   \n",
       "3       0.839148      0.008379         0.364230        0.004008         0.8   \n",
       "4       0.842815      0.015630         0.363730        0.006512           1   \n",
       "\n",
       "                          params  split0_test_score  split1_test_score  \\\n",
       "0                 {'alpha': 0.2}           0.529733           0.528267   \n",
       "1                 {'alpha': 0.4}           0.529733           0.528267   \n",
       "2  {'alpha': 0.6000000000000001}           0.529733           0.528267   \n",
       "3                 {'alpha': 0.8}           0.529733           0.528267   \n",
       "4                 {'alpha': 1.0}           0.529733           0.528267   \n",
       "\n",
       "   split2_test_score  mean_test_score  std_test_score  rank_test_score  \n",
       "0           0.521467         0.526489        0.003601                1  \n",
       "1           0.521467         0.526489        0.003601                1  \n",
       "2           0.521467         0.526489        0.003601                1  \n",
       "3           0.521467         0.526489        0.003601                1  \n",
       "4           0.521467         0.526489        0.003601                1  "
      ]
     },
     "metadata": {},
     "output_type": "display_data"
    },
    {
     "data": {
      "image/png": "[encoded data removed]",
      "text/plain": [
       "<Figure size 1728x576 with 1 Axes>"
      ]
     },
     "metadata": {},
     "output_type": "display_data"
    },
    {
     "name": "stdout",
     "output_type": "stream",
     "text": [
      "Best Naive bayes model: {'alpha': 0.2} with an accuracy of 0.5264888888888888\n"
     ]
    }
   ],
   "source": [
    "plot_grid_results(\"Naive bayes\", BAYES_grid)"
   ]
  },
  {
   "cell_type": "markdown",
   "metadata": {},
   "source": [
    "### Random forest"
   ]
  },
  {
   "cell_type": "code",
   "execution_count": 142,
   "metadata": {},
   "outputs": [
    {
     "name": "stdout",
     "output_type": "stream",
     "text": [
      "Fitting 3 folds for each of 14 candidates, totalling 42 fits\n",
      "[CV 1/3] END ...criterion=gini, n_estimators=50;, score=0.581 total time=   5.7s\n",
      "[CV 2/3] END ...criterion=gini, n_estimators=50;, score=0.576 total time=   6.3s\n",
      "[CV 3/3] END ...criterion=gini, n_estimators=50;, score=0.580 total time=   5.7s\n",
      "[CV 1/3] END ..criterion=gini, n_estimators=100;, score=0.592 total time=  10.4s\n",
      "[CV 2/3] END ..criterion=gini, n_estimators=100;, score=0.588 total time=  10.8s\n",
      "[CV 3/3] END ..criterion=gini, n_estimators=100;, score=0.588 total time=  11.0s\n",
      "[CV 1/3] END ..criterion=gini, n_estimators=150;, score=0.594 total time=  15.5s\n",
      "[CV 2/3] END ..criterion=gini, n_estimators=150;, score=0.591 total time=  15.9s\n",
      "[CV 3/3] END ..criterion=gini, n_estimators=150;, score=0.588 total time=  16.3s\n",
      "[CV 1/3] END ..criterion=gini, n_estimators=200;, score=0.594 total time=  20.6s\n",
      "[CV 2/3] END ..criterion=gini, n_estimators=200;, score=0.594 total time=  20.9s\n",
      "[CV 3/3] END ..criterion=gini, n_estimators=200;, score=0.591 total time=  21.2s\n",
      "[CV 1/3] END ..criterion=gini, n_estimators=250;, score=0.596 total time=  25.8s\n",
      "[CV 2/3] END ..criterion=gini, n_estimators=250;, score=0.594 total time=  25.6s\n",
      "[CV 3/3] END ..criterion=gini, n_estimators=250;, score=0.590 total time=  26.1s\n",
      "[CV 1/3] END ..criterion=gini, n_estimators=300;, score=0.598 total time=  30.1s\n",
      "[CV 2/3] END ..criterion=gini, n_estimators=300;, score=0.596 total time=  30.3s\n",
      "[CV 3/3] END ..criterion=gini, n_estimators=300;, score=0.592 total time=  30.7s\n",
      "[CV 1/3] END ..criterion=gini, n_estimators=350;, score=0.598 total time=  35.3s\n",
      "[CV 2/3] END ..criterion=gini, n_estimators=350;, score=0.597 total time=  35.5s\n",
      "[CV 3/3] END ..criterion=gini, n_estimators=350;, score=0.592 total time=  35.9s\n",
      "[CV 1/3] END criterion=entropy, n_estimators=50;, score=0.587 total time=  10.0s\n",
      "[CV 2/3] END criterion=entropy, n_estimators=50;, score=0.576 total time=   9.9s\n",
      "[CV 3/3] END criterion=entropy, n_estimators=50;, score=0.574 total time=  10.0s\n",
      "[CV 1/3] END criterion=entropy, n_estimators=100;, score=0.595 total time=  19.1s\n",
      "[CV 2/3] END criterion=entropy, n_estimators=100;, score=0.595 total time=  18.9s\n",
      "[CV 3/3] END criterion=entropy, n_estimators=100;, score=0.587 total time=  19.3s\n",
      "[CV 1/3] END criterion=entropy, n_estimators=150;, score=0.606 total time=  29.0s\n",
      "[CV 2/3] END criterion=entropy, n_estimators=150;, score=0.601 total time=  28.2s\n",
      "[CV 3/3] END criterion=entropy, n_estimators=150;, score=0.589 total time=  28.8s\n",
      "[CV 1/3] END criterion=entropy, n_estimators=200;, score=0.606 total time=  37.6s\n",
      "[CV 2/3] END criterion=entropy, n_estimators=200;, score=0.602 total time=  37.0s\n",
      "[CV 3/3] END criterion=entropy, n_estimators=200;, score=0.588 total time=  36.9s\n",
      "[CV 1/3] END criterion=entropy, n_estimators=250;, score=0.608 total time=  45.6s\n",
      "[CV 2/3] END criterion=entropy, n_estimators=250;, score=0.601 total time=  45.5s\n",
      "[CV 3/3] END criterion=entropy, n_estimators=250;, score=0.593 total time=  45.8s\n",
      "[CV 1/3] END criterion=entropy, n_estimators=300;, score=0.610 total time=  54.7s\n",
      "[CV 2/3] END criterion=entropy, n_estimators=300;, score=0.600 total time=  55.0s\n",
      "[CV 3/3] END criterion=entropy, n_estimators=300;, score=0.598 total time=  55.4s\n",
      "[CV 1/3] END criterion=entropy, n_estimators=350;, score=0.607 total time= 1.1min\n",
      "[CV 2/3] END criterion=entropy, n_estimators=350;, score=0.601 total time= 1.1min\n",
      "[CV 3/3] END criterion=entropy, n_estimators=350;, score=0.596 total time= 1.1min\n"
     ]
    }
   ],
   "source": [
    "FOREST = RandomForestClassifier(random_state=42, n_jobs = os.cpu_count() - 1)\n",
    "parameters = {\"criterion\": [\"gini\", \"entropy\"], \"n_estimators\" : np.arange(50,400,50)}\n",
    "FOREST_grid = GridSearchCV(FOREST, parameters, cv = 3 ,verbose = 4).fit(X_train_new, y_train_new.values.ravel())"
   ]
  },
  {
   "cell_type": "code",
   "execution_count": 143,
   "metadata": {},
   "outputs": [
    {
     "data": {
      "text/html": [
       "<div>\n",
       "<style scoped>\n",
       "    .dataframe tbody tr th:only-of-type {\n",
       "        vertical-align: middle;\n",
       "    }\n",
       "\n",
       "    .dataframe tbody tr th {\n",
       "        vertical-align: top;\n",
       "    }\n",
       "\n",
       "    .dataframe thead th {\n",
       "        text-align: right;\n",
       "    }\n",
       "</style>\n",
       "<table border=\"1\" class=\"dataframe\">\n",
       "  <thead>\n",
       "    <tr style=\"text-align: right;\">\n",
       "      <th></th>\n",
       "      <th>mean_fit_time</th>\n",
       "      <th>std_fit_time</th>\n",
       "      <th>mean_score_time</th>\n",
       "      <th>std_score_time</th>\n",
       "      <th>param_criterion</th>\n",
       "      <th>param_n_estimators</th>\n",
       "      <th>params</th>\n",
       "      <th>split0_test_score</th>\n",
       "      <th>split1_test_score</th>\n",
       "      <th>split2_test_score</th>\n",
       "      <th>mean_test_score</th>\n",
       "      <th>std_test_score</th>\n",
       "      <th>rank_test_score</th>\n",
       "    </tr>\n",
       "  </thead>\n",
       "  <tbody>\n",
       "    <tr>\n",
       "      <th>0</th>\n",
       "      <td>5.927792</td>\n",
       "      <td>0.244902</td>\n",
       "      <td>0.084514</td>\n",
       "      <td>0.002829</td>\n",
       "      <td>gini</td>\n",
       "      <td>50</td>\n",
       "      <td>{'criterion': 'gini', 'n_estimators': 50}</td>\n",
       "      <td>0.580933</td>\n",
       "      <td>0.576400</td>\n",
       "      <td>0.580400</td>\n",
       "      <td>0.579244</td>\n",
       "      <td>0.002023</td>\n",
       "      <td>13</td>\n",
       "    </tr>\n",
       "    <tr>\n",
       "      <th>1</th>\n",
       "      <td>10.713282</td>\n",
       "      <td>0.257511</td>\n",
       "      <td>0.112520</td>\n",
       "      <td>0.004083</td>\n",
       "      <td>gini</td>\n",
       "      <td>100</td>\n",
       "      <td>{'criterion': 'gini', 'n_estimators': 100}</td>\n",
       "      <td>0.592000</td>\n",
       "      <td>0.588400</td>\n",
       "      <td>0.588133</td>\n",
       "      <td>0.589511</td>\n",
       "      <td>0.001763</td>\n",
       "      <td>12</td>\n",
       "    </tr>\n",
       "    <tr>\n",
       "      <th>2</th>\n",
       "      <td>15.835306</td>\n",
       "      <td>0.309664</td>\n",
       "      <td>0.142525</td>\n",
       "      <td>0.004244</td>\n",
       "      <td>gini</td>\n",
       "      <td>150</td>\n",
       "      <td>{'criterion': 'gini', 'n_estimators': 150}</td>\n",
       "      <td>0.593733</td>\n",
       "      <td>0.591200</td>\n",
       "      <td>0.587867</td>\n",
       "      <td>0.590933</td>\n",
       "      <td>0.002402</td>\n",
       "      <td>11</td>\n",
       "    </tr>\n",
       "    <tr>\n",
       "      <th>3</th>\n",
       "      <td>20.821136</td>\n",
       "      <td>0.226859</td>\n",
       "      <td>0.158694</td>\n",
       "      <td>0.000851</td>\n",
       "      <td>gini</td>\n",
       "      <td>200</td>\n",
       "      <td>{'criterion': 'gini', 'n_estimators': 200}</td>\n",
       "      <td>0.594267</td>\n",
       "      <td>0.594267</td>\n",
       "      <td>0.590533</td>\n",
       "      <td>0.593022</td>\n",
       "      <td>0.001760</td>\n",
       "      <td>9</td>\n",
       "    </tr>\n",
       "    <tr>\n",
       "      <th>4</th>\n",
       "      <td>25.724630</td>\n",
       "      <td>0.182822</td>\n",
       "      <td>0.190033</td>\n",
       "      <td>0.008843</td>\n",
       "      <td>gini</td>\n",
       "      <td>250</td>\n",
       "      <td>{'criterion': 'gini', 'n_estimators': 250}</td>\n",
       "      <td>0.596267</td>\n",
       "      <td>0.593867</td>\n",
       "      <td>0.589600</td>\n",
       "      <td>0.593244</td>\n",
       "      <td>0.002757</td>\n",
       "      <td>8</td>\n",
       "    </tr>\n",
       "    <tr>\n",
       "      <th>5</th>\n",
       "      <td>30.281957</td>\n",
       "      <td>0.243494</td>\n",
       "      <td>0.217872</td>\n",
       "      <td>0.009802</td>\n",
       "      <td>gini</td>\n",
       "      <td>300</td>\n",
       "      <td>{'criterion': 'gini', 'n_estimators': 300}</td>\n",
       "      <td>0.597733</td>\n",
       "      <td>0.595733</td>\n",
       "      <td>0.591733</td>\n",
       "      <td>0.595067</td>\n",
       "      <td>0.002494</td>\n",
       "      <td>7</td>\n",
       "    </tr>\n",
       "    <tr>\n",
       "      <th>6</th>\n",
       "      <td>35.437794</td>\n",
       "      <td>0.268307</td>\n",
       "      <td>0.234541</td>\n",
       "      <td>0.002859</td>\n",
       "      <td>gini</td>\n",
       "      <td>350</td>\n",
       "      <td>{'criterion': 'gini', 'n_estimators': 350}</td>\n",
       "      <td>0.598267</td>\n",
       "      <td>0.596533</td>\n",
       "      <td>0.592267</td>\n",
       "      <td>0.595689</td>\n",
       "      <td>0.002521</td>\n",
       "      <td>6</td>\n",
       "    </tr>\n",
       "    <tr>\n",
       "      <th>7</th>\n",
       "      <td>9.952174</td>\n",
       "      <td>0.042396</td>\n",
       "      <td>0.082347</td>\n",
       "      <td>0.001434</td>\n",
       "      <td>entropy</td>\n",
       "      <td>50</td>\n",
       "      <td>{'criterion': 'entropy', 'n_estimators': 50}</td>\n",
       "      <td>0.587067</td>\n",
       "      <td>0.576267</td>\n",
       "      <td>0.573600</td>\n",
       "      <td>0.578978</td>\n",
       "      <td>0.005822</td>\n",
       "      <td>14</td>\n",
       "    </tr>\n",
       "    <tr>\n",
       "      <th>8</th>\n",
       "      <td>19.078280</td>\n",
       "      <td>0.189348</td>\n",
       "      <td>0.105185</td>\n",
       "      <td>0.002625</td>\n",
       "      <td>entropy</td>\n",
       "      <td>100</td>\n",
       "      <td>{'criterion': 'entropy', 'n_estimators': 100}</td>\n",
       "      <td>0.595333</td>\n",
       "      <td>0.594800</td>\n",
       "      <td>0.587467</td>\n",
       "      <td>0.592533</td>\n",
       "      <td>0.003589</td>\n",
       "      <td>10</td>\n",
       "    </tr>\n",
       "    <tr>\n",
       "      <th>9</th>\n",
       "      <td>28.630303</td>\n",
       "      <td>0.362360</td>\n",
       "      <td>0.128522</td>\n",
       "      <td>0.001473</td>\n",
       "      <td>entropy</td>\n",
       "      <td>150</td>\n",
       "      <td>{'criterion': 'entropy', 'n_estimators': 150}</td>\n",
       "      <td>0.605600</td>\n",
       "      <td>0.600533</td>\n",
       "      <td>0.589333</td>\n",
       "      <td>0.598489</td>\n",
       "      <td>0.006796</td>\n",
       "      <td>5</td>\n",
       "    </tr>\n",
       "    <tr>\n",
       "      <th>10</th>\n",
       "      <td>37.092474</td>\n",
       "      <td>0.310519</td>\n",
       "      <td>0.150860</td>\n",
       "      <td>0.001028</td>\n",
       "      <td>entropy</td>\n",
       "      <td>200</td>\n",
       "      <td>{'criterion': 'entropy', 'n_estimators': 200}</td>\n",
       "      <td>0.606000</td>\n",
       "      <td>0.601733</td>\n",
       "      <td>0.588400</td>\n",
       "      <td>0.598711</td>\n",
       "      <td>0.007496</td>\n",
       "      <td>4</td>\n",
       "    </tr>\n",
       "    <tr>\n",
       "      <th>11</th>\n",
       "      <td>45.571307</td>\n",
       "      <td>0.132577</td>\n",
       "      <td>0.175365</td>\n",
       "      <td>0.002322</td>\n",
       "      <td>entropy</td>\n",
       "      <td>250</td>\n",
       "      <td>{'criterion': 'entropy', 'n_estimators': 250}</td>\n",
       "      <td>0.607600</td>\n",
       "      <td>0.600800</td>\n",
       "      <td>0.593200</td>\n",
       "      <td>0.600533</td>\n",
       "      <td>0.005882</td>\n",
       "      <td>3</td>\n",
       "    </tr>\n",
       "    <tr>\n",
       "      <th>12</th>\n",
       "      <td>54.914898</td>\n",
       "      <td>0.293036</td>\n",
       "      <td>0.204102</td>\n",
       "      <td>0.003673</td>\n",
       "      <td>entropy</td>\n",
       "      <td>300</td>\n",
       "      <td>{'criterion': 'entropy', 'n_estimators': 300}</td>\n",
       "      <td>0.610133</td>\n",
       "      <td>0.599600</td>\n",
       "      <td>0.598133</td>\n",
       "      <td>0.602622</td>\n",
       "      <td>0.005345</td>\n",
       "      <td>1</td>\n",
       "    </tr>\n",
       "    <tr>\n",
       "      <th>13</th>\n",
       "      <td>64.239344</td>\n",
       "      <td>0.322688</td>\n",
       "      <td>0.227207</td>\n",
       "      <td>0.005950</td>\n",
       "      <td>entropy</td>\n",
       "      <td>350</td>\n",
       "      <td>{'criterion': 'entropy', 'n_estimators': 350}</td>\n",
       "      <td>0.606667</td>\n",
       "      <td>0.601467</td>\n",
       "      <td>0.595733</td>\n",
       "      <td>0.601289</td>\n",
       "      <td>0.004465</td>\n",
       "      <td>2</td>\n",
       "    </tr>\n",
       "  </tbody>\n",
       "</table>\n",
       "</div>"
      ],
      "text/plain": [
       "    mean_fit_time  std_fit_time  mean_score_time  std_score_time  \\\n",
       "0        5.927792      0.244902         0.084514        0.002829   \n",
       "1       10.713282      0.257511         0.112520        0.004083   \n",
       "2       15.835306      0.309664         0.142525        0.004244   \n",
       "3       20.821136      0.226859         0.158694        0.000851   \n",
       "4       25.724630      0.182822         0.190033        0.008843   \n",
       "5       30.281957      0.243494         0.217872        0.009802   \n",
       "6       35.437794      0.268307         0.234541        0.002859   \n",
       "7        9.952174      0.042396         0.082347        0.001434   \n",
       "8       19.078280      0.189348         0.105185        0.002625   \n",
       "9       28.630303      0.362360         0.128522        0.001473   \n",
       "10      37.092474      0.310519         0.150860        0.001028   \n",
       "11      45.571307      0.132577         0.175365        0.002322   \n",
       "12      54.914898      0.293036         0.204102        0.003673   \n",
       "13      64.239344      0.322688         0.227207        0.005950   \n",
       "\n",
       "   param_criterion param_n_estimators  \\\n",
       "0             gini                 50   \n",
       "1             gini                100   \n",
       "2             gini                150   \n",
       "3             gini                200   \n",
       "4             gini                250   \n",
       "5             gini                300   \n",
       "6             gini                350   \n",
       "7          entropy                 50   \n",
       "8          entropy                100   \n",
       "9          entropy                150   \n",
       "10         entropy                200   \n",
       "11         entropy                250   \n",
       "12         entropy                300   \n",
       "13         entropy                350   \n",
       "\n",
       "                                           params  split0_test_score  \\\n",
       "0       {'criterion': 'gini', 'n_estimators': 50}           0.580933   \n",
       "1      {'criterion': 'gini', 'n_estimators': 100}           0.592000   \n",
       "2      {'criterion': 'gini', 'n_estimators': 150}           0.593733   \n",
       "3      {'criterion': 'gini', 'n_estimators': 200}           0.594267   \n",
       "4      {'criterion': 'gini', 'n_estimators': 250}           0.596267   \n",
       "5      {'criterion': 'gini', 'n_estimators': 300}           0.597733   \n",
       "6      {'criterion': 'gini', 'n_estimators': 350}           0.598267   \n",
       "7    {'criterion': 'entropy', 'n_estimators': 50}           0.587067   \n",
       "8   {'criterion': 'entropy', 'n_estimators': 100}           0.595333   \n",
       "9   {'criterion': 'entropy', 'n_estimators': 150}           0.605600   \n",
       "10  {'criterion': 'entropy', 'n_estimators': 200}           0.606000   \n",
       "11  {'criterion': 'entropy', 'n_estimators': 250}           0.607600   \n",
       "12  {'criterion': 'entropy', 'n_estimators': 300}           0.610133   \n",
       "13  {'criterion': 'entropy', 'n_estimators': 350}           0.606667   \n",
       "\n",
       "    split1_test_score  split2_test_score  mean_test_score  std_test_score  \\\n",
       "0            0.576400           0.580400         0.579244        0.002023   \n",
       "1            0.588400           0.588133         0.589511        0.001763   \n",
       "2            0.591200           0.587867         0.590933        0.002402   \n",
       "3            0.594267           0.590533         0.593022        0.001760   \n",
       "4            0.593867           0.589600         0.593244        0.002757   \n",
       "5            0.595733           0.591733         0.595067        0.002494   \n",
       "6            0.596533           0.592267         0.595689        0.002521   \n",
       "7            0.576267           0.573600         0.578978        0.005822   \n",
       "8            0.594800           0.587467         0.592533        0.003589   \n",
       "9            0.600533           0.589333         0.598489        0.006796   \n",
       "10           0.601733           0.588400         0.598711        0.007496   \n",
       "11           0.600800           0.593200         0.600533        0.005882   \n",
       "12           0.599600           0.598133         0.602622        0.005345   \n",
       "13           0.601467           0.595733         0.601289        0.004465   \n",
       "\n",
       "    rank_test_score  \n",
       "0                13  \n",
       "1                12  \n",
       "2                11  \n",
       "3                 9  \n",
       "4                 8  \n",
       "5                 7  \n",
       "6                 6  \n",
       "7                14  \n",
       "8                10  \n",
       "9                 5  \n",
       "10                4  \n",
       "11                3  \n",
       "12                1  \n",
       "13                2  "
      ]
     },
     "metadata": {},
     "output_type": "display_data"
    },
    {
     "data": {
      "image/png": "[encoded data removed]",
      "text/plain": [
       "<Figure size 1728x576 with 1 Axes>"
      ]
     },
     "metadata": {},
     "output_type": "display_data"
    },
    {
     "name": "stdout",
     "output_type": "stream",
     "text": [
      "Best Random forest model: {'criterion': 'entropy', 'n_estimators': 300} with an accuracy of 0.6026222222222222\n"
     ]
    }
   ],
   "source": [
    "plot_grid_results(\"Random forest\", FOREST_grid)"
   ]
  },
  {
   "cell_type": "code",
   "execution_count": 161,
   "metadata": {},
   "outputs": [
    {
     "name": "stdout",
     "output_type": "stream",
     "text": [
      "Fitting 3 folds for each of 10 candidates, totalling 30 fits\n",
      "[CV 1/3] END .......................max_depth=1;, score=0.591 total time=   7.2s\n",
      "[CV 2/3] END .......................max_depth=1;, score=0.590 total time=   3.7s\n",
      "[CV 3/3] END .......................max_depth=1;, score=0.580 total time=   3.7s\n",
      "[CV 1/3] END .......................max_depth=2;, score=0.594 total time=   6.7s\n",
      "[CV 2/3] END .......................max_depth=2;, score=0.596 total time=   6.7s\n",
      "[CV 3/3] END .......................max_depth=2;, score=0.584 total time=   6.9s\n",
      "[CV 1/3] END .......................max_depth=3;, score=0.595 total time=  10.0s\n",
      "[CV 2/3] END .......................max_depth=3;, score=0.598 total time=   9.9s\n",
      "[CV 3/3] END .......................max_depth=3;, score=0.586 total time=  10.1s\n",
      "[CV 1/3] END .......................max_depth=4;, score=0.599 total time=  13.4s\n",
      "[CV 2/3] END .......................max_depth=4;, score=0.599 total time=  13.7s\n",
      "[CV 3/3] END .......................max_depth=4;, score=0.589 total time=  13.6s\n",
      "[CV 1/3] END .......................max_depth=5;, score=0.601 total time=  16.5s\n",
      "[CV 2/3] END .......................max_depth=5;, score=0.600 total time=  16.2s\n",
      "[CV 3/3] END .......................max_depth=5;, score=0.591 total time=  16.3s\n",
      "[CV 1/3] END .......................max_depth=6;, score=0.603 total time=  19.5s\n",
      "[CV 2/3] END .......................max_depth=6;, score=0.598 total time=  19.7s\n",
      "[CV 3/3] END .......................max_depth=6;, score=0.586 total time=  19.7s\n",
      "[CV 1/3] END .......................max_depth=7;, score=0.601 total time=  22.7s\n",
      "[CV 2/3] END .......................max_depth=7;, score=0.597 total time=  23.2s\n",
      "[CV 3/3] END .......................max_depth=7;, score=0.594 total time=  22.8s\n",
      "[CV 1/3] END .......................max_depth=8;, score=0.599 total time=  25.6s\n",
      "[CV 2/3] END .......................max_depth=8;, score=0.600 total time=  25.5s\n",
      "[CV 3/3] END .......................max_depth=8;, score=0.589 total time=  25.8s\n",
      "[CV 1/3] END .......................max_depth=9;, score=0.601 total time=  29.1s\n",
      "[CV 2/3] END .......................max_depth=9;, score=0.601 total time=  28.7s\n",
      "[CV 3/3] END .......................max_depth=9;, score=0.592 total time=  28.9s\n",
      "[CV 1/3] END ......................max_depth=10;, score=0.603 total time=  31.6s\n",
      "[CV 2/3] END ......................max_depth=10;, score=0.600 total time=  31.8s\n",
      "[CV 3/3] END ......................max_depth=10;, score=0.593 total time=  31.7s\n"
     ]
    }
   ],
   "source": [
    "FOREST = RandomForestClassifier(criterion = \"entropy\",n_estimators = 300 ,random_state=42, n_jobs = os.cpu_count() - 1)\n",
    "parameters = {'max_depth' : np.arange(1,11,1)}\n",
    "FOREST_grid = GridSearchCV(FOREST, parameters, cv = 3 ,verbose = 4).fit(X_train_new, y_train_new.values.ravel())"
   ]
  },
  {
   "cell_type": "code",
   "execution_count": 162,
   "metadata": {},
   "outputs": [
    {
     "data": {
      "text/html": [
       "<div>\n",
       "<style scoped>\n",
       "    .dataframe tbody tr th:only-of-type {\n",
       "        vertical-align: middle;\n",
       "    }\n",
       "\n",
       "    .dataframe tbody tr th {\n",
       "        vertical-align: top;\n",
       "    }\n",
       "\n",
       "    .dataframe thead th {\n",
       "        text-align: right;\n",
       "    }\n",
       "</style>\n",
       "<table border=\"1\" class=\"dataframe\">\n",
       "  <thead>\n",
       "    <tr style=\"text-align: right;\">\n",
       "      <th></th>\n",
       "      <th>mean_fit_time</th>\n",
       "      <th>std_fit_time</th>\n",
       "      <th>mean_score_time</th>\n",
       "      <th>std_score_time</th>\n",
       "      <th>param_max_depth</th>\n",
       "      <th>params</th>\n",
       "      <th>split0_test_score</th>\n",
       "      <th>split1_test_score</th>\n",
       "      <th>split2_test_score</th>\n",
       "      <th>mean_test_score</th>\n",
       "      <th>std_test_score</th>\n",
       "      <th>rank_test_score</th>\n",
       "    </tr>\n",
       "  </thead>\n",
       "  <tbody>\n",
       "    <tr>\n",
       "      <th>0</th>\n",
       "      <td>4.803813</td>\n",
       "      <td>1.644511</td>\n",
       "      <td>0.148015</td>\n",
       "      <td>0.006801</td>\n",
       "      <td>1</td>\n",
       "      <td>{'max_depth': 1}</td>\n",
       "      <td>0.591200</td>\n",
       "      <td>0.590267</td>\n",
       "      <td>0.580400</td>\n",
       "      <td>0.587289</td>\n",
       "      <td>0.004886</td>\n",
       "      <td>10</td>\n",
       "    </tr>\n",
       "    <tr>\n",
       "      <th>1</th>\n",
       "      <td>6.736140</td>\n",
       "      <td>0.099275</td>\n",
       "      <td>0.151194</td>\n",
       "      <td>0.000624</td>\n",
       "      <td>2</td>\n",
       "      <td>{'max_depth': 2}</td>\n",
       "      <td>0.594267</td>\n",
       "      <td>0.595733</td>\n",
       "      <td>0.583600</td>\n",
       "      <td>0.591200</td>\n",
       "      <td>0.005407</td>\n",
       "      <td>9</td>\n",
       "    </tr>\n",
       "    <tr>\n",
       "      <th>2</th>\n",
       "      <td>9.923135</td>\n",
       "      <td>0.060670</td>\n",
       "      <td>0.150193</td>\n",
       "      <td>0.003966</td>\n",
       "      <td>3</td>\n",
       "      <td>{'max_depth': 3}</td>\n",
       "      <td>0.595467</td>\n",
       "      <td>0.597733</td>\n",
       "      <td>0.586133</td>\n",
       "      <td>0.593111</td>\n",
       "      <td>0.005020</td>\n",
       "      <td>8</td>\n",
       "    </tr>\n",
       "    <tr>\n",
       "      <th>3</th>\n",
       "      <td>13.515472</td>\n",
       "      <td>0.147218</td>\n",
       "      <td>0.151693</td>\n",
       "      <td>0.004498</td>\n",
       "      <td>4</td>\n",
       "      <td>{'max_depth': 4}</td>\n",
       "      <td>0.598533</td>\n",
       "      <td>0.598800</td>\n",
       "      <td>0.589067</td>\n",
       "      <td>0.595467</td>\n",
       "      <td>0.004527</td>\n",
       "      <td>6</td>\n",
       "    </tr>\n",
       "    <tr>\n",
       "      <th>4</th>\n",
       "      <td>16.287838</td>\n",
       "      <td>0.111100</td>\n",
       "      <td>0.154361</td>\n",
       "      <td>0.002322</td>\n",
       "      <td>5</td>\n",
       "      <td>{'max_depth': 5}</td>\n",
       "      <td>0.600933</td>\n",
       "      <td>0.599600</td>\n",
       "      <td>0.591467</td>\n",
       "      <td>0.597333</td>\n",
       "      <td>0.004184</td>\n",
       "      <td>4</td>\n",
       "    </tr>\n",
       "    <tr>\n",
       "      <th>5</th>\n",
       "      <td>19.585100</td>\n",
       "      <td>0.122595</td>\n",
       "      <td>0.164195</td>\n",
       "      <td>0.003794</td>\n",
       "      <td>6</td>\n",
       "      <td>{'max_depth': 6}</td>\n",
       "      <td>0.602667</td>\n",
       "      <td>0.597600</td>\n",
       "      <td>0.585733</td>\n",
       "      <td>0.595333</td>\n",
       "      <td>0.007096</td>\n",
       "      <td>7</td>\n",
       "    </tr>\n",
       "    <tr>\n",
       "      <th>6</th>\n",
       "      <td>22.843805</td>\n",
       "      <td>0.204108</td>\n",
       "      <td>0.157861</td>\n",
       "      <td>0.001028</td>\n",
       "      <td>7</td>\n",
       "      <td>{'max_depth': 7}</td>\n",
       "      <td>0.601067</td>\n",
       "      <td>0.597200</td>\n",
       "      <td>0.594000</td>\n",
       "      <td>0.597422</td>\n",
       "      <td>0.002889</td>\n",
       "      <td>3</td>\n",
       "    </tr>\n",
       "    <tr>\n",
       "      <th>7</th>\n",
       "      <td>25.575969</td>\n",
       "      <td>0.097734</td>\n",
       "      <td>0.159695</td>\n",
       "      <td>0.007193</td>\n",
       "      <td>8</td>\n",
       "      <td>{'max_depth': 8}</td>\n",
       "      <td>0.598800</td>\n",
       "      <td>0.599733</td>\n",
       "      <td>0.589333</td>\n",
       "      <td>0.595956</td>\n",
       "      <td>0.004698</td>\n",
       "      <td>5</td>\n",
       "    </tr>\n",
       "    <tr>\n",
       "      <th>8</th>\n",
       "      <td>28.852503</td>\n",
       "      <td>0.126260</td>\n",
       "      <td>0.155862</td>\n",
       "      <td>0.003684</td>\n",
       "      <td>9</td>\n",
       "      <td>{'max_depth': 9}</td>\n",
       "      <td>0.600933</td>\n",
       "      <td>0.600667</td>\n",
       "      <td>0.592267</td>\n",
       "      <td>0.597956</td>\n",
       "      <td>0.004024</td>\n",
       "      <td>2</td>\n",
       "    </tr>\n",
       "    <tr>\n",
       "      <th>9</th>\n",
       "      <td>31.650282</td>\n",
       "      <td>0.088152</td>\n",
       "      <td>0.172697</td>\n",
       "      <td>0.006020</td>\n",
       "      <td>10</td>\n",
       "      <td>{'max_depth': 10}</td>\n",
       "      <td>0.603067</td>\n",
       "      <td>0.600133</td>\n",
       "      <td>0.593067</td>\n",
       "      <td>0.598756</td>\n",
       "      <td>0.004197</td>\n",
       "      <td>1</td>\n",
       "    </tr>\n",
       "  </tbody>\n",
       "</table>\n",
       "</div>"
      ],
      "text/plain": [
       "   mean_fit_time  std_fit_time  mean_score_time  std_score_time  \\\n",
       "0       4.803813      1.644511         0.148015        0.006801   \n",
       "1       6.736140      0.099275         0.151194        0.000624   \n",
       "2       9.923135      0.060670         0.150193        0.003966   \n",
       "3      13.515472      0.147218         0.151693        0.004498   \n",
       "4      16.287838      0.111100         0.154361        0.002322   \n",
       "5      19.585100      0.122595         0.164195        0.003794   \n",
       "6      22.843805      0.204108         0.157861        0.001028   \n",
       "7      25.575969      0.097734         0.159695        0.007193   \n",
       "8      28.852503      0.126260         0.155862        0.003684   \n",
       "9      31.650282      0.088152         0.172697        0.006020   \n",
       "\n",
       "  param_max_depth             params  split0_test_score  split1_test_score  \\\n",
       "0               1   {'max_depth': 1}           0.591200           0.590267   \n",
       "1               2   {'max_depth': 2}           0.594267           0.595733   \n",
       "2               3   {'max_depth': 3}           0.595467           0.597733   \n",
       "3               4   {'max_depth': 4}           0.598533           0.598800   \n",
       "4               5   {'max_depth': 5}           0.600933           0.599600   \n",
       "5               6   {'max_depth': 6}           0.602667           0.597600   \n",
       "6               7   {'max_depth': 7}           0.601067           0.597200   \n",
       "7               8   {'max_depth': 8}           0.598800           0.599733   \n",
       "8               9   {'max_depth': 9}           0.600933           0.600667   \n",
       "9              10  {'max_depth': 10}           0.603067           0.600133   \n",
       "\n",
       "   split2_test_score  mean_test_score  std_test_score  rank_test_score  \n",
       "0           0.580400         0.587289        0.004886               10  \n",
       "1           0.583600         0.591200        0.005407                9  \n",
       "2           0.586133         0.593111        0.005020                8  \n",
       "3           0.589067         0.595467        0.004527                6  \n",
       "4           0.591467         0.597333        0.004184                4  \n",
       "5           0.585733         0.595333        0.007096                7  \n",
       "6           0.594000         0.597422        0.002889                3  \n",
       "7           0.589333         0.595956        0.004698                5  \n",
       "8           0.592267         0.597956        0.004024                2  \n",
       "9           0.593067         0.598756        0.004197                1  "
      ]
     },
     "metadata": {},
     "output_type": "display_data"
    },
    {
     "data": {
      "image/png": "[encoded data removed]",
      "text/plain": [
       "<Figure size 1728x576 with 1 Axes>"
      ]
     },
     "metadata": {},
     "output_type": "display_data"
    },
    {
     "name": "stdout",
     "output_type": "stream",
     "text": [
      "Best Random forest model: {'max_depth': 10} with an accuracy of 0.5987555555555555\n"
     ]
    }
   ],
   "source": [
    "plot_grid_results(\"Random forest\", FOREST_grid)"
   ]
  },
  {
   "cell_type": "markdown",
   "metadata": {},
   "source": [
    "## MiniBatchK-Means with the models in the same pipeline"
   ]
  },
  {
   "cell_type": "code",
   "execution_count": 132,
   "metadata": {},
   "outputs": [],
   "source": [
    "from sklearn.cluster import MiniBatchKMeans"
   ]
  },
  {
   "cell_type": "markdown",
   "metadata": {},
   "source": [
    "### Logistic regression"
   ]
  },
  {
   "cell_type": "code",
   "execution_count": 172,
   "metadata": {},
   "outputs": [
    {
     "name": "stdout",
     "output_type": "stream",
     "text": [
      "[Pipeline] ... (step 1 of 2) Processing minibatchKmeans, total=   5.3s\n",
      "[Pipeline] ........... (step 2 of 2) Processing log_reg, total=   1.7s\n"
     ]
    },
    {
     "data": {
      "text/html": [
       "<style>#sk-container-id-29 {color: black;background-color: white;}#sk-container-id-29 pre{padding: 0;}#sk-container-id-29 div.sk-toggleable {background-color: white;}#sk-container-id-29 label.sk-toggleable__label {cursor: pointer;display: block;width: 100%;margin-bottom: 0;padding: 0.3em;box-sizing: border-box;text-align: center;}#sk-container-id-29 label.sk-toggleable__label-arrow:before {content: \"▸\";float: left;margin-right: 0.25em;color: #696969;}#sk-container-id-29 label.sk-toggleable__label-arrow:hover:before {color: black;}#sk-container-id-29 div.sk-estimator:hover label.sk-toggleable__label-arrow:before {color: black;}#sk-container-id-29 div.sk-toggleable__content {max-height: 0;max-width: 0;overflow: hidden;text-align: left;background-color: #f0f8ff;}#sk-container-id-29 div.sk-toggleable__content pre {margin: 0.2em;color: black;border-radius: 0.25em;background-color: #f0f8ff;}#sk-container-id-29 input.sk-toggleable__control:checked~div.sk-toggleable__content {max-height: 200px;max-width: 100%;overflow: auto;}#sk-container-id-29 input.sk-toggleable__control:checked~label.sk-toggleable__label-arrow:before {content: \"▾\";}#sk-container-id-29 div.sk-estimator input.sk-toggleable__control:checked~label.sk-toggleable__label {background-color: #d4ebff;}#sk-container-id-29 div.sk-label input.sk-toggleable__control:checked~label.sk-toggleable__label {background-color: #d4ebff;}#sk-container-id-29 input.sk-hidden--visually {border: 0;clip: rect(1px 1px 1px 1px);clip: rect(1px, 1px, 1px, 1px);height: 1px;margin: -1px;overflow: hidden;padding: 0;position: absolute;width: 1px;}#sk-container-id-29 div.sk-estimator {font-family: monospace;background-color: #f0f8ff;border: 1px dotted black;border-radius: 0.25em;box-sizing: border-box;margin-bottom: 0.5em;}#sk-container-id-29 div.sk-estimator:hover {background-color: #d4ebff;}#sk-container-id-29 div.sk-parallel-item::after {content: \"\";width: 100%;border-bottom: 1px solid gray;flex-grow: 1;}#sk-container-id-29 div.sk-label:hover label.sk-toggleable__label {background-color: #d4ebff;}#sk-container-id-29 div.sk-serial::before {content: \"\";position: absolute;border-left: 1px solid gray;box-sizing: border-box;top: 0;bottom: 0;left: 50%;z-index: 0;}#sk-container-id-29 div.sk-serial {display: flex;flex-direction: column;align-items: center;background-color: white;padding-right: 0.2em;padding-left: 0.2em;position: relative;}#sk-container-id-29 div.sk-item {position: relative;z-index: 1;}#sk-container-id-29 div.sk-parallel {display: flex;align-items: stretch;justify-content: center;background-color: white;position: relative;}#sk-container-id-29 div.sk-item::before, #sk-container-id-29 div.sk-parallel-item::before {content: \"\";position: absolute;border-left: 1px solid gray;box-sizing: border-box;top: 0;bottom: 0;left: 50%;z-index: -1;}#sk-container-id-29 div.sk-parallel-item {display: flex;flex-direction: column;z-index: 1;position: relative;background-color: white;}#sk-container-id-29 div.sk-parallel-item:first-child::after {align-self: flex-end;width: 50%;}#sk-container-id-29 div.sk-parallel-item:last-child::after {align-self: flex-start;width: 50%;}#sk-container-id-29 div.sk-parallel-item:only-child::after {width: 0;}#sk-container-id-29 div.sk-dashed-wrapped {border: 1px dashed gray;margin: 0 0.4em 0.5em 0.4em;box-sizing: border-box;padding-bottom: 0.4em;background-color: white;}#sk-container-id-29 div.sk-label label {font-family: monospace;font-weight: bold;display: inline-block;line-height: 1.2em;}#sk-container-id-29 div.sk-label-container {text-align: center;}#sk-container-id-29 div.sk-container {/* jupyter's `normalize.less` sets `[hidden] { display: none; }` but bootstrap.min.css set `[hidden] { display: none !important; }` so we also need the `!important` here to be able to override the default hidden behavior on the sphinx rendered scikit-learn.org. See: https://github.com/scikit-learn/scikit-learn/issues/21755 */display: inline-block !important;position: relative;}#sk-container-id-29 div.sk-text-repr-fallback {display: none;}</style><div id=\"sk-container-id-29\" class=\"sk-top-container\"><div class=\"sk-text-repr-fallback\"><pre>Pipeline(steps=[(&#x27;minibatchKmeans&#x27;,\n",
       "                 MiniBatchKMeans(batch_size=3072, n_clusters=90,\n",
       "                                 random_state=42)),\n",
       "                (&#x27;log_reg&#x27;,\n",
       "                 LogisticRegression(class_weight=&#x27;balanced&#x27;, l1_ratio=0.4,\n",
       "                                    multi_class=&#x27;ovr&#x27;, n_jobs=11,\n",
       "                                    penalty=&#x27;elasticnet&#x27;, random_state=42,\n",
       "                                    solver=&#x27;saga&#x27;, tol=0.01))],\n",
       "         verbose=True)</pre><b>In a Jupyter environment, please rerun this cell to show the HTML representation or trust the notebook. <br />On GitHub, the HTML representation is unable to render, please try loading this page with nbviewer.org.</b></div><div class=\"sk-container\" hidden><div class=\"sk-item sk-dashed-wrapped\"><div class=\"sk-label-container\"><div class=\"sk-label sk-toggleable\"><input class=\"sk-toggleable__control sk-hidden--visually\" id=\"sk-estimator-id-47\" type=\"checkbox\" ><label for=\"sk-estimator-id-47\" class=\"sk-toggleable__label sk-toggleable__label-arrow\">Pipeline</label><div class=\"sk-toggleable__content\"><pre>Pipeline(steps=[(&#x27;minibatchKmeans&#x27;,\n",
       "                 MiniBatchKMeans(batch_size=3072, n_clusters=90,\n",
       "                                 random_state=42)),\n",
       "                (&#x27;log_reg&#x27;,\n",
       "                 LogisticRegression(class_weight=&#x27;balanced&#x27;, l1_ratio=0.4,\n",
       "                                    multi_class=&#x27;ovr&#x27;, n_jobs=11,\n",
       "                                    penalty=&#x27;elasticnet&#x27;, random_state=42,\n",
       "                                    solver=&#x27;saga&#x27;, tol=0.01))],\n",
       "         verbose=True)</pre></div></div></div><div class=\"sk-serial\"><div class=\"sk-item\"><div class=\"sk-estimator sk-toggleable\"><input class=\"sk-toggleable__control sk-hidden--visually\" id=\"sk-estimator-id-48\" type=\"checkbox\" ><label for=\"sk-estimator-id-48\" class=\"sk-toggleable__label sk-toggleable__label-arrow\">MiniBatchKMeans</label><div class=\"sk-toggleable__content\"><pre>MiniBatchKMeans(batch_size=3072, n_clusters=90, random_state=42)</pre></div></div></div><div class=\"sk-item\"><div class=\"sk-estimator sk-toggleable\"><input class=\"sk-toggleable__control sk-hidden--visually\" id=\"sk-estimator-id-49\" type=\"checkbox\" ><label for=\"sk-estimator-id-49\" class=\"sk-toggleable__label sk-toggleable__label-arrow\">LogisticRegression</label><div class=\"sk-toggleable__content\"><pre>LogisticRegression(class_weight=&#x27;balanced&#x27;, l1_ratio=0.4, multi_class=&#x27;ovr&#x27;,\n",
       "                   n_jobs=11, penalty=&#x27;elasticnet&#x27;, random_state=42,\n",
       "                   solver=&#x27;saga&#x27;, tol=0.01)</pre></div></div></div></div></div></div></div>"
      ],
      "text/plain": [
       "Pipeline(steps=[('minibatchKmeans',\n",
       "                 MiniBatchKMeans(batch_size=3072, n_clusters=90,\n",
       "                                 random_state=42)),\n",
       "                ('log_reg',\n",
       "                 LogisticRegression(class_weight='balanced', l1_ratio=0.4,\n",
       "                                    multi_class='ovr', n_jobs=11,\n",
       "                                    penalty='elasticnet', random_state=42,\n",
       "                                    solver='saga', tol=0.01))],\n",
       "         verbose=True)"
      ]
     },
     "execution_count": 172,
     "metadata": {},
     "output_type": "execute_result"
    }
   ],
   "source": [
    "pipeline_log = Pipeline([\n",
    " (\"minibatchKmeans\", MiniBatchKMeans(n_clusters=90,random_state=42, batch_size=3072)),\n",
    " (\"log_reg\", LogisticRegression(penalty = 'elasticnet',l1_ratio = 0.4,solver = 'saga',class_weight = 'balanced', multi_class = 'ovr', tol = 0.01, random_state=42, n_jobs = os.cpu_count() - 1)),\n",
    "], verbose = True)\n",
    "pipeline_log.fit(X_train_new, y_train_new.values.ravel())"
   ]
  },
  {
   "cell_type": "code",
   "execution_count": 173,
   "metadata": {},
   "outputs": [
    {
     "name": "stdout",
     "output_type": "stream",
     "text": [
      "Pipeline score(train) when using minibatchKmeans on Logistic regression: 0.6006666666666667\n",
      "Pipeline score(test) when using minibatchKmeans on Logistic regression: 0.5832\n"
     ]
    }
   ],
   "source": [
    "print(\"Pipeline score(train) when using minibatchKmeans on Logistic regression:\",pipeline_log.score(X_train_new, y_train_new))\n",
    "print(\"Pipeline score(test) when using minibatchKmeans on Logistic regression:\",pipeline_log.score(X_test_new, y_test_new))"
   ]
  },
  {
   "cell_type": "markdown",
   "metadata": {},
   "source": [
    "### Naive bayes"
   ]
  },
  {
   "cell_type": "code",
   "execution_count": 174,
   "metadata": {},
   "outputs": [
    {
     "name": "stdout",
     "output_type": "stream",
     "text": [
      "[Pipeline] ... (step 1 of 2) Processing minibatchKmeans, total=   5.6s\n",
      "[Pipeline] ....... (step 2 of 2) Processing naive_bayes, total=   0.0s\n"
     ]
    },
    {
     "data": {
      "text/html": [
       "<style>#sk-container-id-30 {color: black;background-color: white;}#sk-container-id-30 pre{padding: 0;}#sk-container-id-30 div.sk-toggleable {background-color: white;}#sk-container-id-30 label.sk-toggleable__label {cursor: pointer;display: block;width: 100%;margin-bottom: 0;padding: 0.3em;box-sizing: border-box;text-align: center;}#sk-container-id-30 label.sk-toggleable__label-arrow:before {content: \"▸\";float: left;margin-right: 0.25em;color: #696969;}#sk-container-id-30 label.sk-toggleable__label-arrow:hover:before {color: black;}#sk-container-id-30 div.sk-estimator:hover label.sk-toggleable__label-arrow:before {color: black;}#sk-container-id-30 div.sk-toggleable__content {max-height: 0;max-width: 0;overflow: hidden;text-align: left;background-color: #f0f8ff;}#sk-container-id-30 div.sk-toggleable__content pre {margin: 0.2em;color: black;border-radius: 0.25em;background-color: #f0f8ff;}#sk-container-id-30 input.sk-toggleable__control:checked~div.sk-toggleable__content {max-height: 200px;max-width: 100%;overflow: auto;}#sk-container-id-30 input.sk-toggleable__control:checked~label.sk-toggleable__label-arrow:before {content: \"▾\";}#sk-container-id-30 div.sk-estimator input.sk-toggleable__control:checked~label.sk-toggleable__label {background-color: #d4ebff;}#sk-container-id-30 div.sk-label input.sk-toggleable__control:checked~label.sk-toggleable__label {background-color: #d4ebff;}#sk-container-id-30 input.sk-hidden--visually {border: 0;clip: rect(1px 1px 1px 1px);clip: rect(1px, 1px, 1px, 1px);height: 1px;margin: -1px;overflow: hidden;padding: 0;position: absolute;width: 1px;}#sk-container-id-30 div.sk-estimator {font-family: monospace;background-color: #f0f8ff;border: 1px dotted black;border-radius: 0.25em;box-sizing: border-box;margin-bottom: 0.5em;}#sk-container-id-30 div.sk-estimator:hover {background-color: #d4ebff;}#sk-container-id-30 div.sk-parallel-item::after {content: \"\";width: 100%;border-bottom: 1px solid gray;flex-grow: 1;}#sk-container-id-30 div.sk-label:hover label.sk-toggleable__label {background-color: #d4ebff;}#sk-container-id-30 div.sk-serial::before {content: \"\";position: absolute;border-left: 1px solid gray;box-sizing: border-box;top: 0;bottom: 0;left: 50%;z-index: 0;}#sk-container-id-30 div.sk-serial {display: flex;flex-direction: column;align-items: center;background-color: white;padding-right: 0.2em;padding-left: 0.2em;position: relative;}#sk-container-id-30 div.sk-item {position: relative;z-index: 1;}#sk-container-id-30 div.sk-parallel {display: flex;align-items: stretch;justify-content: center;background-color: white;position: relative;}#sk-container-id-30 div.sk-item::before, #sk-container-id-30 div.sk-parallel-item::before {content: \"\";position: absolute;border-left: 1px solid gray;box-sizing: border-box;top: 0;bottom: 0;left: 50%;z-index: -1;}#sk-container-id-30 div.sk-parallel-item {display: flex;flex-direction: column;z-index: 1;position: relative;background-color: white;}#sk-container-id-30 div.sk-parallel-item:first-child::after {align-self: flex-end;width: 50%;}#sk-container-id-30 div.sk-parallel-item:last-child::after {align-self: flex-start;width: 50%;}#sk-container-id-30 div.sk-parallel-item:only-child::after {width: 0;}#sk-container-id-30 div.sk-dashed-wrapped {border: 1px dashed gray;margin: 0 0.4em 0.5em 0.4em;box-sizing: border-box;padding-bottom: 0.4em;background-color: white;}#sk-container-id-30 div.sk-label label {font-family: monospace;font-weight: bold;display: inline-block;line-height: 1.2em;}#sk-container-id-30 div.sk-label-container {text-align: center;}#sk-container-id-30 div.sk-container {/* jupyter's `normalize.less` sets `[hidden] { display: none; }` but bootstrap.min.css set `[hidden] { display: none !important; }` so we also need the `!important` here to be able to override the default hidden behavior on the sphinx rendered scikit-learn.org. See: https://github.com/scikit-learn/scikit-learn/issues/21755 */display: inline-block !important;position: relative;}#sk-container-id-30 div.sk-text-repr-fallback {display: none;}</style><div id=\"sk-container-id-30\" class=\"sk-top-container\"><div class=\"sk-text-repr-fallback\"><pre>Pipeline(steps=[(&#x27;minibatchKmeans&#x27;,\n",
       "                 MiniBatchKMeans(batch_size=3072, n_clusters=90,\n",
       "                                 random_state=42)),\n",
       "                (&#x27;naive_bayes&#x27;, BernoulliNB(alpha=0.2))],\n",
       "         verbose=True)</pre><b>In a Jupyter environment, please rerun this cell to show the HTML representation or trust the notebook. <br />On GitHub, the HTML representation is unable to render, please try loading this page with nbviewer.org.</b></div><div class=\"sk-container\" hidden><div class=\"sk-item sk-dashed-wrapped\"><div class=\"sk-label-container\"><div class=\"sk-label sk-toggleable\"><input class=\"sk-toggleable__control sk-hidden--visually\" id=\"sk-estimator-id-50\" type=\"checkbox\" ><label for=\"sk-estimator-id-50\" class=\"sk-toggleable__label sk-toggleable__label-arrow\">Pipeline</label><div class=\"sk-toggleable__content\"><pre>Pipeline(steps=[(&#x27;minibatchKmeans&#x27;,\n",
       "                 MiniBatchKMeans(batch_size=3072, n_clusters=90,\n",
       "                                 random_state=42)),\n",
       "                (&#x27;naive_bayes&#x27;, BernoulliNB(alpha=0.2))],\n",
       "         verbose=True)</pre></div></div></div><div class=\"sk-serial\"><div class=\"sk-item\"><div class=\"sk-estimator sk-toggleable\"><input class=\"sk-toggleable__control sk-hidden--visually\" id=\"sk-estimator-id-51\" type=\"checkbox\" ><label for=\"sk-estimator-id-51\" class=\"sk-toggleable__label sk-toggleable__label-arrow\">MiniBatchKMeans</label><div class=\"sk-toggleable__content\"><pre>MiniBatchKMeans(batch_size=3072, n_clusters=90, random_state=42)</pre></div></div></div><div class=\"sk-item\"><div class=\"sk-estimator sk-toggleable\"><input class=\"sk-toggleable__control sk-hidden--visually\" id=\"sk-estimator-id-52\" type=\"checkbox\" ><label for=\"sk-estimator-id-52\" class=\"sk-toggleable__label sk-toggleable__label-arrow\">BernoulliNB</label><div class=\"sk-toggleable__content\"><pre>BernoulliNB(alpha=0.2)</pre></div></div></div></div></div></div></div>"
      ],
      "text/plain": [
       "Pipeline(steps=[('minibatchKmeans',\n",
       "                 MiniBatchKMeans(batch_size=3072, n_clusters=90,\n",
       "                                 random_state=42)),\n",
       "                ('naive_bayes', BernoulliNB(alpha=0.2))],\n",
       "         verbose=True)"
      ]
     },
     "execution_count": 174,
     "metadata": {},
     "output_type": "execute_result"
    }
   ],
   "source": [
    "pipeline_bayes = Pipeline([\n",
    " (\"minibatchKmeans\", MiniBatchKMeans(n_clusters=90,random_state=42, batch_size=3072)),\n",
    " (\"naive_bayes\", BernoulliNB(alpha = 0.2,)),\n",
    "], verbose = True)\n",
    "pipeline_bayes.fit(X_train_new, y_train_new.values.ravel())"
   ]
  },
  {
   "cell_type": "code",
   "execution_count": 175,
   "metadata": {},
   "outputs": [
    {
     "name": "stdout",
     "output_type": "stream",
     "text": [
      "Pipeline score(train) when using minibatchKmeans on naive bayes: 0.5000444444444444\n",
      "Pipeline score(test) when using minibatchKmeans on naive baeys: 0.5\n"
     ]
    }
   ],
   "source": [
    "print(\"Pipeline score(train) when using minibatchKmeans on naive bayes:\",pipeline_bayes.score(X_train_new, y_train_new))\n",
    "print(\"Pipeline score(test) when using minibatchKmeans on naive baeys:\",pipeline_bayes.score(X_test_new, y_test_new))"
   ]
  },
  {
   "cell_type": "markdown",
   "metadata": {},
   "source": [
    "### SGD classifier"
   ]
  },
  {
   "cell_type": "code",
   "execution_count": 257,
   "metadata": {},
   "outputs": [
    {
     "name": "stdout",
     "output_type": "stream",
     "text": [
      "[Pipeline] .... (step 1 of 3) Processing standardscaler, total=   0.6s\n",
      "[Pipeline] ... (step 2 of 3) Processing minibatchkmeans, total=   4.7s\n",
      "[Pipeline] ..... (step 3 of 3) Processing sgdclassifier, total=   1.0s\n"
     ]
    }
   ],
   "source": [
    "pipeline_SGD = make_pipeline(\n",
    " StandardScaler(),\n",
    " MiniBatchKMeans(n_clusters=90,random_state=42, batch_size=3072),\n",
    " SGDClassifier(alpha = 0.1, n_iter_no_change=10 ,random_state=42), \n",
    "    verbose = True).fit(X_train_new, y_train_new.values.ravel())"
   ]
  },
  {
   "cell_type": "code",
   "execution_count": 258,
   "metadata": {},
   "outputs": [
    {
     "name": "stdout",
     "output_type": "stream",
     "text": [
      "Pipeline score(train) when using minibatchKmeans on SGD classifier: 0.5614222222222223\n",
      "Pipeline score(test) when using minibatchKmeans on SGD classifier: 0.5676\n"
     ]
    }
   ],
   "source": [
    "print(\"Pipeline score(train) when using minibatchKmeans on SGD classifier:\",pipeline_SGD.score(X_train_new, y_train_new))\n",
    "print(\"Pipeline score(test) when using minibatchKmeans on SGD classifier:\",pipeline_SGD.score(X_test_new, y_test_new))"
   ]
  },
  {
   "cell_type": "markdown",
   "metadata": {},
   "source": [
    "### Random forest"
   ]
  },
  {
   "cell_type": "code",
   "execution_count": 176,
   "metadata": {},
   "outputs": [
    {
     "name": "stdout",
     "output_type": "stream",
     "text": [
      "[Pipeline] ... (step 1 of 2) Processing minibatchKmeans, total=   5.5s\n",
      "[Pipeline] ..... (step 2 of 2) Processing random_forest, total=   6.5s\n"
     ]
    },
    {
     "data": {
      "text/html": [
       "<style>#sk-container-id-31 {color: black;background-color: white;}#sk-container-id-31 pre{padding: 0;}#sk-container-id-31 div.sk-toggleable {background-color: white;}#sk-container-id-31 label.sk-toggleable__label {cursor: pointer;display: block;width: 100%;margin-bottom: 0;padding: 0.3em;box-sizing: border-box;text-align: center;}#sk-container-id-31 label.sk-toggleable__label-arrow:before {content: \"▸\";float: left;margin-right: 0.25em;color: #696969;}#sk-container-id-31 label.sk-toggleable__label-arrow:hover:before {color: black;}#sk-container-id-31 div.sk-estimator:hover label.sk-toggleable__label-arrow:before {color: black;}#sk-container-id-31 div.sk-toggleable__content {max-height: 0;max-width: 0;overflow: hidden;text-align: left;background-color: #f0f8ff;}#sk-container-id-31 div.sk-toggleable__content pre {margin: 0.2em;color: black;border-radius: 0.25em;background-color: #f0f8ff;}#sk-container-id-31 input.sk-toggleable__control:checked~div.sk-toggleable__content {max-height: 200px;max-width: 100%;overflow: auto;}#sk-container-id-31 input.sk-toggleable__control:checked~label.sk-toggleable__label-arrow:before {content: \"▾\";}#sk-container-id-31 div.sk-estimator input.sk-toggleable__control:checked~label.sk-toggleable__label {background-color: #d4ebff;}#sk-container-id-31 div.sk-label input.sk-toggleable__control:checked~label.sk-toggleable__label {background-color: #d4ebff;}#sk-container-id-31 input.sk-hidden--visually {border: 0;clip: rect(1px 1px 1px 1px);clip: rect(1px, 1px, 1px, 1px);height: 1px;margin: -1px;overflow: hidden;padding: 0;position: absolute;width: 1px;}#sk-container-id-31 div.sk-estimator {font-family: monospace;background-color: #f0f8ff;border: 1px dotted black;border-radius: 0.25em;box-sizing: border-box;margin-bottom: 0.5em;}#sk-container-id-31 div.sk-estimator:hover {background-color: #d4ebff;}#sk-container-id-31 div.sk-parallel-item::after {content: \"\";width: 100%;border-bottom: 1px solid gray;flex-grow: 1;}#sk-container-id-31 div.sk-label:hover label.sk-toggleable__label {background-color: #d4ebff;}#sk-container-id-31 div.sk-serial::before {content: \"\";position: absolute;border-left: 1px solid gray;box-sizing: border-box;top: 0;bottom: 0;left: 50%;z-index: 0;}#sk-container-id-31 div.sk-serial {display: flex;flex-direction: column;align-items: center;background-color: white;padding-right: 0.2em;padding-left: 0.2em;position: relative;}#sk-container-id-31 div.sk-item {position: relative;z-index: 1;}#sk-container-id-31 div.sk-parallel {display: flex;align-items: stretch;justify-content: center;background-color: white;position: relative;}#sk-container-id-31 div.sk-item::before, #sk-container-id-31 div.sk-parallel-item::before {content: \"\";position: absolute;border-left: 1px solid gray;box-sizing: border-box;top: 0;bottom: 0;left: 50%;z-index: -1;}#sk-container-id-31 div.sk-parallel-item {display: flex;flex-direction: column;z-index: 1;position: relative;background-color: white;}#sk-container-id-31 div.sk-parallel-item:first-child::after {align-self: flex-end;width: 50%;}#sk-container-id-31 div.sk-parallel-item:last-child::after {align-self: flex-start;width: 50%;}#sk-container-id-31 div.sk-parallel-item:only-child::after {width: 0;}#sk-container-id-31 div.sk-dashed-wrapped {border: 1px dashed gray;margin: 0 0.4em 0.5em 0.4em;box-sizing: border-box;padding-bottom: 0.4em;background-color: white;}#sk-container-id-31 div.sk-label label {font-family: monospace;font-weight: bold;display: inline-block;line-height: 1.2em;}#sk-container-id-31 div.sk-label-container {text-align: center;}#sk-container-id-31 div.sk-container {/* jupyter's `normalize.less` sets `[hidden] { display: none; }` but bootstrap.min.css set `[hidden] { display: none !important; }` so we also need the `!important` here to be able to override the default hidden behavior on the sphinx rendered scikit-learn.org. See: https://github.com/scikit-learn/scikit-learn/issues/21755 */display: inline-block !important;position: relative;}#sk-container-id-31 div.sk-text-repr-fallback {display: none;}</style><div id=\"sk-container-id-31\" class=\"sk-top-container\"><div class=\"sk-text-repr-fallback\"><pre>Pipeline(steps=[(&#x27;minibatchKmeans&#x27;,\n",
       "                 MiniBatchKMeans(batch_size=3072, n_clusters=90,\n",
       "                                 random_state=42)),\n",
       "                (&#x27;random_forest&#x27;,\n",
       "                 RandomForestClassifier(criterion=&#x27;entropy&#x27;, max_depth=7,\n",
       "                                        n_estimators=300, n_jobs=11,\n",
       "                                        random_state=42))],\n",
       "         verbose=True)</pre><b>In a Jupyter environment, please rerun this cell to show the HTML representation or trust the notebook. <br />On GitHub, the HTML representation is unable to render, please try loading this page with nbviewer.org.</b></div><div class=\"sk-container\" hidden><div class=\"sk-item sk-dashed-wrapped\"><div class=\"sk-label-container\"><div class=\"sk-label sk-toggleable\"><input class=\"sk-toggleable__control sk-hidden--visually\" id=\"sk-estimator-id-53\" type=\"checkbox\" ><label for=\"sk-estimator-id-53\" class=\"sk-toggleable__label sk-toggleable__label-arrow\">Pipeline</label><div class=\"sk-toggleable__content\"><pre>Pipeline(steps=[(&#x27;minibatchKmeans&#x27;,\n",
       "                 MiniBatchKMeans(batch_size=3072, n_clusters=90,\n",
       "                                 random_state=42)),\n",
       "                (&#x27;random_forest&#x27;,\n",
       "                 RandomForestClassifier(criterion=&#x27;entropy&#x27;, max_depth=7,\n",
       "                                        n_estimators=300, n_jobs=11,\n",
       "                                        random_state=42))],\n",
       "         verbose=True)</pre></div></div></div><div class=\"sk-serial\"><div class=\"sk-item\"><div class=\"sk-estimator sk-toggleable\"><input class=\"sk-toggleable__control sk-hidden--visually\" id=\"sk-estimator-id-54\" type=\"checkbox\" ><label for=\"sk-estimator-id-54\" class=\"sk-toggleable__label sk-toggleable__label-arrow\">MiniBatchKMeans</label><div class=\"sk-toggleable__content\"><pre>MiniBatchKMeans(batch_size=3072, n_clusters=90, random_state=42)</pre></div></div></div><div class=\"sk-item\"><div class=\"sk-estimator sk-toggleable\"><input class=\"sk-toggleable__control sk-hidden--visually\" id=\"sk-estimator-id-55\" type=\"checkbox\" ><label for=\"sk-estimator-id-55\" class=\"sk-toggleable__label sk-toggleable__label-arrow\">RandomForestClassifier</label><div class=\"sk-toggleable__content\"><pre>RandomForestClassifier(criterion=&#x27;entropy&#x27;, max_depth=7, n_estimators=300,\n",
       "                       n_jobs=11, random_state=42)</pre></div></div></div></div></div></div></div>"
      ],
      "text/plain": [
       "Pipeline(steps=[('minibatchKmeans',\n",
       "                 MiniBatchKMeans(batch_size=3072, n_clusters=90,\n",
       "                                 random_state=42)),\n",
       "                ('random_forest',\n",
       "                 RandomForestClassifier(criterion='entropy', max_depth=7,\n",
       "                                        n_estimators=300, n_jobs=11,\n",
       "                                        random_state=42))],\n",
       "         verbose=True)"
      ]
     },
     "execution_count": 176,
     "metadata": {},
     "output_type": "execute_result"
    }
   ],
   "source": [
    "pipeline_trees = Pipeline([\n",
    " (\"minibatchKmeans\", MiniBatchKMeans(n_clusters=90,random_state=42, batch_size=3072)),\n",
    " (\"random_forest\", RandomForestClassifier(criterion = \"entropy\",n_estimators = 300,random_state=42, n_jobs = os.cpu_count() - 1, max_depth=7)),\n",
    "], verbose = True)\n",
    "pipeline_trees.fit(X_train_new, y_train_new.values.ravel())"
   ]
  },
  {
   "cell_type": "code",
   "execution_count": 177,
   "metadata": {},
   "outputs": [
    {
     "name": "stdout",
     "output_type": "stream",
     "text": [
      "Pipeline score(train) when using minibatchKmeans on random forest: 0.6482666666666667\n",
      "Pipeline score(test) when using minibatchKmeans on random forest: 0.5776\n"
     ]
    }
   ],
   "source": [
    "print(\"Pipeline score(train) when using minibatchKmeans on random forest:\",pipeline_trees.score(X_train_new, y_train_new))\n",
    "print(\"Pipeline score(test) when using minibatchKmeans on random forest:\",pipeline_trees.score(X_test_new, y_test_new))"
   ]
  },
  {
   "cell_type": "markdown",
   "metadata": {},
   "source": [
    "### Gradient boosting"
   ]
  },
  {
   "cell_type": "code",
   "execution_count": 180,
   "metadata": {},
   "outputs": [
    {
     "name": "stdout",
     "output_type": "stream",
     "text": [
      "[Pipeline] ... (step 1 of 2) Processing minibatchKmeans, total=   5.5s\n",
      "[Pipeline] . (step 2 of 2) Processing gradient boosting, total=   6.4s\n"
     ]
    },
    {
     "data": {
      "text/html": [
       "<style>#sk-container-id-33 {color: black;background-color: white;}#sk-container-id-33 pre{padding: 0;}#sk-container-id-33 div.sk-toggleable {background-color: white;}#sk-container-id-33 label.sk-toggleable__label {cursor: pointer;display: block;width: 100%;margin-bottom: 0;padding: 0.3em;box-sizing: border-box;text-align: center;}#sk-container-id-33 label.sk-toggleable__label-arrow:before {content: \"▸\";float: left;margin-right: 0.25em;color: #696969;}#sk-container-id-33 label.sk-toggleable__label-arrow:hover:before {color: black;}#sk-container-id-33 div.sk-estimator:hover label.sk-toggleable__label-arrow:before {color: black;}#sk-container-id-33 div.sk-toggleable__content {max-height: 0;max-width: 0;overflow: hidden;text-align: left;background-color: #f0f8ff;}#sk-container-id-33 div.sk-toggleable__content pre {margin: 0.2em;color: black;border-radius: 0.25em;background-color: #f0f8ff;}#sk-container-id-33 input.sk-toggleable__control:checked~div.sk-toggleable__content {max-height: 200px;max-width: 100%;overflow: auto;}#sk-container-id-33 input.sk-toggleable__control:checked~label.sk-toggleable__label-arrow:before {content: \"▾\";}#sk-container-id-33 div.sk-estimator input.sk-toggleable__control:checked~label.sk-toggleable__label {background-color: #d4ebff;}#sk-container-id-33 div.sk-label input.sk-toggleable__control:checked~label.sk-toggleable__label {background-color: #d4ebff;}#sk-container-id-33 input.sk-hidden--visually {border: 0;clip: rect(1px 1px 1px 1px);clip: rect(1px, 1px, 1px, 1px);height: 1px;margin: -1px;overflow: hidden;padding: 0;position: absolute;width: 1px;}#sk-container-id-33 div.sk-estimator {font-family: monospace;background-color: #f0f8ff;border: 1px dotted black;border-radius: 0.25em;box-sizing: border-box;margin-bottom: 0.5em;}#sk-container-id-33 div.sk-estimator:hover {background-color: #d4ebff;}#sk-container-id-33 div.sk-parallel-item::after {content: \"\";width: 100%;border-bottom: 1px solid gray;flex-grow: 1;}#sk-container-id-33 div.sk-label:hover label.sk-toggleable__label {background-color: #d4ebff;}#sk-container-id-33 div.sk-serial::before {content: \"\";position: absolute;border-left: 1px solid gray;box-sizing: border-box;top: 0;bottom: 0;left: 50%;z-index: 0;}#sk-container-id-33 div.sk-serial {display: flex;flex-direction: column;align-items: center;background-color: white;padding-right: 0.2em;padding-left: 0.2em;position: relative;}#sk-container-id-33 div.sk-item {position: relative;z-index: 1;}#sk-container-id-33 div.sk-parallel {display: flex;align-items: stretch;justify-content: center;background-color: white;position: relative;}#sk-container-id-33 div.sk-item::before, #sk-container-id-33 div.sk-parallel-item::before {content: \"\";position: absolute;border-left: 1px solid gray;box-sizing: border-box;top: 0;bottom: 0;left: 50%;z-index: -1;}#sk-container-id-33 div.sk-parallel-item {display: flex;flex-direction: column;z-index: 1;position: relative;background-color: white;}#sk-container-id-33 div.sk-parallel-item:first-child::after {align-self: flex-end;width: 50%;}#sk-container-id-33 div.sk-parallel-item:last-child::after {align-self: flex-start;width: 50%;}#sk-container-id-33 div.sk-parallel-item:only-child::after {width: 0;}#sk-container-id-33 div.sk-dashed-wrapped {border: 1px dashed gray;margin: 0 0.4em 0.5em 0.4em;box-sizing: border-box;padding-bottom: 0.4em;background-color: white;}#sk-container-id-33 div.sk-label label {font-family: monospace;font-weight: bold;display: inline-block;line-height: 1.2em;}#sk-container-id-33 div.sk-label-container {text-align: center;}#sk-container-id-33 div.sk-container {/* jupyter's `normalize.less` sets `[hidden] { display: none; }` but bootstrap.min.css set `[hidden] { display: none !important; }` so we also need the `!important` here to be able to override the default hidden behavior on the sphinx rendered scikit-learn.org. See: https://github.com/scikit-learn/scikit-learn/issues/21755 */display: inline-block !important;position: relative;}#sk-container-id-33 div.sk-text-repr-fallback {display: none;}</style><div id=\"sk-container-id-33\" class=\"sk-top-container\"><div class=\"sk-text-repr-fallback\"><pre>Pipeline(steps=[(&#x27;minibatchKmeans&#x27;,\n",
       "                 MiniBatchKMeans(batch_size=3072, n_clusters=90,\n",
       "                                 random_state=42)),\n",
       "                (&#x27;gradient boosting&#x27;,\n",
       "                 GradientBoostingClassifier(n_iter_no_change=10,\n",
       "                                            random_state=42, tol=0.5,\n",
       "                                            warm_start=True))],\n",
       "         verbose=True)</pre><b>In a Jupyter environment, please rerun this cell to show the HTML representation or trust the notebook. <br />On GitHub, the HTML representation is unable to render, please try loading this page with nbviewer.org.</b></div><div class=\"sk-container\" hidden><div class=\"sk-item sk-dashed-wrapped\"><div class=\"sk-label-container\"><div class=\"sk-label sk-toggleable\"><input class=\"sk-toggleable__control sk-hidden--visually\" id=\"sk-estimator-id-59\" type=\"checkbox\" ><label for=\"sk-estimator-id-59\" class=\"sk-toggleable__label sk-toggleable__label-arrow\">Pipeline</label><div class=\"sk-toggleable__content\"><pre>Pipeline(steps=[(&#x27;minibatchKmeans&#x27;,\n",
       "                 MiniBatchKMeans(batch_size=3072, n_clusters=90,\n",
       "                                 random_state=42)),\n",
       "                (&#x27;gradient boosting&#x27;,\n",
       "                 GradientBoostingClassifier(n_iter_no_change=10,\n",
       "                                            random_state=42, tol=0.5,\n",
       "                                            warm_start=True))],\n",
       "         verbose=True)</pre></div></div></div><div class=\"sk-serial\"><div class=\"sk-item\"><div class=\"sk-estimator sk-toggleable\"><input class=\"sk-toggleable__control sk-hidden--visually\" id=\"sk-estimator-id-60\" type=\"checkbox\" ><label for=\"sk-estimator-id-60\" class=\"sk-toggleable__label sk-toggleable__label-arrow\">MiniBatchKMeans</label><div class=\"sk-toggleable__content\"><pre>MiniBatchKMeans(batch_size=3072, n_clusters=90, random_state=42)</pre></div></div></div><div class=\"sk-item\"><div class=\"sk-estimator sk-toggleable\"><input class=\"sk-toggleable__control sk-hidden--visually\" id=\"sk-estimator-id-61\" type=\"checkbox\" ><label for=\"sk-estimator-id-61\" class=\"sk-toggleable__label sk-toggleable__label-arrow\">GradientBoostingClassifier</label><div class=\"sk-toggleable__content\"><pre>GradientBoostingClassifier(n_iter_no_change=10, random_state=42, tol=0.5,\n",
       "                           warm_start=True)</pre></div></div></div></div></div></div></div>"
      ],
      "text/plain": [
       "Pipeline(steps=[('minibatchKmeans',\n",
       "                 MiniBatchKMeans(batch_size=3072, n_clusters=90,\n",
       "                                 random_state=42)),\n",
       "                ('gradient boosting',\n",
       "                 GradientBoostingClassifier(n_iter_no_change=10,\n",
       "                                            random_state=42, tol=0.5,\n",
       "                                            warm_start=True))],\n",
       "         verbose=True)"
      ]
     },
     "execution_count": 180,
     "metadata": {},
     "output_type": "execute_result"
    }
   ],
   "source": [
    "pipeline_gradient_boost = Pipeline([\n",
    " (\"minibatchKmeans\", MiniBatchKMeans(n_clusters=90,random_state=42, batch_size=3072)),\n",
    " (\"gradient boosting\", GradientBoostingClassifier(max_features = None,random_state = 42, warm_start = True, n_iter_no_change = 10, tol = 0.5)),\n",
    "], verbose = True)\n",
    "pipeline_gradient_boost.fit(X_train_new, y_train_new.values.ravel())"
   ]
  },
  {
   "cell_type": "code",
   "execution_count": 181,
   "metadata": {},
   "outputs": [
    {
     "name": "stdout",
     "output_type": "stream",
     "text": [
      "Pipeline score(train) when using minibatchKmeans on gradient boosting: 0.5975111111111111\n",
      "Pipeline score(test) when using minibatchKmeans on gradient boosting: 0.5692\n"
     ]
    }
   ],
   "source": [
    "print(\"Pipeline score(train) when using minibatchKmeans on gradient boosting:\",pipeline_gradient_boost.score(X_train_new, y_train_new))\n",
    "print(\"Pipeline score(test) when using minibatchKmeans on gradient boosting:\",pipeline_gradient_boost.score(X_test_new, y_test_new))"
   ]
  },
  {
   "cell_type": "markdown",
   "metadata": {},
   "source": [
    "## Gridsearch for optimal K-clusters"
   ]
  },
  {
   "cell_type": "code",
   "execution_count": 169,
   "metadata": {},
   "outputs": [
    {
     "name": "stdout",
     "output_type": "stream",
     "text": [
      "Fitting 3 folds for each of 9 candidates, totalling 27 fits\n",
      "[Pipeline] ... (step 1 of 2) Processing minibatchKmeans, total=   1.6s\n",
      "[Pipeline] ........... (step 2 of 2) Processing log_reg, total=   0.2s\n",
      "[CV 1/3] END ....minibatchKmeans__n_clusters=10;, score=0.576 total time=   2.1s\n",
      "[Pipeline] ... (step 1 of 2) Processing minibatchKmeans, total=   1.6s\n",
      "[Pipeline] ........... (step 2 of 2) Processing log_reg, total=   0.3s\n",
      "[CV 2/3] END ....minibatchKmeans__n_clusters=10;, score=0.577 total time=   2.1s\n",
      "[Pipeline] ... (step 1 of 2) Processing minibatchKmeans, total=   1.7s\n",
      "[Pipeline] ........... (step 2 of 2) Processing log_reg, total=   0.2s\n",
      "[CV 3/3] END ....minibatchKmeans__n_clusters=10;, score=0.580 total time=   2.2s\n",
      "[Pipeline] ... (step 1 of 2) Processing minibatchKmeans, total=   1.9s\n",
      "[Pipeline] ........... (step 2 of 2) Processing log_reg, total=   0.3s\n",
      "[CV 1/3] END ....minibatchKmeans__n_clusters=20;, score=0.579 total time=   2.5s\n",
      "[Pipeline] ... (step 1 of 2) Processing minibatchKmeans, total=   2.0s\n",
      "[Pipeline] ........... (step 2 of 2) Processing log_reg, total=   0.5s\n",
      "[CV 2/3] END ....minibatchKmeans__n_clusters=20;, score=0.590 total time=   2.7s\n",
      "[Pipeline] ... (step 1 of 2) Processing minibatchKmeans, total=   2.5s\n",
      "[Pipeline] ........... (step 2 of 2) Processing log_reg, total=   0.4s\n",
      "[CV 3/3] END ....minibatchKmeans__n_clusters=20;, score=0.588 total time=   3.1s\n",
      "[Pipeline] ... (step 1 of 2) Processing minibatchKmeans, total=   2.6s\n",
      "[Pipeline] ........... (step 2 of 2) Processing log_reg, total=   0.6s\n",
      "[CV 1/3] END ....minibatchKmeans__n_clusters=30;, score=0.583 total time=   3.4s\n",
      "[Pipeline] ... (step 1 of 2) Processing minibatchKmeans, total=   2.4s\n",
      "[Pipeline] ........... (step 2 of 2) Processing log_reg, total=   0.5s\n",
      "[CV 2/3] END ....minibatchKmeans__n_clusters=30;, score=0.594 total time=   3.1s\n",
      "[Pipeline] ... (step 1 of 2) Processing minibatchKmeans, total=   2.5s\n",
      "[Pipeline] ........... (step 2 of 2) Processing log_reg, total=   0.5s\n",
      "[CV 3/3] END ....minibatchKmeans__n_clusters=30;, score=0.589 total time=   3.3s\n",
      "[Pipeline] ... (step 1 of 2) Processing minibatchKmeans, total=   3.3s\n",
      "[Pipeline] ........... (step 2 of 2) Processing log_reg, total=   0.6s\n",
      "[CV 1/3] END ....minibatchKmeans__n_clusters=40;, score=0.586 total time=   4.2s\n",
      "[Pipeline] ... (step 1 of 2) Processing minibatchKmeans, total=   3.4s\n",
      "[Pipeline] ........... (step 2 of 2) Processing log_reg, total=   0.8s\n",
      "[CV 2/3] END ....minibatchKmeans__n_clusters=40;, score=0.599 total time=   4.4s\n",
      "[Pipeline] ... (step 1 of 2) Processing minibatchKmeans, total=   3.3s\n",
      "[Pipeline] ........... (step 2 of 2) Processing log_reg, total=   0.7s\n",
      "[CV 3/3] END ....minibatchKmeans__n_clusters=40;, score=0.586 total time=   4.2s\n",
      "[Pipeline] ... (step 1 of 2) Processing minibatchKmeans, total=   3.5s\n",
      "[Pipeline] ........... (step 2 of 2) Processing log_reg, total=   0.9s\n",
      "[CV 1/3] END ....minibatchKmeans__n_clusters=50;, score=0.587 total time=   4.6s\n",
      "[Pipeline] ... (step 1 of 2) Processing minibatchKmeans, total=   3.6s\n",
      "[Pipeline] ........... (step 2 of 2) Processing log_reg, total=   0.9s\n",
      "[CV 2/3] END ....minibatchKmeans__n_clusters=50;, score=0.600 total time=   4.7s\n",
      "[Pipeline] ... (step 1 of 2) Processing minibatchKmeans, total=   3.3s\n",
      "[Pipeline] ........... (step 2 of 2) Processing log_reg, total=   1.0s\n",
      "[CV 3/3] END ....minibatchKmeans__n_clusters=50;, score=0.592 total time=   4.6s\n",
      "[Pipeline] ... (step 1 of 2) Processing minibatchKmeans, total=   3.7s\n",
      "[Pipeline] ........... (step 2 of 2) Processing log_reg, total=   1.3s\n",
      "[CV 1/3] END ....minibatchKmeans__n_clusters=60;, score=0.587 total time=   5.2s\n",
      "[Pipeline] ... (step 1 of 2) Processing minibatchKmeans, total=   4.1s\n",
      "[Pipeline] ........... (step 2 of 2) Processing log_reg, total=   1.1s\n",
      "[CV 2/3] END ....minibatchKmeans__n_clusters=60;, score=0.600 total time=   5.4s\n",
      "[Pipeline] ... (step 1 of 2) Processing minibatchKmeans, total=   4.7s\n",
      "[Pipeline] ........... (step 2 of 2) Processing log_reg, total=   1.1s\n",
      "[CV 3/3] END ....minibatchKmeans__n_clusters=60;, score=0.593 total time=   6.0s\n",
      "[Pipeline] ... (step 1 of 2) Processing minibatchKmeans, total=   4.1s\n",
      "[Pipeline] ........... (step 2 of 2) Processing log_reg, total=   1.1s\n",
      "[CV 1/3] END ....minibatchKmeans__n_clusters=70;, score=0.588 total time=   5.4s\n",
      "[Pipeline] ... (step 1 of 2) Processing minibatchKmeans, total=   4.6s\n",
      "[Pipeline] ........... (step 2 of 2) Processing log_reg, total=   1.2s\n",
      "[CV 2/3] END ....minibatchKmeans__n_clusters=70;, score=0.600 total time=   6.0s\n",
      "[Pipeline] ... (step 1 of 2) Processing minibatchKmeans, total=   4.5s\n",
      "[Pipeline] ........... (step 2 of 2) Processing log_reg, total=   1.3s\n",
      "[CV 3/3] END ....minibatchKmeans__n_clusters=70;, score=0.593 total time=   6.0s\n",
      "[Pipeline] ... (step 1 of 2) Processing minibatchKmeans, total=   4.6s\n",
      "[Pipeline] ........... (step 2 of 2) Processing log_reg, total=   1.5s\n",
      "[CV 1/3] END ....minibatchKmeans__n_clusters=80;, score=0.593 total time=   6.4s\n",
      "[Pipeline] ... (step 1 of 2) Processing minibatchKmeans, total=   4.8s\n",
      "[Pipeline] ........... (step 2 of 2) Processing log_reg, total=   1.5s\n",
      "[CV 2/3] END ....minibatchKmeans__n_clusters=80;, score=0.598 total time=   6.6s\n",
      "[Pipeline] ... (step 1 of 2) Processing minibatchKmeans, total=   4.5s\n",
      "[Pipeline] ........... (step 2 of 2) Processing log_reg, total=   1.5s\n",
      "[CV 3/3] END ....minibatchKmeans__n_clusters=80;, score=0.594 total time=   6.2s\n",
      "[Pipeline] ... (step 1 of 2) Processing minibatchKmeans, total=   5.3s\n",
      "[Pipeline] ........... (step 2 of 2) Processing log_reg, total=   1.6s\n",
      "[CV 1/3] END ....minibatchKmeans__n_clusters=90;, score=0.596 total time=   7.2s\n",
      "[Pipeline] ... (step 1 of 2) Processing minibatchKmeans, total=   5.1s\n",
      "[Pipeline] ........... (step 2 of 2) Processing log_reg, total=   1.6s\n",
      "[CV 2/3] END ....minibatchKmeans__n_clusters=90;, score=0.606 total time=   6.9s\n",
      "[Pipeline] ... (step 1 of 2) Processing minibatchKmeans, total=   5.3s\n",
      "[Pipeline] ........... (step 2 of 2) Processing log_reg, total=   1.9s\n",
      "[CV 3/3] END ....minibatchKmeans__n_clusters=90;, score=0.592 total time=   7.4s\n",
      "[Pipeline] ... (step 1 of 2) Processing minibatchKmeans, total=   5.5s\n",
      "[Pipeline] ........... (step 2 of 2) Processing log_reg, total=   1.7s\n"
     ]
    }
   ],
   "source": [
    "param_grid = {\"minibatchKmeans__n_clusters\":range(10, 100, 10)}\n",
    "grid_clf = GridSearchCV(pipeline_log, param_grid, cv=3, verbose=4).fit(X_train_new, y_train_new.values.ravel())"
   ]
  },
  {
   "cell_type": "code",
   "execution_count": 170,
   "metadata": {},
   "outputs": [
    {
     "data": {
      "text/html": [
       "<div>\n",
       "<style scoped>\n",
       "    .dataframe tbody tr th:only-of-type {\n",
       "        vertical-align: middle;\n",
       "    }\n",
       "\n",
       "    .dataframe tbody tr th {\n",
       "        vertical-align: top;\n",
       "    }\n",
       "\n",
       "    .dataframe thead th {\n",
       "        text-align: right;\n",
       "    }\n",
       "</style>\n",
       "<table border=\"1\" class=\"dataframe\">\n",
       "  <thead>\n",
       "    <tr style=\"text-align: right;\">\n",
       "      <th></th>\n",
       "      <th>mean_fit_time</th>\n",
       "      <th>std_fit_time</th>\n",
       "      <th>mean_score_time</th>\n",
       "      <th>std_score_time</th>\n",
       "      <th>param_minibatchKmeans__n_clusters</th>\n",
       "      <th>params</th>\n",
       "      <th>split0_test_score</th>\n",
       "      <th>split1_test_score</th>\n",
       "      <th>split2_test_score</th>\n",
       "      <th>mean_test_score</th>\n",
       "      <th>std_test_score</th>\n",
       "      <th>rank_test_score</th>\n",
       "    </tr>\n",
       "  </thead>\n",
       "  <tbody>\n",
       "    <tr>\n",
       "      <th>0</th>\n",
       "      <td>1.990973</td>\n",
       "      <td>0.039163</td>\n",
       "      <td>0.220705</td>\n",
       "      <td>0.005721</td>\n",
       "      <td>10</td>\n",
       "      <td>{'minibatchKmeans__n_clusters': 10}</td>\n",
       "      <td>0.576000</td>\n",
       "      <td>0.576933</td>\n",
       "      <td>0.579733</td>\n",
       "      <td>0.577556</td>\n",
       "      <td>0.001586</td>\n",
       "      <td>9</td>\n",
       "    </tr>\n",
       "    <tr>\n",
       "      <th>1</th>\n",
       "      <td>2.639289</td>\n",
       "      <td>0.262895</td>\n",
       "      <td>0.223539</td>\n",
       "      <td>0.007155</td>\n",
       "      <td>20</td>\n",
       "      <td>{'minibatchKmeans__n_clusters': 20}</td>\n",
       "      <td>0.578667</td>\n",
       "      <td>0.590400</td>\n",
       "      <td>0.588133</td>\n",
       "      <td>0.585733</td>\n",
       "      <td>0.005082</td>\n",
       "      <td>8</td>\n",
       "    </tr>\n",
       "    <tr>\n",
       "      <th>2</th>\n",
       "      <td>3.146624</td>\n",
       "      <td>0.121949</td>\n",
       "      <td>0.228873</td>\n",
       "      <td>0.000472</td>\n",
       "      <td>30</td>\n",
       "      <td>{'minibatchKmeans__n_clusters': 30}</td>\n",
       "      <td>0.582800</td>\n",
       "      <td>0.594000</td>\n",
       "      <td>0.589333</td>\n",
       "      <td>0.588711</td>\n",
       "      <td>0.004594</td>\n",
       "      <td>7</td>\n",
       "    </tr>\n",
       "    <tr>\n",
       "      <th>3</th>\n",
       "      <td>4.139624</td>\n",
       "      <td>0.120586</td>\n",
       "      <td>0.236708</td>\n",
       "      <td>0.005633</td>\n",
       "      <td>40</td>\n",
       "      <td>{'minibatchKmeans__n_clusters': 40}</td>\n",
       "      <td>0.586400</td>\n",
       "      <td>0.599067</td>\n",
       "      <td>0.586400</td>\n",
       "      <td>0.590622</td>\n",
       "      <td>0.005971</td>\n",
       "      <td>6</td>\n",
       "    </tr>\n",
       "    <tr>\n",
       "      <th>4</th>\n",
       "      <td>4.512787</td>\n",
       "      <td>0.046695</td>\n",
       "      <td>0.247043</td>\n",
       "      <td>0.001780</td>\n",
       "      <td>50</td>\n",
       "      <td>{'minibatchKmeans__n_clusters': 50}</td>\n",
       "      <td>0.586933</td>\n",
       "      <td>0.600267</td>\n",
       "      <td>0.592267</td>\n",
       "      <td>0.593156</td>\n",
       "      <td>0.005479</td>\n",
       "      <td>5</td>\n",
       "    </tr>\n",
       "    <tr>\n",
       "      <th>5</th>\n",
       "      <td>5.404491</td>\n",
       "      <td>0.334230</td>\n",
       "      <td>0.237542</td>\n",
       "      <td>0.015946</td>\n",
       "      <td>60</td>\n",
       "      <td>{'minibatchKmeans__n_clusters': 60}</td>\n",
       "      <td>0.587067</td>\n",
       "      <td>0.599600</td>\n",
       "      <td>0.592933</td>\n",
       "      <td>0.593200</td>\n",
       "      <td>0.005120</td>\n",
       "      <td>4</td>\n",
       "    </tr>\n",
       "    <tr>\n",
       "      <th>6</th>\n",
       "      <td>5.689424</td>\n",
       "      <td>0.260428</td>\n",
       "      <td>0.219538</td>\n",
       "      <td>0.005716</td>\n",
       "      <td>70</td>\n",
       "      <td>{'minibatchKmeans__n_clusters': 70}</td>\n",
       "      <td>0.587600</td>\n",
       "      <td>0.600400</td>\n",
       "      <td>0.592667</td>\n",
       "      <td>0.593556</td>\n",
       "      <td>0.005263</td>\n",
       "      <td>3</td>\n",
       "    </tr>\n",
       "    <tr>\n",
       "      <th>7</th>\n",
       "      <td>6.224439</td>\n",
       "      <td>0.148642</td>\n",
       "      <td>0.246710</td>\n",
       "      <td>0.004090</td>\n",
       "      <td>80</td>\n",
       "      <td>{'minibatchKmeans__n_clusters': 80}</td>\n",
       "      <td>0.593200</td>\n",
       "      <td>0.598000</td>\n",
       "      <td>0.594267</td>\n",
       "      <td>0.595156</td>\n",
       "      <td>0.002058</td>\n",
       "      <td>2</td>\n",
       "    </tr>\n",
       "    <tr>\n",
       "      <th>8</th>\n",
       "      <td>7.025470</td>\n",
       "      <td>0.187418</td>\n",
       "      <td>0.262212</td>\n",
       "      <td>0.018908</td>\n",
       "      <td>90</td>\n",
       "      <td>{'minibatchKmeans__n_clusters': 90}</td>\n",
       "      <td>0.595867</td>\n",
       "      <td>0.605600</td>\n",
       "      <td>0.591867</td>\n",
       "      <td>0.597778</td>\n",
       "      <td>0.005767</td>\n",
       "      <td>1</td>\n",
       "    </tr>\n",
       "  </tbody>\n",
       "</table>\n",
       "</div>"
      ],
      "text/plain": [
       "   mean_fit_time  std_fit_time  mean_score_time  std_score_time  \\\n",
       "0       1.990973      0.039163         0.220705        0.005721   \n",
       "1       2.639289      0.262895         0.223539        0.007155   \n",
       "2       3.146624      0.121949         0.228873        0.000472   \n",
       "3       4.139624      0.120586         0.236708        0.005633   \n",
       "4       4.512787      0.046695         0.247043        0.001780   \n",
       "5       5.404491      0.334230         0.237542        0.015946   \n",
       "6       5.689424      0.260428         0.219538        0.005716   \n",
       "7       6.224439      0.148642         0.246710        0.004090   \n",
       "8       7.025470      0.187418         0.262212        0.018908   \n",
       "\n",
       "  param_minibatchKmeans__n_clusters                               params  \\\n",
       "0                                10  {'minibatchKmeans__n_clusters': 10}   \n",
       "1                                20  {'minibatchKmeans__n_clusters': 20}   \n",
       "2                                30  {'minibatchKmeans__n_clusters': 30}   \n",
       "3                                40  {'minibatchKmeans__n_clusters': 40}   \n",
       "4                                50  {'minibatchKmeans__n_clusters': 50}   \n",
       "5                                60  {'minibatchKmeans__n_clusters': 60}   \n",
       "6                                70  {'minibatchKmeans__n_clusters': 70}   \n",
       "7                                80  {'minibatchKmeans__n_clusters': 80}   \n",
       "8                                90  {'minibatchKmeans__n_clusters': 90}   \n",
       "\n",
       "   split0_test_score  split1_test_score  split2_test_score  mean_test_score  \\\n",
       "0           0.576000           0.576933           0.579733         0.577556   \n",
       "1           0.578667           0.590400           0.588133         0.585733   \n",
       "2           0.582800           0.594000           0.589333         0.588711   \n",
       "3           0.586400           0.599067           0.586400         0.590622   \n",
       "4           0.586933           0.600267           0.592267         0.593156   \n",
       "5           0.587067           0.599600           0.592933         0.593200   \n",
       "6           0.587600           0.600400           0.592667         0.593556   \n",
       "7           0.593200           0.598000           0.594267         0.595156   \n",
       "8           0.595867           0.605600           0.591867         0.597778   \n",
       "\n",
       "   std_test_score  rank_test_score  \n",
       "0        0.001586                9  \n",
       "1        0.005082                8  \n",
       "2        0.004594                7  \n",
       "3        0.005971                6  \n",
       "4        0.005479                5  \n",
       "5        0.005120                4  \n",
       "6        0.005263                3  \n",
       "7        0.002058                2  \n",
       "8        0.005767                1  "
      ]
     },
     "execution_count": 170,
     "metadata": {},
     "output_type": "execute_result"
    }
   ],
   "source": [
    "pd.DataFrame(grid_clf.cv_results_)"
   ]
  },
  {
   "cell_type": "code",
   "execution_count": 171,
   "metadata": {},
   "outputs": [
    {
     "name": "stdout",
     "output_type": "stream",
     "text": [
      "Best pipeline clusters using minibatchKmeans and logistic regression:\n",
      " Pipeline(steps=[('minibatchKmeans',\n",
      "                 MiniBatchKMeans(batch_size=3072, n_clusters=90,\n",
      "                                 random_state=42)),\n",
      "                ('log_reg',\n",
      "                 LogisticRegression(class_weight='balanced', l1_ratio=0.4,\n",
      "                                    multi_class='ovr', n_jobs=11,\n",
      "                                    penalty='elasticnet', random_state=42,\n",
      "                                    solver='saga', tol=0.01))],\n",
      "         verbose=True) \n",
      "with a score of: 0.5977777777777779\n"
     ]
    }
   ],
   "source": [
    "print(\"Best pipeline clusters using minibatchKmeans and logistic regression:\\n\", grid_clf.best_estimator_,\"\\nwith a score of:\",grid_clf.best_score_)"
   ]
  },
  {
   "cell_type": "code",
   "execution_count": null,
   "metadata": {},
   "outputs": [],
   "source": []
  }
 ],
 "metadata": {
  "kernelspec": {
   "display_name": "Python 3",
   "language": "python",
   "name": "python3"
  },
  "language_info": {
   "codemirror_mode": {
    "name": "ipython",
    "version": 3
   },
   "file_extension": ".py",
   "mimetype": "text/x-python",
   "name": "python",
   "nbconvert_exporter": "python",
   "pygments_lexer": "ipython3",
   "version": "3.8.5"
  }
 },
 "nbformat": 4,
 "nbformat_minor": 4
}
