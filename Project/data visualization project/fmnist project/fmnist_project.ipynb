{
 "cells": [
  {
   "cell_type": "code",
   "execution_count": 1,
   "metadata": {},
   "outputs": [],
   "source": [
    "from keras.datasets import fashion_mnist"
   ]
  },
  {
   "cell_type": "code",
   "execution_count": 75,
   "metadata": {},
   "outputs": [],
   "source": [
    "from matplotlib import pyplot as plt\n",
    "import numpy as np\n",
    "import pandas as pd\n",
    "import os"
   ]
  },
  {
   "cell_type": "markdown",
   "metadata": {},
   "source": [
    "## Preprocessing and analyzing the data"
   ]
  },
  {
   "cell_type": "code",
   "execution_count": 3,
   "metadata": {},
   "outputs": [],
   "source": [
    "(trainX, trainy), (testX, testy) = fashion_mnist.load_data()"
   ]
  },
  {
   "cell_type": "code",
   "execution_count": 4,
   "metadata": {},
   "outputs": [
    {
     "name": "stdout",
     "output_type": "stream",
     "text": [
      "Training data shape: (60000, 28, 28)\n",
      "Training data label shape: (60000,)\n",
      "Testing data shape: (10000, 28, 28)\n",
      "Testing data label shape: (10000,)\n"
     ]
    }
   ],
   "source": [
    "print(\"Training data shape:\",trainX.shape)\n",
    "print(\"Training data label shape:\",trainy.shape)\n",
    "print(\"Testing data shape:\",testX.shape)\n",
    "print(\"Testing data label shape:\",testy.shape)"
   ]
  },
  {
   "cell_type": "code",
   "execution_count": 5,
   "metadata": {},
   "outputs": [
    {
     "name": "stdout",
     "output_type": "stream",
     "text": [
      "Training data type: uint8\n",
      "Training data label type: uint8\n",
      "Testing data type: uint8\n",
      "Testing data label type: uint8\n"
     ]
    }
   ],
   "source": [
    "print(\"Training data type:\",trainX.dtype)\n",
    "print(\"Training data label type:\",trainy.dtype)\n",
    "print(\"Testing data type:\",testX.dtype)\n",
    "print(\"Testing data label type:\",testy.dtype)"
   ]
  },
  {
   "cell_type": "code",
   "execution_count": 6,
   "metadata": {},
   "outputs": [
    {
     "data": {
      "text/plain": [
       "array([9, 0, 0, ..., 3, 0, 5], dtype=uint8)"
      ]
     },
     "execution_count": 6,
     "metadata": {},
     "output_type": "execute_result"
    }
   ],
   "source": [
    "trainy"
   ]
  },
  {
   "cell_type": "code",
   "execution_count": 7,
   "metadata": {},
   "outputs": [
    {
     "name": "stdout",
     "output_type": "stream",
     "text": [
      "Amount of samples: 60000\n"
     ]
    }
   ],
   "source": [
    "print(\"Amount of samples:\",len(trainX[:]))"
   ]
  },
  {
   "cell_type": "code",
   "execution_count": 8,
   "metadata": {},
   "outputs": [],
   "source": [
    "#plots an image given index\n",
    "def plot_image(index, train_data, shape = 28):\n",
    "    plt.imshow(trainX[index].reshape(shape, shape),cmap = plt.get_cmap('gray'), interpolation = 'nearest')\n",
    "    print(\"Label:\",trainy[index])"
   ]
  },
  {
   "cell_type": "code",
   "execution_count": 9,
   "metadata": {},
   "outputs": [
    {
     "name": "stdout",
     "output_type": "stream",
     "text": [
      "Label: 2\n"
     ]
    },
    {
     "data": {
      "image/png": "[encoded data removed]",
      "text/plain": [
       "<Figure size 432x288 with 1 Axes>"
      ]
     },
     "metadata": {
      "needs_background": "light"
     },
     "output_type": "display_data"
    }
   ],
   "source": [
    "plot_image(123, trainX)"
   ]
  },
  {
   "cell_type": "code",
   "execution_count": 10,
   "metadata": {},
   "outputs": [
    {
     "data": {
      "text/html": [
       "<div>\n",
       "<style scoped>\n",
       "    .dataframe tbody tr th:only-of-type {\n",
       "        vertical-align: middle;\n",
       "    }\n",
       "\n",
       "    .dataframe tbody tr th {\n",
       "        vertical-align: top;\n",
       "    }\n",
       "\n",
       "    .dataframe thead th {\n",
       "        text-align: right;\n",
       "    }\n",
       "</style>\n",
       "<table border=\"1\" class=\"dataframe\">\n",
       "  <thead>\n",
       "    <tr style=\"text-align: right;\">\n",
       "      <th></th>\n",
       "      <th>0</th>\n",
       "      <th>1</th>\n",
       "      <th>2</th>\n",
       "      <th>3</th>\n",
       "      <th>4</th>\n",
       "      <th>5</th>\n",
       "      <th>6</th>\n",
       "      <th>7</th>\n",
       "      <th>8</th>\n",
       "      <th>9</th>\n",
       "      <th>...</th>\n",
       "      <th>774</th>\n",
       "      <th>775</th>\n",
       "      <th>776</th>\n",
       "      <th>777</th>\n",
       "      <th>778</th>\n",
       "      <th>779</th>\n",
       "      <th>780</th>\n",
       "      <th>781</th>\n",
       "      <th>782</th>\n",
       "      <th>783</th>\n",
       "    </tr>\n",
       "  </thead>\n",
       "  <tbody>\n",
       "    <tr>\n",
       "      <th>0</th>\n",
       "      <td>0</td>\n",
       "      <td>0</td>\n",
       "      <td>0</td>\n",
       "      <td>0</td>\n",
       "      <td>0</td>\n",
       "      <td>0</td>\n",
       "      <td>0</td>\n",
       "      <td>0</td>\n",
       "      <td>0</td>\n",
       "      <td>0</td>\n",
       "      <td>...</td>\n",
       "      <td>0</td>\n",
       "      <td>0</td>\n",
       "      <td>0</td>\n",
       "      <td>0</td>\n",
       "      <td>0</td>\n",
       "      <td>0</td>\n",
       "      <td>0</td>\n",
       "      <td>0</td>\n",
       "      <td>0</td>\n",
       "      <td>0</td>\n",
       "    </tr>\n",
       "    <tr>\n",
       "      <th>1</th>\n",
       "      <td>0</td>\n",
       "      <td>0</td>\n",
       "      <td>0</td>\n",
       "      <td>0</td>\n",
       "      <td>0</td>\n",
       "      <td>1</td>\n",
       "      <td>0</td>\n",
       "      <td>0</td>\n",
       "      <td>0</td>\n",
       "      <td>0</td>\n",
       "      <td>...</td>\n",
       "      <td>119</td>\n",
       "      <td>114</td>\n",
       "      <td>130</td>\n",
       "      <td>76</td>\n",
       "      <td>0</td>\n",
       "      <td>0</td>\n",
       "      <td>0</td>\n",
       "      <td>0</td>\n",
       "      <td>0</td>\n",
       "      <td>0</td>\n",
       "    </tr>\n",
       "    <tr>\n",
       "      <th>2</th>\n",
       "      <td>0</td>\n",
       "      <td>0</td>\n",
       "      <td>0</td>\n",
       "      <td>0</td>\n",
       "      <td>0</td>\n",
       "      <td>0</td>\n",
       "      <td>0</td>\n",
       "      <td>0</td>\n",
       "      <td>0</td>\n",
       "      <td>22</td>\n",
       "      <td>...</td>\n",
       "      <td>0</td>\n",
       "      <td>0</td>\n",
       "      <td>1</td>\n",
       "      <td>0</td>\n",
       "      <td>0</td>\n",
       "      <td>0</td>\n",
       "      <td>0</td>\n",
       "      <td>0</td>\n",
       "      <td>0</td>\n",
       "      <td>0</td>\n",
       "    </tr>\n",
       "    <tr>\n",
       "      <th>3</th>\n",
       "      <td>0</td>\n",
       "      <td>0</td>\n",
       "      <td>0</td>\n",
       "      <td>0</td>\n",
       "      <td>0</td>\n",
       "      <td>0</td>\n",
       "      <td>0</td>\n",
       "      <td>0</td>\n",
       "      <td>33</td>\n",
       "      <td>96</td>\n",
       "      <td>...</td>\n",
       "      <td>0</td>\n",
       "      <td>0</td>\n",
       "      <td>0</td>\n",
       "      <td>0</td>\n",
       "      <td>0</td>\n",
       "      <td>0</td>\n",
       "      <td>0</td>\n",
       "      <td>0</td>\n",
       "      <td>0</td>\n",
       "      <td>0</td>\n",
       "    </tr>\n",
       "    <tr>\n",
       "      <th>4</th>\n",
       "      <td>0</td>\n",
       "      <td>0</td>\n",
       "      <td>0</td>\n",
       "      <td>0</td>\n",
       "      <td>0</td>\n",
       "      <td>0</td>\n",
       "      <td>0</td>\n",
       "      <td>0</td>\n",
       "      <td>0</td>\n",
       "      <td>0</td>\n",
       "      <td>...</td>\n",
       "      <td>0</td>\n",
       "      <td>0</td>\n",
       "      <td>0</td>\n",
       "      <td>0</td>\n",
       "      <td>0</td>\n",
       "      <td>0</td>\n",
       "      <td>0</td>\n",
       "      <td>0</td>\n",
       "      <td>0</td>\n",
       "      <td>0</td>\n",
       "    </tr>\n",
       "    <tr>\n",
       "      <th>...</th>\n",
       "      <td>...</td>\n",
       "      <td>...</td>\n",
       "      <td>...</td>\n",
       "      <td>...</td>\n",
       "      <td>...</td>\n",
       "      <td>...</td>\n",
       "      <td>...</td>\n",
       "      <td>...</td>\n",
       "      <td>...</td>\n",
       "      <td>...</td>\n",
       "      <td>...</td>\n",
       "      <td>...</td>\n",
       "      <td>...</td>\n",
       "      <td>...</td>\n",
       "      <td>...</td>\n",
       "      <td>...</td>\n",
       "      <td>...</td>\n",
       "      <td>...</td>\n",
       "      <td>...</td>\n",
       "      <td>...</td>\n",
       "      <td>...</td>\n",
       "    </tr>\n",
       "    <tr>\n",
       "      <th>59995</th>\n",
       "      <td>0</td>\n",
       "      <td>0</td>\n",
       "      <td>0</td>\n",
       "      <td>0</td>\n",
       "      <td>0</td>\n",
       "      <td>0</td>\n",
       "      <td>0</td>\n",
       "      <td>0</td>\n",
       "      <td>0</td>\n",
       "      <td>0</td>\n",
       "      <td>...</td>\n",
       "      <td>0</td>\n",
       "      <td>0</td>\n",
       "      <td>0</td>\n",
       "      <td>0</td>\n",
       "      <td>0</td>\n",
       "      <td>0</td>\n",
       "      <td>0</td>\n",
       "      <td>0</td>\n",
       "      <td>0</td>\n",
       "      <td>0</td>\n",
       "    </tr>\n",
       "    <tr>\n",
       "      <th>59996</th>\n",
       "      <td>0</td>\n",
       "      <td>0</td>\n",
       "      <td>0</td>\n",
       "      <td>0</td>\n",
       "      <td>0</td>\n",
       "      <td>0</td>\n",
       "      <td>0</td>\n",
       "      <td>0</td>\n",
       "      <td>0</td>\n",
       "      <td>0</td>\n",
       "      <td>...</td>\n",
       "      <td>0</td>\n",
       "      <td>0</td>\n",
       "      <td>0</td>\n",
       "      <td>0</td>\n",
       "      <td>0</td>\n",
       "      <td>0</td>\n",
       "      <td>0</td>\n",
       "      <td>0</td>\n",
       "      <td>0</td>\n",
       "      <td>0</td>\n",
       "    </tr>\n",
       "    <tr>\n",
       "      <th>59997</th>\n",
       "      <td>0</td>\n",
       "      <td>0</td>\n",
       "      <td>0</td>\n",
       "      <td>0</td>\n",
       "      <td>0</td>\n",
       "      <td>0</td>\n",
       "      <td>0</td>\n",
       "      <td>0</td>\n",
       "      <td>0</td>\n",
       "      <td>5</td>\n",
       "      <td>...</td>\n",
       "      <td>0</td>\n",
       "      <td>0</td>\n",
       "      <td>0</td>\n",
       "      <td>0</td>\n",
       "      <td>0</td>\n",
       "      <td>0</td>\n",
       "      <td>0</td>\n",
       "      <td>0</td>\n",
       "      <td>0</td>\n",
       "      <td>0</td>\n",
       "    </tr>\n",
       "    <tr>\n",
       "      <th>59998</th>\n",
       "      <td>0</td>\n",
       "      <td>0</td>\n",
       "      <td>0</td>\n",
       "      <td>0</td>\n",
       "      <td>0</td>\n",
       "      <td>0</td>\n",
       "      <td>0</td>\n",
       "      <td>0</td>\n",
       "      <td>0</td>\n",
       "      <td>0</td>\n",
       "      <td>...</td>\n",
       "      <td>66</td>\n",
       "      <td>54</td>\n",
       "      <td>50</td>\n",
       "      <td>5</td>\n",
       "      <td>0</td>\n",
       "      <td>1</td>\n",
       "      <td>0</td>\n",
       "      <td>0</td>\n",
       "      <td>0</td>\n",
       "      <td>0</td>\n",
       "    </tr>\n",
       "    <tr>\n",
       "      <th>59999</th>\n",
       "      <td>0</td>\n",
       "      <td>0</td>\n",
       "      <td>0</td>\n",
       "      <td>0</td>\n",
       "      <td>0</td>\n",
       "      <td>0</td>\n",
       "      <td>0</td>\n",
       "      <td>0</td>\n",
       "      <td>0</td>\n",
       "      <td>0</td>\n",
       "      <td>...</td>\n",
       "      <td>0</td>\n",
       "      <td>0</td>\n",
       "      <td>0</td>\n",
       "      <td>0</td>\n",
       "      <td>0</td>\n",
       "      <td>0</td>\n",
       "      <td>0</td>\n",
       "      <td>0</td>\n",
       "      <td>0</td>\n",
       "      <td>0</td>\n",
       "    </tr>\n",
       "  </tbody>\n",
       "</table>\n",
       "<p>60000 rows × 784 columns</p>\n",
       "</div>"
      ],
      "text/plain": [
       "       0    1    2    3    4    5    6    7    8    9    ...  774  775  776  \\\n",
       "0        0    0    0    0    0    0    0    0    0    0  ...    0    0    0   \n",
       "1        0    0    0    0    0    1    0    0    0    0  ...  119  114  130   \n",
       "2        0    0    0    0    0    0    0    0    0   22  ...    0    0    1   \n",
       "3        0    0    0    0    0    0    0    0   33   96  ...    0    0    0   \n",
       "4        0    0    0    0    0    0    0    0    0    0  ...    0    0    0   \n",
       "...    ...  ...  ...  ...  ...  ...  ...  ...  ...  ...  ...  ...  ...  ...   \n",
       "59995    0    0    0    0    0    0    0    0    0    0  ...    0    0    0   \n",
       "59996    0    0    0    0    0    0    0    0    0    0  ...    0    0    0   \n",
       "59997    0    0    0    0    0    0    0    0    0    5  ...    0    0    0   \n",
       "59998    0    0    0    0    0    0    0    0    0    0  ...   66   54   50   \n",
       "59999    0    0    0    0    0    0    0    0    0    0  ...    0    0    0   \n",
       "\n",
       "       777  778  779  780  781  782  783  \n",
       "0        0    0    0    0    0    0    0  \n",
       "1       76    0    0    0    0    0    0  \n",
       "2        0    0    0    0    0    0    0  \n",
       "3        0    0    0    0    0    0    0  \n",
       "4        0    0    0    0    0    0    0  \n",
       "...    ...  ...  ...  ...  ...  ...  ...  \n",
       "59995    0    0    0    0    0    0    0  \n",
       "59996    0    0    0    0    0    0    0  \n",
       "59997    0    0    0    0    0    0    0  \n",
       "59998    5    0    1    0    0    0    0  \n",
       "59999    0    0    0    0    0    0    0  \n",
       "\n",
       "[60000 rows x 784 columns]"
      ]
     },
     "execution_count": 10,
     "metadata": {},
     "output_type": "execute_result"
    }
   ],
   "source": [
    "sampleDF = pd.DataFrame(data = trainX.reshape(60000,28*28))\n",
    "sampleDF"
   ]
  },
  {
   "cell_type": "code",
   "execution_count": 11,
   "metadata": {},
   "outputs": [
    {
     "data": {
      "text/html": [
       "<div>\n",
       "<style scoped>\n",
       "    .dataframe tbody tr th:only-of-type {\n",
       "        vertical-align: middle;\n",
       "    }\n",
       "\n",
       "    .dataframe tbody tr th {\n",
       "        vertical-align: top;\n",
       "    }\n",
       "\n",
       "    .dataframe thead th {\n",
       "        text-align: right;\n",
       "    }\n",
       "</style>\n",
       "<table border=\"1\" class=\"dataframe\">\n",
       "  <thead>\n",
       "    <tr style=\"text-align: right;\">\n",
       "      <th></th>\n",
       "      <th>Label</th>\n",
       "    </tr>\n",
       "  </thead>\n",
       "  <tbody>\n",
       "    <tr>\n",
       "      <th>0</th>\n",
       "      <td>9</td>\n",
       "    </tr>\n",
       "    <tr>\n",
       "      <th>1</th>\n",
       "      <td>0</td>\n",
       "    </tr>\n",
       "    <tr>\n",
       "      <th>2</th>\n",
       "      <td>0</td>\n",
       "    </tr>\n",
       "    <tr>\n",
       "      <th>3</th>\n",
       "      <td>3</td>\n",
       "    </tr>\n",
       "    <tr>\n",
       "      <th>4</th>\n",
       "      <td>0</td>\n",
       "    </tr>\n",
       "    <tr>\n",
       "      <th>...</th>\n",
       "      <td>...</td>\n",
       "    </tr>\n",
       "    <tr>\n",
       "      <th>59995</th>\n",
       "      <td>5</td>\n",
       "    </tr>\n",
       "    <tr>\n",
       "      <th>59996</th>\n",
       "      <td>1</td>\n",
       "    </tr>\n",
       "    <tr>\n",
       "      <th>59997</th>\n",
       "      <td>3</td>\n",
       "    </tr>\n",
       "    <tr>\n",
       "      <th>59998</th>\n",
       "      <td>0</td>\n",
       "    </tr>\n",
       "    <tr>\n",
       "      <th>59999</th>\n",
       "      <td>5</td>\n",
       "    </tr>\n",
       "  </tbody>\n",
       "</table>\n",
       "<p>60000 rows × 1 columns</p>\n",
       "</div>"
      ],
      "text/plain": [
       "       Label\n",
       "0          9\n",
       "1          0\n",
       "2          0\n",
       "3          3\n",
       "4          0\n",
       "...      ...\n",
       "59995      5\n",
       "59996      1\n",
       "59997      3\n",
       "59998      0\n",
       "59999      5\n",
       "\n",
       "[60000 rows x 1 columns]"
      ]
     },
     "execution_count": 11,
     "metadata": {},
     "output_type": "execute_result"
    }
   ],
   "source": [
    "labelDF = pd.DataFrame(data = trainy, columns = [\"Label\"])\n",
    "labelDF"
   ]
  },
  {
   "cell_type": "code",
   "execution_count": 12,
   "metadata": {},
   "outputs": [
    {
     "name": "stdout",
     "output_type": "stream",
     "text": [
      "Sample DataFrame data types\n",
      " 0      uint8\n",
      "1      uint8\n",
      "2      uint8\n",
      "3      uint8\n",
      "4      uint8\n",
      "       ...  \n",
      "779    uint8\n",
      "780    uint8\n",
      "781    uint8\n",
      "782    uint8\n",
      "783    uint8\n",
      "Length: 784, dtype: object\n"
     ]
    }
   ],
   "source": [
    "print(\"Sample DataFrame data types\\n\",sampleDF.dtypes)"
   ]
  },
  {
   "cell_type": "code",
   "execution_count": 13,
   "metadata": {},
   "outputs": [
    {
     "name": "stdout",
     "output_type": "stream",
     "text": [
      "Label DataFrame data types\n",
      " 0      uint8\n",
      "1      uint8\n",
      "2      uint8\n",
      "3      uint8\n",
      "4      uint8\n",
      "       ...  \n",
      "779    uint8\n",
      "780    uint8\n",
      "781    uint8\n",
      "782    uint8\n",
      "783    uint8\n",
      "Length: 784, dtype: object\n",
      "Label    uint8\n",
      "dtype: object\n"
     ]
    }
   ],
   "source": [
    "print(\"Label DataFrame data types\\n\",sampleDF.dtypes)\n",
    "print(labelDF.dtypes)"
   ]
  },
  {
   "cell_type": "code",
   "execution_count": 14,
   "metadata": {},
   "outputs": [],
   "source": [
    "#Concatenate the 2 dataframes into one dataframe we will work with\n",
    "data = pd.concat([sampleDF, labelDF], axis = 1)"
   ]
  },
  {
   "cell_type": "code",
   "execution_count": 15,
   "metadata": {},
   "outputs": [
    {
     "data": {
      "text/html": [
       "<div>\n",
       "<style scoped>\n",
       "    .dataframe tbody tr th:only-of-type {\n",
       "        vertical-align: middle;\n",
       "    }\n",
       "\n",
       "    .dataframe tbody tr th {\n",
       "        vertical-align: top;\n",
       "    }\n",
       "\n",
       "    .dataframe thead th {\n",
       "        text-align: right;\n",
       "    }\n",
       "</style>\n",
       "<table border=\"1\" class=\"dataframe\">\n",
       "  <thead>\n",
       "    <tr style=\"text-align: right;\">\n",
       "      <th></th>\n",
       "      <th>0</th>\n",
       "      <th>1</th>\n",
       "      <th>2</th>\n",
       "      <th>3</th>\n",
       "      <th>4</th>\n",
       "      <th>5</th>\n",
       "      <th>6</th>\n",
       "      <th>7</th>\n",
       "      <th>8</th>\n",
       "      <th>9</th>\n",
       "      <th>...</th>\n",
       "      <th>775</th>\n",
       "      <th>776</th>\n",
       "      <th>777</th>\n",
       "      <th>778</th>\n",
       "      <th>779</th>\n",
       "      <th>780</th>\n",
       "      <th>781</th>\n",
       "      <th>782</th>\n",
       "      <th>783</th>\n",
       "      <th>Label</th>\n",
       "    </tr>\n",
       "  </thead>\n",
       "  <tbody>\n",
       "    <tr>\n",
       "      <th>0</th>\n",
       "      <td>0</td>\n",
       "      <td>0</td>\n",
       "      <td>0</td>\n",
       "      <td>0</td>\n",
       "      <td>0</td>\n",
       "      <td>0</td>\n",
       "      <td>0</td>\n",
       "      <td>0</td>\n",
       "      <td>0</td>\n",
       "      <td>0</td>\n",
       "      <td>...</td>\n",
       "      <td>0</td>\n",
       "      <td>0</td>\n",
       "      <td>0</td>\n",
       "      <td>0</td>\n",
       "      <td>0</td>\n",
       "      <td>0</td>\n",
       "      <td>0</td>\n",
       "      <td>0</td>\n",
       "      <td>0</td>\n",
       "      <td>9</td>\n",
       "    </tr>\n",
       "    <tr>\n",
       "      <th>1</th>\n",
       "      <td>0</td>\n",
       "      <td>0</td>\n",
       "      <td>0</td>\n",
       "      <td>0</td>\n",
       "      <td>0</td>\n",
       "      <td>1</td>\n",
       "      <td>0</td>\n",
       "      <td>0</td>\n",
       "      <td>0</td>\n",
       "      <td>0</td>\n",
       "      <td>...</td>\n",
       "      <td>114</td>\n",
       "      <td>130</td>\n",
       "      <td>76</td>\n",
       "      <td>0</td>\n",
       "      <td>0</td>\n",
       "      <td>0</td>\n",
       "      <td>0</td>\n",
       "      <td>0</td>\n",
       "      <td>0</td>\n",
       "      <td>0</td>\n",
       "    </tr>\n",
       "    <tr>\n",
       "      <th>2</th>\n",
       "      <td>0</td>\n",
       "      <td>0</td>\n",
       "      <td>0</td>\n",
       "      <td>0</td>\n",
       "      <td>0</td>\n",
       "      <td>0</td>\n",
       "      <td>0</td>\n",
       "      <td>0</td>\n",
       "      <td>0</td>\n",
       "      <td>22</td>\n",
       "      <td>...</td>\n",
       "      <td>0</td>\n",
       "      <td>1</td>\n",
       "      <td>0</td>\n",
       "      <td>0</td>\n",
       "      <td>0</td>\n",
       "      <td>0</td>\n",
       "      <td>0</td>\n",
       "      <td>0</td>\n",
       "      <td>0</td>\n",
       "      <td>0</td>\n",
       "    </tr>\n",
       "    <tr>\n",
       "      <th>3</th>\n",
       "      <td>0</td>\n",
       "      <td>0</td>\n",
       "      <td>0</td>\n",
       "      <td>0</td>\n",
       "      <td>0</td>\n",
       "      <td>0</td>\n",
       "      <td>0</td>\n",
       "      <td>0</td>\n",
       "      <td>33</td>\n",
       "      <td>96</td>\n",
       "      <td>...</td>\n",
       "      <td>0</td>\n",
       "      <td>0</td>\n",
       "      <td>0</td>\n",
       "      <td>0</td>\n",
       "      <td>0</td>\n",
       "      <td>0</td>\n",
       "      <td>0</td>\n",
       "      <td>0</td>\n",
       "      <td>0</td>\n",
       "      <td>3</td>\n",
       "    </tr>\n",
       "    <tr>\n",
       "      <th>4</th>\n",
       "      <td>0</td>\n",
       "      <td>0</td>\n",
       "      <td>0</td>\n",
       "      <td>0</td>\n",
       "      <td>0</td>\n",
       "      <td>0</td>\n",
       "      <td>0</td>\n",
       "      <td>0</td>\n",
       "      <td>0</td>\n",
       "      <td>0</td>\n",
       "      <td>...</td>\n",
       "      <td>0</td>\n",
       "      <td>0</td>\n",
       "      <td>0</td>\n",
       "      <td>0</td>\n",
       "      <td>0</td>\n",
       "      <td>0</td>\n",
       "      <td>0</td>\n",
       "      <td>0</td>\n",
       "      <td>0</td>\n",
       "      <td>0</td>\n",
       "    </tr>\n",
       "    <tr>\n",
       "      <th>...</th>\n",
       "      <td>...</td>\n",
       "      <td>...</td>\n",
       "      <td>...</td>\n",
       "      <td>...</td>\n",
       "      <td>...</td>\n",
       "      <td>...</td>\n",
       "      <td>...</td>\n",
       "      <td>...</td>\n",
       "      <td>...</td>\n",
       "      <td>...</td>\n",
       "      <td>...</td>\n",
       "      <td>...</td>\n",
       "      <td>...</td>\n",
       "      <td>...</td>\n",
       "      <td>...</td>\n",
       "      <td>...</td>\n",
       "      <td>...</td>\n",
       "      <td>...</td>\n",
       "      <td>...</td>\n",
       "      <td>...</td>\n",
       "      <td>...</td>\n",
       "    </tr>\n",
       "    <tr>\n",
       "      <th>59995</th>\n",
       "      <td>0</td>\n",
       "      <td>0</td>\n",
       "      <td>0</td>\n",
       "      <td>0</td>\n",
       "      <td>0</td>\n",
       "      <td>0</td>\n",
       "      <td>0</td>\n",
       "      <td>0</td>\n",
       "      <td>0</td>\n",
       "      <td>0</td>\n",
       "      <td>...</td>\n",
       "      <td>0</td>\n",
       "      <td>0</td>\n",
       "      <td>0</td>\n",
       "      <td>0</td>\n",
       "      <td>0</td>\n",
       "      <td>0</td>\n",
       "      <td>0</td>\n",
       "      <td>0</td>\n",
       "      <td>0</td>\n",
       "      <td>5</td>\n",
       "    </tr>\n",
       "    <tr>\n",
       "      <th>59996</th>\n",
       "      <td>0</td>\n",
       "      <td>0</td>\n",
       "      <td>0</td>\n",
       "      <td>0</td>\n",
       "      <td>0</td>\n",
       "      <td>0</td>\n",
       "      <td>0</td>\n",
       "      <td>0</td>\n",
       "      <td>0</td>\n",
       "      <td>0</td>\n",
       "      <td>...</td>\n",
       "      <td>0</td>\n",
       "      <td>0</td>\n",
       "      <td>0</td>\n",
       "      <td>0</td>\n",
       "      <td>0</td>\n",
       "      <td>0</td>\n",
       "      <td>0</td>\n",
       "      <td>0</td>\n",
       "      <td>0</td>\n",
       "      <td>1</td>\n",
       "    </tr>\n",
       "    <tr>\n",
       "      <th>59997</th>\n",
       "      <td>0</td>\n",
       "      <td>0</td>\n",
       "      <td>0</td>\n",
       "      <td>0</td>\n",
       "      <td>0</td>\n",
       "      <td>0</td>\n",
       "      <td>0</td>\n",
       "      <td>0</td>\n",
       "      <td>0</td>\n",
       "      <td>5</td>\n",
       "      <td>...</td>\n",
       "      <td>0</td>\n",
       "      <td>0</td>\n",
       "      <td>0</td>\n",
       "      <td>0</td>\n",
       "      <td>0</td>\n",
       "      <td>0</td>\n",
       "      <td>0</td>\n",
       "      <td>0</td>\n",
       "      <td>0</td>\n",
       "      <td>3</td>\n",
       "    </tr>\n",
       "    <tr>\n",
       "      <th>59998</th>\n",
       "      <td>0</td>\n",
       "      <td>0</td>\n",
       "      <td>0</td>\n",
       "      <td>0</td>\n",
       "      <td>0</td>\n",
       "      <td>0</td>\n",
       "      <td>0</td>\n",
       "      <td>0</td>\n",
       "      <td>0</td>\n",
       "      <td>0</td>\n",
       "      <td>...</td>\n",
       "      <td>54</td>\n",
       "      <td>50</td>\n",
       "      <td>5</td>\n",
       "      <td>0</td>\n",
       "      <td>1</td>\n",
       "      <td>0</td>\n",
       "      <td>0</td>\n",
       "      <td>0</td>\n",
       "      <td>0</td>\n",
       "      <td>0</td>\n",
       "    </tr>\n",
       "    <tr>\n",
       "      <th>59999</th>\n",
       "      <td>0</td>\n",
       "      <td>0</td>\n",
       "      <td>0</td>\n",
       "      <td>0</td>\n",
       "      <td>0</td>\n",
       "      <td>0</td>\n",
       "      <td>0</td>\n",
       "      <td>0</td>\n",
       "      <td>0</td>\n",
       "      <td>0</td>\n",
       "      <td>...</td>\n",
       "      <td>0</td>\n",
       "      <td>0</td>\n",
       "      <td>0</td>\n",
       "      <td>0</td>\n",
       "      <td>0</td>\n",
       "      <td>0</td>\n",
       "      <td>0</td>\n",
       "      <td>0</td>\n",
       "      <td>0</td>\n",
       "      <td>5</td>\n",
       "    </tr>\n",
       "  </tbody>\n",
       "</table>\n",
       "<p>60000 rows × 785 columns</p>\n",
       "</div>"
      ],
      "text/plain": [
       "       0  1  2  3  4  5  6  7   8   9  ...  775  776  777  778  779  780  781  \\\n",
       "0      0  0  0  0  0  0  0  0   0   0  ...    0    0    0    0    0    0    0   \n",
       "1      0  0  0  0  0  1  0  0   0   0  ...  114  130   76    0    0    0    0   \n",
       "2      0  0  0  0  0  0  0  0   0  22  ...    0    1    0    0    0    0    0   \n",
       "3      0  0  0  0  0  0  0  0  33  96  ...    0    0    0    0    0    0    0   \n",
       "4      0  0  0  0  0  0  0  0   0   0  ...    0    0    0    0    0    0    0   \n",
       "...   .. .. .. .. .. .. .. ..  ..  ..  ...  ...  ...  ...  ...  ...  ...  ...   \n",
       "59995  0  0  0  0  0  0  0  0   0   0  ...    0    0    0    0    0    0    0   \n",
       "59996  0  0  0  0  0  0  0  0   0   0  ...    0    0    0    0    0    0    0   \n",
       "59997  0  0  0  0  0  0  0  0   0   5  ...    0    0    0    0    0    0    0   \n",
       "59998  0  0  0  0  0  0  0  0   0   0  ...   54   50    5    0    1    0    0   \n",
       "59999  0  0  0  0  0  0  0  0   0   0  ...    0    0    0    0    0    0    0   \n",
       "\n",
       "       782  783  Label  \n",
       "0        0    0      9  \n",
       "1        0    0      0  \n",
       "2        0    0      0  \n",
       "3        0    0      3  \n",
       "4        0    0      0  \n",
       "...    ...  ...    ...  \n",
       "59995    0    0      5  \n",
       "59996    0    0      1  \n",
       "59997    0    0      3  \n",
       "59998    0    0      0  \n",
       "59999    0    0      5  \n",
       "\n",
       "[60000 rows x 785 columns]"
      ]
     },
     "execution_count": 15,
     "metadata": {},
     "output_type": "execute_result"
    }
   ],
   "source": [
    "data"
   ]
  },
  {
   "cell_type": "markdown",
   "metadata": {},
   "source": [
    "## Label information\n",
    "    0 T-shirt/top\n",
    "    1 Trouser\n",
    "    2 Pullover\n",
    "    3 Dress\n",
    "    4 Coat\n",
    "    5 Sandal\n",
    "    6 Shirt\n",
    "    7 Sneaker\n",
    "    8 Bag\n",
    "    9 Ankle boot"
   ]
  },
  {
   "cell_type": "code",
   "execution_count": 16,
   "metadata": {},
   "outputs": [
    {
     "data": {
      "text/plain": [
       "9    6000\n",
       "8    6000\n",
       "7    6000\n",
       "6    6000\n",
       "5    6000\n",
       "4    6000\n",
       "3    6000\n",
       "2    6000\n",
       "1    6000\n",
       "0    6000\n",
       "Name: Label, dtype: int64"
      ]
     },
     "execution_count": 16,
     "metadata": {},
     "output_type": "execute_result"
    }
   ],
   "source": [
    "data[\"Label\"].value_counts()"
   ]
  },
  {
   "cell_type": "markdown",
   "metadata": {},
   "source": [
    "## Models"
   ]
  },
  {
   "cell_type": "markdown",
   "metadata": {},
   "source": [
    "## KNN"
   ]
  },
  {
   "cell_type": "code",
   "execution_count": 17,
   "metadata": {},
   "outputs": [],
   "source": [
    "from sklearn.model_selection import train_test_split"
   ]
  },
  {
   "cell_type": "code",
   "execution_count": 18,
   "metadata": {},
   "outputs": [],
   "source": [
    "from sklearn.neighbors import KNeighborsClassifier\n",
    "from sklearn.metrics import ConfusionMatrixDisplay"
   ]
  },
  {
   "cell_type": "code",
   "execution_count": 19,
   "metadata": {},
   "outputs": [],
   "source": [
    "X = data.drop(\"Label\", axis = 1).values"
   ]
  },
  {
   "cell_type": "code",
   "execution_count": 20,
   "metadata": {},
   "outputs": [],
   "source": [
    "y = data['Label'].values"
   ]
  },
  {
   "cell_type": "code",
   "execution_count": 21,
   "metadata": {},
   "outputs": [],
   "source": [
    "X_train, X_test, y_train, y_test = train_test_split(X, y, test_size = 0.10, random_state = 42)"
   ]
  },
  {
   "cell_type": "code",
   "execution_count": 66,
   "metadata": {},
   "outputs": [],
   "source": [
    "KNN_model = KNeighborsClassifier(n_neighbors = 4, n_jobs = os.cpu_count() - 1)"
   ]
  },
  {
   "cell_type": "code",
   "execution_count": 67,
   "metadata": {},
   "outputs": [
    {
     "data": {
      "text/html": [
       "<style>#sk-container-id-5 {color: black;background-color: white;}#sk-container-id-5 pre{padding: 0;}#sk-container-id-5 div.sk-toggleable {background-color: white;}#sk-container-id-5 label.sk-toggleable__label {cursor: pointer;display: block;width: 100%;margin-bottom: 0;padding: 0.3em;box-sizing: border-box;text-align: center;}#sk-container-id-5 label.sk-toggleable__label-arrow:before {content: \"▸\";float: left;margin-right: 0.25em;color: #696969;}#sk-container-id-5 label.sk-toggleable__label-arrow:hover:before {color: black;}#sk-container-id-5 div.sk-estimator:hover label.sk-toggleable__label-arrow:before {color: black;}#sk-container-id-5 div.sk-toggleable__content {max-height: 0;max-width: 0;overflow: hidden;text-align: left;background-color: #f0f8ff;}#sk-container-id-5 div.sk-toggleable__content pre {margin: 0.2em;color: black;border-radius: 0.25em;background-color: #f0f8ff;}#sk-container-id-5 input.sk-toggleable__control:checked~div.sk-toggleable__content {max-height: 200px;max-width: 100%;overflow: auto;}#sk-container-id-5 input.sk-toggleable__control:checked~label.sk-toggleable__label-arrow:before {content: \"▾\";}#sk-container-id-5 div.sk-estimator input.sk-toggleable__control:checked~label.sk-toggleable__label {background-color: #d4ebff;}#sk-container-id-5 div.sk-label input.sk-toggleable__control:checked~label.sk-toggleable__label {background-color: #d4ebff;}#sk-container-id-5 input.sk-hidden--visually {border: 0;clip: rect(1px 1px 1px 1px);clip: rect(1px, 1px, 1px, 1px);height: 1px;margin: -1px;overflow: hidden;padding: 0;position: absolute;width: 1px;}#sk-container-id-5 div.sk-estimator {font-family: monospace;background-color: #f0f8ff;border: 1px dotted black;border-radius: 0.25em;box-sizing: border-box;margin-bottom: 0.5em;}#sk-container-id-5 div.sk-estimator:hover {background-color: #d4ebff;}#sk-container-id-5 div.sk-parallel-item::after {content: \"\";width: 100%;border-bottom: 1px solid gray;flex-grow: 1;}#sk-container-id-5 div.sk-label:hover label.sk-toggleable__label {background-color: #d4ebff;}#sk-container-id-5 div.sk-serial::before {content: \"\";position: absolute;border-left: 1px solid gray;box-sizing: border-box;top: 0;bottom: 0;left: 50%;z-index: 0;}#sk-container-id-5 div.sk-serial {display: flex;flex-direction: column;align-items: center;background-color: white;padding-right: 0.2em;padding-left: 0.2em;position: relative;}#sk-container-id-5 div.sk-item {position: relative;z-index: 1;}#sk-container-id-5 div.sk-parallel {display: flex;align-items: stretch;justify-content: center;background-color: white;position: relative;}#sk-container-id-5 div.sk-item::before, #sk-container-id-5 div.sk-parallel-item::before {content: \"\";position: absolute;border-left: 1px solid gray;box-sizing: border-box;top: 0;bottom: 0;left: 50%;z-index: -1;}#sk-container-id-5 div.sk-parallel-item {display: flex;flex-direction: column;z-index: 1;position: relative;background-color: white;}#sk-container-id-5 div.sk-parallel-item:first-child::after {align-self: flex-end;width: 50%;}#sk-container-id-5 div.sk-parallel-item:last-child::after {align-self: flex-start;width: 50%;}#sk-container-id-5 div.sk-parallel-item:only-child::after {width: 0;}#sk-container-id-5 div.sk-dashed-wrapped {border: 1px dashed gray;margin: 0 0.4em 0.5em 0.4em;box-sizing: border-box;padding-bottom: 0.4em;background-color: white;}#sk-container-id-5 div.sk-label label {font-family: monospace;font-weight: bold;display: inline-block;line-height: 1.2em;}#sk-container-id-5 div.sk-label-container {text-align: center;}#sk-container-id-5 div.sk-container {/* jupyter's `normalize.less` sets `[hidden] { display: none; }` but bootstrap.min.css set `[hidden] { display: none !important; }` so we also need the `!important` here to be able to override the default hidden behavior on the sphinx rendered scikit-learn.org. See: https://github.com/scikit-learn/scikit-learn/issues/21755 */display: inline-block !important;position: relative;}#sk-container-id-5 div.sk-text-repr-fallback {display: none;}</style><div id=\"sk-container-id-5\" class=\"sk-top-container\"><div class=\"sk-text-repr-fallback\"><pre>KNeighborsClassifier(n_neighbors=4)</pre><b>In a Jupyter environment, please rerun this cell to show the HTML representation or trust the notebook. <br />On GitHub, the HTML representation is unable to render, please try loading this page with nbviewer.org.</b></div><div class=\"sk-container\" hidden><div class=\"sk-item\"><div class=\"sk-estimator sk-toggleable\"><input class=\"sk-toggleable__control sk-hidden--visually\" id=\"sk-estimator-id-7\" type=\"checkbox\" checked><label for=\"sk-estimator-id-7\" class=\"sk-toggleable__label sk-toggleable__label-arrow\">KNeighborsClassifier</label><div class=\"sk-toggleable__content\"><pre>KNeighborsClassifier(n_neighbors=4)</pre></div></div></div></div></div>"
      ],
      "text/plain": [
       "KNeighborsClassifier(n_neighbors=4)"
      ]
     },
     "execution_count": 67,
     "metadata": {},
     "output_type": "execute_result"
    }
   ],
   "source": [
    "KNN_model.fit(X_train, y_train)"
   ]
  },
  {
   "cell_type": "code",
   "execution_count": 68,
   "metadata": {},
   "outputs": [
    {
     "data": {
      "text/plain": [
       "0.8558333333333333"
      ]
     },
     "execution_count": 68,
     "metadata": {},
     "output_type": "execute_result"
    }
   ],
   "source": [
    "KNN_model.score(X_test, y_test)"
   ]
  },
  {
   "cell_type": "code",
   "execution_count": 69,
   "metadata": {},
   "outputs": [
    {
     "data": {
      "image/png": "[encoded data removed]",
      "text/plain": [
       "<Figure size 432x288 with 2 Axes>"
      ]
     },
     "metadata": {
      "needs_background": "light"
     },
     "output_type": "display_data"
    }
   ],
   "source": [
    "confusion_matrix = ConfusionMatrixDisplay.from_estimator(KNN_model, X_test, y_test)"
   ]
  },
  {
   "cell_type": "markdown",
   "metadata": {},
   "source": [
    "## Decision Tree"
   ]
  },
  {
   "cell_type": "code",
   "execution_count": 26,
   "metadata": {},
   "outputs": [],
   "source": [
    "from sklearn.tree import DecisionTreeClassifier\n",
    "from sklearn.model_selection import cross_val_score"
   ]
  },
  {
   "cell_type": "code",
   "execution_count": 59,
   "metadata": {},
   "outputs": [],
   "source": [
    "decision_tree_model = DecisionTreeClassifier(criterion = 'entropy', class_weight = 'balanced', n_jobs = os.cpu_count() - 1)"
   ]
  },
  {
   "cell_type": "code",
   "execution_count": 60,
   "metadata": {},
   "outputs": [
    {
     "data": {
      "text/html": [
       "<style>#sk-container-id-4 {color: black;background-color: white;}#sk-container-id-4 pre{padding: 0;}#sk-container-id-4 div.sk-toggleable {background-color: white;}#sk-container-id-4 label.sk-toggleable__label {cursor: pointer;display: block;width: 100%;margin-bottom: 0;padding: 0.3em;box-sizing: border-box;text-align: center;}#sk-container-id-4 label.sk-toggleable__label-arrow:before {content: \"▸\";float: left;margin-right: 0.25em;color: #696969;}#sk-container-id-4 label.sk-toggleable__label-arrow:hover:before {color: black;}#sk-container-id-4 div.sk-estimator:hover label.sk-toggleable__label-arrow:before {color: black;}#sk-container-id-4 div.sk-toggleable__content {max-height: 0;max-width: 0;overflow: hidden;text-align: left;background-color: #f0f8ff;}#sk-container-id-4 div.sk-toggleable__content pre {margin: 0.2em;color: black;border-radius: 0.25em;background-color: #f0f8ff;}#sk-container-id-4 input.sk-toggleable__control:checked~div.sk-toggleable__content {max-height: 200px;max-width: 100%;overflow: auto;}#sk-container-id-4 input.sk-toggleable__control:checked~label.sk-toggleable__label-arrow:before {content: \"▾\";}#sk-container-id-4 div.sk-estimator input.sk-toggleable__control:checked~label.sk-toggleable__label {background-color: #d4ebff;}#sk-container-id-4 div.sk-label input.sk-toggleable__control:checked~label.sk-toggleable__label {background-color: #d4ebff;}#sk-container-id-4 input.sk-hidden--visually {border: 0;clip: rect(1px 1px 1px 1px);clip: rect(1px, 1px, 1px, 1px);height: 1px;margin: -1px;overflow: hidden;padding: 0;position: absolute;width: 1px;}#sk-container-id-4 div.sk-estimator {font-family: monospace;background-color: #f0f8ff;border: 1px dotted black;border-radius: 0.25em;box-sizing: border-box;margin-bottom: 0.5em;}#sk-container-id-4 div.sk-estimator:hover {background-color: #d4ebff;}#sk-container-id-4 div.sk-parallel-item::after {content: \"\";width: 100%;border-bottom: 1px solid gray;flex-grow: 1;}#sk-container-id-4 div.sk-label:hover label.sk-toggleable__label {background-color: #d4ebff;}#sk-container-id-4 div.sk-serial::before {content: \"\";position: absolute;border-left: 1px solid gray;box-sizing: border-box;top: 0;bottom: 0;left: 50%;z-index: 0;}#sk-container-id-4 div.sk-serial {display: flex;flex-direction: column;align-items: center;background-color: white;padding-right: 0.2em;padding-left: 0.2em;position: relative;}#sk-container-id-4 div.sk-item {position: relative;z-index: 1;}#sk-container-id-4 div.sk-parallel {display: flex;align-items: stretch;justify-content: center;background-color: white;position: relative;}#sk-container-id-4 div.sk-item::before, #sk-container-id-4 div.sk-parallel-item::before {content: \"\";position: absolute;border-left: 1px solid gray;box-sizing: border-box;top: 0;bottom: 0;left: 50%;z-index: -1;}#sk-container-id-4 div.sk-parallel-item {display: flex;flex-direction: column;z-index: 1;position: relative;background-color: white;}#sk-container-id-4 div.sk-parallel-item:first-child::after {align-self: flex-end;width: 50%;}#sk-container-id-4 div.sk-parallel-item:last-child::after {align-self: flex-start;width: 50%;}#sk-container-id-4 div.sk-parallel-item:only-child::after {width: 0;}#sk-container-id-4 div.sk-dashed-wrapped {border: 1px dashed gray;margin: 0 0.4em 0.5em 0.4em;box-sizing: border-box;padding-bottom: 0.4em;background-color: white;}#sk-container-id-4 div.sk-label label {font-family: monospace;font-weight: bold;display: inline-block;line-height: 1.2em;}#sk-container-id-4 div.sk-label-container {text-align: center;}#sk-container-id-4 div.sk-container {/* jupyter's `normalize.less` sets `[hidden] { display: none; }` but bootstrap.min.css set `[hidden] { display: none !important; }` so we also need the `!important` here to be able to override the default hidden behavior on the sphinx rendered scikit-learn.org. See: https://github.com/scikit-learn/scikit-learn/issues/21755 */display: inline-block !important;position: relative;}#sk-container-id-4 div.sk-text-repr-fallback {display: none;}</style><div id=\"sk-container-id-4\" class=\"sk-top-container\"><div class=\"sk-text-repr-fallback\"><pre>DecisionTreeClassifier(class_weight=&#x27;balanced&#x27;, criterion=&#x27;entropy&#x27;)</pre><b>In a Jupyter environment, please rerun this cell to show the HTML representation or trust the notebook. <br />On GitHub, the HTML representation is unable to render, please try loading this page with nbviewer.org.</b></div><div class=\"sk-container\" hidden><div class=\"sk-item\"><div class=\"sk-estimator sk-toggleable\"><input class=\"sk-toggleable__control sk-hidden--visually\" id=\"sk-estimator-id-6\" type=\"checkbox\" checked><label for=\"sk-estimator-id-6\" class=\"sk-toggleable__label sk-toggleable__label-arrow\">DecisionTreeClassifier</label><div class=\"sk-toggleable__content\"><pre>DecisionTreeClassifier(class_weight=&#x27;balanced&#x27;, criterion=&#x27;entropy&#x27;)</pre></div></div></div></div></div>"
      ],
      "text/plain": [
       "DecisionTreeClassifier(class_weight='balanced', criterion='entropy')"
      ]
     },
     "execution_count": 60,
     "metadata": {},
     "output_type": "execute_result"
    }
   ],
   "source": [
    "decision_tree_model.fit(X_train, y_train)"
   ]
  },
  {
   "cell_type": "code",
   "execution_count": 61,
   "metadata": {},
   "outputs": [
    {
     "name": "stdout",
     "output_type": "stream",
     "text": [
      "The number of leaf nodes in the model: 3954\n"
     ]
    }
   ],
   "source": [
    "print(\"The number of leaf nodes in the model:\",decision_tree_model.get_n_leaves())"
   ]
  },
  {
   "cell_type": "code",
   "execution_count": 62,
   "metadata": {},
   "outputs": [
    {
     "name": "stdout",
     "output_type": "stream",
     "text": [
      "The depth of the tree in the model: 27\n"
     ]
    }
   ],
   "source": [
    "print(\"The depth of the tree in the model:\",decision_tree_model.get_depth())"
   ]
  },
  {
   "cell_type": "code",
   "execution_count": 63,
   "metadata": {},
   "outputs": [
    {
     "data": {
      "text/plain": [
       "{'ccp_alpha': 0.0,\n",
       " 'class_weight': 'balanced',\n",
       " 'criterion': 'entropy',\n",
       " 'max_depth': None,\n",
       " 'max_features': None,\n",
       " 'max_leaf_nodes': None,\n",
       " 'min_impurity_decrease': 0.0,\n",
       " 'min_samples_leaf': 1,\n",
       " 'min_samples_split': 2,\n",
       " 'min_weight_fraction_leaf': 0.0,\n",
       " 'random_state': None,\n",
       " 'splitter': 'best'}"
      ]
     },
     "execution_count": 63,
     "metadata": {},
     "output_type": "execute_result"
    }
   ],
   "source": [
    "decision_tree_model.get_params()"
   ]
  },
  {
   "cell_type": "code",
   "execution_count": 64,
   "metadata": {},
   "outputs": [
    {
     "name": "stdout",
     "output_type": "stream",
     "text": [
      "Decision tree model score: 0.813\n"
     ]
    }
   ],
   "source": [
    "print(\"Decision tree model score:\",decision_tree_model.score(X_test, y_test))"
   ]
  },
  {
   "cell_type": "code",
   "execution_count": 65,
   "metadata": {},
   "outputs": [
    {
     "data": {
      "image/png": "[encoded data removed]",
      "text/plain": [
       "<Figure size 432x288 with 2 Axes>"
      ]
     },
     "metadata": {
      "needs_background": "light"
     },
     "output_type": "display_data"
    }
   ],
   "source": [
    "confusion_matrix = ConfusionMatrixDisplay.from_estimator(decision_tree_model, X_test, y_test)"
   ]
  },
  {
   "cell_type": "code",
   "execution_count": 34,
   "metadata": {},
   "outputs": [],
   "source": [
    "#Cross-validating five times(Any more then that is too slow)\n",
    "#print(\"cv_scores mean:\",cross_val_score(decision_tree_model, X_train, y_train, cv=5)"
   ]
  },
  {
   "cell_type": "markdown",
   "metadata": {},
   "source": [
    "## Ada-boost"
   ]
  },
  {
   "cell_type": "code",
   "execution_count": 77,
   "metadata": {},
   "outputs": [],
   "source": [
    "from sklearn.ensemble import AdaBoostClassifier"
   ]
  },
  {
   "cell_type": "code",
   "execution_count": 79,
   "metadata": {},
   "outputs": [],
   "source": [
    "ada_boost_model = AdaBoostClassifier(random_state = 42).fit(X_train, y_train)"
   ]
  },
  {
   "cell_type": "code",
   "execution_count": 80,
   "metadata": {},
   "outputs": [
    {
     "data": {
      "text/plain": [
       "0.51"
      ]
     },
     "execution_count": 80,
     "metadata": {},
     "output_type": "execute_result"
    }
   ],
   "source": [
    "ada_boost_model.score(X_test, y_test)"
   ]
  },
  {
   "cell_type": "code",
   "execution_count": 81,
   "metadata": {},
   "outputs": [
    {
     "data": {
      "image/png": "[encoded data removed]",
      "text/plain": [
       "<Figure size 432x288 with 2 Axes>"
      ]
     },
     "metadata": {
      "needs_background": "light"
     },
     "output_type": "display_data"
    }
   ],
   "source": [
    "confusion_matrix = ConfusionMatrixDisplay.from_estimator(ada_boost_model, X_test, y_test)"
   ]
  },
  {
   "cell_type": "markdown",
   "metadata": {},
   "source": [
    "## Applying grid search on the  models to tune hyper-parameters"
   ]
  },
  {
   "cell_type": "code",
   "execution_count": 35,
   "metadata": {},
   "outputs": [],
   "source": [
    "from sklearn.model_selection import RandomizedSearchCV\n",
    "from sklearn.model_selection import GridSearchCV"
   ]
  },
  {
   "cell_type": "code",
   "execution_count": 74,
   "metadata": {},
   "outputs": [
    {
     "name": "stdout",
     "output_type": "stream",
     "text": [
      "Fitting 3 folds for each of 5 candidates, totalling 15 fits\n",
      "[CV 1/3] END .....................n_neighbors=1;, score=0.848 total time=  52.6s\n",
      "[CV 2/3] END .....................n_neighbors=1;, score=0.844 total time=  52.7s\n",
      "[CV 3/3] END .....................n_neighbors=1;, score=0.840 total time=  53.2s\n",
      "[CV 1/3] END .....................n_neighbors=2;, score=0.846 total time=  55.6s\n",
      "[CV 2/3] END .....................n_neighbors=2;, score=0.842 total time=  52.9s\n",
      "[CV 3/3] END .....................n_neighbors=2;, score=0.836 total time=  52.5s\n",
      "[CV 1/3] END .....................n_neighbors=3;, score=0.850 total time=  55.4s\n",
      "[CV 2/3] END .....................n_neighbors=3;, score=0.847 total time=  56.7s\n",
      "[CV 3/3] END .....................n_neighbors=3;, score=0.842 total time=  54.0s\n",
      "[CV 1/3] END .....................n_neighbors=4;, score=0.853 total time=  57.5s\n",
      "[CV 2/3] END .....................n_neighbors=4;, score=0.853 total time=  52.1s\n",
      "[CV 3/3] END .....................n_neighbors=4;, score=0.847 total time=  48.7s\n",
      "[CV 1/3] END .....................n_neighbors=5;, score=0.853 total time=  47.5s\n",
      "[CV 2/3] END .....................n_neighbors=5;, score=0.851 total time=  46.1s\n",
      "[CV 3/3] END .....................n_neighbors=5;, score=0.847 total time=  47.1s\n"
     ]
    }
   ],
   "source": [
    "\"\"\"\n",
    "KNN grid-search\n",
    "\"\"\"\n",
    "KNN = KNeighborsClassifier(n_jobs = os.cpu_count() - 1, random_state = 42)\n",
    "parameters = {'n_neighbors' : range(1,6)}\n",
    "KNN_grid = GridSearchCV(KNN, parameters, cv = 3 ,verbose = 4).fit(X_train, y_train)"
   ]
  },
  {
   "cell_type": "code",
   "execution_count": 71,
   "metadata": {},
   "outputs": [
    {
     "data": {
      "text/html": [
       "<div>\n",
       "<style scoped>\n",
       "    .dataframe tbody tr th:only-of-type {\n",
       "        vertical-align: middle;\n",
       "    }\n",
       "\n",
       "    .dataframe tbody tr th {\n",
       "        vertical-align: top;\n",
       "    }\n",
       "\n",
       "    .dataframe thead th {\n",
       "        text-align: right;\n",
       "    }\n",
       "</style>\n",
       "<table border=\"1\" class=\"dataframe\">\n",
       "  <thead>\n",
       "    <tr style=\"text-align: right;\">\n",
       "      <th></th>\n",
       "      <th>mean_fit_time</th>\n",
       "      <th>std_fit_time</th>\n",
       "      <th>mean_score_time</th>\n",
       "      <th>std_score_time</th>\n",
       "      <th>param_n_neighbors</th>\n",
       "      <th>params</th>\n",
       "      <th>split0_test_score</th>\n",
       "      <th>split1_test_score</th>\n",
       "      <th>split2_test_score</th>\n",
       "      <th>mean_test_score</th>\n",
       "      <th>std_test_score</th>\n",
       "      <th>rank_test_score</th>\n",
       "    </tr>\n",
       "  </thead>\n",
       "  <tbody>\n",
       "    <tr>\n",
       "      <th>0</th>\n",
       "      <td>0.476316</td>\n",
       "      <td>0.183045</td>\n",
       "      <td>62.700648</td>\n",
       "      <td>15.069182</td>\n",
       "      <td>1</td>\n",
       "      <td>{'n_neighbors': 1}</td>\n",
       "      <td>0.848056</td>\n",
       "      <td>0.844222</td>\n",
       "      <td>0.839500</td>\n",
       "      <td>0.843926</td>\n",
       "      <td>0.003499</td>\n",
       "      <td>4</td>\n",
       "    </tr>\n",
       "    <tr>\n",
       "      <th>1</th>\n",
       "      <td>0.405082</td>\n",
       "      <td>0.033472</td>\n",
       "      <td>54.881383</td>\n",
       "      <td>0.745451</td>\n",
       "      <td>2</td>\n",
       "      <td>{'n_neighbors': 2}</td>\n",
       "      <td>0.846111</td>\n",
       "      <td>0.842278</td>\n",
       "      <td>0.836167</td>\n",
       "      <td>0.841519</td>\n",
       "      <td>0.004095</td>\n",
       "      <td>5</td>\n",
       "    </tr>\n",
       "    <tr>\n",
       "      <th>2</th>\n",
       "      <td>0.401867</td>\n",
       "      <td>0.008716</td>\n",
       "      <td>55.718558</td>\n",
       "      <td>3.378512</td>\n",
       "      <td>3</td>\n",
       "      <td>{'n_neighbors': 3}</td>\n",
       "      <td>0.850111</td>\n",
       "      <td>0.847167</td>\n",
       "      <td>0.842000</td>\n",
       "      <td>0.846426</td>\n",
       "      <td>0.003353</td>\n",
       "      <td>3</td>\n",
       "    </tr>\n",
       "    <tr>\n",
       "      <th>3</th>\n",
       "      <td>0.356894</td>\n",
       "      <td>0.043254</td>\n",
       "      <td>67.612293</td>\n",
       "      <td>3.322582</td>\n",
       "      <td>4</td>\n",
       "      <td>{'n_neighbors': 4}</td>\n",
       "      <td>0.853222</td>\n",
       "      <td>0.852556</td>\n",
       "      <td>0.847056</td>\n",
       "      <td>0.850944</td>\n",
       "      <td>0.002763</td>\n",
       "      <td>1</td>\n",
       "    </tr>\n",
       "    <tr>\n",
       "      <th>4</th>\n",
       "      <td>0.495719</td>\n",
       "      <td>0.067330</td>\n",
       "      <td>66.315364</td>\n",
       "      <td>2.322954</td>\n",
       "      <td>5</td>\n",
       "      <td>{'n_neighbors': 5}</td>\n",
       "      <td>0.853167</td>\n",
       "      <td>0.850667</td>\n",
       "      <td>0.846611</td>\n",
       "      <td>0.850148</td>\n",
       "      <td>0.002701</td>\n",
       "      <td>2</td>\n",
       "    </tr>\n",
       "  </tbody>\n",
       "</table>\n",
       "</div>"
      ],
      "text/plain": [
       "   mean_fit_time  std_fit_time  mean_score_time  std_score_time  \\\n",
       "0       0.476316      0.183045        62.700648       15.069182   \n",
       "1       0.405082      0.033472        54.881383        0.745451   \n",
       "2       0.401867      0.008716        55.718558        3.378512   \n",
       "3       0.356894      0.043254        67.612293        3.322582   \n",
       "4       0.495719      0.067330        66.315364        2.322954   \n",
       "\n",
       "  param_n_neighbors              params  split0_test_score  split1_test_score  \\\n",
       "0                 1  {'n_neighbors': 1}           0.848056           0.844222   \n",
       "1                 2  {'n_neighbors': 2}           0.846111           0.842278   \n",
       "2                 3  {'n_neighbors': 3}           0.850111           0.847167   \n",
       "3                 4  {'n_neighbors': 4}           0.853222           0.852556   \n",
       "4                 5  {'n_neighbors': 5}           0.853167           0.850667   \n",
       "\n",
       "   split2_test_score  mean_test_score  std_test_score  rank_test_score  \n",
       "0           0.839500         0.843926        0.003499                4  \n",
       "1           0.836167         0.841519        0.004095                5  \n",
       "2           0.842000         0.846426        0.003353                3  \n",
       "3           0.847056         0.850944        0.002763                1  \n",
       "4           0.846611         0.850148        0.002701                2  "
      ]
     },
     "execution_count": 71,
     "metadata": {},
     "output_type": "execute_result"
    }
   ],
   "source": [
    "pd.DataFrame(KNN_grid.cv_results_)"
   ]
  },
  {
   "cell_type": "code",
   "execution_count": 76,
   "metadata": {},
   "outputs": [
    {
     "name": "stdout",
     "output_type": "stream",
     "text": [
      "Best KNN estimator: KNeighborsClassifier(n_jobs=6, n_neighbors=4)\n"
     ]
    }
   ],
   "source": [
    "print(\"Best KNN estimator:\", KNN_grid.best_estimator_,\"with a score of:\",KNN_grid.best_score_)"
   ]
  },
  {
   "cell_type": "code",
   "execution_count": 54,
   "metadata": {},
   "outputs": [
    {
     "name": "stdout",
     "output_type": "stream",
     "text": [
      "Fitting 3 folds for each of 4 candidates, totalling 12 fits\n",
      "[CV 1/3] END .class_weight=None, criterion=gini;, score=0.795 total time=  41.2s\n",
      "[CV 2/3] END .class_weight=None, criterion=gini;, score=0.788 total time=  41.1s\n",
      "[CV 3/3] END .class_weight=None, criterion=gini;, score=0.787 total time=  37.2s\n",
      "[CV 1/3] END class_weight=None, criterion=entropy;, score=0.803 total time=  38.4s\n",
      "[CV 2/3] END class_weight=None, criterion=entropy;, score=0.801 total time=  37.6s\n",
      "[CV 3/3] END class_weight=None, criterion=entropy;, score=0.797 total time=  38.2s\n",
      "[CV 1/3] END class_weight=balanced, criterion=gini;, score=0.790 total time=  42.7s\n",
      "[CV 2/3] END class_weight=balanced, criterion=gini;, score=0.787 total time=  41.8s\n",
      "[CV 3/3] END class_weight=balanced, criterion=gini;, score=0.788 total time=  40.0s\n",
      "[CV 1/3] END class_weight=balanced, criterion=entropy;, score=0.802 total time=  41.4s\n",
      "[CV 2/3] END class_weight=balanced, criterion=entropy;, score=0.801 total time=  38.5s\n",
      "[CV 3/3] END class_weight=balanced, criterion=entropy;, score=0.799 total time=  39.2s\n"
     ]
    }
   ],
   "source": [
    "\"\"\"\n",
    "DTree grid-search\n",
    "\"\"\"\n",
    "DTree_model = DecisionTreeClassifier(n_jobs = os.cpu_count() - 1, random_state = 42)\n",
    "parameters = {'criterion': ['gini', 'entropy'], 'class_weight' : [None, 'balanced']}\n",
    "DTree_grid = GridSearchCV(DTree_model, parameters, cv = 3 ,verbose = 4).fit(X_train, y_train)"
   ]
  },
  {
   "cell_type": "code",
   "execution_count": 55,
   "metadata": {},
   "outputs": [
    {
     "data": {
      "text/html": [
       "<div>\n",
       "<style scoped>\n",
       "    .dataframe tbody tr th:only-of-type {\n",
       "        vertical-align: middle;\n",
       "    }\n",
       "\n",
       "    .dataframe tbody tr th {\n",
       "        vertical-align: top;\n",
       "    }\n",
       "\n",
       "    .dataframe thead th {\n",
       "        text-align: right;\n",
       "    }\n",
       "</style>\n",
       "<table border=\"1\" class=\"dataframe\">\n",
       "  <thead>\n",
       "    <tr style=\"text-align: right;\">\n",
       "      <th></th>\n",
       "      <th>mean_fit_time</th>\n",
       "      <th>std_fit_time</th>\n",
       "      <th>mean_score_time</th>\n",
       "      <th>std_score_time</th>\n",
       "      <th>param_class_weight</th>\n",
       "      <th>param_criterion</th>\n",
       "      <th>params</th>\n",
       "      <th>split0_test_score</th>\n",
       "      <th>split1_test_score</th>\n",
       "      <th>split2_test_score</th>\n",
       "      <th>mean_test_score</th>\n",
       "      <th>std_test_score</th>\n",
       "      <th>rank_test_score</th>\n",
       "    </tr>\n",
       "  </thead>\n",
       "  <tbody>\n",
       "    <tr>\n",
       "      <th>0</th>\n",
       "      <td>39.844974</td>\n",
       "      <td>1.870900</td>\n",
       "      <td>0.082542</td>\n",
       "      <td>0.016276</td>\n",
       "      <td>None</td>\n",
       "      <td>gini</td>\n",
       "      <td>{'class_weight': None, 'criterion': 'gini'}</td>\n",
       "      <td>0.794889</td>\n",
       "      <td>0.787944</td>\n",
       "      <td>0.787167</td>\n",
       "      <td>0.790000</td>\n",
       "      <td>0.003472</td>\n",
       "      <td>3</td>\n",
       "    </tr>\n",
       "    <tr>\n",
       "      <th>1</th>\n",
       "      <td>38.113136</td>\n",
       "      <td>0.336961</td>\n",
       "      <td>0.075814</td>\n",
       "      <td>0.006358</td>\n",
       "      <td>None</td>\n",
       "      <td>entropy</td>\n",
       "      <td>{'class_weight': None, 'criterion': 'entropy'}</td>\n",
       "      <td>0.803389</td>\n",
       "      <td>0.800889</td>\n",
       "      <td>0.797389</td>\n",
       "      <td>0.800556</td>\n",
       "      <td>0.002461</td>\n",
       "      <td>2</td>\n",
       "    </tr>\n",
       "    <tr>\n",
       "      <th>2</th>\n",
       "      <td>41.481638</td>\n",
       "      <td>1.116589</td>\n",
       "      <td>0.085748</td>\n",
       "      <td>0.010103</td>\n",
       "      <td>balanced</td>\n",
       "      <td>gini</td>\n",
       "      <td>{'class_weight': 'balanced', 'criterion': 'gini'}</td>\n",
       "      <td>0.790278</td>\n",
       "      <td>0.787111</td>\n",
       "      <td>0.788222</td>\n",
       "      <td>0.788537</td>\n",
       "      <td>0.001312</td>\n",
       "      <td>4</td>\n",
       "    </tr>\n",
       "    <tr>\n",
       "      <th>3</th>\n",
       "      <td>39.739888</td>\n",
       "      <td>1.199441</td>\n",
       "      <td>0.073738</td>\n",
       "      <td>0.005360</td>\n",
       "      <td>balanced</td>\n",
       "      <td>entropy</td>\n",
       "      <td>{'class_weight': 'balanced', 'criterion': 'ent...</td>\n",
       "      <td>0.802444</td>\n",
       "      <td>0.801111</td>\n",
       "      <td>0.798833</td>\n",
       "      <td>0.800796</td>\n",
       "      <td>0.001491</td>\n",
       "      <td>1</td>\n",
       "    </tr>\n",
       "  </tbody>\n",
       "</table>\n",
       "</div>"
      ],
      "text/plain": [
       "   mean_fit_time  std_fit_time  mean_score_time  std_score_time  \\\n",
       "0      39.844974      1.870900         0.082542        0.016276   \n",
       "1      38.113136      0.336961         0.075814        0.006358   \n",
       "2      41.481638      1.116589         0.085748        0.010103   \n",
       "3      39.739888      1.199441         0.073738        0.005360   \n",
       "\n",
       "  param_class_weight param_criterion  \\\n",
       "0               None            gini   \n",
       "1               None         entropy   \n",
       "2           balanced            gini   \n",
       "3           balanced         entropy   \n",
       "\n",
       "                                              params  split0_test_score  \\\n",
       "0        {'class_weight': None, 'criterion': 'gini'}           0.794889   \n",
       "1     {'class_weight': None, 'criterion': 'entropy'}           0.803389   \n",
       "2  {'class_weight': 'balanced', 'criterion': 'gini'}           0.790278   \n",
       "3  {'class_weight': 'balanced', 'criterion': 'ent...           0.802444   \n",
       "\n",
       "   split1_test_score  split2_test_score  mean_test_score  std_test_score  \\\n",
       "0           0.787944           0.787167         0.790000        0.003472   \n",
       "1           0.800889           0.797389         0.800556        0.002461   \n",
       "2           0.787111           0.788222         0.788537        0.001312   \n",
       "3           0.801111           0.798833         0.800796        0.001491   \n",
       "\n",
       "   rank_test_score  \n",
       "0                3  \n",
       "1                2  \n",
       "2                4  \n",
       "3                1  "
      ]
     },
     "execution_count": 55,
     "metadata": {},
     "output_type": "execute_result"
    }
   ],
   "source": [
    "pd.DataFrame(DTree_grid.cv_results_)"
   ]
  },
  {
   "cell_type": "code",
   "execution_count": 57,
   "metadata": {},
   "outputs": [
    {
     "name": "stdout",
     "output_type": "stream",
     "text": [
      "Best Decision-tree estimator: DecisionTreeClassifier(class_weight='balanced', criterion='entropy')\n"
     ]
    }
   ],
   "source": [
    "print(\"Best Decision-tree estimator:\", DTree_grid.best_estimator_,\"with a score of:\",DTree_grid.best_score_)"
   ]
  },
  {
   "cell_type": "code",
   "execution_count": 82,
   "metadata": {},
   "outputs": [
    {
     "name": "stdout",
     "output_type": "stream",
     "text": [
      "Fitting 3 folds for each of 10 candidates, totalling 30 fits\n",
      "[CV 1/3] END algorithm=SAMME, learning_rate=0.2;, score=0.336 total time= 1.3min\n",
      "[CV 2/3] END algorithm=SAMME, learning_rate=0.2;, score=0.418 total time= 1.2min\n",
      "[CV 3/3] END algorithm=SAMME, learning_rate=0.2;, score=0.360 total time= 1.2min\n",
      "[CV 1/3] END algorithm=SAMME, learning_rate=0.4;, score=0.349 total time= 1.2min\n",
      "[CV 2/3] END algorithm=SAMME, learning_rate=0.4;, score=0.435 total time= 1.2min\n",
      "[CV 3/3] END algorithm=SAMME, learning_rate=0.4;, score=0.358 total time= 1.2min\n",
      "[CV 1/3] END algorithm=SAMME, learning_rate=0.6;, score=0.435 total time= 1.3min\n",
      "[CV 2/3] END algorithm=SAMME, learning_rate=0.6;, score=0.468 total time= 1.3min\n",
      "[CV 3/3] END algorithm=SAMME, learning_rate=0.6;, score=0.433 total time= 1.3min\n",
      "[CV 1/3] END algorithm=SAMME, learning_rate=0.8;, score=0.433 total time= 1.3min\n",
      "[CV 2/3] END algorithm=SAMME, learning_rate=0.8;, score=0.452 total time= 1.3min\n",
      "[CV 3/3] END algorithm=SAMME, learning_rate=0.8;, score=0.521 total time= 1.3min\n",
      "[CV 1/3] END ..algorithm=SAMME, learning_rate=1;, score=0.506 total time= 1.3min\n",
      "[CV 2/3] END ..algorithm=SAMME, learning_rate=1;, score=0.386 total time= 1.3min\n",
      "[CV 3/3] END ..algorithm=SAMME, learning_rate=1;, score=0.451 total time= 1.3min\n",
      "[CV 1/3] END algorithm=SAMME.R, learning_rate=0.2;, score=0.550 total time= 1.3min\n",
      "[CV 2/3] END algorithm=SAMME.R, learning_rate=0.2;, score=0.532 total time= 1.2min\n",
      "[CV 3/3] END algorithm=SAMME.R, learning_rate=0.2;, score=0.533 total time= 1.2min\n",
      "[CV 1/3] END algorithm=SAMME.R, learning_rate=0.4;, score=0.532 total time= 1.2min\n",
      "[CV 2/3] END algorithm=SAMME.R, learning_rate=0.4;, score=0.579 total time= 1.2min\n",
      "[CV 3/3] END algorithm=SAMME.R, learning_rate=0.4;, score=0.587 total time= 1.2min\n",
      "[CV 1/3] END algorithm=SAMME.R, learning_rate=0.6;, score=0.481 total time= 1.2min\n",
      "[CV 2/3] END algorithm=SAMME.R, learning_rate=0.6;, score=0.586 total time= 1.2min\n",
      "[CV 3/3] END algorithm=SAMME.R, learning_rate=0.6;, score=0.570 total time= 1.2min\n",
      "[CV 1/3] END algorithm=SAMME.R, learning_rate=0.8;, score=0.598 total time= 1.3min\n",
      "[CV 2/3] END algorithm=SAMME.R, learning_rate=0.8;, score=0.550 total time= 2.1min\n",
      "[CV 3/3] END algorithm=SAMME.R, learning_rate=0.8;, score=0.584 total time= 3.6min\n",
      "[CV 1/3] END algorithm=SAMME.R, learning_rate=1;, score=0.507 total time= 3.2min\n",
      "[CV 2/3] END algorithm=SAMME.R, learning_rate=1;, score=0.433 total time= 1.5min\n",
      "[CV 3/3] END algorithm=SAMME.R, learning_rate=1;, score=0.504 total time= 1.2min\n"
     ]
    }
   ],
   "source": [
    "\"\"\"\n",
    "Ada-boost grid-search\n",
    "\"\"\"\n",
    "\n",
    "# ADA_model = AdaBoostClassifier(random_state = 42)\n",
    "# parameters = {'learning_rate' : [0.2,0.4,0.6,0.8,1], 'algorithm' : ['SAMME', 'SAMME.R']}\n",
    "# ADA_grid = GridSearchCV(ADA_model, parameters, cv = 3 ,verbose = 4).fit(X_train, y_train)"
   ]
  },
  {
   "cell_type": "code",
   "execution_count": 85,
   "metadata": {},
   "outputs": [
    {
     "data": {
      "text/html": [
       "<div>\n",
       "<style scoped>\n",
       "    .dataframe tbody tr th:only-of-type {\n",
       "        vertical-align: middle;\n",
       "    }\n",
       "\n",
       "    .dataframe tbody tr th {\n",
       "        vertical-align: top;\n",
       "    }\n",
       "\n",
       "    .dataframe thead th {\n",
       "        text-align: right;\n",
       "    }\n",
       "</style>\n",
       "<table border=\"1\" class=\"dataframe\">\n",
       "  <thead>\n",
       "    <tr style=\"text-align: right;\">\n",
       "      <th></th>\n",
       "      <th>mean_fit_time</th>\n",
       "      <th>std_fit_time</th>\n",
       "      <th>mean_score_time</th>\n",
       "      <th>std_score_time</th>\n",
       "      <th>param_algorithm</th>\n",
       "      <th>param_learning_rate</th>\n",
       "      <th>params</th>\n",
       "      <th>split0_test_score</th>\n",
       "      <th>split1_test_score</th>\n",
       "      <th>split2_test_score</th>\n",
       "      <th>mean_test_score</th>\n",
       "      <th>std_test_score</th>\n",
       "      <th>rank_test_score</th>\n",
       "    </tr>\n",
       "  </thead>\n",
       "  <tbody>\n",
       "    <tr>\n",
       "      <th>0</th>\n",
       "      <td>71.914957</td>\n",
       "      <td>1.040668</td>\n",
       "      <td>2.065995</td>\n",
       "      <td>0.060612</td>\n",
       "      <td>SAMME</td>\n",
       "      <td>0.2</td>\n",
       "      <td>{'algorithm': 'SAMME', 'learning_rate': 0.2}</td>\n",
       "      <td>0.335944</td>\n",
       "      <td>0.417611</td>\n",
       "      <td>0.360111</td>\n",
       "      <td>0.371222</td>\n",
       "      <td>0.034254</td>\n",
       "      <td>10</td>\n",
       "    </tr>\n",
       "    <tr>\n",
       "      <th>1</th>\n",
       "      <td>70.210723</td>\n",
       "      <td>0.249967</td>\n",
       "      <td>1.984952</td>\n",
       "      <td>0.038572</td>\n",
       "      <td>SAMME</td>\n",
       "      <td>0.4</td>\n",
       "      <td>{'algorithm': 'SAMME', 'learning_rate': 0.4}</td>\n",
       "      <td>0.348944</td>\n",
       "      <td>0.435111</td>\n",
       "      <td>0.357833</td>\n",
       "      <td>0.380630</td>\n",
       "      <td>0.038695</td>\n",
       "      <td>9</td>\n",
       "    </tr>\n",
       "    <tr>\n",
       "      <th>2</th>\n",
       "      <td>75.523407</td>\n",
       "      <td>1.419996</td>\n",
       "      <td>2.112030</td>\n",
       "      <td>0.061082</td>\n",
       "      <td>SAMME</td>\n",
       "      <td>0.6</td>\n",
       "      <td>{'algorithm': 'SAMME', 'learning_rate': 0.6}</td>\n",
       "      <td>0.434833</td>\n",
       "      <td>0.467778</td>\n",
       "      <td>0.432833</td>\n",
       "      <td>0.445148</td>\n",
       "      <td>0.016022</td>\n",
       "      <td>8</td>\n",
       "    </tr>\n",
       "    <tr>\n",
       "      <th>3</th>\n",
       "      <td>76.141075</td>\n",
       "      <td>1.200205</td>\n",
       "      <td>2.218355</td>\n",
       "      <td>0.181170</td>\n",
       "      <td>SAMME</td>\n",
       "      <td>0.8</td>\n",
       "      <td>{'algorithm': 'SAMME', 'learning_rate': 0.8}</td>\n",
       "      <td>0.432667</td>\n",
       "      <td>0.452056</td>\n",
       "      <td>0.520556</td>\n",
       "      <td>0.468426</td>\n",
       "      <td>0.037702</td>\n",
       "      <td>6</td>\n",
       "    </tr>\n",
       "    <tr>\n",
       "      <th>4</th>\n",
       "      <td>74.218768</td>\n",
       "      <td>1.182674</td>\n",
       "      <td>2.227641</td>\n",
       "      <td>0.108195</td>\n",
       "      <td>SAMME</td>\n",
       "      <td>1</td>\n",
       "      <td>{'algorithm': 'SAMME', 'learning_rate': 1}</td>\n",
       "      <td>0.505611</td>\n",
       "      <td>0.386000</td>\n",
       "      <td>0.450556</td>\n",
       "      <td>0.447389</td>\n",
       "      <td>0.048882</td>\n",
       "      <td>7</td>\n",
       "    </tr>\n",
       "    <tr>\n",
       "      <th>5</th>\n",
       "      <td>72.154325</td>\n",
       "      <td>2.162688</td>\n",
       "      <td>2.181573</td>\n",
       "      <td>0.032980</td>\n",
       "      <td>SAMME.R</td>\n",
       "      <td>0.2</td>\n",
       "      <td>{'algorithm': 'SAMME.R', 'learning_rate': 0.2}</td>\n",
       "      <td>0.549667</td>\n",
       "      <td>0.532278</td>\n",
       "      <td>0.532889</td>\n",
       "      <td>0.538278</td>\n",
       "      <td>0.008057</td>\n",
       "      <td>4</td>\n",
       "    </tr>\n",
       "    <tr>\n",
       "      <th>6</th>\n",
       "      <td>70.492586</td>\n",
       "      <td>0.459026</td>\n",
       "      <td>2.156572</td>\n",
       "      <td>0.009321</td>\n",
       "      <td>SAMME.R</td>\n",
       "      <td>0.4</td>\n",
       "      <td>{'algorithm': 'SAMME.R', 'learning_rate': 0.4}</td>\n",
       "      <td>0.532111</td>\n",
       "      <td>0.578667</td>\n",
       "      <td>0.586889</td>\n",
       "      <td>0.565889</td>\n",
       "      <td>0.024119</td>\n",
       "      <td>2</td>\n",
       "    </tr>\n",
       "    <tr>\n",
       "      <th>7</th>\n",
       "      <td>71.483481</td>\n",
       "      <td>0.793745</td>\n",
       "      <td>2.217645</td>\n",
       "      <td>0.044917</td>\n",
       "      <td>SAMME.R</td>\n",
       "      <td>0.6</td>\n",
       "      <td>{'algorithm': 'SAMME.R', 'learning_rate': 0.6}</td>\n",
       "      <td>0.480889</td>\n",
       "      <td>0.585667</td>\n",
       "      <td>0.569889</td>\n",
       "      <td>0.545481</td>\n",
       "      <td>0.046126</td>\n",
       "      <td>3</td>\n",
       "    </tr>\n",
       "    <tr>\n",
       "      <th>8</th>\n",
       "      <td>134.551018</td>\n",
       "      <td>56.839562</td>\n",
       "      <td>5.720727</td>\n",
       "      <td>2.394126</td>\n",
       "      <td>SAMME.R</td>\n",
       "      <td>0.8</td>\n",
       "      <td>{'algorithm': 'SAMME.R', 'learning_rate': 0.8}</td>\n",
       "      <td>0.598389</td>\n",
       "      <td>0.549944</td>\n",
       "      <td>0.583889</td>\n",
       "      <td>0.577407</td>\n",
       "      <td>0.020301</td>\n",
       "      <td>1</td>\n",
       "    </tr>\n",
       "    <tr>\n",
       "      <th>9</th>\n",
       "      <td>115.417459</td>\n",
       "      <td>51.292771</td>\n",
       "      <td>3.697816</td>\n",
       "      <td>2.028558</td>\n",
       "      <td>SAMME.R</td>\n",
       "      <td>1</td>\n",
       "      <td>{'algorithm': 'SAMME.R', 'learning_rate': 1}</td>\n",
       "      <td>0.507333</td>\n",
       "      <td>0.433389</td>\n",
       "      <td>0.504444</td>\n",
       "      <td>0.481722</td>\n",
       "      <td>0.034197</td>\n",
       "      <td>5</td>\n",
       "    </tr>\n",
       "  </tbody>\n",
       "</table>\n",
       "</div>"
      ],
      "text/plain": [
       "   mean_fit_time  std_fit_time  mean_score_time  std_score_time  \\\n",
       "0      71.914957      1.040668         2.065995        0.060612   \n",
       "1      70.210723      0.249967         1.984952        0.038572   \n",
       "2      75.523407      1.419996         2.112030        0.061082   \n",
       "3      76.141075      1.200205         2.218355        0.181170   \n",
       "4      74.218768      1.182674         2.227641        0.108195   \n",
       "5      72.154325      2.162688         2.181573        0.032980   \n",
       "6      70.492586      0.459026         2.156572        0.009321   \n",
       "7      71.483481      0.793745         2.217645        0.044917   \n",
       "8     134.551018     56.839562         5.720727        2.394126   \n",
       "9     115.417459     51.292771         3.697816        2.028558   \n",
       "\n",
       "  param_algorithm param_learning_rate  \\\n",
       "0           SAMME                 0.2   \n",
       "1           SAMME                 0.4   \n",
       "2           SAMME                 0.6   \n",
       "3           SAMME                 0.8   \n",
       "4           SAMME                   1   \n",
       "5         SAMME.R                 0.2   \n",
       "6         SAMME.R                 0.4   \n",
       "7         SAMME.R                 0.6   \n",
       "8         SAMME.R                 0.8   \n",
       "9         SAMME.R                   1   \n",
       "\n",
       "                                           params  split0_test_score  \\\n",
       "0    {'algorithm': 'SAMME', 'learning_rate': 0.2}           0.335944   \n",
       "1    {'algorithm': 'SAMME', 'learning_rate': 0.4}           0.348944   \n",
       "2    {'algorithm': 'SAMME', 'learning_rate': 0.6}           0.434833   \n",
       "3    {'algorithm': 'SAMME', 'learning_rate': 0.8}           0.432667   \n",
       "4      {'algorithm': 'SAMME', 'learning_rate': 1}           0.505611   \n",
       "5  {'algorithm': 'SAMME.R', 'learning_rate': 0.2}           0.549667   \n",
       "6  {'algorithm': 'SAMME.R', 'learning_rate': 0.4}           0.532111   \n",
       "7  {'algorithm': 'SAMME.R', 'learning_rate': 0.6}           0.480889   \n",
       "8  {'algorithm': 'SAMME.R', 'learning_rate': 0.8}           0.598389   \n",
       "9    {'algorithm': 'SAMME.R', 'learning_rate': 1}           0.507333   \n",
       "\n",
       "   split1_test_score  split2_test_score  mean_test_score  std_test_score  \\\n",
       "0           0.417611           0.360111         0.371222        0.034254   \n",
       "1           0.435111           0.357833         0.380630        0.038695   \n",
       "2           0.467778           0.432833         0.445148        0.016022   \n",
       "3           0.452056           0.520556         0.468426        0.037702   \n",
       "4           0.386000           0.450556         0.447389        0.048882   \n",
       "5           0.532278           0.532889         0.538278        0.008057   \n",
       "6           0.578667           0.586889         0.565889        0.024119   \n",
       "7           0.585667           0.569889         0.545481        0.046126   \n",
       "8           0.549944           0.583889         0.577407        0.020301   \n",
       "9           0.433389           0.504444         0.481722        0.034197   \n",
       "\n",
       "   rank_test_score  \n",
       "0               10  \n",
       "1                9  \n",
       "2                8  \n",
       "3                6  \n",
       "4                7  \n",
       "5                4  \n",
       "6                2  \n",
       "7                3  \n",
       "8                1  \n",
       "9                5  "
      ]
     },
     "execution_count": 85,
     "metadata": {},
     "output_type": "execute_result"
    }
   ],
   "source": [
    "# pd.DataFrame(ADA_grid.cv_results_)"
   ]
  },
  {
   "cell_type": "code",
   "execution_count": 87,
   "metadata": {},
   "outputs": [
    {
     "name": "stdout",
     "output_type": "stream",
     "text": [
      "Best Ada-boost estimator: AdaBoostClassifier(learning_rate=0.8, random_state=42) with a score of: 0.5774074074074075\n"
     ]
    }
   ],
   "source": [
    "# print(\"Best Ada-boost estimator:\", ADA_grid.best_estimator_,\"with a score of:\",ADA_grid.best_score_)"
   ]
  },
  {
   "cell_type": "markdown",
   "metadata": {},
   "source": [
    "## Pixel Importance using RandomForestClassifier"
   ]
  },
  {
   "cell_type": "code",
   "execution_count": 38,
   "metadata": {},
   "outputs": [
    {
     "name": "stdout",
     "output_type": "stream",
     "text": [
      "Random forest score: 0.8843333333333333\n"
     ]
    },
    {
     "data": {
      "image/png": "[encoded data removed]",
      "text/plain": [
       "<Figure size 288x288 with 2 Axes>"
      ]
     },
     "metadata": {
      "needs_background": "light"
     },
     "output_type": "display_data"
    }
   ],
   "source": [
    "from sklearn.ensemble import RandomForestClassifier\n",
    "\n",
    "forest = RandomForestClassifier(n_estimators=100, random_state=42, n_jobs = os.cpu_count() - 1)\n",
    "forest.fit(X_train, y_train)\n",
    "\n",
    "print(\"Random forest score:\",forest.score(X_test, y_test))\n",
    "#cv_scores = cross_val_score(forest, X_train, y_train, cv=5)\n",
    "#print(cv_scores)\n",
    "#print(\"cv_scores mean: \" + str(np.mean(cv_scores)))\n",
    "    \n",
    "importances = forest.feature_importances_\n",
    "imp_reshaped = importances.reshape((28, 28))\n",
    "plt.matshow(imp_reshaped, cmap=plt.cm.hot)\n",
    "plt.title(\"Pixel importances using impurity values\")\n",
    "plt.colorbar()\n",
    "plt.show()"
   ]
  },
  {
   "cell_type": "code",
   "execution_count": 39,
   "metadata": {
    "scrolled": true
   },
   "outputs": [
    {
     "name": "stdout",
     "output_type": "stream",
     "text": [
      "602    0.009314\n",
      "406    0.009002\n",
      "262    0.008466\n",
      "518    0.008224\n",
      "434    0.007911\n",
      "         ...   \n",
      "591    0.000444\n",
      "486    0.000444\n",
      "485    0.000443\n",
      "732    0.000443\n",
      "696    0.000441\n",
      "Length: 600, dtype: float64\n"
     ]
    }
   ],
   "source": [
    "features = pd.Series(forest.feature_importances_, index=range(784))\n",
    "top_features = features.sort_values(ascending=False).head(600)\n",
    "print(top_features)\n",
    "top_features = top_features.index.values.tolist()"
   ]
  },
  {
   "cell_type": "code",
   "execution_count": 44,
   "metadata": {
    "scrolled": true
   },
   "outputs": [],
   "source": [
    "#Create a new dataframe where samples have the 600 most important pixels\n",
    "top_data = data.iloc[:, top_features]\n",
    "top_data = pd.concat([top_data, labelDF], axis = 1)\n",
    "X_top_data = top_data.drop(['Label'], axis = 1).values\n",
    "y_top_data = top_data['Label'].values\n",
    "X_top_data_train, X_top_data_test, y_top_data_train, y_top_data_test = train_test_split(X_top_data, y_top_data, test_size = 0.15, random_state = 42)"
   ]
  },
  {
   "cell_type": "code",
   "execution_count": 49,
   "metadata": {},
   "outputs": [
    {
     "name": "stdout",
     "output_type": "stream",
     "text": [
      "Random forest score after cropping out not important pixels: 0.879\n"
     ]
    }
   ],
   "source": [
    "forest = RandomForestClassifier(n_estimators=100, random_state=42)\n",
    "forest.fit(X_top_data_train, y_top_data_train)\n",
    "print(\"Random forest score after cropping out not important pixels:\",forest.score(X_top_data_test, y_top_data_test))\n",
    "#cv_scores = cross_val_score(forest, X_top_data_train, y_top_data_train, cv=5)\n",
    "#print(cv_scores)\n",
    "#print(\"cv_scores mean: \" + str(np.mean(cv_scores)))"
   ]
  },
  {
   "cell_type": "code",
   "execution_count": null,
   "metadata": {},
   "outputs": [],
   "source": [
    "#plot_image(123,X_top_data,shape = int(601**0.5))"
   ]
  },
  {
   "cell_type": "code",
   "execution_count": null,
   "metadata": {},
   "outputs": [],
   "source": [
    "unique, counts = np.unique(y_top_data_test, return_counts=True)\n",
    "dict(zip(unique, counts))"
   ]
  },
  {
   "cell_type": "markdown",
   "metadata": {},
   "source": [
    "## Using new datafame on previous models"
   ]
  },
  {
   "cell_type": "markdown",
   "metadata": {},
   "source": [
    "## *KNN-improved data*"
   ]
  },
  {
   "cell_type": "code",
   "execution_count": null,
   "metadata": {},
   "outputs": [],
   "source": [
    "KNN_model.fit(X_top_data_train, y_top_data_train)"
   ]
  },
  {
   "cell_type": "code",
   "execution_count": null,
   "metadata": {},
   "outputs": [],
   "source": [
    "print(\"Improved data KNN score:\",KNN_model.score(X_top_data_test, y_top_data_test))"
   ]
  },
  {
   "cell_type": "markdown",
   "metadata": {},
   "source": [
    "## *Decision tree-improved data*"
   ]
  },
  {
   "cell_type": "code",
   "execution_count": null,
   "metadata": {},
   "outputs": [],
   "source": [
    "decision_tree_model.fit(X_top_data_train, y_top_data_train)"
   ]
  },
  {
   "cell_type": "code",
   "execution_count": null,
   "metadata": {},
   "outputs": [],
   "source": [
    "print(\"Improved data decision tree model score:\",decision_tree_model.score(X_top_data_test, y_top_data_test))"
   ]
  },
  {
   "cell_type": "code",
   "execution_count": null,
   "metadata": {},
   "outputs": [],
   "source": [
    "confusion_matrix = ConfusionMatrixDisplay.from_estimator(decision_tree_model, X_top_data_test, y_top_data_test)"
   ]
  },
  {
   "cell_type": "code",
   "execution_count": null,
   "metadata": {},
   "outputs": [],
   "source": []
  }
 ],
 "metadata": {
  "kernelspec": {
   "display_name": "Python 3",
   "language": "python",
   "name": "python3"
  },
  "language_info": {
   "codemirror_mode": {
    "name": "ipython",
    "version": 3
   },
   "file_extension": ".py",
   "mimetype": "text/x-python",
   "name": "python",
   "nbconvert_exporter": "python",
   "pygments_lexer": "ipython3",
   "version": "3.8.5"
  }
 },
 "nbformat": 4,
 "nbformat_minor": 4
}
