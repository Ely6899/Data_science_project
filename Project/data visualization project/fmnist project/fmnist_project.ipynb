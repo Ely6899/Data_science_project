{
 "cells": [
  {
   "cell_type": "code",
   "execution_count": 1,
   "metadata": {},
   "outputs": [],
   "source": [
    "from keras.datasets import fashion_mnist"
   ]
  },
  {
   "cell_type": "code",
   "execution_count": 2,
   "metadata": {},
   "outputs": [],
   "source": [
    "from matplotlib import pyplot as plt\n",
    "import numpy as np\n",
    "import pandas as pd\n",
    "import os"
   ]
  },
  {
   "cell_type": "code",
   "execution_count": 106,
   "metadata": {},
   "outputs": [],
   "source": [
    "#Constant zone\n",
    "COLOR = 'white'\n",
    "FONT = 'Adobe'\n",
    "plt.rcParams['text.color'] = COLOR\n",
    "plt.rcParams['axes.labelcolor'] = COLOR\n",
    "plt.rcParams['xtick.color'] = COLOR\n",
    "plt.rcParams['ytick.color'] = COLOR\n",
    "plt.rcParams['font.family'] = FONT"
   ]
  },
  {
   "cell_type": "markdown",
   "metadata": {},
   "source": [
    "## Preprocessing and analyzing the data"
   ]
  },
  {
   "cell_type": "code",
   "execution_count": 3,
   "metadata": {},
   "outputs": [],
   "source": [
    "(trainX, trainy), (testX, testy) = fashion_mnist.load_data()"
   ]
  },
  {
   "cell_type": "code",
   "execution_count": 4,
   "metadata": {},
   "outputs": [
    {
     "name": "stdout",
     "output_type": "stream",
     "text": [
      "Training data shape: (60000, 28, 28)\n",
      "Training data label shape: (60000,)\n",
      "Testing data shape: (10000, 28, 28)\n",
      "Testing data label shape: (10000,)\n"
     ]
    }
   ],
   "source": [
    "print(\"Training data shape:\",trainX.shape)\n",
    "print(\"Training data label shape:\",trainy.shape)\n",
    "print(\"Testing data shape:\",testX.shape)\n",
    "print(\"Testing data label shape:\",testy.shape)\n",
    "print(\"Training data type:\",trainX.dtype)\n",
    "print(\"Training data label type:\",trainy.dtype)\n",
    "print(\"Testing data type:\",testX.dtype)\n",
    "print(\"Testing data label type:\",testy.dtype)"
   ]
  },
  {
   "cell_type": "code",
   "execution_count": 6,
   "metadata": {},
   "outputs": [
    {
     "data": {
      "text/plain": [
       "array([9, 0, 0, ..., 3, 0, 5], dtype=uint8)"
      ]
     },
     "execution_count": 6,
     "metadata": {},
     "output_type": "execute_result"
    }
   ],
   "source": [
    "trainy"
   ]
  },
  {
   "cell_type": "code",
   "execution_count": 7,
   "metadata": {},
   "outputs": [
    {
     "name": "stdout",
     "output_type": "stream",
     "text": [
      "Amount of samples: 60000\n"
     ]
    }
   ],
   "source": [
    "print(\"Amount of samples:\",len(trainX[:]))"
   ]
  },
  {
   "cell_type": "code",
   "execution_count": 8,
   "metadata": {},
   "outputs": [],
   "source": [
    "#plots an image given index\n",
    "def plot_image(index, train_data, shape = 28):\n",
    "    plt.imshow(trainX[index].reshape(shape, shape),cmap = plt.get_cmap('gray'), interpolation = 'nearest')\n",
    "    print(\"Label:\",trainy[index])"
   ]
  },
  {
   "cell_type": "code",
   "execution_count": 9,
   "metadata": {},
   "outputs": [
    {
     "name": "stdout",
     "output_type": "stream",
     "text": [
      "Label: 2\n"
     ]
    },
    {
     "data": {
      "image/png": "[encoded data removed]",
      "text/plain": [
       "<Figure size 432x288 with 1 Axes>"
      ]
     },
     "metadata": {
      "needs_background": "light"
     },
     "output_type": "display_data"
    }
   ],
   "source": [
    "plot_image(123, trainX)"
   ]
  },
  {
   "cell_type": "code",
   "execution_count": 10,
   "metadata": {},
   "outputs": [
    {
     "data": {
      "text/html": [
       "<div>\n",
       "<style scoped>\n",
       "    .dataframe tbody tr th:only-of-type {\n",
       "        vertical-align: middle;\n",
       "    }\n",
       "\n",
       "    .dataframe tbody tr th {\n",
       "        vertical-align: top;\n",
       "    }\n",
       "\n",
       "    .dataframe thead th {\n",
       "        text-align: right;\n",
       "    }\n",
       "</style>\n",
       "<table border=\"1\" class=\"dataframe\">\n",
       "  <thead>\n",
       "    <tr style=\"text-align: right;\">\n",
       "      <th></th>\n",
       "      <th>0</th>\n",
       "      <th>1</th>\n",
       "      <th>2</th>\n",
       "      <th>3</th>\n",
       "      <th>4</th>\n",
       "      <th>5</th>\n",
       "      <th>6</th>\n",
       "      <th>7</th>\n",
       "      <th>8</th>\n",
       "      <th>9</th>\n",
       "      <th>...</th>\n",
       "      <th>774</th>\n",
       "      <th>775</th>\n",
       "      <th>776</th>\n",
       "      <th>777</th>\n",
       "      <th>778</th>\n",
       "      <th>779</th>\n",
       "      <th>780</th>\n",
       "      <th>781</th>\n",
       "      <th>782</th>\n",
       "      <th>783</th>\n",
       "    </tr>\n",
       "  </thead>\n",
       "  <tbody>\n",
       "    <tr>\n",
       "      <th>0</th>\n",
       "      <td>0</td>\n",
       "      <td>0</td>\n",
       "      <td>0</td>\n",
       "      <td>0</td>\n",
       "      <td>0</td>\n",
       "      <td>0</td>\n",
       "      <td>0</td>\n",
       "      <td>0</td>\n",
       "      <td>0</td>\n",
       "      <td>0</td>\n",
       "      <td>...</td>\n",
       "      <td>0</td>\n",
       "      <td>0</td>\n",
       "      <td>0</td>\n",
       "      <td>0</td>\n",
       "      <td>0</td>\n",
       "      <td>0</td>\n",
       "      <td>0</td>\n",
       "      <td>0</td>\n",
       "      <td>0</td>\n",
       "      <td>0</td>\n",
       "    </tr>\n",
       "    <tr>\n",
       "      <th>1</th>\n",
       "      <td>0</td>\n",
       "      <td>0</td>\n",
       "      <td>0</td>\n",
       "      <td>0</td>\n",
       "      <td>0</td>\n",
       "      <td>1</td>\n",
       "      <td>0</td>\n",
       "      <td>0</td>\n",
       "      <td>0</td>\n",
       "      <td>0</td>\n",
       "      <td>...</td>\n",
       "      <td>119</td>\n",
       "      <td>114</td>\n",
       "      <td>130</td>\n",
       "      <td>76</td>\n",
       "      <td>0</td>\n",
       "      <td>0</td>\n",
       "      <td>0</td>\n",
       "      <td>0</td>\n",
       "      <td>0</td>\n",
       "      <td>0</td>\n",
       "    </tr>\n",
       "    <tr>\n",
       "      <th>2</th>\n",
       "      <td>0</td>\n",
       "      <td>0</td>\n",
       "      <td>0</td>\n",
       "      <td>0</td>\n",
       "      <td>0</td>\n",
       "      <td>0</td>\n",
       "      <td>0</td>\n",
       "      <td>0</td>\n",
       "      <td>0</td>\n",
       "      <td>22</td>\n",
       "      <td>...</td>\n",
       "      <td>0</td>\n",
       "      <td>0</td>\n",
       "      <td>1</td>\n",
       "      <td>0</td>\n",
       "      <td>0</td>\n",
       "      <td>0</td>\n",
       "      <td>0</td>\n",
       "      <td>0</td>\n",
       "      <td>0</td>\n",
       "      <td>0</td>\n",
       "    </tr>\n",
       "    <tr>\n",
       "      <th>3</th>\n",
       "      <td>0</td>\n",
       "      <td>0</td>\n",
       "      <td>0</td>\n",
       "      <td>0</td>\n",
       "      <td>0</td>\n",
       "      <td>0</td>\n",
       "      <td>0</td>\n",
       "      <td>0</td>\n",
       "      <td>33</td>\n",
       "      <td>96</td>\n",
       "      <td>...</td>\n",
       "      <td>0</td>\n",
       "      <td>0</td>\n",
       "      <td>0</td>\n",
       "      <td>0</td>\n",
       "      <td>0</td>\n",
       "      <td>0</td>\n",
       "      <td>0</td>\n",
       "      <td>0</td>\n",
       "      <td>0</td>\n",
       "      <td>0</td>\n",
       "    </tr>\n",
       "    <tr>\n",
       "      <th>4</th>\n",
       "      <td>0</td>\n",
       "      <td>0</td>\n",
       "      <td>0</td>\n",
       "      <td>0</td>\n",
       "      <td>0</td>\n",
       "      <td>0</td>\n",
       "      <td>0</td>\n",
       "      <td>0</td>\n",
       "      <td>0</td>\n",
       "      <td>0</td>\n",
       "      <td>...</td>\n",
       "      <td>0</td>\n",
       "      <td>0</td>\n",
       "      <td>0</td>\n",
       "      <td>0</td>\n",
       "      <td>0</td>\n",
       "      <td>0</td>\n",
       "      <td>0</td>\n",
       "      <td>0</td>\n",
       "      <td>0</td>\n",
       "      <td>0</td>\n",
       "    </tr>\n",
       "    <tr>\n",
       "      <th>...</th>\n",
       "      <td>...</td>\n",
       "      <td>...</td>\n",
       "      <td>...</td>\n",
       "      <td>...</td>\n",
       "      <td>...</td>\n",
       "      <td>...</td>\n",
       "      <td>...</td>\n",
       "      <td>...</td>\n",
       "      <td>...</td>\n",
       "      <td>...</td>\n",
       "      <td>...</td>\n",
       "      <td>...</td>\n",
       "      <td>...</td>\n",
       "      <td>...</td>\n",
       "      <td>...</td>\n",
       "      <td>...</td>\n",
       "      <td>...</td>\n",
       "      <td>...</td>\n",
       "      <td>...</td>\n",
       "      <td>...</td>\n",
       "      <td>...</td>\n",
       "    </tr>\n",
       "    <tr>\n",
       "      <th>59995</th>\n",
       "      <td>0</td>\n",
       "      <td>0</td>\n",
       "      <td>0</td>\n",
       "      <td>0</td>\n",
       "      <td>0</td>\n",
       "      <td>0</td>\n",
       "      <td>0</td>\n",
       "      <td>0</td>\n",
       "      <td>0</td>\n",
       "      <td>0</td>\n",
       "      <td>...</td>\n",
       "      <td>0</td>\n",
       "      <td>0</td>\n",
       "      <td>0</td>\n",
       "      <td>0</td>\n",
       "      <td>0</td>\n",
       "      <td>0</td>\n",
       "      <td>0</td>\n",
       "      <td>0</td>\n",
       "      <td>0</td>\n",
       "      <td>0</td>\n",
       "    </tr>\n",
       "    <tr>\n",
       "      <th>59996</th>\n",
       "      <td>0</td>\n",
       "      <td>0</td>\n",
       "      <td>0</td>\n",
       "      <td>0</td>\n",
       "      <td>0</td>\n",
       "      <td>0</td>\n",
       "      <td>0</td>\n",
       "      <td>0</td>\n",
       "      <td>0</td>\n",
       "      <td>0</td>\n",
       "      <td>...</td>\n",
       "      <td>0</td>\n",
       "      <td>0</td>\n",
       "      <td>0</td>\n",
       "      <td>0</td>\n",
       "      <td>0</td>\n",
       "      <td>0</td>\n",
       "      <td>0</td>\n",
       "      <td>0</td>\n",
       "      <td>0</td>\n",
       "      <td>0</td>\n",
       "    </tr>\n",
       "    <tr>\n",
       "      <th>59997</th>\n",
       "      <td>0</td>\n",
       "      <td>0</td>\n",
       "      <td>0</td>\n",
       "      <td>0</td>\n",
       "      <td>0</td>\n",
       "      <td>0</td>\n",
       "      <td>0</td>\n",
       "      <td>0</td>\n",
       "      <td>0</td>\n",
       "      <td>5</td>\n",
       "      <td>...</td>\n",
       "      <td>0</td>\n",
       "      <td>0</td>\n",
       "      <td>0</td>\n",
       "      <td>0</td>\n",
       "      <td>0</td>\n",
       "      <td>0</td>\n",
       "      <td>0</td>\n",
       "      <td>0</td>\n",
       "      <td>0</td>\n",
       "      <td>0</td>\n",
       "    </tr>\n",
       "    <tr>\n",
       "      <th>59998</th>\n",
       "      <td>0</td>\n",
       "      <td>0</td>\n",
       "      <td>0</td>\n",
       "      <td>0</td>\n",
       "      <td>0</td>\n",
       "      <td>0</td>\n",
       "      <td>0</td>\n",
       "      <td>0</td>\n",
       "      <td>0</td>\n",
       "      <td>0</td>\n",
       "      <td>...</td>\n",
       "      <td>66</td>\n",
       "      <td>54</td>\n",
       "      <td>50</td>\n",
       "      <td>5</td>\n",
       "      <td>0</td>\n",
       "      <td>1</td>\n",
       "      <td>0</td>\n",
       "      <td>0</td>\n",
       "      <td>0</td>\n",
       "      <td>0</td>\n",
       "    </tr>\n",
       "    <tr>\n",
       "      <th>59999</th>\n",
       "      <td>0</td>\n",
       "      <td>0</td>\n",
       "      <td>0</td>\n",
       "      <td>0</td>\n",
       "      <td>0</td>\n",
       "      <td>0</td>\n",
       "      <td>0</td>\n",
       "      <td>0</td>\n",
       "      <td>0</td>\n",
       "      <td>0</td>\n",
       "      <td>...</td>\n",
       "      <td>0</td>\n",
       "      <td>0</td>\n",
       "      <td>0</td>\n",
       "      <td>0</td>\n",
       "      <td>0</td>\n",
       "      <td>0</td>\n",
       "      <td>0</td>\n",
       "      <td>0</td>\n",
       "      <td>0</td>\n",
       "      <td>0</td>\n",
       "    </tr>\n",
       "  </tbody>\n",
       "</table>\n",
       "<p>60000 rows × 784 columns</p>\n",
       "</div>"
      ],
      "text/plain": [
       "       0    1    2    3    4    5    6    7    8    9    ...  774  775  776  \\\n",
       "0        0    0    0    0    0    0    0    0    0    0  ...    0    0    0   \n",
       "1        0    0    0    0    0    1    0    0    0    0  ...  119  114  130   \n",
       "2        0    0    0    0    0    0    0    0    0   22  ...    0    0    1   \n",
       "3        0    0    0    0    0    0    0    0   33   96  ...    0    0    0   \n",
       "4        0    0    0    0    0    0    0    0    0    0  ...    0    0    0   \n",
       "...    ...  ...  ...  ...  ...  ...  ...  ...  ...  ...  ...  ...  ...  ...   \n",
       "59995    0    0    0    0    0    0    0    0    0    0  ...    0    0    0   \n",
       "59996    0    0    0    0    0    0    0    0    0    0  ...    0    0    0   \n",
       "59997    0    0    0    0    0    0    0    0    0    5  ...    0    0    0   \n",
       "59998    0    0    0    0    0    0    0    0    0    0  ...   66   54   50   \n",
       "59999    0    0    0    0    0    0    0    0    0    0  ...    0    0    0   \n",
       "\n",
       "       777  778  779  780  781  782  783  \n",
       "0        0    0    0    0    0    0    0  \n",
       "1       76    0    0    0    0    0    0  \n",
       "2        0    0    0    0    0    0    0  \n",
       "3        0    0    0    0    0    0    0  \n",
       "4        0    0    0    0    0    0    0  \n",
       "...    ...  ...  ...  ...  ...  ...  ...  \n",
       "59995    0    0    0    0    0    0    0  \n",
       "59996    0    0    0    0    0    0    0  \n",
       "59997    0    0    0    0    0    0    0  \n",
       "59998    5    0    1    0    0    0    0  \n",
       "59999    0    0    0    0    0    0    0  \n",
       "\n",
       "[60000 rows x 784 columns]"
      ]
     },
     "execution_count": 10,
     "metadata": {},
     "output_type": "execute_result"
    }
   ],
   "source": [
    "sampleDF = pd.DataFrame(data = trainX.reshape(60000,28*28))\n",
    "sampleDF"
   ]
  },
  {
   "cell_type": "code",
   "execution_count": 11,
   "metadata": {},
   "outputs": [
    {
     "data": {
      "text/html": [
       "<div>\n",
       "<style scoped>\n",
       "    .dataframe tbody tr th:only-of-type {\n",
       "        vertical-align: middle;\n",
       "    }\n",
       "\n",
       "    .dataframe tbody tr th {\n",
       "        vertical-align: top;\n",
       "    }\n",
       "\n",
       "    .dataframe thead th {\n",
       "        text-align: right;\n",
       "    }\n",
       "</style>\n",
       "<table border=\"1\" class=\"dataframe\">\n",
       "  <thead>\n",
       "    <tr style=\"text-align: right;\">\n",
       "      <th></th>\n",
       "      <th>Label</th>\n",
       "    </tr>\n",
       "  </thead>\n",
       "  <tbody>\n",
       "    <tr>\n",
       "      <th>0</th>\n",
       "      <td>9</td>\n",
       "    </tr>\n",
       "    <tr>\n",
       "      <th>1</th>\n",
       "      <td>0</td>\n",
       "    </tr>\n",
       "    <tr>\n",
       "      <th>2</th>\n",
       "      <td>0</td>\n",
       "    </tr>\n",
       "    <tr>\n",
       "      <th>3</th>\n",
       "      <td>3</td>\n",
       "    </tr>\n",
       "    <tr>\n",
       "      <th>4</th>\n",
       "      <td>0</td>\n",
       "    </tr>\n",
       "    <tr>\n",
       "      <th>...</th>\n",
       "      <td>...</td>\n",
       "    </tr>\n",
       "    <tr>\n",
       "      <th>59995</th>\n",
       "      <td>5</td>\n",
       "    </tr>\n",
       "    <tr>\n",
       "      <th>59996</th>\n",
       "      <td>1</td>\n",
       "    </tr>\n",
       "    <tr>\n",
       "      <th>59997</th>\n",
       "      <td>3</td>\n",
       "    </tr>\n",
       "    <tr>\n",
       "      <th>59998</th>\n",
       "      <td>0</td>\n",
       "    </tr>\n",
       "    <tr>\n",
       "      <th>59999</th>\n",
       "      <td>5</td>\n",
       "    </tr>\n",
       "  </tbody>\n",
       "</table>\n",
       "<p>60000 rows × 1 columns</p>\n",
       "</div>"
      ],
      "text/plain": [
       "       Label\n",
       "0          9\n",
       "1          0\n",
       "2          0\n",
       "3          3\n",
       "4          0\n",
       "...      ...\n",
       "59995      5\n",
       "59996      1\n",
       "59997      3\n",
       "59998      0\n",
       "59999      5\n",
       "\n",
       "[60000 rows x 1 columns]"
      ]
     },
     "execution_count": 11,
     "metadata": {},
     "output_type": "execute_result"
    }
   ],
   "source": [
    "labelDF = pd.DataFrame(data = trainy, columns = [\"Label\"])\n",
    "labelDF"
   ]
  },
  {
   "cell_type": "code",
   "execution_count": 12,
   "metadata": {},
   "outputs": [
    {
     "name": "stdout",
     "output_type": "stream",
     "text": [
      "Sample DataFrame data types\n",
      " 0      uint8\n",
      "1      uint8\n",
      "2      uint8\n",
      "3      uint8\n",
      "4      uint8\n",
      "       ...  \n",
      "779    uint8\n",
      "780    uint8\n",
      "781    uint8\n",
      "782    uint8\n",
      "783    uint8\n",
      "Length: 784, dtype: object\n"
     ]
    }
   ],
   "source": [
    "print(\"Sample DataFrame data types\\n\",sampleDF.dtypes)"
   ]
  },
  {
   "cell_type": "code",
   "execution_count": 13,
   "metadata": {},
   "outputs": [
    {
     "name": "stdout",
     "output_type": "stream",
     "text": [
      "Label DataFrame data types\n",
      " 0      uint8\n",
      "1      uint8\n",
      "2      uint8\n",
      "3      uint8\n",
      "4      uint8\n",
      "       ...  \n",
      "779    uint8\n",
      "780    uint8\n",
      "781    uint8\n",
      "782    uint8\n",
      "783    uint8\n",
      "Length: 784, dtype: object\n",
      "Label    uint8\n",
      "dtype: object\n"
     ]
    }
   ],
   "source": [
    "print(\"Label DataFrame data types\\n\",sampleDF.dtypes)\n",
    "print(labelDF.dtypes)"
   ]
  },
  {
   "cell_type": "code",
   "execution_count": 14,
   "metadata": {},
   "outputs": [],
   "source": [
    "#Concatenate the 2 dataframes into one dataframe we will work with\n",
    "data = pd.concat([sampleDF, labelDF], axis = 1)\n",
    "data"
   ]
  },
  {
   "cell_type": "markdown",
   "metadata": {},
   "source": [
    "## Label information\n",
    "    0 T-shirt/top\n",
    "    1 Trouser\n",
    "    2 Pullover\n",
    "    3 Dress\n",
    "    4 Coat\n",
    "    5 Sandal\n",
    "    6 Shirt\n",
    "    7 Sneaker\n",
    "    8 Bag\n",
    "    9 Ankle boot"
   ]
  },
  {
   "cell_type": "code",
   "execution_count": 16,
   "metadata": {},
   "outputs": [
    {
     "data": {
      "text/plain": [
       "9    6000\n",
       "8    6000\n",
       "7    6000\n",
       "6    6000\n",
       "5    6000\n",
       "4    6000\n",
       "3    6000\n",
       "2    6000\n",
       "1    6000\n",
       "0    6000\n",
       "Name: Label, dtype: int64"
      ]
     },
     "execution_count": 16,
     "metadata": {},
     "output_type": "execute_result"
    }
   ],
   "source": [
    "data[\"Label\"].value_counts()"
   ]
  },
  {
   "cell_type": "markdown",
   "metadata": {},
   "source": [
    "## Models"
   ]
  },
  {
   "cell_type": "markdown",
   "metadata": {},
   "source": [
    "## KNN"
   ]
  },
  {
   "cell_type": "code",
   "execution_count": 69,
   "metadata": {},
   "outputs": [],
   "source": [
    "from sklearn.model_selection import train_test_split\n",
    "from sklearn.model_selection import cross_val_score\n",
    "from sklearn.model_selection import cross_validate"
   ]
  },
  {
   "cell_type": "code",
   "execution_count": 18,
   "metadata": {},
   "outputs": [],
   "source": [
    "from sklearn.neighbors import KNeighborsClassifier\n",
    "from sklearn.metrics import ConfusionMatrixDisplay"
   ]
  },
  {
   "cell_type": "code",
   "execution_count": 19,
   "metadata": {},
   "outputs": [],
   "source": [
    "X = data.drop(\"Label\", axis = 1).values\n",
    "y = data['Label'].values\n",
    "X_train, X_test, y_train, y_test = train_test_split(X, y, test_size = 0.10, random_state = 42)"
   ]
  },
  {
   "cell_type": "code",
   "execution_count": 20,
   "metadata": {},
   "outputs": [],
   "source": [
    "KNN_model = KNeighborsClassifier(weights = 'distance',n_neighbors = 4, n_jobs = os.cpu_count() - 1).fit(X_train, y_train)"
   ]
  },
  {
   "cell_type": "code",
   "execution_count": 258,
   "metadata": {},
   "outputs": [
    {
     "name": "stdout",
     "output_type": "stream",
     "text": [
      "KNN_score(train): 1.0\n",
      "KNN_score(test): 0.859\n"
     ]
    },
    {
     "data": {
      "image/png": "[encoded data removed]",
      "text/plain": [
       "<Figure size 432x288 with 2 Axes>"
      ]
     },
     "metadata": {
      "needs_background": "dark"
     },
     "output_type": "display_data"
    }
   ],
   "source": [
    "print(\"KNN_score(train):\",KNN_model.score(X_train, y_train))\n",
    "print(\"KNN_score(test):\",KNN_model.score(X_test, y_test))\n",
    "confusion_matrix = ConfusionMatrixDisplay.from_estimator(KNN_model, X_test, y_test)"
   ]
  },
  {
   "cell_type": "code",
   "execution_count": 78,
   "metadata": {},
   "outputs": [
    {
     "name": "stderr",
     "output_type": "stream",
     "text": [
      "[Parallel(n_jobs=1)]: Using backend SequentialBackend with 1 concurrent workers.\n"
     ]
    },
    {
     "name": "stdout",
     "output_type": "stream",
     "text": [
      "[CV] END ..................., score=(train=1.000, test=0.856) total time=  49.5s\n"
     ]
    },
    {
     "name": "stderr",
     "output_type": "stream",
     "text": [
      "[Parallel(n_jobs=1)]: Done   1 out of   1 | elapsed:  2.5min remaining:    0.0s\n"
     ]
    },
    {
     "name": "stdout",
     "output_type": "stream",
     "text": [
      "[CV] END ..................., score=(train=1.000, test=0.854) total time=  49.6s\n"
     ]
    },
    {
     "name": "stderr",
     "output_type": "stream",
     "text": [
      "[Parallel(n_jobs=1)]: Done   2 out of   2 | elapsed:  4.9min remaining:    0.0s\n"
     ]
    },
    {
     "name": "stdout",
     "output_type": "stream",
     "text": [
      "[CV] END ..................., score=(train=1.000, test=0.846) total time=  50.8s\n",
      "dict_keys(['fit_time', 'score_time', 'test_score', 'train_score'])\n"
     ]
    },
    {
     "name": "stderr",
     "output_type": "stream",
     "text": [
      "[Parallel(n_jobs=1)]: Done   3 out of   3 | elapsed:  7.4min finished\n"
     ]
    }
   ],
   "source": [
    "cv_model_KNN = cross_validate(KNN_model, X_train, y_train, cv = 3,scoring = 'accuracy', verbose = 3, return_train_score=True)"
   ]
  },
  {
   "cell_type": "code",
   "execution_count": 83,
   "metadata": {},
   "outputs": [
    {
     "name": "stdout",
     "output_type": "stream",
     "text": [
      "Cross validation training scores: [1. 1. 1.]\n"
     ]
    }
   ],
   "source": [
    "print(\"Cross validation training scores:\",cv_model_KNN['train_score'])\n",
    "print(\"Cross validation test scores:\",cv_model_KNN['test_score'])"
   ]
  },
  {
   "cell_type": "markdown",
   "metadata": {},
   "source": [
    "## Decision Tree"
   ]
  },
  {
   "cell_type": "code",
   "execution_count": 27,
   "metadata": {},
   "outputs": [],
   "source": [
    "from sklearn.tree import DecisionTreeClassifier"
   ]
  },
  {
   "cell_type": "code",
   "execution_count": 31,
   "metadata": {},
   "outputs": [],
   "source": [
    "decision_tree_model = DecisionTreeClassifier(criterion = 'entropy', class_weight = 'balanced').fit(X_train, y_train)"
   ]
  },
  {
   "cell_type": "code",
   "execution_count": 222,
   "metadata": {},
   "outputs": [
    {
     "name": "stdout",
     "output_type": "stream",
     "text": [
      "Decision tree model score(train): 1.0\n"
     ]
    }
   ],
   "source": [
    "print(\"Decision tree model score(train):\",decision_tree_model.score(X_train, y_train))\n",
    "print(\"Decision tree model score(test):\",decision_tree_model.score(X_test, y_test))\n",
    "confusion_matrix = ConfusionMatrixDisplay.from_estimator(decision_tree_model, X_test, y_test)"
   ]
  },
  {
   "cell_type": "code",
   "execution_count": 34,
   "metadata": {},
   "outputs": [],
   "source": [
    "#Cross-validating five times(Any more then that is too slow)\n",
    "#print(\"cv_scores mean:\",cross_val_score(decision_tree_model, X_train, y_train, cv=5)"
   ]
  },
  {
   "cell_type": "markdown",
   "metadata": {},
   "source": [
    "## Ada-boost"
   ]
  },
  {
   "cell_type": "code",
   "execution_count": 38,
   "metadata": {},
   "outputs": [],
   "source": [
    "from sklearn.ensemble import AdaBoostClassifier"
   ]
  },
  {
   "cell_type": "code",
   "execution_count": 43,
   "metadata": {},
   "outputs": [],
   "source": [
    "ada_boost_model = AdaBoostClassifier(algorithm = 'SAMME.R',learning_rate = 0.8,random_state = 42).fit(X_train, y_train)"
   ]
  },
  {
   "cell_type": "code",
   "execution_count": 227,
   "metadata": {},
   "outputs": [
    {
     "name": "stdout",
     "output_type": "stream",
     "text": [
      "ADA-boost score(train): 0.5797222222222222\n"
     ]
    }
   ],
   "source": [
    "print(\"ADA-boost score(train):\",ada_boost_model.score(X_train, y_train))\n",
    "print(\"ADA-boost score(test):\",ada_boost_model.score(X_test, y_test))\n",
    "confusion_matrix = ConfusionMatrixDisplay.from_estimator(ada_boost_model, X_test, y_test)"
   ]
  },
  {
   "cell_type": "markdown",
   "metadata": {},
   "source": [
    "## Applying grid search on the  models to tune hyper-parameters"
   ]
  },
  {
   "cell_type": "code",
   "execution_count": 46,
   "metadata": {},
   "outputs": [],
   "source": [
    "from sklearn.model_selection import GridSearchCV"
   ]
  },
  {
   "cell_type": "code",
   "execution_count": 252,
   "metadata": {},
   "outputs": [],
   "source": [
    "def plot_grid_results(model_checked,grid_data, grid_model): #Plots grid-search score results from best to worst\n",
    "    params = []\n",
    "    for param in grid_model.best_params_:\n",
    "        params.append(\"param_\"+param)\n",
    "    params.append('mean_test_score')\n",
    "    \n",
    "    KNN_grid_frame_mod = grid_data.loc[:,params]\n",
    "    KNN_grid_frame_mod = KNN_grid_frame_mod.fillna(value = \"None\")\n",
    "    #KNN_grid_frame_mod.loc[KNN_grid_frame_mod[params[0]] == np.nan, params[:-1]] = \"None\"\n",
    "#     KNN_grid_frame_mod['total_mean_time'] = KNN_grid_frame_mod['mean_fit_time'] + KNN_grid_frame_mod['mean_score_time']\n",
    "#     KNN_grid_frame_mod.drop(columns = ['mean_fit_time', 'mean_score_time'], inplace = True)\n",
    "    grp = KNN_grid_frame_mod.groupby(by = params[:-1]).agg(lambda x: x).mean_test_score.nlargest(n = grid_data.shape[0])\n",
    "    min_value = grid_data['mean_test_score'].min()\n",
    "    max_value = grid_data['mean_test_score'].max()\n",
    "    \n",
    "    plt.figure(facecolor='black') \n",
    "    grp.plot(kind = \"bar\", figsize = (24, 8), fontsize = 16, color = \"Green\")\n",
    "    ax = plt.axes()\n",
    "    ax.set_facecolor(\"black\")\n",
    "    plt.title(\"Gridsearch results sorted from highest to lowest({0})\".format(model_checked), fontsize = 16)\n",
    "    ax.set_ylim([(min_value - 0.001) ,max_value])\n",
    "    plt.show()\n",
    "    msg = \"Best {0} model: {1} with an accuracy of {2}\".format(model_checked, grid_model.best_params_, grid_model.best_score_)\n",
    "    print(msg)"
   ]
  },
  {
   "cell_type": "markdown",
   "metadata": {},
   "source": [
    "## KNN"
   ]
  },
  {
   "cell_type": "code",
   "execution_count": 49,
   "metadata": {},
   "outputs": [
    {
     "name": "stdout",
     "output_type": "stream",
     "text": [
      "Fitting 3 folds for each of 10 candidates, totalling 30 fits\n",
      "[CV 1/3] END ....n_neighbors=1, weights=uniform;, score=0.848 total time=  48.5s\n",
      "[CV 2/3] END ....n_neighbors=1, weights=uniform;, score=0.844 total time=  48.1s\n",
      "[CV 3/3] END ....n_neighbors=1, weights=uniform;, score=0.840 total time=  45.1s\n",
      "[CV 1/3] END ...n_neighbors=1, weights=distance;, score=0.848 total time=  43.9s\n",
      "[CV 2/3] END ...n_neighbors=1, weights=distance;, score=0.844 total time=  49.9s\n",
      "[CV 3/3] END ...n_neighbors=1, weights=distance;, score=0.840 total time=  47.4s\n",
      "[CV 1/3] END ....n_neighbors=2, weights=uniform;, score=0.846 total time=  44.3s\n",
      "[CV 2/3] END ....n_neighbors=2, weights=uniform;, score=0.842 total time=  43.0s\n",
      "[CV 3/3] END ....n_neighbors=2, weights=uniform;, score=0.836 total time=  43.3s\n",
      "[CV 1/3] END ...n_neighbors=2, weights=distance;, score=0.848 total time=  44.3s\n",
      "[CV 2/3] END ...n_neighbors=2, weights=distance;, score=0.844 total time=  42.5s\n",
      "[CV 3/3] END ...n_neighbors=2, weights=distance;, score=0.840 total time=  43.3s\n",
      "[CV 1/3] END ....n_neighbors=3, weights=uniform;, score=0.850 total time=  45.2s\n",
      "[CV 2/3] END ....n_neighbors=3, weights=uniform;, score=0.847 total time=  56.6s\n",
      "[CV 3/3] END ....n_neighbors=3, weights=uniform;, score=0.842 total time=  59.4s\n",
      "[CV 1/3] END ...n_neighbors=3, weights=distance;, score=0.853 total time=  53.6s\n",
      "[CV 2/3] END ...n_neighbors=3, weights=distance;, score=0.850 total time=  49.6s\n",
      "[CV 3/3] END ...n_neighbors=3, weights=distance;, score=0.845 total time=  46.5s\n",
      "[CV 1/3] END ....n_neighbors=4, weights=uniform;, score=0.853 total time=  49.8s\n",
      "[CV 2/3] END ....n_neighbors=4, weights=uniform;, score=0.853 total time=  50.4s\n",
      "[CV 3/3] END ....n_neighbors=4, weights=uniform;, score=0.847 total time=  49.0s\n",
      "[CV 1/3] END ...n_neighbors=4, weights=distance;, score=0.856 total time=  49.1s\n",
      "[CV 2/3] END ...n_neighbors=4, weights=distance;, score=0.854 total time=  48.4s\n",
      "[CV 3/3] END ...n_neighbors=4, weights=distance;, score=0.846 total time=  47.2s\n",
      "[CV 1/3] END ....n_neighbors=5, weights=uniform;, score=0.853 total time=  47.9s\n",
      "[CV 2/3] END ....n_neighbors=5, weights=uniform;, score=0.851 total time=  48.6s\n",
      "[CV 3/3] END ....n_neighbors=5, weights=uniform;, score=0.847 total time=  50.8s\n",
      "[CV 1/3] END ...n_neighbors=5, weights=distance;, score=0.855 total time=  49.2s\n",
      "[CV 2/3] END ...n_neighbors=5, weights=distance;, score=0.853 total time=  47.4s\n",
      "[CV 3/3] END ...n_neighbors=5, weights=distance;, score=0.848 total time=  49.1s\n"
     ]
    }
   ],
   "source": [
    "\"\"\"\n",
    "KNN grid-search\n",
    "\"\"\"\n",
    "\n",
    "# KNN = KNeighborsClassifier(n_jobs = os.cpu_count() - 1)\n",
    "# parameters = {'n_neighbors' : range(1,6), 'weights' : ['uniform', 'distance']}\n",
    "# KNN_grid = GridSearchCV(KNN, parameters, cv = 3 ,verbose = 4).fit(X_train, y_train)"
   ]
  },
  {
   "cell_type": "code",
   "execution_count": 167,
   "metadata": {},
   "outputs": [
    {
     "data": {
      "text/html": [
       "<div>\n",
       "<style scoped>\n",
       "    .dataframe tbody tr th:only-of-type {\n",
       "        vertical-align: middle;\n",
       "    }\n",
       "\n",
       "    .dataframe tbody tr th {\n",
       "        vertical-align: top;\n",
       "    }\n",
       "\n",
       "    .dataframe thead th {\n",
       "        text-align: right;\n",
       "    }\n",
       "</style>\n",
       "<table border=\"1\" class=\"dataframe\">\n",
       "  <thead>\n",
       "    <tr style=\"text-align: right;\">\n",
       "      <th></th>\n",
       "      <th>mean_fit_time</th>\n",
       "      <th>std_fit_time</th>\n",
       "      <th>mean_score_time</th>\n",
       "      <th>std_score_time</th>\n",
       "      <th>param_n_neighbors</th>\n",
       "      <th>param_weights</th>\n",
       "      <th>params</th>\n",
       "      <th>split0_test_score</th>\n",
       "      <th>split1_test_score</th>\n",
       "      <th>split2_test_score</th>\n",
       "      <th>mean_test_score</th>\n",
       "      <th>std_test_score</th>\n",
       "      <th>rank_test_score</th>\n",
       "    </tr>\n",
       "  </thead>\n",
       "  <tbody>\n",
       "    <tr>\n",
       "      <th>0</th>\n",
       "      <td>0.019877</td>\n",
       "      <td>0.000176</td>\n",
       "      <td>47.292171</td>\n",
       "      <td>1.512584</td>\n",
       "      <td>1</td>\n",
       "      <td>uniform</td>\n",
       "      <td>{'n_neighbors': 1, 'weights': 'uniform'}</td>\n",
       "      <td>0.848056</td>\n",
       "      <td>0.844222</td>\n",
       "      <td>0.839500</td>\n",
       "      <td>0.843926</td>\n",
       "      <td>0.003499</td>\n",
       "      <td>8</td>\n",
       "    </tr>\n",
       "    <tr>\n",
       "      <th>1</th>\n",
       "      <td>0.018148</td>\n",
       "      <td>0.000887</td>\n",
       "      <td>47.180584</td>\n",
       "      <td>2.461344</td>\n",
       "      <td>1</td>\n",
       "      <td>distance</td>\n",
       "      <td>{'n_neighbors': 1, 'weights': 'distance'}</td>\n",
       "      <td>0.848056</td>\n",
       "      <td>0.844222</td>\n",
       "      <td>0.839500</td>\n",
       "      <td>0.843926</td>\n",
       "      <td>0.003499</td>\n",
       "      <td>8</td>\n",
       "    </tr>\n",
       "    <tr>\n",
       "      <th>2</th>\n",
       "      <td>0.018339</td>\n",
       "      <td>0.001312</td>\n",
       "      <td>43.628143</td>\n",
       "      <td>0.533321</td>\n",
       "      <td>2</td>\n",
       "      <td>uniform</td>\n",
       "      <td>{'n_neighbors': 2, 'weights': 'uniform'}</td>\n",
       "      <td>0.846111</td>\n",
       "      <td>0.842278</td>\n",
       "      <td>0.836167</td>\n",
       "      <td>0.841519</td>\n",
       "      <td>0.004095</td>\n",
       "      <td>10</td>\n",
       "    </tr>\n",
       "    <tr>\n",
       "      <th>3</th>\n",
       "      <td>0.021685</td>\n",
       "      <td>0.002063</td>\n",
       "      <td>43.446261</td>\n",
       "      <td>0.722014</td>\n",
       "      <td>2</td>\n",
       "      <td>distance</td>\n",
       "      <td>{'n_neighbors': 2, 'weights': 'distance'}</td>\n",
       "      <td>0.848056</td>\n",
       "      <td>0.844278</td>\n",
       "      <td>0.839500</td>\n",
       "      <td>0.843944</td>\n",
       "      <td>0.003501</td>\n",
       "      <td>7</td>\n",
       "    </tr>\n",
       "    <tr>\n",
       "      <th>4</th>\n",
       "      <td>0.022642</td>\n",
       "      <td>0.007340</td>\n",
       "      <td>53.804528</td>\n",
       "      <td>6.116041</td>\n",
       "      <td>3</td>\n",
       "      <td>uniform</td>\n",
       "      <td>{'n_neighbors': 3, 'weights': 'uniform'}</td>\n",
       "      <td>0.850111</td>\n",
       "      <td>0.847167</td>\n",
       "      <td>0.842000</td>\n",
       "      <td>0.846426</td>\n",
       "      <td>0.003353</td>\n",
       "      <td>6</td>\n",
       "    </tr>\n",
       "    <tr>\n",
       "      <th>5</th>\n",
       "      <td>0.023471</td>\n",
       "      <td>0.006610</td>\n",
       "      <td>49.988846</td>\n",
       "      <td>2.867763</td>\n",
       "      <td>3</td>\n",
       "      <td>distance</td>\n",
       "      <td>{'n_neighbors': 3, 'weights': 'distance'}</td>\n",
       "      <td>0.852556</td>\n",
       "      <td>0.849667</td>\n",
       "      <td>0.844611</td>\n",
       "      <td>0.848944</td>\n",
       "      <td>0.003283</td>\n",
       "      <td>5</td>\n",
       "    </tr>\n",
       "    <tr>\n",
       "      <th>6</th>\n",
       "      <td>0.020001</td>\n",
       "      <td>0.001633</td>\n",
       "      <td>49.820968</td>\n",
       "      <td>0.609839</td>\n",
       "      <td>4</td>\n",
       "      <td>uniform</td>\n",
       "      <td>{'n_neighbors': 4, 'weights': 'uniform'}</td>\n",
       "      <td>0.853222</td>\n",
       "      <td>0.852556</td>\n",
       "      <td>0.847056</td>\n",
       "      <td>0.850944</td>\n",
       "      <td>0.002763</td>\n",
       "      <td>3</td>\n",
       "    </tr>\n",
       "    <tr>\n",
       "      <th>7</th>\n",
       "      <td>0.018283</td>\n",
       "      <td>0.000398</td>\n",
       "      <td>48.333994</td>\n",
       "      <td>0.794994</td>\n",
       "      <td>4</td>\n",
       "      <td>distance</td>\n",
       "      <td>{'n_neighbors': 4, 'weights': 'distance'}</td>\n",
       "      <td>0.855778</td>\n",
       "      <td>0.854389</td>\n",
       "      <td>0.845500</td>\n",
       "      <td>0.851889</td>\n",
       "      <td>0.004553</td>\n",
       "      <td>1</td>\n",
       "    </tr>\n",
       "    <tr>\n",
       "      <th>8</th>\n",
       "      <td>0.018948</td>\n",
       "      <td>0.000872</td>\n",
       "      <td>49.185637</td>\n",
       "      <td>1.216538</td>\n",
       "      <td>5</td>\n",
       "      <td>uniform</td>\n",
       "      <td>{'n_neighbors': 5, 'weights': 'uniform'}</td>\n",
       "      <td>0.853167</td>\n",
       "      <td>0.850667</td>\n",
       "      <td>0.846611</td>\n",
       "      <td>0.850148</td>\n",
       "      <td>0.002701</td>\n",
       "      <td>4</td>\n",
       "    </tr>\n",
       "    <tr>\n",
       "      <th>9</th>\n",
       "      <td>0.021566</td>\n",
       "      <td>0.002765</td>\n",
       "      <td>48.644379</td>\n",
       "      <td>0.844415</td>\n",
       "      <td>5</td>\n",
       "      <td>distance</td>\n",
       "      <td>{'n_neighbors': 5, 'weights': 'distance'}</td>\n",
       "      <td>0.854944</td>\n",
       "      <td>0.852889</td>\n",
       "      <td>0.847778</td>\n",
       "      <td>0.851870</td>\n",
       "      <td>0.003013</td>\n",
       "      <td>2</td>\n",
       "    </tr>\n",
       "  </tbody>\n",
       "</table>\n",
       "</div>"
      ],
      "text/plain": [
       "   mean_fit_time  std_fit_time  mean_score_time  std_score_time  \\\n",
       "0       0.019877      0.000176        47.292171        1.512584   \n",
       "1       0.018148      0.000887        47.180584        2.461344   \n",
       "2       0.018339      0.001312        43.628143        0.533321   \n",
       "3       0.021685      0.002063        43.446261        0.722014   \n",
       "4       0.022642      0.007340        53.804528        6.116041   \n",
       "5       0.023471      0.006610        49.988846        2.867763   \n",
       "6       0.020001      0.001633        49.820968        0.609839   \n",
       "7       0.018283      0.000398        48.333994        0.794994   \n",
       "8       0.018948      0.000872        49.185637        1.216538   \n",
       "9       0.021566      0.002765        48.644379        0.844415   \n",
       "\n",
       "  param_n_neighbors param_weights                                     params  \\\n",
       "0                 1       uniform   {'n_neighbors': 1, 'weights': 'uniform'}   \n",
       "1                 1      distance  {'n_neighbors': 1, 'weights': 'distance'}   \n",
       "2                 2       uniform   {'n_neighbors': 2, 'weights': 'uniform'}   \n",
       "3                 2      distance  {'n_neighbors': 2, 'weights': 'distance'}   \n",
       "4                 3       uniform   {'n_neighbors': 3, 'weights': 'uniform'}   \n",
       "5                 3      distance  {'n_neighbors': 3, 'weights': 'distance'}   \n",
       "6                 4       uniform   {'n_neighbors': 4, 'weights': 'uniform'}   \n",
       "7                 4      distance  {'n_neighbors': 4, 'weights': 'distance'}   \n",
       "8                 5       uniform   {'n_neighbors': 5, 'weights': 'uniform'}   \n",
       "9                 5      distance  {'n_neighbors': 5, 'weights': 'distance'}   \n",
       "\n",
       "   split0_test_score  split1_test_score  split2_test_score  mean_test_score  \\\n",
       "0           0.848056           0.844222           0.839500         0.843926   \n",
       "1           0.848056           0.844222           0.839500         0.843926   \n",
       "2           0.846111           0.842278           0.836167         0.841519   \n",
       "3           0.848056           0.844278           0.839500         0.843944   \n",
       "4           0.850111           0.847167           0.842000         0.846426   \n",
       "5           0.852556           0.849667           0.844611         0.848944   \n",
       "6           0.853222           0.852556           0.847056         0.850944   \n",
       "7           0.855778           0.854389           0.845500         0.851889   \n",
       "8           0.853167           0.850667           0.846611         0.850148   \n",
       "9           0.854944           0.852889           0.847778         0.851870   \n",
       "\n",
       "   std_test_score  rank_test_score  \n",
       "0        0.003499                8  \n",
       "1        0.003499                8  \n",
       "2        0.004095               10  \n",
       "3        0.003501                7  \n",
       "4        0.003353                6  \n",
       "5        0.003283                5  \n",
       "6        0.002763                3  \n",
       "7        0.004553                1  \n",
       "8        0.002701                4  \n",
       "9        0.003013                2  "
      ]
     },
     "execution_count": 167,
     "metadata": {},
     "output_type": "execute_result"
    }
   ],
   "source": [
    "KNN_grid_frame = pd.DataFrame(KNN_grid.cv_results_)\n",
    "KNN_grid_frame"
   ]
  },
  {
   "cell_type": "code",
   "execution_count": 253,
   "metadata": {},
   "outputs": [
    {
     "name": "stderr",
     "output_type": "stream",
     "text": [
      "<ipython-input-252-0021ad43d24d>:18: MatplotlibDeprecationWarning: Adding an axes using the same arguments as a previous axes currently reuses the earlier instance.  In a future version, a new instance will always be created and returned.  Meanwhile, this warning can be suppressed, and the future behavior ensured, by passing a unique label to each axes instance.\n",
      "  ax = plt.axes()\n"
     ]
    },
    {
     "data": {
      "image/png": "[encoded data removed]",
      "text/plain": [
       "<Figure size 1728x576 with 1 Axes>"
      ]
     },
     "metadata": {},
     "output_type": "display_data"
    },
    {
     "name": "stdout",
     "output_type": "stream",
     "text": [
      "Best KNN model: {'n_neighbors': 4, 'weights': 'distance'} with an accuracy of 0.8518888888888889\n"
     ]
    }
   ],
   "source": [
    "plot_grid_results(\"KNN\", grid_data = KNN_grid_frame, grid_model = KNN_grid)"
   ]
  },
  {
   "cell_type": "markdown",
   "metadata": {},
   "source": [
    "## Decision tree"
   ]
  },
  {
   "cell_type": "code",
   "execution_count": 182,
   "metadata": {},
   "outputs": [
    {
     "name": "stdout",
     "output_type": "stream",
     "text": [
      "Fitting 3 folds for each of 4 candidates, totalling 12 fits\n",
      "[CV 1/3] END .class_weight=None, criterion=gini;, score=0.793 total time=  25.1s\n",
      "[CV 2/3] END .class_weight=None, criterion=gini;, score=0.790 total time=  25.9s\n",
      "[CV 3/3] END .class_weight=None, criterion=gini;, score=0.789 total time=  24.5s\n",
      "[CV 1/3] END class_weight=None, criterion=entropy;, score=0.803 total time=  24.1s\n",
      "[CV 2/3] END class_weight=None, criterion=entropy;, score=0.805 total time=  24.2s\n",
      "[CV 3/3] END class_weight=None, criterion=entropy;, score=0.800 total time=  24.2s\n",
      "[CV 1/3] END class_weight=balanced, criterion=gini;, score=0.794 total time=  27.8s\n",
      "[CV 2/3] END class_weight=balanced, criterion=gini;, score=0.790 total time=  27.5s\n",
      "[CV 3/3] END class_weight=balanced, criterion=gini;, score=0.787 total time=  27.7s\n",
      "[CV 1/3] END class_weight=balanced, criterion=entropy;, score=0.805 total time=  26.2s\n",
      "[CV 2/3] END class_weight=balanced, criterion=entropy;, score=0.802 total time=  24.8s\n",
      "[CV 3/3] END class_weight=balanced, criterion=entropy;, score=0.800 total time=  24.3s\n"
     ]
    }
   ],
   "source": [
    "\"\"\"\n",
    "DTree grid-search\n",
    "\"\"\"\n",
    "# DTree_model = DecisionTreeClassifier(random_state = 42)\n",
    "# parameters = {'criterion': ['gini', 'entropy'], 'class_weight' : [None, 'balanced']}\n",
    "# DTree_grid = GridSearchCV(DTree_model, parameters, cv = 3 ,verbose = 4).fit(X_train, y_train)"
   ]
  },
  {
   "cell_type": "code",
   "execution_count": 200,
   "metadata": {},
   "outputs": [
    {
     "data": {
      "text/html": [
       "<div>\n",
       "<style scoped>\n",
       "    .dataframe tbody tr th:only-of-type {\n",
       "        vertical-align: middle;\n",
       "    }\n",
       "\n",
       "    .dataframe tbody tr th {\n",
       "        vertical-align: top;\n",
       "    }\n",
       "\n",
       "    .dataframe thead th {\n",
       "        text-align: right;\n",
       "    }\n",
       "</style>\n",
       "<table border=\"1\" class=\"dataframe\">\n",
       "  <thead>\n",
       "    <tr style=\"text-align: right;\">\n",
       "      <th></th>\n",
       "      <th>mean_fit_time</th>\n",
       "      <th>std_fit_time</th>\n",
       "      <th>mean_score_time</th>\n",
       "      <th>std_score_time</th>\n",
       "      <th>param_class_weight</th>\n",
       "      <th>param_criterion</th>\n",
       "      <th>params</th>\n",
       "      <th>split0_test_score</th>\n",
       "      <th>split1_test_score</th>\n",
       "      <th>split2_test_score</th>\n",
       "      <th>mean_test_score</th>\n",
       "      <th>std_test_score</th>\n",
       "      <th>rank_test_score</th>\n",
       "    </tr>\n",
       "  </thead>\n",
       "  <tbody>\n",
       "    <tr>\n",
       "      <th>0</th>\n",
       "      <td>25.211865</td>\n",
       "      <td>0.574074</td>\n",
       "      <td>0.041924</td>\n",
       "      <td>0.000423</td>\n",
       "      <td>None</td>\n",
       "      <td>gini</td>\n",
       "      <td>{'class_weight': None, 'criterion': 'gini'}</td>\n",
       "      <td>0.793111</td>\n",
       "      <td>0.789889</td>\n",
       "      <td>0.788833</td>\n",
       "      <td>0.790611</td>\n",
       "      <td>0.001820</td>\n",
       "      <td>3</td>\n",
       "    </tr>\n",
       "    <tr>\n",
       "      <th>1</th>\n",
       "      <td>24.231057</td>\n",
       "      <td>0.044498</td>\n",
       "      <td>0.041615</td>\n",
       "      <td>0.001715</td>\n",
       "      <td>None</td>\n",
       "      <td>entropy</td>\n",
       "      <td>{'class_weight': None, 'criterion': 'entropy'}</td>\n",
       "      <td>0.803444</td>\n",
       "      <td>0.805444</td>\n",
       "      <td>0.800111</td>\n",
       "      <td>0.803000</td>\n",
       "      <td>0.002200</td>\n",
       "      <td>1</td>\n",
       "    </tr>\n",
       "    <tr>\n",
       "      <th>2</th>\n",
       "      <td>27.700419</td>\n",
       "      <td>0.128370</td>\n",
       "      <td>0.045839</td>\n",
       "      <td>0.004744</td>\n",
       "      <td>balanced</td>\n",
       "      <td>gini</td>\n",
       "      <td>{'class_weight': 'balanced', 'criterion': 'gini'}</td>\n",
       "      <td>0.793667</td>\n",
       "      <td>0.789556</td>\n",
       "      <td>0.787222</td>\n",
       "      <td>0.790148</td>\n",
       "      <td>0.002664</td>\n",
       "      <td>4</td>\n",
       "    </tr>\n",
       "    <tr>\n",
       "      <th>3</th>\n",
       "      <td>25.161904</td>\n",
       "      <td>0.832136</td>\n",
       "      <td>0.042150</td>\n",
       "      <td>0.002044</td>\n",
       "      <td>balanced</td>\n",
       "      <td>entropy</td>\n",
       "      <td>{'class_weight': 'balanced', 'criterion': 'ent...</td>\n",
       "      <td>0.804944</td>\n",
       "      <td>0.802278</td>\n",
       "      <td>0.799778</td>\n",
       "      <td>0.802333</td>\n",
       "      <td>0.002110</td>\n",
       "      <td>2</td>\n",
       "    </tr>\n",
       "  </tbody>\n",
       "</table>\n",
       "</div>"
      ],
      "text/plain": [
       "   mean_fit_time  std_fit_time  mean_score_time  std_score_time  \\\n",
       "0      25.211865      0.574074         0.041924        0.000423   \n",
       "1      24.231057      0.044498         0.041615        0.001715   \n",
       "2      27.700419      0.128370         0.045839        0.004744   \n",
       "3      25.161904      0.832136         0.042150        0.002044   \n",
       "\n",
       "  param_class_weight param_criterion  \\\n",
       "0               None            gini   \n",
       "1               None         entropy   \n",
       "2           balanced            gini   \n",
       "3           balanced         entropy   \n",
       "\n",
       "                                              params  split0_test_score  \\\n",
       "0        {'class_weight': None, 'criterion': 'gini'}           0.793111   \n",
       "1     {'class_weight': None, 'criterion': 'entropy'}           0.803444   \n",
       "2  {'class_weight': 'balanced', 'criterion': 'gini'}           0.793667   \n",
       "3  {'class_weight': 'balanced', 'criterion': 'ent...           0.804944   \n",
       "\n",
       "   split1_test_score  split2_test_score  mean_test_score  std_test_score  \\\n",
       "0           0.789889           0.788833         0.790611        0.001820   \n",
       "1           0.805444           0.800111         0.803000        0.002200   \n",
       "2           0.789556           0.787222         0.790148        0.002664   \n",
       "3           0.802278           0.799778         0.802333        0.002110   \n",
       "\n",
       "   rank_test_score  \n",
       "0                3  \n",
       "1                1  \n",
       "2                4  \n",
       "3                2  "
      ]
     },
     "execution_count": 200,
     "metadata": {},
     "output_type": "execute_result"
    }
   ],
   "source": [
    "DTree_grid_frame = pd.DataFrame(DTree_grid.cv_results_)\n",
    "DTree_grid_frame"
   ]
  },
  {
   "cell_type": "code",
   "execution_count": 254,
   "metadata": {},
   "outputs": [
    {
     "name": "stderr",
     "output_type": "stream",
     "text": [
      "<ipython-input-252-0021ad43d24d>:18: MatplotlibDeprecationWarning: Adding an axes using the same arguments as a previous axes currently reuses the earlier instance.  In a future version, a new instance will always be created and returned.  Meanwhile, this warning can be suppressed, and the future behavior ensured, by passing a unique label to each axes instance.\n",
      "  ax = plt.axes()\n"
     ]
    },
    {
     "data": {
      "image/png": "[encoded data removed]",
      "text/plain": [
       "<Figure size 1728x576 with 1 Axes>"
      ]
     },
     "metadata": {},
     "output_type": "display_data"
    },
    {
     "name": "stdout",
     "output_type": "stream",
     "text": [
      "Best Decision-tree model: {'class_weight': None, 'criterion': 'entropy'} with an accuracy of 0.8029999999999999\n"
     ]
    }
   ],
   "source": [
    "plot_grid_results(\"Decision-tree\", grid_data = DTree_grid_frame, grid_model = DTree_grid)"
   ]
  },
  {
   "cell_type": "markdown",
   "metadata": {},
   "source": [
    "## Ada-boost"
   ]
  },
  {
   "cell_type": "code",
   "execution_count": 255,
   "metadata": {},
   "outputs": [
    {
     "name": "stdout",
     "output_type": "stream",
     "text": [
      "Fitting 3 folds for each of 10 candidates, totalling 30 fits\n",
      "[CV 1/3] END algorithm=SAMME, learning_rate=0.2;, score=0.336 total time= 1.3min\n",
      "[CV 2/3] END algorithm=SAMME, learning_rate=0.2;, score=0.418 total time= 1.3min\n",
      "[CV 3/3] END algorithm=SAMME, learning_rate=0.2;, score=0.360 total time= 1.2min\n",
      "[CV 1/3] END algorithm=SAMME, learning_rate=0.4;, score=0.349 total time= 1.2min\n",
      "[CV 2/3] END algorithm=SAMME, learning_rate=0.4;, score=0.435 total time= 1.2min\n",
      "[CV 3/3] END algorithm=SAMME, learning_rate=0.4;, score=0.358 total time= 1.3min\n",
      "[CV 1/3] END algorithm=SAMME, learning_rate=0.6;, score=0.435 total time= 1.3min\n",
      "[CV 2/3] END algorithm=SAMME, learning_rate=0.6;, score=0.468 total time= 1.3min\n",
      "[CV 3/3] END algorithm=SAMME, learning_rate=0.6;, score=0.433 total time= 1.7min\n",
      "[CV 1/3] END algorithm=SAMME, learning_rate=0.8;, score=0.433 total time= 2.1min\n",
      "[CV 2/3] END algorithm=SAMME, learning_rate=0.8;, score=0.452 total time= 1.9min\n",
      "[CV 3/3] END algorithm=SAMME, learning_rate=0.8;, score=0.521 total time= 1.9min\n",
      "[CV 1/3] END ..algorithm=SAMME, learning_rate=1;, score=0.506 total time= 1.8min\n",
      "[CV 2/3] END ..algorithm=SAMME, learning_rate=1;, score=0.386 total time= 1.8min\n",
      "[CV 3/3] END ..algorithm=SAMME, learning_rate=1;, score=0.451 total time= 1.9min\n",
      "[CV 1/3] END algorithm=SAMME.R, learning_rate=0.2;, score=0.550 total time= 1.9min\n",
      "[CV 2/3] END algorithm=SAMME.R, learning_rate=0.2;, score=0.532 total time= 1.8min\n",
      "[CV 3/3] END algorithm=SAMME.R, learning_rate=0.2;, score=0.533 total time= 1.7min\n",
      "[CV 1/3] END algorithm=SAMME.R, learning_rate=0.4;, score=0.532 total time= 1.7min\n",
      "[CV 2/3] END algorithm=SAMME.R, learning_rate=0.4;, score=0.579 total time= 1.7min\n",
      "[CV 3/3] END algorithm=SAMME.R, learning_rate=0.4;, score=0.587 total time= 1.9min\n",
      "[CV 1/3] END algorithm=SAMME.R, learning_rate=0.6;, score=0.481 total time= 1.8min\n",
      "[CV 2/3] END algorithm=SAMME.R, learning_rate=0.6;, score=0.586 total time= 1.8min\n",
      "[CV 3/3] END algorithm=SAMME.R, learning_rate=0.6;, score=0.570 total time= 1.9min\n",
      "[CV 1/3] END algorithm=SAMME.R, learning_rate=0.8;, score=0.598 total time= 1.8min\n",
      "[CV 2/3] END algorithm=SAMME.R, learning_rate=0.8;, score=0.550 total time= 1.9min\n",
      "[CV 3/3] END algorithm=SAMME.R, learning_rate=0.8;, score=0.584 total time= 1.6min\n",
      "[CV 1/3] END algorithm=SAMME.R, learning_rate=1;, score=0.507 total time= 1.3min\n",
      "[CV 2/3] END algorithm=SAMME.R, learning_rate=1;, score=0.433 total time= 1.3min\n",
      "[CV 3/3] END algorithm=SAMME.R, learning_rate=1;, score=0.504 total time= 1.2min\n"
     ]
    }
   ],
   "source": [
    "\"\"\"\n",
    "Ada-boost grid-search\n",
    "\"\"\"\n",
    "\n",
    "# ADA_model = AdaBoostClassifier(random_state = 42)\n",
    "# parameters = {'learning_rate' : [0.2,0.4,0.6,0.8,1], 'algorithm' : ['SAMME', 'SAMME.R']}\n",
    "# ADA_grid = GridSearchCV(ADA_model, parameters, cv = 3 ,verbose = 4).fit(X_train, y_train)"
   ]
  },
  {
   "cell_type": "code",
   "execution_count": 256,
   "metadata": {},
   "outputs": [
    {
     "data": {
      "text/html": [
       "<div>\n",
       "<style scoped>\n",
       "    .dataframe tbody tr th:only-of-type {\n",
       "        vertical-align: middle;\n",
       "    }\n",
       "\n",
       "    .dataframe tbody tr th {\n",
       "        vertical-align: top;\n",
       "    }\n",
       "\n",
       "    .dataframe thead th {\n",
       "        text-align: right;\n",
       "    }\n",
       "</style>\n",
       "<table border=\"1\" class=\"dataframe\">\n",
       "  <thead>\n",
       "    <tr style=\"text-align: right;\">\n",
       "      <th></th>\n",
       "      <th>mean_fit_time</th>\n",
       "      <th>std_fit_time</th>\n",
       "      <th>mean_score_time</th>\n",
       "      <th>std_score_time</th>\n",
       "      <th>param_algorithm</th>\n",
       "      <th>param_learning_rate</th>\n",
       "      <th>params</th>\n",
       "      <th>split0_test_score</th>\n",
       "      <th>split1_test_score</th>\n",
       "      <th>split2_test_score</th>\n",
       "      <th>mean_test_score</th>\n",
       "      <th>std_test_score</th>\n",
       "      <th>rank_test_score</th>\n",
       "    </tr>\n",
       "  </thead>\n",
       "  <tbody>\n",
       "    <tr>\n",
       "      <th>0</th>\n",
       "      <td>73.539399</td>\n",
       "      <td>2.080745</td>\n",
       "      <td>2.318410</td>\n",
       "      <td>0.082864</td>\n",
       "      <td>SAMME</td>\n",
       "      <td>0.2</td>\n",
       "      <td>{'algorithm': 'SAMME', 'learning_rate': 0.2}</td>\n",
       "      <td>0.335944</td>\n",
       "      <td>0.417611</td>\n",
       "      <td>0.360111</td>\n",
       "      <td>0.371222</td>\n",
       "      <td>0.034254</td>\n",
       "      <td>10</td>\n",
       "    </tr>\n",
       "    <tr>\n",
       "      <th>1</th>\n",
       "      <td>73.290183</td>\n",
       "      <td>1.863110</td>\n",
       "      <td>2.089718</td>\n",
       "      <td>0.053401</td>\n",
       "      <td>SAMME</td>\n",
       "      <td>0.4</td>\n",
       "      <td>{'algorithm': 'SAMME', 'learning_rate': 0.4}</td>\n",
       "      <td>0.348944</td>\n",
       "      <td>0.435111</td>\n",
       "      <td>0.357833</td>\n",
       "      <td>0.380630</td>\n",
       "      <td>0.038695</td>\n",
       "      <td>9</td>\n",
       "    </tr>\n",
       "    <tr>\n",
       "      <th>2</th>\n",
       "      <td>83.381807</td>\n",
       "      <td>11.981020</td>\n",
       "      <td>2.657237</td>\n",
       "      <td>0.761822</td>\n",
       "      <td>SAMME</td>\n",
       "      <td>0.6</td>\n",
       "      <td>{'algorithm': 'SAMME', 'learning_rate': 0.6}</td>\n",
       "      <td>0.434833</td>\n",
       "      <td>0.467778</td>\n",
       "      <td>0.432833</td>\n",
       "      <td>0.445148</td>\n",
       "      <td>0.016022</td>\n",
       "      <td>8</td>\n",
       "    </tr>\n",
       "    <tr>\n",
       "      <th>3</th>\n",
       "      <td>114.740146</td>\n",
       "      <td>6.331847</td>\n",
       "      <td>3.048961</td>\n",
       "      <td>0.085427</td>\n",
       "      <td>SAMME</td>\n",
       "      <td>0.8</td>\n",
       "      <td>{'algorithm': 'SAMME', 'learning_rate': 0.8}</td>\n",
       "      <td>0.432667</td>\n",
       "      <td>0.452056</td>\n",
       "      <td>0.520556</td>\n",
       "      <td>0.468426</td>\n",
       "      <td>0.037702</td>\n",
       "      <td>6</td>\n",
       "    </tr>\n",
       "    <tr>\n",
       "      <th>4</th>\n",
       "      <td>106.102770</td>\n",
       "      <td>2.750387</td>\n",
       "      <td>2.886651</td>\n",
       "      <td>0.080506</td>\n",
       "      <td>SAMME</td>\n",
       "      <td>1</td>\n",
       "      <td>{'algorithm': 'SAMME', 'learning_rate': 1}</td>\n",
       "      <td>0.505611</td>\n",
       "      <td>0.386000</td>\n",
       "      <td>0.450556</td>\n",
       "      <td>0.447389</td>\n",
       "      <td>0.048882</td>\n",
       "      <td>7</td>\n",
       "    </tr>\n",
       "    <tr>\n",
       "      <th>5</th>\n",
       "      <td>105.927896</td>\n",
       "      <td>5.614227</td>\n",
       "      <td>3.199108</td>\n",
       "      <td>0.066224</td>\n",
       "      <td>SAMME.R</td>\n",
       "      <td>0.2</td>\n",
       "      <td>{'algorithm': 'SAMME.R', 'learning_rate': 0.2}</td>\n",
       "      <td>0.549667</td>\n",
       "      <td>0.532278</td>\n",
       "      <td>0.532889</td>\n",
       "      <td>0.538278</td>\n",
       "      <td>0.008057</td>\n",
       "      <td>4</td>\n",
       "    </tr>\n",
       "    <tr>\n",
       "      <th>6</th>\n",
       "      <td>102.889835</td>\n",
       "      <td>4.430137</td>\n",
       "      <td>3.164227</td>\n",
       "      <td>0.015798</td>\n",
       "      <td>SAMME.R</td>\n",
       "      <td>0.4</td>\n",
       "      <td>{'algorithm': 'SAMME.R', 'learning_rate': 0.4}</td>\n",
       "      <td>0.532111</td>\n",
       "      <td>0.578667</td>\n",
       "      <td>0.586889</td>\n",
       "      <td>0.565889</td>\n",
       "      <td>0.024119</td>\n",
       "      <td>2</td>\n",
       "    </tr>\n",
       "    <tr>\n",
       "      <th>7</th>\n",
       "      <td>105.244789</td>\n",
       "      <td>3.058490</td>\n",
       "      <td>3.321320</td>\n",
       "      <td>0.151606</td>\n",
       "      <td>SAMME.R</td>\n",
       "      <td>0.6</td>\n",
       "      <td>{'algorithm': 'SAMME.R', 'learning_rate': 0.6}</td>\n",
       "      <td>0.480889</td>\n",
       "      <td>0.585667</td>\n",
       "      <td>0.569889</td>\n",
       "      <td>0.545481</td>\n",
       "      <td>0.046126</td>\n",
       "      <td>3</td>\n",
       "    </tr>\n",
       "    <tr>\n",
       "      <th>8</th>\n",
       "      <td>104.077906</td>\n",
       "      <td>6.590998</td>\n",
       "      <td>3.102113</td>\n",
       "      <td>0.530978</td>\n",
       "      <td>SAMME.R</td>\n",
       "      <td>0.8</td>\n",
       "      <td>{'algorithm': 'SAMME.R', 'learning_rate': 0.8}</td>\n",
       "      <td>0.598389</td>\n",
       "      <td>0.549944</td>\n",
       "      <td>0.583889</td>\n",
       "      <td>0.577407</td>\n",
       "      <td>0.020301</td>\n",
       "      <td>1</td>\n",
       "    </tr>\n",
       "    <tr>\n",
       "      <th>9</th>\n",
       "      <td>74.320442</td>\n",
       "      <td>1.722641</td>\n",
       "      <td>2.293600</td>\n",
       "      <td>0.136264</td>\n",
       "      <td>SAMME.R</td>\n",
       "      <td>1</td>\n",
       "      <td>{'algorithm': 'SAMME.R', 'learning_rate': 1}</td>\n",
       "      <td>0.507333</td>\n",
       "      <td>0.433389</td>\n",
       "      <td>0.504444</td>\n",
       "      <td>0.481722</td>\n",
       "      <td>0.034197</td>\n",
       "      <td>5</td>\n",
       "    </tr>\n",
       "  </tbody>\n",
       "</table>\n",
       "</div>"
      ],
      "text/plain": [
       "   mean_fit_time  std_fit_time  mean_score_time  std_score_time  \\\n",
       "0      73.539399      2.080745         2.318410        0.082864   \n",
       "1      73.290183      1.863110         2.089718        0.053401   \n",
       "2      83.381807     11.981020         2.657237        0.761822   \n",
       "3     114.740146      6.331847         3.048961        0.085427   \n",
       "4     106.102770      2.750387         2.886651        0.080506   \n",
       "5     105.927896      5.614227         3.199108        0.066224   \n",
       "6     102.889835      4.430137         3.164227        0.015798   \n",
       "7     105.244789      3.058490         3.321320        0.151606   \n",
       "8     104.077906      6.590998         3.102113        0.530978   \n",
       "9      74.320442      1.722641         2.293600        0.136264   \n",
       "\n",
       "  param_algorithm param_learning_rate  \\\n",
       "0           SAMME                 0.2   \n",
       "1           SAMME                 0.4   \n",
       "2           SAMME                 0.6   \n",
       "3           SAMME                 0.8   \n",
       "4           SAMME                   1   \n",
       "5         SAMME.R                 0.2   \n",
       "6         SAMME.R                 0.4   \n",
       "7         SAMME.R                 0.6   \n",
       "8         SAMME.R                 0.8   \n",
       "9         SAMME.R                   1   \n",
       "\n",
       "                                           params  split0_test_score  \\\n",
       "0    {'algorithm': 'SAMME', 'learning_rate': 0.2}           0.335944   \n",
       "1    {'algorithm': 'SAMME', 'learning_rate': 0.4}           0.348944   \n",
       "2    {'algorithm': 'SAMME', 'learning_rate': 0.6}           0.434833   \n",
       "3    {'algorithm': 'SAMME', 'learning_rate': 0.8}           0.432667   \n",
       "4      {'algorithm': 'SAMME', 'learning_rate': 1}           0.505611   \n",
       "5  {'algorithm': 'SAMME.R', 'learning_rate': 0.2}           0.549667   \n",
       "6  {'algorithm': 'SAMME.R', 'learning_rate': 0.4}           0.532111   \n",
       "7  {'algorithm': 'SAMME.R', 'learning_rate': 0.6}           0.480889   \n",
       "8  {'algorithm': 'SAMME.R', 'learning_rate': 0.8}           0.598389   \n",
       "9    {'algorithm': 'SAMME.R', 'learning_rate': 1}           0.507333   \n",
       "\n",
       "   split1_test_score  split2_test_score  mean_test_score  std_test_score  \\\n",
       "0           0.417611           0.360111         0.371222        0.034254   \n",
       "1           0.435111           0.357833         0.380630        0.038695   \n",
       "2           0.467778           0.432833         0.445148        0.016022   \n",
       "3           0.452056           0.520556         0.468426        0.037702   \n",
       "4           0.386000           0.450556         0.447389        0.048882   \n",
       "5           0.532278           0.532889         0.538278        0.008057   \n",
       "6           0.578667           0.586889         0.565889        0.024119   \n",
       "7           0.585667           0.569889         0.545481        0.046126   \n",
       "8           0.549944           0.583889         0.577407        0.020301   \n",
       "9           0.433389           0.504444         0.481722        0.034197   \n",
       "\n",
       "   rank_test_score  \n",
       "0               10  \n",
       "1                9  \n",
       "2                8  \n",
       "3                6  \n",
       "4                7  \n",
       "5                4  \n",
       "6                2  \n",
       "7                3  \n",
       "8                1  \n",
       "9                5  "
      ]
     },
     "execution_count": 256,
     "metadata": {},
     "output_type": "execute_result"
    }
   ],
   "source": [
    "ADA_grid_frame = pd.DataFrame(ADA_grid.cv_results_)\n",
    "ADA_grid_frame"
   ]
  },
  {
   "cell_type": "code",
   "execution_count": 257,
   "metadata": {},
   "outputs": [
    {
     "name": "stderr",
     "output_type": "stream",
     "text": [
      "<ipython-input-252-0021ad43d24d>:18: MatplotlibDeprecationWarning: Adding an axes using the same arguments as a previous axes currently reuses the earlier instance.  In a future version, a new instance will always be created and returned.  Meanwhile, this warning can be suppressed, and the future behavior ensured, by passing a unique label to each axes instance.\n",
      "  ax = plt.axes()\n"
     ]
    },
    {
     "data": {
      "image/png": "[encoded data removed]",
      "text/plain": [
       "<Figure size 1728x576 with 1 Axes>"
      ]
     },
     "metadata": {},
     "output_type": "display_data"
    },
    {
     "name": "stdout",
     "output_type": "stream",
     "text": [
      "Best ADA-boost model: {'algorithm': 'SAMME.R', 'learning_rate': 0.8} with an accuracy of 0.5774074074074075\n"
     ]
    }
   ],
   "source": [
    "plot_grid_results(\"ADA-boost\", grid_data = ADA_grid_frame, grid_model = ADA_grid)"
   ]
  },
  {
   "cell_type": "code",
   "execution_count": 87,
   "metadata": {},
   "outputs": [
    {
     "name": "stdout",
     "output_type": "stream",
     "text": [
      "Best Ada-boost estimator: AdaBoostClassifier(learning_rate=0.8, random_state=42) with a score of: 0.5774074074074075\n"
     ]
    }
   ],
   "source": [
    "# print(\"Best Ada-boost estimator:\", ADA_grid.best_estimator_,\"with a score of:\",ADA_grid.best_score_)"
   ]
  },
  {
   "cell_type": "markdown",
   "metadata": {},
   "source": [
    "## Pixel Importance using RandomForestClassifier"
   ]
  },
  {
   "cell_type": "code",
   "execution_count": 38,
   "metadata": {},
   "outputs": [
    {
     "name": "stdout",
     "output_type": "stream",
     "text": [
      "Random forest score: 0.8843333333333333\n"
     ]
    },
    {
     "data": {
      "image/png": "[encoded data removed]",
      "text/plain": [
       "<Figure size 288x288 with 2 Axes>"
      ]
     },
     "metadata": {
      "needs_background": "light"
     },
     "output_type": "display_data"
    }
   ],
   "source": [
    "from sklearn.ensemble import RandomForestClassifier\n",
    "\n",
    "forest = RandomForestClassifier(n_estimators=100, random_state=42, n_jobs = os.cpu_count() - 1)\n",
    "forest.fit(X_train, y_train)\n",
    "\n",
    "print(\"Random forest score:\",forest.score(X_test, y_test))\n",
    "#cv_scores = cross_val_score(forest, X_train, y_train, cv=5)\n",
    "#print(cv_scores)\n",
    "#print(\"cv_scores mean: \" + str(np.mean(cv_scores)))\n",
    "    \n",
    "importances = forest.feature_importances_\n",
    "imp_reshaped = importances.reshape((28, 28))\n",
    "plt.matshow(imp_reshaped, cmap=plt.cm.hot)\n",
    "plt.title(\"Pixel importances using impurity values\")\n",
    "plt.colorbar()\n",
    "plt.show()"
   ]
  },
  {
   "cell_type": "code",
   "execution_count": 39,
   "metadata": {
    "scrolled": true
   },
   "outputs": [
    {
     "name": "stdout",
     "output_type": "stream",
     "text": [
      "602    0.009314\n",
      "406    0.009002\n",
      "262    0.008466\n",
      "518    0.008224\n",
      "434    0.007911\n",
      "         ...   \n",
      "591    0.000444\n",
      "486    0.000444\n",
      "485    0.000443\n",
      "732    0.000443\n",
      "696    0.000441\n",
      "Length: 600, dtype: float64\n"
     ]
    }
   ],
   "source": [
    "features = pd.Series(forest.feature_importances_, index=range(784))\n",
    "top_features = features.sort_values(ascending=False).head(600)\n",
    "print(top_features)\n",
    "top_features = top_features.index.values.tolist()"
   ]
  },
  {
   "cell_type": "code",
   "execution_count": 44,
   "metadata": {
    "scrolled": true
   },
   "outputs": [],
   "source": [
    "#Create a new dataframe where samples have the 600 most important pixels\n",
    "top_data = data.iloc[:, top_features]\n",
    "top_data = pd.concat([top_data, labelDF], axis = 1)\n",
    "X_top_data = top_data.drop(['Label'], axis = 1).values\n",
    "y_top_data = top_data['Label'].values\n",
    "X_top_data_train, X_top_data_test, y_top_data_train, y_top_data_test = train_test_split(X_top_data, y_top_data, test_size = 0.15, random_state = 42)"
   ]
  },
  {
   "cell_type": "code",
   "execution_count": 49,
   "metadata": {},
   "outputs": [
    {
     "name": "stdout",
     "output_type": "stream",
     "text": [
      "Random forest score after cropping out not important pixels: 0.879\n"
     ]
    }
   ],
   "source": [
    "forest = RandomForestClassifier(n_estimators=100, random_state=42)\n",
    "forest.fit(X_top_data_train, y_top_data_train)\n",
    "print(\"Random forest score after cropping out not important pixels:\",forest.score(X_top_data_test, y_top_data_test))\n",
    "#cv_scores = cross_val_score(forest, X_top_data_train, y_top_data_train, cv=5)\n",
    "#print(cv_scores)\n",
    "#print(\"cv_scores mean: \" + str(np.mean(cv_scores)))"
   ]
  },
  {
   "cell_type": "code",
   "execution_count": null,
   "metadata": {},
   "outputs": [],
   "source": [
    "#plot_image(123,X_top_data,shape = int(601**0.5))"
   ]
  },
  {
   "cell_type": "code",
   "execution_count": null,
   "metadata": {},
   "outputs": [],
   "source": [
    "unique, counts = np.unique(y_top_data_test, return_counts=True)\n",
    "dict(zip(unique, counts))"
   ]
  },
  {
   "cell_type": "markdown",
   "metadata": {},
   "source": [
    "## Using new datafame on previous models"
   ]
  },
  {
   "cell_type": "markdown",
   "metadata": {},
   "source": [
    "## *KNN-improved data*"
   ]
  },
  {
   "cell_type": "code",
   "execution_count": null,
   "metadata": {},
   "outputs": [],
   "source": [
    "KNN_model.fit(X_top_data_train, y_top_data_train)"
   ]
  },
  {
   "cell_type": "code",
   "execution_count": null,
   "metadata": {},
   "outputs": [],
   "source": [
    "print(\"Improved data KNN score:\",KNN_model.score(X_top_data_test, y_top_data_test))"
   ]
  },
  {
   "cell_type": "markdown",
   "metadata": {},
   "source": [
    "## *Decision tree-improved data*"
   ]
  },
  {
   "cell_type": "code",
   "execution_count": null,
   "metadata": {},
   "outputs": [],
   "source": [
    "decision_tree_model.fit(X_top_data_train, y_top_data_train)"
   ]
  },
  {
   "cell_type": "code",
   "execution_count": null,
   "metadata": {},
   "outputs": [],
   "source": [
    "print(\"Improved data decision tree model score:\",decision_tree_model.score(X_top_data_test, y_top_data_test))"
   ]
  },
  {
   "cell_type": "code",
   "execution_count": null,
   "metadata": {},
   "outputs": [],
   "source": [
    "confusion_matrix = ConfusionMatrixDisplay.from_estimator(decision_tree_model, X_top_data_test, y_top_data_test)"
   ]
  },
  {
   "cell_type": "code",
   "execution_count": null,
   "metadata": {},
   "outputs": [],
   "source": []
  }
 ],
 "metadata": {
  "kernelspec": {
   "display_name": "Python 3",
   "language": "python",
   "name": "python3"
  },
  "language_info": {
   "codemirror_mode": {
    "name": "ipython",
    "version": 3
   },
   "file_extension": ".py",
   "mimetype": "text/x-python",
   "name": "python",
   "nbconvert_exporter": "python",
   "pygments_lexer": "ipython3",
   "version": "3.8.5"
  }
 },
 "nbformat": 4,
 "nbformat_minor": 4
}
