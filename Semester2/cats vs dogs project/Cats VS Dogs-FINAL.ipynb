{
 "cells": [
  {
   "cell_type": "code",
   "execution_count": 1,
   "metadata": {},
   "outputs": [],
   "source": [
    "import os\n",
    "import numpy as np\n",
    "import matplotlib.pyplot as plt\n",
    "import pandas as pd\n",
    "from numba import jit\n",
    "import cv2\n",
    "import math\n",
    "\n",
    "from IPython.display import clear_output\n",
    "from sklearn.preprocessing import LabelEncoder\n",
    "from IPython.core import display as ICD\n",
    "from sklearn.pipeline import Pipeline\n",
    "from sklearn.pipeline import make_pipeline\n",
    "from sklearn.preprocessing import StandardScaler\n",
    "from sklearn.model_selection import cross_val_score\n",
    "from sklearn.model_selection import cross_validate\n",
    "from sklearn.linear_model import LogisticRegression\n",
    "from sklearn.linear_model import SGDClassifier\n",
    "from sklearn.ensemble import RandomForestClassifier\n",
    "from sklearn.ensemble import GradientBoostingClassifier\n",
    "from sklearn.naive_bayes import GaussianNB\n",
    "\n",
    "plt.style.use(\"seaborn\")\n",
    "\n",
    "import warnings\n",
    "warnings.filterwarnings(\"ignore\")"
   ]
  },
  {
   "cell_type": "code",
   "execution_count": 2,
   "metadata": {},
   "outputs": [
    {
     "name": "stdout",
     "output_type": "stream",
     "text": [
      "C:\\Users\\eliko\\Desktop\\Data_science_project\\Project\\data visualization project\\cats vs dogs project\n"
     ]
    }
   ],
   "source": [
    "import sys, os\n",
    "script_dir = sys.path[0]\n",
    "print(script_dir)"
   ]
  },
  {
   "cell_type": "code",
   "execution_count": 3,
   "metadata": {},
   "outputs": [
    {
     "name": "stdout",
     "output_type": "stream",
     "text": [
      "Train path: C:\\Users\\eliko\\Desktop\\Data_science_project\\Project\\data visualization project\\cats vs dogs project\\train\n",
      "\n",
      "Test path: C:\\Users\\eliko\\Desktop\\Data_science_project\\Project\\data visualization project\\cats vs dogs project\\test1\n",
      "\n",
      "Modified train path: C:\\Users\\eliko\\Desktop\\Data_science_project\\Project\\data visualization project\\cats vs dogs project\\train_modified\n",
      "\n",
      "Modified test path: C:\\Users\\eliko\\Desktop\\Data_science_project\\Project\\data visualization project\\cats vs dogs project\\test_modified\n"
     ]
    }
   ],
   "source": [
    "#Constant zone\n",
    "IMG_PATH_TRAIN = os.path.join(script_dir+r'\\train')\n",
    "IMG_PATH_TEST = os.path.join(script_dir+r'\\test1')\n",
    "IMG_PATH_TRAIN_MOD = os.path.join(script_dir+r'\\train_modified')\n",
    "IMG_PATH_TEST_MOD = os.path.join(script_dir+r'\\test_modified')\n",
    "print(\"Train path:\",IMG_PATH_TRAIN+\"\\n\")\n",
    "print(\"Test path:\",IMG_PATH_TEST+\"\\n\")\n",
    "print(\"Modified train path:\",IMG_PATH_TRAIN_MOD+\"\\n\")\n",
    "print(\"Modified test path:\",IMG_PATH_TEST_MOD)\n",
    "\n",
    "MODIFIED_WIDTH = 100\n",
    "MODIFIED_HEIGHT = 100\n",
    "\n",
    "COLOR = 'white'\n",
    "plt.rcParams['text.color'] = COLOR\n",
    "plt.rcParams['axes.labelcolor'] = COLOR\n",
    "plt.rcParams['xtick.color'] = COLOR\n",
    "plt.rcParams['ytick.color'] = COLOR\n",
    "plt.rcParams['figure.facecolor'] = 'black'\n",
    "\n",
    "plt.rc('axes', titlesize=25) #fontsize of the title\n",
    "plt.rc('axes', labelsize=19) #fontsize of the x and y labels\n",
    "plt.rc('xtick', labelsize=19) #fontsize of the x tick labels\n",
    "plt.rc('ytick', labelsize=19) #fontsize of the y tick labels"
   ]
  },
  {
   "cell_type": "code",
   "execution_count": 4,
   "metadata": {},
   "outputs": [],
   "source": [
    "#Function zone\n",
    "\n",
    "def modify_img(image, new_width, new_height): #Modifies an image according to chosen parameters\n",
    "    gray_img = cv2.cvtColor(image, cv2.COLOR_BGR2GRAY)\n",
    "    modified_img = cv2.resize(gray_img, (new_width, new_height))\n",
    "    return modified_img\n",
    "\n",
    "def read_img(picture_path, filename): #Reads file from path\n",
    "    return cv2.imread(picture_path+\"/\"+filename, -1)\n",
    "\n",
    "def write_img(destination_path, filename, image): #Writes new file to given path\n",
    "    cv2.imwrite(destination_path+\"/\"+filename, image)\n",
    "     \n",
    "def modify_train(): #Modifies the train data and writes it to the appropriate directory\n",
    "    count = 0\n",
    "    for f in os.listdir(IMG_PATH_TRAIN):\n",
    "        img = read_img(picture_path = IMG_PATH_TRAIN, filename = f)\n",
    "        mod_img = modify_img(img, new_width = MODIFIED_WIDTH, new_height = MODIFIED_HEIGHT)\n",
    "        write_img(destination_path = IMG_PATH_TRAIN_MOD, filename = f, image = mod_img)\n",
    "        msg = \"Modified {0}% of training data\".format(int(count/250))\n",
    "        print(msg)\n",
    "        clear_output(wait=True)\n",
    "        count += 1\n",
    "\n",
    "    print(\"Train data modification complete\")\n",
    "    \n",
    "def modify_test(): #Modifies the test data and writes it to the appropriate directory\n",
    "    count = 0\n",
    "    for f in os.listdir(IMG_PATH_TEST):\n",
    "        img = read_img(picture_path = IMG_PATH_TEST, filename = f)\n",
    "        mod_img = modify_img(img, new_width = MODIFIED_WIDTH, new_height = MODIFIED_HEIGHT)\n",
    "        write_img(destination_path = IMG_PATH_TEST_MOD, filename = f, image = mod_img)\n",
    "        msg = \"Modified {0}% of testing data\".format(int(count/250))\n",
    "        print(msg)\n",
    "        clear_output(wait=True)\n",
    "        count += 1\n",
    "\n",
    "    print(\"Test data modification complete\")\n",
    "      \n",
    "@jit(nogil = True)\n",
    "def images_to_df_train(): #Returns dataframe of the train files\n",
    "    train_array = np.ndarray(shape = (0,MODIFIED_WIDTH,MODIFIED_HEIGHT), dtype= 'uint8')\n",
    "    label_names = []\n",
    "    count = 0\n",
    "    for f in os.listdir(IMG_PATH_TRAIN_MOD):\n",
    "        img = read_img(picture_path = IMG_PATH_TRAIN_MOD, filename = f)\n",
    "        train_array = np.insert(train_array, count , img.reshape((1,MODIFIED_WIDTH,MODIFIED_HEIGHT)), axis = 0)\n",
    "        label_names.append(f.split('.')[0])\n",
    "        msg = \"Loaded {0} images. {1}%\".format(count, count/250)\n",
    "        print(msg)\n",
    "\n",
    "        clear_output(wait=True)\n",
    "        count += 1\n",
    "    print(\"Data loading complete\")\n",
    "    \n",
    "    train_df = pd.DataFrame(data = train_array.reshape(25000, MODIFIED_WIDTH*MODIFIED_HEIGHT))\n",
    "    label_df = pd.DataFrame(data = label_names, columns = ['label'])\n",
    "    label_df.insert(loc=0, column='Label', value=LabelEncoder().fit_transform(label_df['label']))\n",
    "    label_df = label_df.drop(columns = ['label'])\n",
    "    train_final = pd.concat([train_df, label_df], axis = 1)\n",
    "    print(\"Train dataframe loading complete\")\n",
    "    return train_final\n",
    "\n",
    "@jit(nogil = True)\n",
    "def images_to_df_test(): #Returns dataframe of the test files\n",
    "    test_array = np.ndarray(shape = (0,MODIFIED_WIDTH,MODIFIED_HEIGHT), dtype= 'uint8')\n",
    "    count = 0\n",
    "    for f in os.listdir(IMG_PATH_TEST_MOD):\n",
    "        img = read_img(picture_path = IMG_PATH_TEST_MOD, filename = f)\n",
    "        test_array = np.insert(test_array, count , img.reshape((1,MODIFIED_WIDTH,MODIFIED_HEIGHT)), axis = 0)\n",
    "        msg = \"Loaded {0} images. {1}%\".format(count, count/125)\n",
    "        print(msg)\n",
    "\n",
    "        clear_output(wait=True)\n",
    "        count += 1\n",
    "    print(\"Data loading complete\")\n",
    "    test_df = pd.DataFrame(data = test_array.reshape(12500, MODIFIED_WIDTH*MODIFIED_HEIGHT))\n",
    "    print(\"Test dataframe loading complete\")\n",
    "    return test_df"
   ]
  },
  {
   "cell_type": "code",
   "execution_count": 5,
   "metadata": {},
   "outputs": [
    {
     "name": "stdout",
     "output_type": "stream",
     "text": [
      "Train data modification complete\n",
      "Wall time: 1min 44s\n"
     ]
    }
   ],
   "source": [
    "%%time\n",
    "modify_train()"
   ]
  },
  {
   "cell_type": "code",
   "execution_count": 6,
   "metadata": {},
   "outputs": [
    {
     "name": "stdout",
     "output_type": "stream",
     "text": [
      "Data loading complete\n",
      "Train dataframe loading complete\n",
      "Wall time: 12min 20s\n"
     ]
    }
   ],
   "source": [
    "%%time\n",
    "train_df = images_to_df_train()"
   ]
  },
  {
   "cell_type": "code",
   "execution_count": 7,
   "metadata": {},
   "outputs": [
    {
     "data": {
      "text/html": [
       "<div>\n",
       "<style scoped>\n",
       "    .dataframe tbody tr th:only-of-type {\n",
       "        vertical-align: middle;\n",
       "    }\n",
       "\n",
       "    .dataframe tbody tr th {\n",
       "        vertical-align: top;\n",
       "    }\n",
       "\n",
       "    .dataframe thead th {\n",
       "        text-align: right;\n",
       "    }\n",
       "</style>\n",
       "<table border=\"1\" class=\"dataframe\">\n",
       "  <thead>\n",
       "    <tr style=\"text-align: right;\">\n",
       "      <th></th>\n",
       "      <th>0</th>\n",
       "      <th>1</th>\n",
       "      <th>2</th>\n",
       "      <th>3</th>\n",
       "      <th>4</th>\n",
       "      <th>5</th>\n",
       "      <th>6</th>\n",
       "      <th>7</th>\n",
       "      <th>8</th>\n",
       "      <th>9</th>\n",
       "      <th>...</th>\n",
       "      <th>9991</th>\n",
       "      <th>9992</th>\n",
       "      <th>9993</th>\n",
       "      <th>9994</th>\n",
       "      <th>9995</th>\n",
       "      <th>9996</th>\n",
       "      <th>9997</th>\n",
       "      <th>9998</th>\n",
       "      <th>9999</th>\n",
       "      <th>Label</th>\n",
       "    </tr>\n",
       "  </thead>\n",
       "  <tbody>\n",
       "    <tr>\n",
       "      <th>0</th>\n",
       "      <td>168</td>\n",
       "      <td>173</td>\n",
       "      <td>178</td>\n",
       "      <td>181</td>\n",
       "      <td>185</td>\n",
       "      <td>188</td>\n",
       "      <td>190</td>\n",
       "      <td>193</td>\n",
       "      <td>196</td>\n",
       "      <td>198</td>\n",
       "      <td>...</td>\n",
       "      <td>3</td>\n",
       "      <td>3</td>\n",
       "      <td>2</td>\n",
       "      <td>2</td>\n",
       "      <td>2</td>\n",
       "      <td>2</td>\n",
       "      <td>2</td>\n",
       "      <td>2</td>\n",
       "      <td>2</td>\n",
       "      <td>0</td>\n",
       "    </tr>\n",
       "    <tr>\n",
       "      <th>1</th>\n",
       "      <td>44</td>\n",
       "      <td>43</td>\n",
       "      <td>43</td>\n",
       "      <td>42</td>\n",
       "      <td>52</td>\n",
       "      <td>32</td>\n",
       "      <td>53</td>\n",
       "      <td>38</td>\n",
       "      <td>41</td>\n",
       "      <td>60</td>\n",
       "      <td>...</td>\n",
       "      <td>51</td>\n",
       "      <td>49</td>\n",
       "      <td>50</td>\n",
       "      <td>55</td>\n",
       "      <td>61</td>\n",
       "      <td>62</td>\n",
       "      <td>90</td>\n",
       "      <td>18</td>\n",
       "      <td>34</td>\n",
       "      <td>0</td>\n",
       "    </tr>\n",
       "    <tr>\n",
       "      <th>2</th>\n",
       "      <td>38</td>\n",
       "      <td>27</td>\n",
       "      <td>42</td>\n",
       "      <td>50</td>\n",
       "      <td>46</td>\n",
       "      <td>56</td>\n",
       "      <td>59</td>\n",
       "      <td>55</td>\n",
       "      <td>54</td>\n",
       "      <td>58</td>\n",
       "      <td>...</td>\n",
       "      <td>160</td>\n",
       "      <td>148</td>\n",
       "      <td>135</td>\n",
       "      <td>132</td>\n",
       "      <td>148</td>\n",
       "      <td>159</td>\n",
       "      <td>168</td>\n",
       "      <td>171</td>\n",
       "      <td>153</td>\n",
       "      <td>0</td>\n",
       "    </tr>\n",
       "    <tr>\n",
       "      <th>3</th>\n",
       "      <td>220</td>\n",
       "      <td>224</td>\n",
       "      <td>223</td>\n",
       "      <td>227</td>\n",
       "      <td>229</td>\n",
       "      <td>223</td>\n",
       "      <td>225</td>\n",
       "      <td>234</td>\n",
       "      <td>229</td>\n",
       "      <td>226</td>\n",
       "      <td>...</td>\n",
       "      <td>212</td>\n",
       "      <td>205</td>\n",
       "      <td>204</td>\n",
       "      <td>202</td>\n",
       "      <td>214</td>\n",
       "      <td>222</td>\n",
       "      <td>215</td>\n",
       "      <td>212</td>\n",
       "      <td>213</td>\n",
       "      <td>0</td>\n",
       "    </tr>\n",
       "    <tr>\n",
       "      <th>4</th>\n",
       "      <td>118</td>\n",
       "      <td>117</td>\n",
       "      <td>123</td>\n",
       "      <td>91</td>\n",
       "      <td>82</td>\n",
       "      <td>95</td>\n",
       "      <td>132</td>\n",
       "      <td>131</td>\n",
       "      <td>149</td>\n",
       "      <td>179</td>\n",
       "      <td>...</td>\n",
       "      <td>95</td>\n",
       "      <td>96</td>\n",
       "      <td>91</td>\n",
       "      <td>102</td>\n",
       "      <td>121</td>\n",
       "      <td>96</td>\n",
       "      <td>89</td>\n",
       "      <td>92</td>\n",
       "      <td>81</td>\n",
       "      <td>0</td>\n",
       "    </tr>\n",
       "    <tr>\n",
       "      <th>...</th>\n",
       "      <td>...</td>\n",
       "      <td>...</td>\n",
       "      <td>...</td>\n",
       "      <td>...</td>\n",
       "      <td>...</td>\n",
       "      <td>...</td>\n",
       "      <td>...</td>\n",
       "      <td>...</td>\n",
       "      <td>...</td>\n",
       "      <td>...</td>\n",
       "      <td>...</td>\n",
       "      <td>...</td>\n",
       "      <td>...</td>\n",
       "      <td>...</td>\n",
       "      <td>...</td>\n",
       "      <td>...</td>\n",
       "      <td>...</td>\n",
       "      <td>...</td>\n",
       "      <td>...</td>\n",
       "      <td>...</td>\n",
       "      <td>...</td>\n",
       "    </tr>\n",
       "    <tr>\n",
       "      <th>24995</th>\n",
       "      <td>140</td>\n",
       "      <td>142</td>\n",
       "      <td>143</td>\n",
       "      <td>145</td>\n",
       "      <td>146</td>\n",
       "      <td>147</td>\n",
       "      <td>148</td>\n",
       "      <td>149</td>\n",
       "      <td>148</td>\n",
       "      <td>149</td>\n",
       "      <td>...</td>\n",
       "      <td>165</td>\n",
       "      <td>166</td>\n",
       "      <td>166</td>\n",
       "      <td>167</td>\n",
       "      <td>168</td>\n",
       "      <td>168</td>\n",
       "      <td>168</td>\n",
       "      <td>168</td>\n",
       "      <td>169</td>\n",
       "      <td>1</td>\n",
       "    </tr>\n",
       "    <tr>\n",
       "      <th>24996</th>\n",
       "      <td>116</td>\n",
       "      <td>78</td>\n",
       "      <td>104</td>\n",
       "      <td>85</td>\n",
       "      <td>97</td>\n",
       "      <td>115</td>\n",
       "      <td>71</td>\n",
       "      <td>83</td>\n",
       "      <td>86</td>\n",
       "      <td>88</td>\n",
       "      <td>...</td>\n",
       "      <td>94</td>\n",
       "      <td>79</td>\n",
       "      <td>99</td>\n",
       "      <td>87</td>\n",
       "      <td>77</td>\n",
       "      <td>85</td>\n",
       "      <td>94</td>\n",
       "      <td>92</td>\n",
       "      <td>76</td>\n",
       "      <td>1</td>\n",
       "    </tr>\n",
       "    <tr>\n",
       "      <th>24997</th>\n",
       "      <td>42</td>\n",
       "      <td>35</td>\n",
       "      <td>47</td>\n",
       "      <td>56</td>\n",
       "      <td>66</td>\n",
       "      <td>48</td>\n",
       "      <td>48</td>\n",
       "      <td>57</td>\n",
       "      <td>60</td>\n",
       "      <td>38</td>\n",
       "      <td>...</td>\n",
       "      <td>133</td>\n",
       "      <td>136</td>\n",
       "      <td>126</td>\n",
       "      <td>72</td>\n",
       "      <td>112</td>\n",
       "      <td>181</td>\n",
       "      <td>128</td>\n",
       "      <td>114</td>\n",
       "      <td>167</td>\n",
       "      <td>1</td>\n",
       "    </tr>\n",
       "    <tr>\n",
       "      <th>24998</th>\n",
       "      <td>254</td>\n",
       "      <td>250</td>\n",
       "      <td>246</td>\n",
       "      <td>235</td>\n",
       "      <td>224</td>\n",
       "      <td>208</td>\n",
       "      <td>187</td>\n",
       "      <td>144</td>\n",
       "      <td>113</td>\n",
       "      <td>74</td>\n",
       "      <td>...</td>\n",
       "      <td>103</td>\n",
       "      <td>104</td>\n",
       "      <td>113</td>\n",
       "      <td>111</td>\n",
       "      <td>112</td>\n",
       "      <td>106</td>\n",
       "      <td>118</td>\n",
       "      <td>115</td>\n",
       "      <td>119</td>\n",
       "      <td>1</td>\n",
       "    </tr>\n",
       "    <tr>\n",
       "      <th>24999</th>\n",
       "      <td>239</td>\n",
       "      <td>241</td>\n",
       "      <td>243</td>\n",
       "      <td>243</td>\n",
       "      <td>242</td>\n",
       "      <td>243</td>\n",
       "      <td>247</td>\n",
       "      <td>250</td>\n",
       "      <td>246</td>\n",
       "      <td>244</td>\n",
       "      <td>...</td>\n",
       "      <td>254</td>\n",
       "      <td>254</td>\n",
       "      <td>254</td>\n",
       "      <td>254</td>\n",
       "      <td>254</td>\n",
       "      <td>254</td>\n",
       "      <td>254</td>\n",
       "      <td>254</td>\n",
       "      <td>254</td>\n",
       "      <td>1</td>\n",
       "    </tr>\n",
       "  </tbody>\n",
       "</table>\n",
       "<p>25000 rows × 10001 columns</p>\n",
       "</div>"
      ],
      "text/plain": [
       "         0    1    2    3    4    5    6    7    8    9  ...  9991  9992  \\\n",
       "0      168  173  178  181  185  188  190  193  196  198  ...     3     3   \n",
       "1       44   43   43   42   52   32   53   38   41   60  ...    51    49   \n",
       "2       38   27   42   50   46   56   59   55   54   58  ...   160   148   \n",
       "3      220  224  223  227  229  223  225  234  229  226  ...   212   205   \n",
       "4      118  117  123   91   82   95  132  131  149  179  ...    95    96   \n",
       "...    ...  ...  ...  ...  ...  ...  ...  ...  ...  ...  ...   ...   ...   \n",
       "24995  140  142  143  145  146  147  148  149  148  149  ...   165   166   \n",
       "24996  116   78  104   85   97  115   71   83   86   88  ...    94    79   \n",
       "24997   42   35   47   56   66   48   48   57   60   38  ...   133   136   \n",
       "24998  254  250  246  235  224  208  187  144  113   74  ...   103   104   \n",
       "24999  239  241  243  243  242  243  247  250  246  244  ...   254   254   \n",
       "\n",
       "       9993  9994  9995  9996  9997  9998  9999  Label  \n",
       "0         2     2     2     2     2     2     2      0  \n",
       "1        50    55    61    62    90    18    34      0  \n",
       "2       135   132   148   159   168   171   153      0  \n",
       "3       204   202   214   222   215   212   213      0  \n",
       "4        91   102   121    96    89    92    81      0  \n",
       "...     ...   ...   ...   ...   ...   ...   ...    ...  \n",
       "24995   166   167   168   168   168   168   169      1  \n",
       "24996    99    87    77    85    94    92    76      1  \n",
       "24997   126    72   112   181   128   114   167      1  \n",
       "24998   113   111   112   106   118   115   119      1  \n",
       "24999   254   254   254   254   254   254   254      1  \n",
       "\n",
       "[25000 rows x 10001 columns]"
      ]
     },
     "execution_count": 7,
     "metadata": {},
     "output_type": "execute_result"
    }
   ],
   "source": [
    "train_df"
   ]
  },
  {
   "cell_type": "code",
   "execution_count": 8,
   "metadata": {},
   "outputs": [
    {
     "name": "stdout",
     "output_type": "stream",
     "text": [
      "Null count in the train dataframe: 0\n",
      "Dataframe shape: (25000, 10001)\n"
     ]
    }
   ],
   "source": [
    "print(\"Null count in the train dataframe:\",train_df.isnull().sum().sum())\n",
    "print(\"Dataframe shape:\",train_df.shape)"
   ]
  },
  {
   "cell_type": "markdown",
   "metadata": {},
   "source": [
    "## Models without unsupervised preprocessing"
   ]
  },
  {
   "cell_type": "markdown",
   "metadata": {},
   "source": [
    "### Dummy model"
   ]
  },
  {
   "cell_type": "code",
   "execution_count": 9,
   "metadata": {},
   "outputs": [],
   "source": [
    "from sklearn.model_selection import train_test_split"
   ]
  },
  {
   "cell_type": "code",
   "execution_count": 10,
   "metadata": {},
   "outputs": [],
   "source": [
    "X = train_df.iloc[:,:-1]\n",
    "y = train_df.iloc[:,-1:]"
   ]
  },
  {
   "cell_type": "code",
   "execution_count": 11,
   "metadata": {},
   "outputs": [
    {
     "name": "stdout",
     "output_type": "stream",
     "text": [
      "Train shape: (22500, 10000)\n",
      "Test shape: (2500, 1)\n",
      "Test class counts: {0: 1250, 1: 1250}\n"
     ]
    }
   ],
   "source": [
    "X_train, X_test, y_train, y_test = train_test_split(X, y, test_size=0.10, random_state=42, stratify = y)\n",
    "print(\"Train shape:\",X_train.shape)\n",
    "print(\"Test shape:\",y_test.shape)\n",
    "unique, counts = np.unique(y_test, return_counts=True)\n",
    "print(\"Test class counts:\",dict(zip(unique, counts)))"
   ]
  },
  {
   "cell_type": "code",
   "execution_count": 12,
   "metadata": {},
   "outputs": [
    {
     "name": "stdout",
     "output_type": "stream",
     "text": [
      "Dummy model train score: 0.5041333333333333\n",
      "Dummy model test score: 0.4932\n"
     ]
    }
   ],
   "source": [
    "from sklearn.dummy import DummyClassifier\n",
    "dum = DummyClassifier(strategy=\"uniform\")\n",
    "dum.fit(X_train, y_train)\n",
    "print(\"Dummy model train score:\",dum.score(X_train, y_train))\n",
    "print(\"Dummy model test score:\",dum.score(X_test, y_test))"
   ]
  },
  {
   "cell_type": "markdown",
   "metadata": {},
   "source": [
    "## Apply PCA on the data"
   ]
  },
  {
   "cell_type": "code",
   "execution_count": 13,
   "metadata": {},
   "outputs": [],
   "source": [
    "PCA_data = train_df.iloc[:,:-1]\n",
    "PCA_data = pd.DataFrame(StandardScaler().fit_transform(PCA_data))"
   ]
  },
  {
   "cell_type": "code",
   "execution_count": 14,
   "metadata": {},
   "outputs": [],
   "source": [
    "from sklearn.decomposition import PCA"
   ]
  },
  {
   "cell_type": "code",
   "execution_count": 15,
   "metadata": {},
   "outputs": [
    {
     "name": "stdout",
     "output_type": "stream",
     "text": [
      "Wall time: 14min 17s\n"
     ]
    },
    {
     "data": {
      "text/html": [
       "<style>#sk-container-id-1 {color: black;background-color: white;}#sk-container-id-1 pre{padding: 0;}#sk-container-id-1 div.sk-toggleable {background-color: white;}#sk-container-id-1 label.sk-toggleable__label {cursor: pointer;display: block;width: 100%;margin-bottom: 0;padding: 0.3em;box-sizing: border-box;text-align: center;}#sk-container-id-1 label.sk-toggleable__label-arrow:before {content: \"▸\";float: left;margin-right: 0.25em;color: #696969;}#sk-container-id-1 label.sk-toggleable__label-arrow:hover:before {color: black;}#sk-container-id-1 div.sk-estimator:hover label.sk-toggleable__label-arrow:before {color: black;}#sk-container-id-1 div.sk-toggleable__content {max-height: 0;max-width: 0;overflow: hidden;text-align: left;background-color: #f0f8ff;}#sk-container-id-1 div.sk-toggleable__content pre {margin: 0.2em;color: black;border-radius: 0.25em;background-color: #f0f8ff;}#sk-container-id-1 input.sk-toggleable__control:checked~div.sk-toggleable__content {max-height: 200px;max-width: 100%;overflow: auto;}#sk-container-id-1 input.sk-toggleable__control:checked~label.sk-toggleable__label-arrow:before {content: \"▾\";}#sk-container-id-1 div.sk-estimator input.sk-toggleable__control:checked~label.sk-toggleable__label {background-color: #d4ebff;}#sk-container-id-1 div.sk-label input.sk-toggleable__control:checked~label.sk-toggleable__label {background-color: #d4ebff;}#sk-container-id-1 input.sk-hidden--visually {border: 0;clip: rect(1px 1px 1px 1px);clip: rect(1px, 1px, 1px, 1px);height: 1px;margin: -1px;overflow: hidden;padding: 0;position: absolute;width: 1px;}#sk-container-id-1 div.sk-estimator {font-family: monospace;background-color: #f0f8ff;border: 1px dotted black;border-radius: 0.25em;box-sizing: border-box;margin-bottom: 0.5em;}#sk-container-id-1 div.sk-estimator:hover {background-color: #d4ebff;}#sk-container-id-1 div.sk-parallel-item::after {content: \"\";width: 100%;border-bottom: 1px solid gray;flex-grow: 1;}#sk-container-id-1 div.sk-label:hover label.sk-toggleable__label {background-color: #d4ebff;}#sk-container-id-1 div.sk-serial::before {content: \"\";position: absolute;border-left: 1px solid gray;box-sizing: border-box;top: 0;bottom: 0;left: 50%;z-index: 0;}#sk-container-id-1 div.sk-serial {display: flex;flex-direction: column;align-items: center;background-color: white;padding-right: 0.2em;padding-left: 0.2em;position: relative;}#sk-container-id-1 div.sk-item {position: relative;z-index: 1;}#sk-container-id-1 div.sk-parallel {display: flex;align-items: stretch;justify-content: center;background-color: white;position: relative;}#sk-container-id-1 div.sk-item::before, #sk-container-id-1 div.sk-parallel-item::before {content: \"\";position: absolute;border-left: 1px solid gray;box-sizing: border-box;top: 0;bottom: 0;left: 50%;z-index: -1;}#sk-container-id-1 div.sk-parallel-item {display: flex;flex-direction: column;z-index: 1;position: relative;background-color: white;}#sk-container-id-1 div.sk-parallel-item:first-child::after {align-self: flex-end;width: 50%;}#sk-container-id-1 div.sk-parallel-item:last-child::after {align-self: flex-start;width: 50%;}#sk-container-id-1 div.sk-parallel-item:only-child::after {width: 0;}#sk-container-id-1 div.sk-dashed-wrapped {border: 1px dashed gray;margin: 0 0.4em 0.5em 0.4em;box-sizing: border-box;padding-bottom: 0.4em;background-color: white;}#sk-container-id-1 div.sk-label label {font-family: monospace;font-weight: bold;display: inline-block;line-height: 1.2em;}#sk-container-id-1 div.sk-label-container {text-align: center;}#sk-container-id-1 div.sk-container {/* jupyter's `normalize.less` sets `[hidden] { display: none; }` but bootstrap.min.css set `[hidden] { display: none !important; }` so we also need the `!important` here to be able to override the default hidden behavior on the sphinx rendered scikit-learn.org. See: https://github.com/scikit-learn/scikit-learn/issues/21755 */display: inline-block !important;position: relative;}#sk-container-id-1 div.sk-text-repr-fallback {display: none;}</style><div id=\"sk-container-id-1\" class=\"sk-top-container\"><div class=\"sk-text-repr-fallback\"><pre>PCA(n_components=10000, random_state=42, svd_solver=&#x27;randomized&#x27;, whiten=True)</pre><b>In a Jupyter environment, please rerun this cell to show the HTML representation or trust the notebook. <br />On GitHub, the HTML representation is unable to render, please try loading this page with nbviewer.org.</b></div><div class=\"sk-container\" hidden><div class=\"sk-item\"><div class=\"sk-estimator sk-toggleable\"><input class=\"sk-toggleable__control sk-hidden--visually\" id=\"sk-estimator-id-1\" type=\"checkbox\" checked><label for=\"sk-estimator-id-1\" class=\"sk-toggleable__label sk-toggleable__label-arrow\">PCA</label><div class=\"sk-toggleable__content\"><pre>PCA(n_components=10000, random_state=42, svd_solver=&#x27;randomized&#x27;, whiten=True)</pre></div></div></div></div></div>"
      ],
      "text/plain": [
       "PCA(n_components=10000, random_state=42, svd_solver='randomized', whiten=True)"
      ]
     },
     "execution_count": 15,
     "metadata": {},
     "output_type": "execute_result"
    }
   ],
   "source": [
    "%%time\n",
    "pca_model = PCA(n_components=MODIFIED_WIDTH * MODIFIED_HEIGHT,whiten=True,svd_solver = 'randomized', random_state = 42)\n",
    "pca_model.fit(PCA_data)"
   ]
  },
  {
   "cell_type": "code",
   "execution_count": 16,
   "metadata": {},
   "outputs": [
    {
     "data": {
      "text/plain": [
       "Text(0, 0.5, 'Explained variance')"
      ]
     },
     "execution_count": 16,
     "metadata": {},
     "output_type": "execute_result"
    },
    {
     "data": {
      "image/png": "[encoded data removed]",
      "text/plain": [
       "<Figure size 576x396 with 1 Axes>"
      ]
     },
     "metadata": {},
     "output_type": "display_data"
    }
   ],
   "source": [
    "plt.grid(True)\n",
    "plt.plot(np.cumsum(pca_model.explained_variance_ratio_ * 100))\n",
    "plt.title(\"Percentage of explained variance by the number of components\")\n",
    "plt.xlabel('Number of components')\n",
    "plt.ylabel('Explained variance')"
   ]
  },
  {
   "cell_type": "code",
   "execution_count": 17,
   "metadata": {},
   "outputs": [
    {
     "data": {
      "text/html": [
       "<style>#sk-container-id-2 {color: black;background-color: white;}#sk-container-id-2 pre{padding: 0;}#sk-container-id-2 div.sk-toggleable {background-color: white;}#sk-container-id-2 label.sk-toggleable__label {cursor: pointer;display: block;width: 100%;margin-bottom: 0;padding: 0.3em;box-sizing: border-box;text-align: center;}#sk-container-id-2 label.sk-toggleable__label-arrow:before {content: \"▸\";float: left;margin-right: 0.25em;color: #696969;}#sk-container-id-2 label.sk-toggleable__label-arrow:hover:before {color: black;}#sk-container-id-2 div.sk-estimator:hover label.sk-toggleable__label-arrow:before {color: black;}#sk-container-id-2 div.sk-toggleable__content {max-height: 0;max-width: 0;overflow: hidden;text-align: left;background-color: #f0f8ff;}#sk-container-id-2 div.sk-toggleable__content pre {margin: 0.2em;color: black;border-radius: 0.25em;background-color: #f0f8ff;}#sk-container-id-2 input.sk-toggleable__control:checked~div.sk-toggleable__content {max-height: 200px;max-width: 100%;overflow: auto;}#sk-container-id-2 input.sk-toggleable__control:checked~label.sk-toggleable__label-arrow:before {content: \"▾\";}#sk-container-id-2 div.sk-estimator input.sk-toggleable__control:checked~label.sk-toggleable__label {background-color: #d4ebff;}#sk-container-id-2 div.sk-label input.sk-toggleable__control:checked~label.sk-toggleable__label {background-color: #d4ebff;}#sk-container-id-2 input.sk-hidden--visually {border: 0;clip: rect(1px 1px 1px 1px);clip: rect(1px, 1px, 1px, 1px);height: 1px;margin: -1px;overflow: hidden;padding: 0;position: absolute;width: 1px;}#sk-container-id-2 div.sk-estimator {font-family: monospace;background-color: #f0f8ff;border: 1px dotted black;border-radius: 0.25em;box-sizing: border-box;margin-bottom: 0.5em;}#sk-container-id-2 div.sk-estimator:hover {background-color: #d4ebff;}#sk-container-id-2 div.sk-parallel-item::after {content: \"\";width: 100%;border-bottom: 1px solid gray;flex-grow: 1;}#sk-container-id-2 div.sk-label:hover label.sk-toggleable__label {background-color: #d4ebff;}#sk-container-id-2 div.sk-serial::before {content: \"\";position: absolute;border-left: 1px solid gray;box-sizing: border-box;top: 0;bottom: 0;left: 50%;z-index: 0;}#sk-container-id-2 div.sk-serial {display: flex;flex-direction: column;align-items: center;background-color: white;padding-right: 0.2em;padding-left: 0.2em;position: relative;}#sk-container-id-2 div.sk-item {position: relative;z-index: 1;}#sk-container-id-2 div.sk-parallel {display: flex;align-items: stretch;justify-content: center;background-color: white;position: relative;}#sk-container-id-2 div.sk-item::before, #sk-container-id-2 div.sk-parallel-item::before {content: \"\";position: absolute;border-left: 1px solid gray;box-sizing: border-box;top: 0;bottom: 0;left: 50%;z-index: -1;}#sk-container-id-2 div.sk-parallel-item {display: flex;flex-direction: column;z-index: 1;position: relative;background-color: white;}#sk-container-id-2 div.sk-parallel-item:first-child::after {align-self: flex-end;width: 50%;}#sk-container-id-2 div.sk-parallel-item:last-child::after {align-self: flex-start;width: 50%;}#sk-container-id-2 div.sk-parallel-item:only-child::after {width: 0;}#sk-container-id-2 div.sk-dashed-wrapped {border: 1px dashed gray;margin: 0 0.4em 0.5em 0.4em;box-sizing: border-box;padding-bottom: 0.4em;background-color: white;}#sk-container-id-2 div.sk-label label {font-family: monospace;font-weight: bold;display: inline-block;line-height: 1.2em;}#sk-container-id-2 div.sk-label-container {text-align: center;}#sk-container-id-2 div.sk-container {/* jupyter's `normalize.less` sets `[hidden] { display: none; }` but bootstrap.min.css set `[hidden] { display: none !important; }` so we also need the `!important` here to be able to override the default hidden behavior on the sphinx rendered scikit-learn.org. See: https://github.com/scikit-learn/scikit-learn/issues/21755 */display: inline-block !important;position: relative;}#sk-container-id-2 div.sk-text-repr-fallback {display: none;}</style><div id=\"sk-container-id-2\" class=\"sk-top-container\"><div class=\"sk-text-repr-fallback\"><pre>PCA(n_components=0.95, random_state=42, whiten=True)</pre><b>In a Jupyter environment, please rerun this cell to show the HTML representation or trust the notebook. <br />On GitHub, the HTML representation is unable to render, please try loading this page with nbviewer.org.</b></div><div class=\"sk-container\" hidden><div class=\"sk-item\"><div class=\"sk-estimator sk-toggleable\"><input class=\"sk-toggleable__control sk-hidden--visually\" id=\"sk-estimator-id-2\" type=\"checkbox\" checked><label for=\"sk-estimator-id-2\" class=\"sk-toggleable__label sk-toggleable__label-arrow\">PCA</label><div class=\"sk-toggleable__content\"><pre>PCA(n_components=0.95, random_state=42, whiten=True)</pre></div></div></div></div></div>"
      ],
      "text/plain": [
       "PCA(n_components=0.95, random_state=42, whiten=True)"
      ]
     },
     "execution_count": 17,
     "metadata": {},
     "output_type": "execute_result"
    }
   ],
   "source": [
    "pca_model_new = PCA(n_components=0.95,whiten=True, random_state = 42)\n",
    "pca_model_new.fit(PCA_data)"
   ]
  },
  {
   "cell_type": "code",
   "execution_count": 18,
   "metadata": {},
   "outputs": [
    {
     "name": "stdout",
     "output_type": "stream",
     "text": [
      "Fit complete with n_components = 1212\n"
     ]
    }
   ],
   "source": [
    "pca_new_reduced = pca_model_new.transform(PCA_data)\n",
    "print(\"Fit complete with n_components = {0}\".format(pca_model_new.n_components_))\n",
    "pca_recovered = pca_model_new.inverse_transform(pca_new_reduced)"
   ]
  },
  {
   "cell_type": "code",
   "execution_count": 19,
   "metadata": {},
   "outputs": [
    {
     "name": "stdout",
     "output_type": "stream",
     "text": [
      "New dataframe shape: (25000, 1212)\n",
      "New recovered dataframe shape: (25000, 10000)\n"
     ]
    }
   ],
   "source": [
    "print(\"New dataframe shape:\",pca_new_reduced.shape)\n",
    "print(\"New recovered dataframe shape:\",pca_recovered.shape)"
   ]
  },
  {
   "cell_type": "code",
   "execution_count": 20,
   "metadata": {},
   "outputs": [
    {
     "name": "stdout",
     "output_type": "stream",
     "text": [
      "Train shape: (22500, 1212)\n",
      "Test shape: (2500, 1212)\n",
      "Test class counts: {0: 1250, 1: 1250}\n"
     ]
    }
   ],
   "source": [
    "pca_data = pd.DataFrame(pca_new_reduced)\n",
    "# pca_data = pd.DataFrame(StandardScaler().fit_transform(pca_data))\n",
    "pca_data = pd.concat([pca_data, y], axis = 1)\n",
    "X_new = pca_data.iloc[:,:-1]\n",
    "y_new = pca_data.iloc[:,-1:]\n",
    "\n",
    "X_train_new, X_test_new, y_train_new, y_test_new = train_test_split(X_new, y_new, test_size=0.10, random_state=42, stratify = y)\n",
    "print(\"Train shape:\",X_train_new.shape)\n",
    "print(\"Test shape:\",X_test_new.shape)\n",
    "unique, counts = np.unique(y_test_new, return_counts=True)\n",
    "print(\"Test class counts:\",dict(zip(unique, counts)))"
   ]
  },
  {
   "cell_type": "markdown",
   "metadata": {},
   "source": [
    "## Applying models on data after PCA dimensionality reduction"
   ]
  },
  {
   "cell_type": "markdown",
   "metadata": {},
   "source": [
    "### Logistic regression"
   ]
  },
  {
   "cell_type": "code",
   "execution_count": 55,
   "metadata": {},
   "outputs": [
    {
     "name": "stdout",
     "output_type": "stream",
     "text": [
      "Wall time: 4.72 s\n"
     ]
    },
    {
     "data": {
      "text/html": [
       "<style>#sk-container-id-8 {color: black;background-color: white;}#sk-container-id-8 pre{padding: 0;}#sk-container-id-8 div.sk-toggleable {background-color: white;}#sk-container-id-8 label.sk-toggleable__label {cursor: pointer;display: block;width: 100%;margin-bottom: 0;padding: 0.3em;box-sizing: border-box;text-align: center;}#sk-container-id-8 label.sk-toggleable__label-arrow:before {content: \"▸\";float: left;margin-right: 0.25em;color: #696969;}#sk-container-id-8 label.sk-toggleable__label-arrow:hover:before {color: black;}#sk-container-id-8 div.sk-estimator:hover label.sk-toggleable__label-arrow:before {color: black;}#sk-container-id-8 div.sk-toggleable__content {max-height: 0;max-width: 0;overflow: hidden;text-align: left;background-color: #f0f8ff;}#sk-container-id-8 div.sk-toggleable__content pre {margin: 0.2em;color: black;border-radius: 0.25em;background-color: #f0f8ff;}#sk-container-id-8 input.sk-toggleable__control:checked~div.sk-toggleable__content {max-height: 200px;max-width: 100%;overflow: auto;}#sk-container-id-8 input.sk-toggleable__control:checked~label.sk-toggleable__label-arrow:before {content: \"▾\";}#sk-container-id-8 div.sk-estimator input.sk-toggleable__control:checked~label.sk-toggleable__label {background-color: #d4ebff;}#sk-container-id-8 div.sk-label input.sk-toggleable__control:checked~label.sk-toggleable__label {background-color: #d4ebff;}#sk-container-id-8 input.sk-hidden--visually {border: 0;clip: rect(1px 1px 1px 1px);clip: rect(1px, 1px, 1px, 1px);height: 1px;margin: -1px;overflow: hidden;padding: 0;position: absolute;width: 1px;}#sk-container-id-8 div.sk-estimator {font-family: monospace;background-color: #f0f8ff;border: 1px dotted black;border-radius: 0.25em;box-sizing: border-box;margin-bottom: 0.5em;}#sk-container-id-8 div.sk-estimator:hover {background-color: #d4ebff;}#sk-container-id-8 div.sk-parallel-item::after {content: \"\";width: 100%;border-bottom: 1px solid gray;flex-grow: 1;}#sk-container-id-8 div.sk-label:hover label.sk-toggleable__label {background-color: #d4ebff;}#sk-container-id-8 div.sk-serial::before {content: \"\";position: absolute;border-left: 1px solid gray;box-sizing: border-box;top: 0;bottom: 0;left: 50%;z-index: 0;}#sk-container-id-8 div.sk-serial {display: flex;flex-direction: column;align-items: center;background-color: white;padding-right: 0.2em;padding-left: 0.2em;position: relative;}#sk-container-id-8 div.sk-item {position: relative;z-index: 1;}#sk-container-id-8 div.sk-parallel {display: flex;align-items: stretch;justify-content: center;background-color: white;position: relative;}#sk-container-id-8 div.sk-item::before, #sk-container-id-8 div.sk-parallel-item::before {content: \"\";position: absolute;border-left: 1px solid gray;box-sizing: border-box;top: 0;bottom: 0;left: 50%;z-index: -1;}#sk-container-id-8 div.sk-parallel-item {display: flex;flex-direction: column;z-index: 1;position: relative;background-color: white;}#sk-container-id-8 div.sk-parallel-item:first-child::after {align-self: flex-end;width: 50%;}#sk-container-id-8 div.sk-parallel-item:last-child::after {align-self: flex-start;width: 50%;}#sk-container-id-8 div.sk-parallel-item:only-child::after {width: 0;}#sk-container-id-8 div.sk-dashed-wrapped {border: 1px dashed gray;margin: 0 0.4em 0.5em 0.4em;box-sizing: border-box;padding-bottom: 0.4em;background-color: white;}#sk-container-id-8 div.sk-label label {font-family: monospace;font-weight: bold;display: inline-block;line-height: 1.2em;}#sk-container-id-8 div.sk-label-container {text-align: center;}#sk-container-id-8 div.sk-container {/* jupyter's `normalize.less` sets `[hidden] { display: none; }` but bootstrap.min.css set `[hidden] { display: none !important; }` so we also need the `!important` here to be able to override the default hidden behavior on the sphinx rendered scikit-learn.org. See: https://github.com/scikit-learn/scikit-learn/issues/21755 */display: inline-block !important;position: relative;}#sk-container-id-8 div.sk-text-repr-fallback {display: none;}</style><div id=\"sk-container-id-8\" class=\"sk-top-container\"><div class=\"sk-text-repr-fallback\"><pre>LogisticRegression(class_weight=&#x27;balanced&#x27;, multi_class=&#x27;ovr&#x27;, n_jobs=11,\n",
       "                   random_state=42, solver=&#x27;saga&#x27;)</pre><b>In a Jupyter environment, please rerun this cell to show the HTML representation or trust the notebook. <br />On GitHub, the HTML representation is unable to render, please try loading this page with nbviewer.org.</b></div><div class=\"sk-container\" hidden><div class=\"sk-item\"><div class=\"sk-estimator sk-toggleable\"><input class=\"sk-toggleable__control sk-hidden--visually\" id=\"sk-estimator-id-14\" type=\"checkbox\" checked><label for=\"sk-estimator-id-14\" class=\"sk-toggleable__label sk-toggleable__label-arrow\">LogisticRegression</label><div class=\"sk-toggleable__content\"><pre>LogisticRegression(class_weight=&#x27;balanced&#x27;, multi_class=&#x27;ovr&#x27;, n_jobs=11,\n",
       "                   random_state=42, solver=&#x27;saga&#x27;)</pre></div></div></div></div></div>"
      ],
      "text/plain": [
       "LogisticRegression(class_weight='balanced', multi_class='ovr', n_jobs=11,\n",
       "                   random_state=42, solver='saga')"
      ]
     },
     "execution_count": 55,
     "metadata": {},
     "output_type": "execute_result"
    }
   ],
   "source": [
    "%%time\n",
    "logistic_model = LogisticRegression(solver = 'saga', \n",
    "                                    n_jobs = os.cpu_count() - 1,  \n",
    "                                    class_weight = 'balanced', \n",
    "                                    multi_class = 'ovr',  \n",
    "                                    random_state=42)\n",
    "logistic_model.fit(X_train_new, y_train_new.values.ravel())"
   ]
  },
  {
   "cell_type": "code",
   "execution_count": 56,
   "metadata": {},
   "outputs": [
    {
     "name": "stdout",
     "output_type": "stream",
     "text": [
      "Classes known to the model: [0 1]\n",
      "Logistic regression baseline train score: 0.6177777777777778\n",
      "Logistic regression cross-validation train score: 0.6357111111111111\n",
      "Logistic regression baseline test score: 0.5476\n",
      "Logistic regression cross-validation test score: 0.5337333333333334\n"
     ]
    }
   ],
   "source": [
    "print(\"Classes known to the model:\",logistic_model.classes_)\n",
    "scores = cross_validate(logistic_model, X_train_new, y_train_new.values.ravel(), cv = 3, return_train_score = True)\n",
    "print(\"Logistic regression baseline train score:\",logistic_model.score(X_train_new, y_train_new))\n",
    "print(\"Logistic regression cross-validation train score:\",scores['train_score'].mean())\n",
    "print(\"Logistic regression baseline test score:\",logistic_model.score(X_test_new, y_test_new))\n",
    "print(\"Logistic regression cross-validation test score:\",scores['test_score'].mean())"
   ]
  },
  {
   "cell_type": "markdown",
   "metadata": {},
   "source": [
    "### Naive bayes "
   ]
  },
  {
   "cell_type": "code",
   "execution_count": 57,
   "metadata": {},
   "outputs": [
    {
     "name": "stdout",
     "output_type": "stream",
     "text": [
      "Wall time: 473 ms\n"
     ]
    }
   ],
   "source": [
    "%%time\n",
    "naive_bayes_model = GaussianNB(var_smoothing = math.pow(10,-9)).fit(X_train_new, y_train_new.values.ravel())"
   ]
  },
  {
   "cell_type": "code",
   "execution_count": 58,
   "metadata": {},
   "outputs": [
    {
     "name": "stdout",
     "output_type": "stream",
     "text": [
      "Class count: [11250. 11250.]\n",
      "Classes known to the model: [0 1]\n",
      "Naive bayes baseline train score: 0.5729777777777778\n",
      "Naive bayes cross-validation train score: 0.5734888888888889\n",
      "Naive bayes baseline test score: 0.5576\n",
      "Naive bayes cross-validation test score: 0.5723111111111111\n"
     ]
    }
   ],
   "source": [
    "print(\"Class count:\",naive_bayes_model.class_count_)\n",
    "print(\"Classes known to the model:\",naive_bayes_model.classes_)\n",
    "scores = cross_validate(naive_bayes_model, X_train_new, y_train_new.values.ravel(), cv = 3, return_train_score = True)\n",
    "print(\"Naive bayes baseline train score:\",naive_bayes_model.score(X_train_new, y_train_new))\n",
    "print(\"Naive bayes cross-validation train score:\",scores['train_score'].mean())\n",
    "print(\"Naive bayes baseline test score:\",naive_bayes_model.score(X_test_new, y_test_new))\n",
    "print(\"Naive bayes cross-validation test score:\",scores['test_score'].mean())"
   ]
  },
  {
   "cell_type": "markdown",
   "metadata": {},
   "source": [
    "### SGD classifier"
   ]
  },
  {
   "cell_type": "code",
   "execution_count": 59,
   "metadata": {},
   "outputs": [
    {
     "name": "stdout",
     "output_type": "stream",
     "text": [
      "Wall time: 853 ms\n"
     ]
    }
   ],
   "source": [
    "%%time\n",
    "SGD_model = SGDClassifier(alpha = 0.5,loss = 'hinge',class_weight = 'balanced', random_state=42).fit(X_train_new, y_train_new.values.ravel())"
   ]
  },
  {
   "cell_type": "code",
   "execution_count": 60,
   "metadata": {},
   "outputs": [
    {
     "name": "stdout",
     "output_type": "stream",
     "text": [
      "SGD baseline train score: 0.6119111111111111\n",
      "SGD cross-validation train score: 0.6322\n",
      "SGD baseline test score: 0.5488\n",
      "SGD cross-validation test score: 0.5403555555555555\n"
     ]
    }
   ],
   "source": [
    "scores = cross_validate(SGD_model, X_train_new, y_train_new.values.ravel(), cv = 3, return_train_score = True)\n",
    "print(\"SGD baseline train score:\",SGD_model.score(X_train_new, y_train_new))\n",
    "print(\"SGD cross-validation train score:\",scores['train_score'].mean())\n",
    "print(\"SGD baseline test score:\",SGD_model.score(X_test_new, y_test_new))\n",
    "print(\"SGD cross-validation test score:\",scores['test_score'].mean())"
   ]
  },
  {
   "cell_type": "markdown",
   "metadata": {},
   "source": [
    "### Random forest"
   ]
  },
  {
   "cell_type": "code",
   "execution_count": 61,
   "metadata": {},
   "outputs": [
    {
     "name": "stdout",
     "output_type": "stream",
     "text": [
      "Wall time: 1min 40s\n"
     ]
    },
    {
     "data": {
      "text/html": [
       "<style>#sk-container-id-9 {color: black;background-color: white;}#sk-container-id-9 pre{padding: 0;}#sk-container-id-9 div.sk-toggleable {background-color: white;}#sk-container-id-9 label.sk-toggleable__label {cursor: pointer;display: block;width: 100%;margin-bottom: 0;padding: 0.3em;box-sizing: border-box;text-align: center;}#sk-container-id-9 label.sk-toggleable__label-arrow:before {content: \"▸\";float: left;margin-right: 0.25em;color: #696969;}#sk-container-id-9 label.sk-toggleable__label-arrow:hover:before {color: black;}#sk-container-id-9 div.sk-estimator:hover label.sk-toggleable__label-arrow:before {color: black;}#sk-container-id-9 div.sk-toggleable__content {max-height: 0;max-width: 0;overflow: hidden;text-align: left;background-color: #f0f8ff;}#sk-container-id-9 div.sk-toggleable__content pre {margin: 0.2em;color: black;border-radius: 0.25em;background-color: #f0f8ff;}#sk-container-id-9 input.sk-toggleable__control:checked~div.sk-toggleable__content {max-height: 200px;max-width: 100%;overflow: auto;}#sk-container-id-9 input.sk-toggleable__control:checked~label.sk-toggleable__label-arrow:before {content: \"▾\";}#sk-container-id-9 div.sk-estimator input.sk-toggleable__control:checked~label.sk-toggleable__label {background-color: #d4ebff;}#sk-container-id-9 div.sk-label input.sk-toggleable__control:checked~label.sk-toggleable__label {background-color: #d4ebff;}#sk-container-id-9 input.sk-hidden--visually {border: 0;clip: rect(1px 1px 1px 1px);clip: rect(1px, 1px, 1px, 1px);height: 1px;margin: -1px;overflow: hidden;padding: 0;position: absolute;width: 1px;}#sk-container-id-9 div.sk-estimator {font-family: monospace;background-color: #f0f8ff;border: 1px dotted black;border-radius: 0.25em;box-sizing: border-box;margin-bottom: 0.5em;}#sk-container-id-9 div.sk-estimator:hover {background-color: #d4ebff;}#sk-container-id-9 div.sk-parallel-item::after {content: \"\";width: 100%;border-bottom: 1px solid gray;flex-grow: 1;}#sk-container-id-9 div.sk-label:hover label.sk-toggleable__label {background-color: #d4ebff;}#sk-container-id-9 div.sk-serial::before {content: \"\";position: absolute;border-left: 1px solid gray;box-sizing: border-box;top: 0;bottom: 0;left: 50%;z-index: 0;}#sk-container-id-9 div.sk-serial {display: flex;flex-direction: column;align-items: center;background-color: white;padding-right: 0.2em;padding-left: 0.2em;position: relative;}#sk-container-id-9 div.sk-item {position: relative;z-index: 1;}#sk-container-id-9 div.sk-parallel {display: flex;align-items: stretch;justify-content: center;background-color: white;position: relative;}#sk-container-id-9 div.sk-item::before, #sk-container-id-9 div.sk-parallel-item::before {content: \"\";position: absolute;border-left: 1px solid gray;box-sizing: border-box;top: 0;bottom: 0;left: 50%;z-index: -1;}#sk-container-id-9 div.sk-parallel-item {display: flex;flex-direction: column;z-index: 1;position: relative;background-color: white;}#sk-container-id-9 div.sk-parallel-item:first-child::after {align-self: flex-end;width: 50%;}#sk-container-id-9 div.sk-parallel-item:last-child::after {align-self: flex-start;width: 50%;}#sk-container-id-9 div.sk-parallel-item:only-child::after {width: 0;}#sk-container-id-9 div.sk-dashed-wrapped {border: 1px dashed gray;margin: 0 0.4em 0.5em 0.4em;box-sizing: border-box;padding-bottom: 0.4em;background-color: white;}#sk-container-id-9 div.sk-label label {font-family: monospace;font-weight: bold;display: inline-block;line-height: 1.2em;}#sk-container-id-9 div.sk-label-container {text-align: center;}#sk-container-id-9 div.sk-container {/* jupyter's `normalize.less` sets `[hidden] { display: none; }` but bootstrap.min.css set `[hidden] { display: none !important; }` so we also need the `!important` here to be able to override the default hidden behavior on the sphinx rendered scikit-learn.org. See: https://github.com/scikit-learn/scikit-learn/issues/21755 */display: inline-block !important;position: relative;}#sk-container-id-9 div.sk-text-repr-fallback {display: none;}</style><div id=\"sk-container-id-9\" class=\"sk-top-container\"><div class=\"sk-text-repr-fallback\"><pre>RandomForestClassifier(criterion=&#x27;entropy&#x27;, n_estimators=500, n_jobs=11,\n",
       "                       random_state=42)</pre><b>In a Jupyter environment, please rerun this cell to show the HTML representation or trust the notebook. <br />On GitHub, the HTML representation is unable to render, please try loading this page with nbviewer.org.</b></div><div class=\"sk-container\" hidden><div class=\"sk-item\"><div class=\"sk-estimator sk-toggleable\"><input class=\"sk-toggleable__control sk-hidden--visually\" id=\"sk-estimator-id-15\" type=\"checkbox\" checked><label for=\"sk-estimator-id-15\" class=\"sk-toggleable__label sk-toggleable__label-arrow\">RandomForestClassifier</label><div class=\"sk-toggleable__content\"><pre>RandomForestClassifier(criterion=&#x27;entropy&#x27;, n_estimators=500, n_jobs=11,\n",
       "                       random_state=42)</pre></div></div></div></div></div>"
      ],
      "text/plain": [
       "RandomForestClassifier(criterion='entropy', n_estimators=500, n_jobs=11,\n",
       "                       random_state=42)"
      ]
     },
     "execution_count": 61,
     "metadata": {},
     "output_type": "execute_result"
    }
   ],
   "source": [
    "%%time\n",
    "forest = RandomForestClassifier(criterion = 'entropy',n_estimators=500, random_state=42, n_jobs = os.cpu_count() - 1)\n",
    "forest.fit(X_train_new, y_train_new.values.ravel())"
   ]
  },
  {
   "cell_type": "code",
   "execution_count": 62,
   "metadata": {},
   "outputs": [
    {
     "name": "stdout",
     "output_type": "stream",
     "text": [
      "Random forest baseline train score: 1.0\n",
      "Random forest cross-validation train score: 1.0\n",
      "Random forest baseline test score: 0.5956\n",
      "Random forest cross-validation test score: 0.6051555555555556\n"
     ]
    }
   ],
   "source": [
    "scores = cross_validate(forest, X_train_new, y_train_new.values.ravel(), cv = 3, return_train_score = True)\n",
    "print(\"Random forest baseline train score:\",forest.score(X_train_new, y_train_new))\n",
    "print(\"Random forest cross-validation train score:\",scores['train_score'].mean())\n",
    "print(\"Random forest baseline test score:\",forest.score(X_test_new, y_test_new))\n",
    "print(\"Random forest cross-validation test score:\",scores['test_score'].mean())"
   ]
  },
  {
   "cell_type": "markdown",
   "metadata": {},
   "source": [
    "### XGBoost"
   ]
  },
  {
   "cell_type": "code",
   "execution_count": 29,
   "metadata": {},
   "outputs": [],
   "source": [
    "from xgboost import XGBClassifier\n",
    "from sklearn import metrics"
   ]
  },
  {
   "cell_type": "code",
   "execution_count": 30,
   "metadata": {},
   "outputs": [
    {
     "name": "stdout",
     "output_type": "stream",
     "text": [
      "Wall time: 6min 29s\n"
     ]
    }
   ],
   "source": [
    "%%time\n",
    "XGC_model=XGBClassifier(n_estimators=500, \n",
    "                        objective='binary:logistic', \n",
    "                        booster='gbtree').fit(X_train_new, y_train_new)"
   ]
  },
  {
   "cell_type": "code",
   "execution_count": 31,
   "metadata": {},
   "outputs": [],
   "source": [
    "prediction_train=XGC_model.predict(X_train_new)\n",
    "prediction_test=XGC_model.predict(X_test_new)"
   ]
  },
  {
   "cell_type": "code",
   "execution_count": 32,
   "metadata": {},
   "outputs": [
    {
     "name": "stdout",
     "output_type": "stream",
     "text": [
      "Train scores\n",
      "              precision    recall  f1-score   support\n",
      "\n",
      "           0       1.00      1.00      1.00     11250\n",
      "           1       1.00      1.00      1.00     11250\n",
      "\n",
      "    accuracy                           1.00     22500\n",
      "   macro avg       1.00      1.00      1.00     22500\n",
      "weighted avg       1.00      1.00      1.00     22500\n",
      "\n",
      "[[11250     0]\n",
      " [    0 11250]]\n",
      "Test scores\n",
      "              precision    recall  f1-score   support\n",
      "\n",
      "           0       0.62      0.62      0.62      1250\n",
      "           1       0.62      0.62      0.62      1250\n",
      "\n",
      "    accuracy                           0.62      2500\n",
      "   macro avg       0.62      0.62      0.62      2500\n",
      "weighted avg       0.62      0.62      0.62      2500\n",
      "\n",
      "[[776 474]\n",
      " [469 781]]\n"
     ]
    }
   ],
   "source": [
    "print(\"Train scores\")\n",
    "print(metrics.classification_report(y_train_new, prediction_train))\n",
    "print(metrics.confusion_matrix(y_train_new, prediction_train))\n",
    "print(\"Test scores\")\n",
    "print(metrics.classification_report(y_test_new, prediction_test))\n",
    "print(metrics.confusion_matrix(y_test_new, prediction_test))"
   ]
  },
  {
   "cell_type": "markdown",
   "metadata": {},
   "source": [
    "## Grid-search on models"
   ]
  },
  {
   "cell_type": "code",
   "execution_count": 33,
   "metadata": {},
   "outputs": [],
   "source": [
    "from sklearn.model_selection import GridSearchCV"
   ]
  },
  {
   "cell_type": "code",
   "execution_count": 34,
   "metadata": {},
   "outputs": [],
   "source": [
    "def plot_grid_results(model_checked, grid_model): #Plots grid-search score results from best to worst\n",
    "    grid_data = pd.DataFrame(grid_model.cv_results_)\n",
    "    params = []\n",
    "    for param in grid_model.best_params_:\n",
    "        params.append(\"param_\"+param)\n",
    "    params.append('mean_test_score')\n",
    "    \n",
    "    grid_frame_mod = grid_data.loc[:,params]\n",
    "    grid_frame_mod = grid_frame_mod.fillna(value = \"None\") ##Replace None with 'None' strings for plotability.\n",
    "    grp = grid_frame_mod.groupby(by = params[:-1]).agg(lambda x: x).mean_test_score.nlargest(n = grid_data.shape[0])\n",
    "    min_value = grid_data['mean_test_score'].min()\n",
    "    max_value = grid_data['mean_test_score'].max()\n",
    "    \n",
    "    \n",
    "    ICD.display(grid_data)#Display the results data-frame\n",
    "    plt.figure(facecolor='black') \n",
    "    grp.plot(kind = \"bar\", figsize = (24, 8), color = \"Blue\")\n",
    "    ax = plt.axes()\n",
    "    ax.set_facecolor(\"black\")\n",
    "    plt.ylabel(\"Score\")\n",
    "    plt.title(\"Gridsearch results sorted from highest to lowest({0})\".format(model_checked))\n",
    "    ax.set_ylim([(min_value - 0.001) ,max_value])\n",
    "    plt.show()\n",
    "    msg = \"Best {0} model: {1} with an accuracy of {2}\".format(model_checked, grid_model.best_params_, grid_model.best_score_)\n",
    "    print(msg)"
   ]
  },
  {
   "cell_type": "markdown",
   "metadata": {},
   "source": [
    "### Logistic-regression"
   ]
  },
  {
   "cell_type": "code",
   "execution_count": 35,
   "metadata": {},
   "outputs": [
    {
     "name": "stdout",
     "output_type": "stream",
     "text": [
      "Fitting 3 folds for each of 5 candidates, totalling 15 fits\n"
     ]
    }
   ],
   "source": [
    "LOG = LogisticRegression(class_weight = 'balanced', multi_class = 'ovr', random_state=42, n_jobs = os.cpu_count() - 1)\n",
    "parameters = {\"solver\": ['newton-cg', 'lbfgs', 'liblinear', 'sag', 'saga']}\n",
    "LOG_grid = GridSearchCV(LOG, parameters, cv = 3 ,verbose = 1, return_train_score = True).fit(X_train_new, y_train_new.values.ravel())"
   ]
  },
  {
   "cell_type": "code",
   "execution_count": 36,
   "metadata": {},
   "outputs": [
    {
     "data": {
      "text/html": [
       "<div>\n",
       "<style scoped>\n",
       "    .dataframe tbody tr th:only-of-type {\n",
       "        vertical-align: middle;\n",
       "    }\n",
       "\n",
       "    .dataframe tbody tr th {\n",
       "        vertical-align: top;\n",
       "    }\n",
       "\n",
       "    .dataframe thead th {\n",
       "        text-align: right;\n",
       "    }\n",
       "</style>\n",
       "<table border=\"1\" class=\"dataframe\">\n",
       "  <thead>\n",
       "    <tr style=\"text-align: right;\">\n",
       "      <th></th>\n",
       "      <th>mean_fit_time</th>\n",
       "      <th>std_fit_time</th>\n",
       "      <th>mean_score_time</th>\n",
       "      <th>std_score_time</th>\n",
       "      <th>param_solver</th>\n",
       "      <th>params</th>\n",
       "      <th>split0_test_score</th>\n",
       "      <th>split1_test_score</th>\n",
       "      <th>split2_test_score</th>\n",
       "      <th>mean_test_score</th>\n",
       "      <th>std_test_score</th>\n",
       "      <th>rank_test_score</th>\n",
       "      <th>split0_train_score</th>\n",
       "      <th>split1_train_score</th>\n",
       "      <th>split2_train_score</th>\n",
       "      <th>mean_train_score</th>\n",
       "      <th>std_train_score</th>\n",
       "    </tr>\n",
       "  </thead>\n",
       "  <tbody>\n",
       "    <tr>\n",
       "      <th>0</th>\n",
       "      <td>6.217659</td>\n",
       "      <td>0.173190</td>\n",
       "      <td>0.025005</td>\n",
       "      <td>0.002161</td>\n",
       "      <td>newton-cg</td>\n",
       "      <td>{'solver': 'newton-cg'}</td>\n",
       "      <td>0.528</td>\n",
       "      <td>0.5352</td>\n",
       "      <td>0.537867</td>\n",
       "      <td>0.533689</td>\n",
       "      <td>0.004167</td>\n",
       "      <td>2</td>\n",
       "      <td>0.633600</td>\n",
       "      <td>0.637200</td>\n",
       "      <td>0.636400</td>\n",
       "      <td>0.635733</td>\n",
       "      <td>0.001543</td>\n",
       "    </tr>\n",
       "    <tr>\n",
       "      <th>1</th>\n",
       "      <td>2.511658</td>\n",
       "      <td>0.015515</td>\n",
       "      <td>0.026006</td>\n",
       "      <td>0.000410</td>\n",
       "      <td>lbfgs</td>\n",
       "      <td>{'solver': 'lbfgs'}</td>\n",
       "      <td>0.528</td>\n",
       "      <td>0.5352</td>\n",
       "      <td>0.537867</td>\n",
       "      <td>0.533689</td>\n",
       "      <td>0.004167</td>\n",
       "      <td>2</td>\n",
       "      <td>0.633667</td>\n",
       "      <td>0.637133</td>\n",
       "      <td>0.636400</td>\n",
       "      <td>0.635733</td>\n",
       "      <td>0.001492</td>\n",
       "    </tr>\n",
       "    <tr>\n",
       "      <th>2</th>\n",
       "      <td>1.208378</td>\n",
       "      <td>0.007216</td>\n",
       "      <td>0.022838</td>\n",
       "      <td>0.000236</td>\n",
       "      <td>liblinear</td>\n",
       "      <td>{'solver': 'liblinear'}</td>\n",
       "      <td>0.528</td>\n",
       "      <td>0.5352</td>\n",
       "      <td>0.537867</td>\n",
       "      <td>0.533689</td>\n",
       "      <td>0.004167</td>\n",
       "      <td>2</td>\n",
       "      <td>0.633600</td>\n",
       "      <td>0.637133</td>\n",
       "      <td>0.636333</td>\n",
       "      <td>0.635689</td>\n",
       "      <td>0.001513</td>\n",
       "    </tr>\n",
       "    <tr>\n",
       "      <th>3</th>\n",
       "      <td>4.655590</td>\n",
       "      <td>0.146150</td>\n",
       "      <td>0.025003</td>\n",
       "      <td>0.000408</td>\n",
       "      <td>sag</td>\n",
       "      <td>{'solver': 'sag'}</td>\n",
       "      <td>0.528</td>\n",
       "      <td>0.5352</td>\n",
       "      <td>0.537733</td>\n",
       "      <td>0.533644</td>\n",
       "      <td>0.004123</td>\n",
       "      <td>5</td>\n",
       "      <td>0.633600</td>\n",
       "      <td>0.637200</td>\n",
       "      <td>0.636467</td>\n",
       "      <td>0.635756</td>\n",
       "      <td>0.001553</td>\n",
       "    </tr>\n",
       "    <tr>\n",
       "      <th>4</th>\n",
       "      <td>5.673983</td>\n",
       "      <td>0.846431</td>\n",
       "      <td>0.024837</td>\n",
       "      <td>0.001545</td>\n",
       "      <td>saga</td>\n",
       "      <td>{'solver': 'saga'}</td>\n",
       "      <td>0.528</td>\n",
       "      <td>0.5352</td>\n",
       "      <td>0.538000</td>\n",
       "      <td>0.533733</td>\n",
       "      <td>0.004212</td>\n",
       "      <td>1</td>\n",
       "      <td>0.633667</td>\n",
       "      <td>0.637133</td>\n",
       "      <td>0.636333</td>\n",
       "      <td>0.635711</td>\n",
       "      <td>0.001482</td>\n",
       "    </tr>\n",
       "  </tbody>\n",
       "</table>\n",
       "</div>"
      ],
      "text/plain": [
       "   mean_fit_time  std_fit_time  mean_score_time  std_score_time param_solver  \\\n",
       "0       6.217659      0.173190         0.025005        0.002161    newton-cg   \n",
       "1       2.511658      0.015515         0.026006        0.000410        lbfgs   \n",
       "2       1.208378      0.007216         0.022838        0.000236    liblinear   \n",
       "3       4.655590      0.146150         0.025003        0.000408          sag   \n",
       "4       5.673983      0.846431         0.024837        0.001545         saga   \n",
       "\n",
       "                    params  split0_test_score  split1_test_score  \\\n",
       "0  {'solver': 'newton-cg'}              0.528             0.5352   \n",
       "1      {'solver': 'lbfgs'}              0.528             0.5352   \n",
       "2  {'solver': 'liblinear'}              0.528             0.5352   \n",
       "3        {'solver': 'sag'}              0.528             0.5352   \n",
       "4       {'solver': 'saga'}              0.528             0.5352   \n",
       "\n",
       "   split2_test_score  mean_test_score  std_test_score  rank_test_score  \\\n",
       "0           0.537867         0.533689        0.004167                2   \n",
       "1           0.537867         0.533689        0.004167                2   \n",
       "2           0.537867         0.533689        0.004167                2   \n",
       "3           0.537733         0.533644        0.004123                5   \n",
       "4           0.538000         0.533733        0.004212                1   \n",
       "\n",
       "   split0_train_score  split1_train_score  split2_train_score  \\\n",
       "0            0.633600            0.637200            0.636400   \n",
       "1            0.633667            0.637133            0.636400   \n",
       "2            0.633600            0.637133            0.636333   \n",
       "3            0.633600            0.637200            0.636467   \n",
       "4            0.633667            0.637133            0.636333   \n",
       "\n",
       "   mean_train_score  std_train_score  \n",
       "0          0.635733         0.001543  \n",
       "1          0.635733         0.001492  \n",
       "2          0.635689         0.001513  \n",
       "3          0.635756         0.001553  \n",
       "4          0.635711         0.001482  "
      ]
     },
     "metadata": {},
     "output_type": "display_data"
    },
    {
     "data": {
      "image/png": "[encoded data removed]",
      "text/plain": [
       "<Figure size 1728x576 with 1 Axes>"
      ]
     },
     "metadata": {},
     "output_type": "display_data"
    },
    {
     "name": "stdout",
     "output_type": "stream",
     "text": [
      "Best Logistic regression model: {'solver': 'saga'} with an accuracy of 0.5337333333333334\n"
     ]
    }
   ],
   "source": [
    "plot_grid_results(\"Logistic regression\", LOG_grid)"
   ]
  },
  {
   "cell_type": "markdown",
   "metadata": {},
   "source": [
    "### Naive bayes"
   ]
  },
  {
   "cell_type": "code",
   "execution_count": 37,
   "metadata": {},
   "outputs": [
    {
     "name": "stdout",
     "output_type": "stream",
     "text": [
      "Fitting 3 folds for each of 4 candidates, totalling 12 fits\n"
     ]
    }
   ],
   "source": [
    "BAYES = GaussianNB()\n",
    "parameters = {\"var_smoothing\": [math.pow(10,-9),math.pow(10,-5),math.pow(10,-3),math.pow(10,-1)]}\n",
    "BAYES_grid = GridSearchCV(BAYES, parameters, cv = 3 ,verbose = 1, return_train_score = True).fit(X_train_new, y_train_new.values.ravel())"
   ]
  },
  {
   "cell_type": "code",
   "execution_count": 38,
   "metadata": {},
   "outputs": [
    {
     "data": {
      "text/html": [
       "<div>\n",
       "<style scoped>\n",
       "    .dataframe tbody tr th:only-of-type {\n",
       "        vertical-align: middle;\n",
       "    }\n",
       "\n",
       "    .dataframe tbody tr th {\n",
       "        vertical-align: top;\n",
       "    }\n",
       "\n",
       "    .dataframe thead th {\n",
       "        text-align: right;\n",
       "    }\n",
       "</style>\n",
       "<table border=\"1\" class=\"dataframe\">\n",
       "  <thead>\n",
       "    <tr style=\"text-align: right;\">\n",
       "      <th></th>\n",
       "      <th>mean_fit_time</th>\n",
       "      <th>std_fit_time</th>\n",
       "      <th>mean_score_time</th>\n",
       "      <th>std_score_time</th>\n",
       "      <th>param_var_smoothing</th>\n",
       "      <th>params</th>\n",
       "      <th>split0_test_score</th>\n",
       "      <th>split1_test_score</th>\n",
       "      <th>split2_test_score</th>\n",
       "      <th>mean_test_score</th>\n",
       "      <th>std_test_score</th>\n",
       "      <th>rank_test_score</th>\n",
       "      <th>split0_train_score</th>\n",
       "      <th>split1_train_score</th>\n",
       "      <th>split2_train_score</th>\n",
       "      <th>mean_train_score</th>\n",
       "      <th>std_train_score</th>\n",
       "    </tr>\n",
       "  </thead>\n",
       "  <tbody>\n",
       "    <tr>\n",
       "      <th>0</th>\n",
       "      <td>0.377400</td>\n",
       "      <td>0.002249</td>\n",
       "      <td>0.127022</td>\n",
       "      <td>0.000408</td>\n",
       "      <td>1e-09</td>\n",
       "      <td>{'var_smoothing': 1e-09}</td>\n",
       "      <td>0.581067</td>\n",
       "      <td>0.568933</td>\n",
       "      <td>0.566933</td>\n",
       "      <td>0.572311</td>\n",
       "      <td>0.006245</td>\n",
       "      <td>1</td>\n",
       "      <td>0.571067</td>\n",
       "      <td>0.574000</td>\n",
       "      <td>0.5754</td>\n",
       "      <td>0.573489</td>\n",
       "      <td>0.001806</td>\n",
       "    </tr>\n",
       "    <tr>\n",
       "      <th>1</th>\n",
       "      <td>0.377566</td>\n",
       "      <td>0.006098</td>\n",
       "      <td>0.133690</td>\n",
       "      <td>0.003794</td>\n",
       "      <td>1e-05</td>\n",
       "      <td>{'var_smoothing': 1e-05}</td>\n",
       "      <td>0.581067</td>\n",
       "      <td>0.568933</td>\n",
       "      <td>0.566933</td>\n",
       "      <td>0.572311</td>\n",
       "      <td>0.006245</td>\n",
       "      <td>1</td>\n",
       "      <td>0.571067</td>\n",
       "      <td>0.574000</td>\n",
       "      <td>0.5754</td>\n",
       "      <td>0.573489</td>\n",
       "      <td>0.001806</td>\n",
       "    </tr>\n",
       "    <tr>\n",
       "      <th>2</th>\n",
       "      <td>0.392069</td>\n",
       "      <td>0.008338</td>\n",
       "      <td>0.132690</td>\n",
       "      <td>0.004498</td>\n",
       "      <td>0.001</td>\n",
       "      <td>{'var_smoothing': 0.001}</td>\n",
       "      <td>0.580933</td>\n",
       "      <td>0.568667</td>\n",
       "      <td>0.567200</td>\n",
       "      <td>0.572267</td>\n",
       "      <td>0.006157</td>\n",
       "      <td>3</td>\n",
       "      <td>0.571067</td>\n",
       "      <td>0.574133</td>\n",
       "      <td>0.5754</td>\n",
       "      <td>0.573533</td>\n",
       "      <td>0.001819</td>\n",
       "    </tr>\n",
       "    <tr>\n",
       "      <th>3</th>\n",
       "      <td>0.388069</td>\n",
       "      <td>0.002484</td>\n",
       "      <td>0.131689</td>\n",
       "      <td>0.002593</td>\n",
       "      <td>0.1</td>\n",
       "      <td>{'var_smoothing': 0.1}</td>\n",
       "      <td>0.574267</td>\n",
       "      <td>0.559200</td>\n",
       "      <td>0.566400</td>\n",
       "      <td>0.566622</td>\n",
       "      <td>0.006153</td>\n",
       "      <td>4</td>\n",
       "      <td>0.566600</td>\n",
       "      <td>0.572133</td>\n",
       "      <td>0.5698</td>\n",
       "      <td>0.569511</td>\n",
       "      <td>0.002268</td>\n",
       "    </tr>\n",
       "  </tbody>\n",
       "</table>\n",
       "</div>"
      ],
      "text/plain": [
       "   mean_fit_time  std_fit_time  mean_score_time  std_score_time  \\\n",
       "0       0.377400      0.002249         0.127022        0.000408   \n",
       "1       0.377566      0.006098         0.133690        0.003794   \n",
       "2       0.392069      0.008338         0.132690        0.004498   \n",
       "3       0.388069      0.002484         0.131689        0.002593   \n",
       "\n",
       "  param_var_smoothing                    params  split0_test_score  \\\n",
       "0               1e-09  {'var_smoothing': 1e-09}           0.581067   \n",
       "1               1e-05  {'var_smoothing': 1e-05}           0.581067   \n",
       "2               0.001  {'var_smoothing': 0.001}           0.580933   \n",
       "3                 0.1    {'var_smoothing': 0.1}           0.574267   \n",
       "\n",
       "   split1_test_score  split2_test_score  mean_test_score  std_test_score  \\\n",
       "0           0.568933           0.566933         0.572311        0.006245   \n",
       "1           0.568933           0.566933         0.572311        0.006245   \n",
       "2           0.568667           0.567200         0.572267        0.006157   \n",
       "3           0.559200           0.566400         0.566622        0.006153   \n",
       "\n",
       "   rank_test_score  split0_train_score  split1_train_score  \\\n",
       "0                1            0.571067            0.574000   \n",
       "1                1            0.571067            0.574000   \n",
       "2                3            0.571067            0.574133   \n",
       "3                4            0.566600            0.572133   \n",
       "\n",
       "   split2_train_score  mean_train_score  std_train_score  \n",
       "0              0.5754          0.573489         0.001806  \n",
       "1              0.5754          0.573489         0.001806  \n",
       "2              0.5754          0.573533         0.001819  \n",
       "3              0.5698          0.569511         0.002268  "
      ]
     },
     "metadata": {},
     "output_type": "display_data"
    },
    {
     "data": {
      "image/png": "[encoded data removed]",
      "text/plain": [
       "<Figure size 1728x576 with 1 Axes>"
      ]
     },
     "metadata": {},
     "output_type": "display_data"
    },
    {
     "name": "stdout",
     "output_type": "stream",
     "text": [
      "Best Naive bayes model: {'var_smoothing': 1e-09} with an accuracy of 0.5723111111111111\n"
     ]
    }
   ],
   "source": [
    "plot_grid_results(\"Naive bayes\", BAYES_grid)"
   ]
  },
  {
   "cell_type": "markdown",
   "metadata": {},
   "source": [
    "###  SGD classifier"
   ]
  },
  {
   "cell_type": "code",
   "execution_count": 39,
   "metadata": {},
   "outputs": [
    {
     "name": "stdout",
     "output_type": "stream",
     "text": [
      "Fitting 3 folds for each of 24 candidates, totalling 72 fits\n"
     ]
    }
   ],
   "source": [
    "SGD = SGDClassifier(class_weight = 'balanced', random_state=42)\n",
    "parameters = {'alpha' : np.arange(0.5,2,0.5),'loss' : ['hinge', 'log_loss', 'log', 'modified_huber', 'squared_hinge', 'perceptron', 'squared_error', 'huber']}\n",
    "SGD_grid = GridSearchCV(SGD, parameters, cv = 3 ,verbose = 1, return_train_score = True).fit(X_train_new, y_train_new.values.ravel())"
   ]
  },
  {
   "cell_type": "code",
   "execution_count": 40,
   "metadata": {},
   "outputs": [
    {
     "data": {
      "text/html": [
       "<div>\n",
       "<style scoped>\n",
       "    .dataframe tbody tr th:only-of-type {\n",
       "        vertical-align: middle;\n",
       "    }\n",
       "\n",
       "    .dataframe tbody tr th {\n",
       "        vertical-align: top;\n",
       "    }\n",
       "\n",
       "    .dataframe thead th {\n",
       "        text-align: right;\n",
       "    }\n",
       "</style>\n",
       "<table border=\"1\" class=\"dataframe\">\n",
       "  <thead>\n",
       "    <tr style=\"text-align: right;\">\n",
       "      <th></th>\n",
       "      <th>mean_fit_time</th>\n",
       "      <th>std_fit_time</th>\n",
       "      <th>mean_score_time</th>\n",
       "      <th>std_score_time</th>\n",
       "      <th>param_alpha</th>\n",
       "      <th>param_loss</th>\n",
       "      <th>params</th>\n",
       "      <th>split0_test_score</th>\n",
       "      <th>split1_test_score</th>\n",
       "      <th>split2_test_score</th>\n",
       "      <th>mean_test_score</th>\n",
       "      <th>std_test_score</th>\n",
       "      <th>rank_test_score</th>\n",
       "      <th>split0_train_score</th>\n",
       "      <th>split1_train_score</th>\n",
       "      <th>split2_train_score</th>\n",
       "      <th>mean_train_score</th>\n",
       "      <th>std_train_score</th>\n",
       "    </tr>\n",
       "  </thead>\n",
       "  <tbody>\n",
       "    <tr>\n",
       "      <th>0</th>\n",
       "      <td>0.701790</td>\n",
       "      <td>0.014971</td>\n",
       "      <td>0.022671</td>\n",
       "      <td>2.354607e-04</td>\n",
       "      <td>0.5</td>\n",
       "      <td>hinge</td>\n",
       "      <td>{'alpha': 0.5, 'loss': 'hinge'}</td>\n",
       "      <td>0.534667</td>\n",
       "      <td>0.543600</td>\n",
       "      <td>0.542800</td>\n",
       "      <td>0.540356</td>\n",
       "      <td>0.004036</td>\n",
       "      <td>1</td>\n",
       "      <td>0.632400</td>\n",
       "      <td>0.631133</td>\n",
       "      <td>0.633067</td>\n",
       "      <td>0.632200</td>\n",
       "      <td>0.000802</td>\n",
       "    </tr>\n",
       "    <tr>\n",
       "      <th>1</th>\n",
       "      <td>0.574101</td>\n",
       "      <td>0.004900</td>\n",
       "      <td>0.022671</td>\n",
       "      <td>6.235644e-04</td>\n",
       "      <td>0.5</td>\n",
       "      <td>log_loss</td>\n",
       "      <td>{'alpha': 0.5, 'loss': 'log_loss'}</td>\n",
       "      <td>0.532533</td>\n",
       "      <td>0.541333</td>\n",
       "      <td>0.541333</td>\n",
       "      <td>0.538400</td>\n",
       "      <td>0.004148</td>\n",
       "      <td>2</td>\n",
       "      <td>0.631867</td>\n",
       "      <td>0.635467</td>\n",
       "      <td>0.634533</td>\n",
       "      <td>0.633956</td>\n",
       "      <td>0.001525</td>\n",
       "    </tr>\n",
       "    <tr>\n",
       "      <th>2</th>\n",
       "      <td>0.571600</td>\n",
       "      <td>0.004302</td>\n",
       "      <td>0.022671</td>\n",
       "      <td>2.352920e-04</td>\n",
       "      <td>0.5</td>\n",
       "      <td>log</td>\n",
       "      <td>{'alpha': 0.5, 'loss': 'log'}</td>\n",
       "      <td>0.532533</td>\n",
       "      <td>0.541333</td>\n",
       "      <td>0.541333</td>\n",
       "      <td>0.538400</td>\n",
       "      <td>0.004148</td>\n",
       "      <td>2</td>\n",
       "      <td>0.631867</td>\n",
       "      <td>0.635467</td>\n",
       "      <td>0.634533</td>\n",
       "      <td>0.633956</td>\n",
       "      <td>0.001525</td>\n",
       "    </tr>\n",
       "    <tr>\n",
       "      <th>3</th>\n",
       "      <td>0.948333</td>\n",
       "      <td>0.012320</td>\n",
       "      <td>0.022837</td>\n",
       "      <td>2.359100e-04</td>\n",
       "      <td>0.5</td>\n",
       "      <td>modified_huber</td>\n",
       "      <td>{'alpha': 0.5, 'loss': 'modified_huber'}</td>\n",
       "      <td>0.529867</td>\n",
       "      <td>0.536267</td>\n",
       "      <td>0.539467</td>\n",
       "      <td>0.535200</td>\n",
       "      <td>0.003991</td>\n",
       "      <td>6</td>\n",
       "      <td>0.633267</td>\n",
       "      <td>0.638133</td>\n",
       "      <td>0.634867</td>\n",
       "      <td>0.635422</td>\n",
       "      <td>0.002025</td>\n",
       "    </tr>\n",
       "    <tr>\n",
       "      <th>4</th>\n",
       "      <td>27.106740</td>\n",
       "      <td>0.403774</td>\n",
       "      <td>0.023004</td>\n",
       "      <td>4.087054e-04</td>\n",
       "      <td>0.5</td>\n",
       "      <td>squared_hinge</td>\n",
       "      <td>{'alpha': 0.5, 'loss': 'squared_hinge'}</td>\n",
       "      <td>0.515200</td>\n",
       "      <td>0.508533</td>\n",
       "      <td>0.505467</td>\n",
       "      <td>0.509733</td>\n",
       "      <td>0.004063</td>\n",
       "      <td>16</td>\n",
       "      <td>0.533267</td>\n",
       "      <td>0.512400</td>\n",
       "      <td>0.516467</td>\n",
       "      <td>0.520711</td>\n",
       "      <td>0.009032</td>\n",
       "    </tr>\n",
       "    <tr>\n",
       "      <th>5</th>\n",
       "      <td>0.530593</td>\n",
       "      <td>0.012432</td>\n",
       "      <td>0.022671</td>\n",
       "      <td>2.360786e-04</td>\n",
       "      <td>0.5</td>\n",
       "      <td>perceptron</td>\n",
       "      <td>{'alpha': 0.5, 'loss': 'perceptron'}</td>\n",
       "      <td>0.509200</td>\n",
       "      <td>0.512533</td>\n",
       "      <td>0.504667</td>\n",
       "      <td>0.508800</td>\n",
       "      <td>0.003224</td>\n",
       "      <td>17</td>\n",
       "      <td>0.561333</td>\n",
       "      <td>0.559200</td>\n",
       "      <td>0.560933</td>\n",
       "      <td>0.560489</td>\n",
       "      <td>0.000926</td>\n",
       "    </tr>\n",
       "    <tr>\n",
       "      <th>6</th>\n",
       "      <td>34.562044</td>\n",
       "      <td>0.485403</td>\n",
       "      <td>0.022671</td>\n",
       "      <td>2.358539e-04</td>\n",
       "      <td>0.5</td>\n",
       "      <td>squared_error</td>\n",
       "      <td>{'alpha': 0.5, 'loss': 'squared_error'}</td>\n",
       "      <td>0.512667</td>\n",
       "      <td>0.497467</td>\n",
       "      <td>0.506000</td>\n",
       "      <td>0.505378</td>\n",
       "      <td>0.006221</td>\n",
       "      <td>18</td>\n",
       "      <td>0.509200</td>\n",
       "      <td>0.495667</td>\n",
       "      <td>0.506333</td>\n",
       "      <td>0.503733</td>\n",
       "      <td>0.005823</td>\n",
       "    </tr>\n",
       "    <tr>\n",
       "      <th>7</th>\n",
       "      <td>0.462414</td>\n",
       "      <td>0.001028</td>\n",
       "      <td>0.022670</td>\n",
       "      <td>2.354604e-04</td>\n",
       "      <td>0.5</td>\n",
       "      <td>huber</td>\n",
       "      <td>{'alpha': 0.5, 'loss': 'huber'}</td>\n",
       "      <td>0.533867</td>\n",
       "      <td>0.500000</td>\n",
       "      <td>0.502400</td>\n",
       "      <td>0.512089</td>\n",
       "      <td>0.015430</td>\n",
       "      <td>15</td>\n",
       "      <td>0.630000</td>\n",
       "      <td>0.500133</td>\n",
       "      <td>0.507800</td>\n",
       "      <td>0.545978</td>\n",
       "      <td>0.059495</td>\n",
       "    </tr>\n",
       "    <tr>\n",
       "      <th>8</th>\n",
       "      <td>0.648947</td>\n",
       "      <td>0.012046</td>\n",
       "      <td>0.022505</td>\n",
       "      <td>4.083161e-04</td>\n",
       "      <td>1</td>\n",
       "      <td>hinge</td>\n",
       "      <td>{'alpha': 1.0, 'loss': 'hinge'}</td>\n",
       "      <td>0.534267</td>\n",
       "      <td>0.517333</td>\n",
       "      <td>0.531467</td>\n",
       "      <td>0.527689</td>\n",
       "      <td>0.007411</td>\n",
       "      <td>9</td>\n",
       "      <td>0.625400</td>\n",
       "      <td>0.567000</td>\n",
       "      <td>0.593267</td>\n",
       "      <td>0.595222</td>\n",
       "      <td>0.023882</td>\n",
       "    </tr>\n",
       "    <tr>\n",
       "      <th>9</th>\n",
       "      <td>0.526759</td>\n",
       "      <td>0.013593</td>\n",
       "      <td>0.022504</td>\n",
       "      <td>1.946680e-07</td>\n",
       "      <td>1</td>\n",
       "      <td>log_loss</td>\n",
       "      <td>{'alpha': 1.0, 'loss': 'log_loss'}</td>\n",
       "      <td>0.531733</td>\n",
       "      <td>0.532933</td>\n",
       "      <td>0.535600</td>\n",
       "      <td>0.533422</td>\n",
       "      <td>0.001616</td>\n",
       "      <td>7</td>\n",
       "      <td>0.623333</td>\n",
       "      <td>0.598000</td>\n",
       "      <td>0.617533</td>\n",
       "      <td>0.612956</td>\n",
       "      <td>0.010837</td>\n",
       "    </tr>\n",
       "    <tr>\n",
       "      <th>10</th>\n",
       "      <td>0.539428</td>\n",
       "      <td>0.023293</td>\n",
       "      <td>0.023337</td>\n",
       "      <td>9.429655e-04</td>\n",
       "      <td>1</td>\n",
       "      <td>log</td>\n",
       "      <td>{'alpha': 1.0, 'loss': 'log'}</td>\n",
       "      <td>0.531733</td>\n",
       "      <td>0.532933</td>\n",
       "      <td>0.535600</td>\n",
       "      <td>0.533422</td>\n",
       "      <td>0.001616</td>\n",
       "      <td>7</td>\n",
       "      <td>0.623333</td>\n",
       "      <td>0.598000</td>\n",
       "      <td>0.617533</td>\n",
       "      <td>0.612956</td>\n",
       "      <td>0.010837</td>\n",
       "    </tr>\n",
       "    <tr>\n",
       "      <th>11</th>\n",
       "      <td>0.809975</td>\n",
       "      <td>0.028042</td>\n",
       "      <td>0.022504</td>\n",
       "      <td>4.083162e-04</td>\n",
       "      <td>1</td>\n",
       "      <td>modified_huber</td>\n",
       "      <td>{'alpha': 1.0, 'loss': 'modified_huber'}</td>\n",
       "      <td>0.531600</td>\n",
       "      <td>0.537467</td>\n",
       "      <td>0.537733</td>\n",
       "      <td>0.535600</td>\n",
       "      <td>0.002831</td>\n",
       "      <td>5</td>\n",
       "      <td>0.633467</td>\n",
       "      <td>0.637933</td>\n",
       "      <td>0.633733</td>\n",
       "      <td>0.635044</td>\n",
       "      <td>0.002046</td>\n",
       "    </tr>\n",
       "    <tr>\n",
       "      <th>12</th>\n",
       "      <td>27.374454</td>\n",
       "      <td>0.424373</td>\n",
       "      <td>0.025004</td>\n",
       "      <td>1.472285e-03</td>\n",
       "      <td>1</td>\n",
       "      <td>squared_hinge</td>\n",
       "      <td>{'alpha': 1.0, 'loss': 'squared_hinge'}</td>\n",
       "      <td>0.498800</td>\n",
       "      <td>0.502000</td>\n",
       "      <td>0.498933</td>\n",
       "      <td>0.499911</td>\n",
       "      <td>0.001478</td>\n",
       "      <td>22</td>\n",
       "      <td>0.504200</td>\n",
       "      <td>0.500333</td>\n",
       "      <td>0.507533</td>\n",
       "      <td>0.504022</td>\n",
       "      <td>0.002942</td>\n",
       "    </tr>\n",
       "    <tr>\n",
       "      <th>13</th>\n",
       "      <td>0.496254</td>\n",
       "      <td>0.003660</td>\n",
       "      <td>0.022338</td>\n",
       "      <td>2.354604e-04</td>\n",
       "      <td>1</td>\n",
       "      <td>perceptron</td>\n",
       "      <td>{'alpha': 1.0, 'loss': 'perceptron'}</td>\n",
       "      <td>0.506800</td>\n",
       "      <td>0.515467</td>\n",
       "      <td>0.521067</td>\n",
       "      <td>0.514444</td>\n",
       "      <td>0.005869</td>\n",
       "      <td>13</td>\n",
       "      <td>0.561000</td>\n",
       "      <td>0.557733</td>\n",
       "      <td>0.561000</td>\n",
       "      <td>0.559911</td>\n",
       "      <td>0.001540</td>\n",
       "    </tr>\n",
       "    <tr>\n",
       "      <th>14</th>\n",
       "      <td>34.932942</td>\n",
       "      <td>0.310439</td>\n",
       "      <td>0.023671</td>\n",
       "      <td>1.027715e-03</td>\n",
       "      <td>1</td>\n",
       "      <td>squared_error</td>\n",
       "      <td>{'alpha': 1.0, 'loss': 'squared_error'}</td>\n",
       "      <td>0.500000</td>\n",
       "      <td>0.499600</td>\n",
       "      <td>0.500000</td>\n",
       "      <td>0.499867</td>\n",
       "      <td>0.000189</td>\n",
       "      <td>24</td>\n",
       "      <td>0.500000</td>\n",
       "      <td>0.499733</td>\n",
       "      <td>0.499933</td>\n",
       "      <td>0.499889</td>\n",
       "      <td>0.000113</td>\n",
       "    </tr>\n",
       "    <tr>\n",
       "      <th>15</th>\n",
       "      <td>0.443078</td>\n",
       "      <td>0.005100</td>\n",
       "      <td>0.023838</td>\n",
       "      <td>8.501491e-04</td>\n",
       "      <td>1</td>\n",
       "      <td>huber</td>\n",
       "      <td>{'alpha': 1.0, 'loss': 'huber'}</td>\n",
       "      <td>0.500133</td>\n",
       "      <td>0.500000</td>\n",
       "      <td>0.500000</td>\n",
       "      <td>0.500044</td>\n",
       "      <td>0.000063</td>\n",
       "      <td>19</td>\n",
       "      <td>0.502533</td>\n",
       "      <td>0.500067</td>\n",
       "      <td>0.500067</td>\n",
       "      <td>0.500889</td>\n",
       "      <td>0.001163</td>\n",
       "    </tr>\n",
       "    <tr>\n",
       "      <th>16</th>\n",
       "      <td>0.673284</td>\n",
       "      <td>0.048798</td>\n",
       "      <td>0.023338</td>\n",
       "      <td>8.500400e-04</td>\n",
       "      <td>1.5</td>\n",
       "      <td>hinge</td>\n",
       "      <td>{'alpha': 1.5, 'loss': 'hinge'}</td>\n",
       "      <td>0.528667</td>\n",
       "      <td>0.503600</td>\n",
       "      <td>0.507067</td>\n",
       "      <td>0.513111</td>\n",
       "      <td>0.011090</td>\n",
       "      <td>14</td>\n",
       "      <td>0.587933</td>\n",
       "      <td>0.513333</td>\n",
       "      <td>0.528600</td>\n",
       "      <td>0.543289</td>\n",
       "      <td>0.032178</td>\n",
       "    </tr>\n",
       "    <tr>\n",
       "      <th>17</th>\n",
       "      <td>0.546929</td>\n",
       "      <td>0.012850</td>\n",
       "      <td>0.024504</td>\n",
       "      <td>7.065498e-04</td>\n",
       "      <td>1.5</td>\n",
       "      <td>log_loss</td>\n",
       "      <td>{'alpha': 1.5, 'loss': 'log_loss'}</td>\n",
       "      <td>0.532133</td>\n",
       "      <td>0.507467</td>\n",
       "      <td>0.517333</td>\n",
       "      <td>0.518978</td>\n",
       "      <td>0.010137</td>\n",
       "      <td>10</td>\n",
       "      <td>0.616333</td>\n",
       "      <td>0.538467</td>\n",
       "      <td>0.562733</td>\n",
       "      <td>0.572511</td>\n",
       "      <td>0.032532</td>\n",
       "    </tr>\n",
       "    <tr>\n",
       "      <th>18</th>\n",
       "      <td>0.564265</td>\n",
       "      <td>0.023617</td>\n",
       "      <td>0.024171</td>\n",
       "      <td>2.357414e-04</td>\n",
       "      <td>1.5</td>\n",
       "      <td>log</td>\n",
       "      <td>{'alpha': 1.5, 'loss': 'log'}</td>\n",
       "      <td>0.532133</td>\n",
       "      <td>0.507467</td>\n",
       "      <td>0.517333</td>\n",
       "      <td>0.518978</td>\n",
       "      <td>0.010137</td>\n",
       "      <td>10</td>\n",
       "      <td>0.616333</td>\n",
       "      <td>0.538467</td>\n",
       "      <td>0.562733</td>\n",
       "      <td>0.572511</td>\n",
       "      <td>0.032532</td>\n",
       "    </tr>\n",
       "    <tr>\n",
       "      <th>19</th>\n",
       "      <td>0.764467</td>\n",
       "      <td>0.026854</td>\n",
       "      <td>0.024004</td>\n",
       "      <td>1.079898e-03</td>\n",
       "      <td>1.5</td>\n",
       "      <td>modified_huber</td>\n",
       "      <td>{'alpha': 1.5, 'loss': 'modified_huber'}</td>\n",
       "      <td>0.531467</td>\n",
       "      <td>0.538800</td>\n",
       "      <td>0.537600</td>\n",
       "      <td>0.535956</td>\n",
       "      <td>0.003212</td>\n",
       "      <td>4</td>\n",
       "      <td>0.632667</td>\n",
       "      <td>0.637600</td>\n",
       "      <td>0.633200</td>\n",
       "      <td>0.634489</td>\n",
       "      <td>0.002211</td>\n",
       "    </tr>\n",
       "    <tr>\n",
       "      <th>20</th>\n",
       "      <td>27.313610</td>\n",
       "      <td>0.097326</td>\n",
       "      <td>0.023504</td>\n",
       "      <td>8.165348e-04</td>\n",
       "      <td>1.5</td>\n",
       "      <td>squared_hinge</td>\n",
       "      <td>{'alpha': 1.5, 'loss': 'squared_hinge'}</td>\n",
       "      <td>0.499600</td>\n",
       "      <td>0.500267</td>\n",
       "      <td>0.499867</td>\n",
       "      <td>0.499911</td>\n",
       "      <td>0.000274</td>\n",
       "      <td>22</td>\n",
       "      <td>0.499933</td>\n",
       "      <td>0.499800</td>\n",
       "      <td>0.500067</td>\n",
       "      <td>0.499933</td>\n",
       "      <td>0.000109</td>\n",
       "    </tr>\n",
       "    <tr>\n",
       "      <th>21</th>\n",
       "      <td>0.466915</td>\n",
       "      <td>0.005250</td>\n",
       "      <td>0.022504</td>\n",
       "      <td>4.080241e-04</td>\n",
       "      <td>1.5</td>\n",
       "      <td>perceptron</td>\n",
       "      <td>{'alpha': 1.5, 'loss': 'perceptron'}</td>\n",
       "      <td>0.517333</td>\n",
       "      <td>0.513067</td>\n",
       "      <td>0.516933</td>\n",
       "      <td>0.515778</td>\n",
       "      <td>0.001924</td>\n",
       "      <td>12</td>\n",
       "      <td>0.552867</td>\n",
       "      <td>0.554733</td>\n",
       "      <td>0.553733</td>\n",
       "      <td>0.553778</td>\n",
       "      <td>0.000763</td>\n",
       "    </tr>\n",
       "    <tr>\n",
       "      <th>22</th>\n",
       "      <td>34.866598</td>\n",
       "      <td>0.229892</td>\n",
       "      <td>0.023171</td>\n",
       "      <td>9.424597e-04</td>\n",
       "      <td>1.5</td>\n",
       "      <td>squared_error</td>\n",
       "      <td>{'alpha': 1.5, 'loss': 'squared_error'}</td>\n",
       "      <td>0.500000</td>\n",
       "      <td>0.500000</td>\n",
       "      <td>0.500000</td>\n",
       "      <td>0.500000</td>\n",
       "      <td>0.000000</td>\n",
       "      <td>20</td>\n",
       "      <td>0.500000</td>\n",
       "      <td>0.500000</td>\n",
       "      <td>0.500000</td>\n",
       "      <td>0.500000</td>\n",
       "      <td>0.000000</td>\n",
       "    </tr>\n",
       "    <tr>\n",
       "      <th>23</th>\n",
       "      <td>0.450245</td>\n",
       "      <td>0.014758</td>\n",
       "      <td>0.022838</td>\n",
       "      <td>2.356290e-04</td>\n",
       "      <td>1.5</td>\n",
       "      <td>huber</td>\n",
       "      <td>{'alpha': 1.5, 'loss': 'huber'}</td>\n",
       "      <td>0.499867</td>\n",
       "      <td>0.500000</td>\n",
       "      <td>0.500000</td>\n",
       "      <td>0.499956</td>\n",
       "      <td>0.000063</td>\n",
       "      <td>21</td>\n",
       "      <td>0.500467</td>\n",
       "      <td>0.500000</td>\n",
       "      <td>0.500000</td>\n",
       "      <td>0.500156</td>\n",
       "      <td>0.000220</td>\n",
       "    </tr>\n",
       "  </tbody>\n",
       "</table>\n",
       "</div>"
      ],
      "text/plain": [
       "    mean_fit_time  std_fit_time  mean_score_time  std_score_time param_alpha  \\\n",
       "0        0.701790      0.014971         0.022671    2.354607e-04         0.5   \n",
       "1        0.574101      0.004900         0.022671    6.235644e-04         0.5   \n",
       "2        0.571600      0.004302         0.022671    2.352920e-04         0.5   \n",
       "3        0.948333      0.012320         0.022837    2.359100e-04         0.5   \n",
       "4       27.106740      0.403774         0.023004    4.087054e-04         0.5   \n",
       "5        0.530593      0.012432         0.022671    2.360786e-04         0.5   \n",
       "6       34.562044      0.485403         0.022671    2.358539e-04         0.5   \n",
       "7        0.462414      0.001028         0.022670    2.354604e-04         0.5   \n",
       "8        0.648947      0.012046         0.022505    4.083161e-04           1   \n",
       "9        0.526759      0.013593         0.022504    1.946680e-07           1   \n",
       "10       0.539428      0.023293         0.023337    9.429655e-04           1   \n",
       "11       0.809975      0.028042         0.022504    4.083162e-04           1   \n",
       "12      27.374454      0.424373         0.025004    1.472285e-03           1   \n",
       "13       0.496254      0.003660         0.022338    2.354604e-04           1   \n",
       "14      34.932942      0.310439         0.023671    1.027715e-03           1   \n",
       "15       0.443078      0.005100         0.023838    8.501491e-04           1   \n",
       "16       0.673284      0.048798         0.023338    8.500400e-04         1.5   \n",
       "17       0.546929      0.012850         0.024504    7.065498e-04         1.5   \n",
       "18       0.564265      0.023617         0.024171    2.357414e-04         1.5   \n",
       "19       0.764467      0.026854         0.024004    1.079898e-03         1.5   \n",
       "20      27.313610      0.097326         0.023504    8.165348e-04         1.5   \n",
       "21       0.466915      0.005250         0.022504    4.080241e-04         1.5   \n",
       "22      34.866598      0.229892         0.023171    9.424597e-04         1.5   \n",
       "23       0.450245      0.014758         0.022838    2.356290e-04         1.5   \n",
       "\n",
       "        param_loss                                    params  \\\n",
       "0            hinge           {'alpha': 0.5, 'loss': 'hinge'}   \n",
       "1         log_loss        {'alpha': 0.5, 'loss': 'log_loss'}   \n",
       "2              log             {'alpha': 0.5, 'loss': 'log'}   \n",
       "3   modified_huber  {'alpha': 0.5, 'loss': 'modified_huber'}   \n",
       "4    squared_hinge   {'alpha': 0.5, 'loss': 'squared_hinge'}   \n",
       "5       perceptron      {'alpha': 0.5, 'loss': 'perceptron'}   \n",
       "6    squared_error   {'alpha': 0.5, 'loss': 'squared_error'}   \n",
       "7            huber           {'alpha': 0.5, 'loss': 'huber'}   \n",
       "8            hinge           {'alpha': 1.0, 'loss': 'hinge'}   \n",
       "9         log_loss        {'alpha': 1.0, 'loss': 'log_loss'}   \n",
       "10             log             {'alpha': 1.0, 'loss': 'log'}   \n",
       "11  modified_huber  {'alpha': 1.0, 'loss': 'modified_huber'}   \n",
       "12   squared_hinge   {'alpha': 1.0, 'loss': 'squared_hinge'}   \n",
       "13      perceptron      {'alpha': 1.0, 'loss': 'perceptron'}   \n",
       "14   squared_error   {'alpha': 1.0, 'loss': 'squared_error'}   \n",
       "15           huber           {'alpha': 1.0, 'loss': 'huber'}   \n",
       "16           hinge           {'alpha': 1.5, 'loss': 'hinge'}   \n",
       "17        log_loss        {'alpha': 1.5, 'loss': 'log_loss'}   \n",
       "18             log             {'alpha': 1.5, 'loss': 'log'}   \n",
       "19  modified_huber  {'alpha': 1.5, 'loss': 'modified_huber'}   \n",
       "20   squared_hinge   {'alpha': 1.5, 'loss': 'squared_hinge'}   \n",
       "21      perceptron      {'alpha': 1.5, 'loss': 'perceptron'}   \n",
       "22   squared_error   {'alpha': 1.5, 'loss': 'squared_error'}   \n",
       "23           huber           {'alpha': 1.5, 'loss': 'huber'}   \n",
       "\n",
       "    split0_test_score  split1_test_score  split2_test_score  mean_test_score  \\\n",
       "0            0.534667           0.543600           0.542800         0.540356   \n",
       "1            0.532533           0.541333           0.541333         0.538400   \n",
       "2            0.532533           0.541333           0.541333         0.538400   \n",
       "3            0.529867           0.536267           0.539467         0.535200   \n",
       "4            0.515200           0.508533           0.505467         0.509733   \n",
       "5            0.509200           0.512533           0.504667         0.508800   \n",
       "6            0.512667           0.497467           0.506000         0.505378   \n",
       "7            0.533867           0.500000           0.502400         0.512089   \n",
       "8            0.534267           0.517333           0.531467         0.527689   \n",
       "9            0.531733           0.532933           0.535600         0.533422   \n",
       "10           0.531733           0.532933           0.535600         0.533422   \n",
       "11           0.531600           0.537467           0.537733         0.535600   \n",
       "12           0.498800           0.502000           0.498933         0.499911   \n",
       "13           0.506800           0.515467           0.521067         0.514444   \n",
       "14           0.500000           0.499600           0.500000         0.499867   \n",
       "15           0.500133           0.500000           0.500000         0.500044   \n",
       "16           0.528667           0.503600           0.507067         0.513111   \n",
       "17           0.532133           0.507467           0.517333         0.518978   \n",
       "18           0.532133           0.507467           0.517333         0.518978   \n",
       "19           0.531467           0.538800           0.537600         0.535956   \n",
       "20           0.499600           0.500267           0.499867         0.499911   \n",
       "21           0.517333           0.513067           0.516933         0.515778   \n",
       "22           0.500000           0.500000           0.500000         0.500000   \n",
       "23           0.499867           0.500000           0.500000         0.499956   \n",
       "\n",
       "    std_test_score  rank_test_score  split0_train_score  split1_train_score  \\\n",
       "0         0.004036                1            0.632400            0.631133   \n",
       "1         0.004148                2            0.631867            0.635467   \n",
       "2         0.004148                2            0.631867            0.635467   \n",
       "3         0.003991                6            0.633267            0.638133   \n",
       "4         0.004063               16            0.533267            0.512400   \n",
       "5         0.003224               17            0.561333            0.559200   \n",
       "6         0.006221               18            0.509200            0.495667   \n",
       "7         0.015430               15            0.630000            0.500133   \n",
       "8         0.007411                9            0.625400            0.567000   \n",
       "9         0.001616                7            0.623333            0.598000   \n",
       "10        0.001616                7            0.623333            0.598000   \n",
       "11        0.002831                5            0.633467            0.637933   \n",
       "12        0.001478               22            0.504200            0.500333   \n",
       "13        0.005869               13            0.561000            0.557733   \n",
       "14        0.000189               24            0.500000            0.499733   \n",
       "15        0.000063               19            0.502533            0.500067   \n",
       "16        0.011090               14            0.587933            0.513333   \n",
       "17        0.010137               10            0.616333            0.538467   \n",
       "18        0.010137               10            0.616333            0.538467   \n",
       "19        0.003212                4            0.632667            0.637600   \n",
       "20        0.000274               22            0.499933            0.499800   \n",
       "21        0.001924               12            0.552867            0.554733   \n",
       "22        0.000000               20            0.500000            0.500000   \n",
       "23        0.000063               21            0.500467            0.500000   \n",
       "\n",
       "    split2_train_score  mean_train_score  std_train_score  \n",
       "0             0.633067          0.632200         0.000802  \n",
       "1             0.634533          0.633956         0.001525  \n",
       "2             0.634533          0.633956         0.001525  \n",
       "3             0.634867          0.635422         0.002025  \n",
       "4             0.516467          0.520711         0.009032  \n",
       "5             0.560933          0.560489         0.000926  \n",
       "6             0.506333          0.503733         0.005823  \n",
       "7             0.507800          0.545978         0.059495  \n",
       "8             0.593267          0.595222         0.023882  \n",
       "9             0.617533          0.612956         0.010837  \n",
       "10            0.617533          0.612956         0.010837  \n",
       "11            0.633733          0.635044         0.002046  \n",
       "12            0.507533          0.504022         0.002942  \n",
       "13            0.561000          0.559911         0.001540  \n",
       "14            0.499933          0.499889         0.000113  \n",
       "15            0.500067          0.500889         0.001163  \n",
       "16            0.528600          0.543289         0.032178  \n",
       "17            0.562733          0.572511         0.032532  \n",
       "18            0.562733          0.572511         0.032532  \n",
       "19            0.633200          0.634489         0.002211  \n",
       "20            0.500067          0.499933         0.000109  \n",
       "21            0.553733          0.553778         0.000763  \n",
       "22            0.500000          0.500000         0.000000  \n",
       "23            0.500000          0.500156         0.000220  "
      ]
     },
     "metadata": {},
     "output_type": "display_data"
    },
    {
     "data": {
      "image/png": "[encoded data removed]",
      "text/plain": [
       "<Figure size 1728x576 with 1 Axes>"
      ]
     },
     "metadata": {},
     "output_type": "display_data"
    },
    {
     "name": "stdout",
     "output_type": "stream",
     "text": [
      "Best SGD classifier model: {'alpha': 0.5, 'loss': 'hinge'} with an accuracy of 0.5403555555555555\n"
     ]
    }
   ],
   "source": [
    "plot_grid_results(\"SGD classifier\", SGD_grid)"
   ]
  },
  {
   "cell_type": "markdown",
   "metadata": {},
   "source": [
    "### Random forest"
   ]
  },
  {
   "cell_type": "code",
   "execution_count": 41,
   "metadata": {},
   "outputs": [
    {
     "name": "stdout",
     "output_type": "stream",
     "text": [
      "Fitting 3 folds for each of 2 candidates, totalling 6 fits\n"
     ]
    }
   ],
   "source": [
    "FOREST = RandomForestClassifier(n_estimators = 500,random_state=42, n_jobs = os.cpu_count() - 1)\n",
    "parameters = {\"criterion\": [\"gini\", \"entropy\"]}\n",
    "FOREST_grid = GridSearchCV(FOREST, parameters, cv = 3 ,verbose = 1, return_train_score = True).fit(X_train_new, y_train_new.values.ravel())"
   ]
  },
  {
   "cell_type": "code",
   "execution_count": 42,
   "metadata": {},
   "outputs": [
    {
     "data": {
      "text/html": [
       "<div>\n",
       "<style scoped>\n",
       "    .dataframe tbody tr th:only-of-type {\n",
       "        vertical-align: middle;\n",
       "    }\n",
       "\n",
       "    .dataframe tbody tr th {\n",
       "        vertical-align: top;\n",
       "    }\n",
       "\n",
       "    .dataframe thead th {\n",
       "        text-align: right;\n",
       "    }\n",
       "</style>\n",
       "<table border=\"1\" class=\"dataframe\">\n",
       "  <thead>\n",
       "    <tr style=\"text-align: right;\">\n",
       "      <th></th>\n",
       "      <th>mean_fit_time</th>\n",
       "      <th>std_fit_time</th>\n",
       "      <th>mean_score_time</th>\n",
       "      <th>std_score_time</th>\n",
       "      <th>param_criterion</th>\n",
       "      <th>params</th>\n",
       "      <th>split0_test_score</th>\n",
       "      <th>split1_test_score</th>\n",
       "      <th>split2_test_score</th>\n",
       "      <th>mean_test_score</th>\n",
       "      <th>std_test_score</th>\n",
       "      <th>rank_test_score</th>\n",
       "      <th>split0_train_score</th>\n",
       "      <th>split1_train_score</th>\n",
       "      <th>split2_train_score</th>\n",
       "      <th>mean_train_score</th>\n",
       "      <th>std_train_score</th>\n",
       "    </tr>\n",
       "  </thead>\n",
       "  <tbody>\n",
       "    <tr>\n",
       "      <th>0</th>\n",
       "      <td>36.207447</td>\n",
       "      <td>0.157021</td>\n",
       "      <td>0.278515</td>\n",
       "      <td>0.010257</td>\n",
       "      <td>gini</td>\n",
       "      <td>{'criterion': 'gini'}</td>\n",
       "      <td>0.609600</td>\n",
       "      <td>0.604533</td>\n",
       "      <td>0.593200</td>\n",
       "      <td>0.602444</td>\n",
       "      <td>0.006856</td>\n",
       "      <td>2</td>\n",
       "      <td>1.0</td>\n",
       "      <td>1.0</td>\n",
       "      <td>1.0</td>\n",
       "      <td>1.0</td>\n",
       "      <td>0.0</td>\n",
       "    </tr>\n",
       "    <tr>\n",
       "      <th>1</th>\n",
       "      <td>64.928205</td>\n",
       "      <td>0.984798</td>\n",
       "      <td>0.272880</td>\n",
       "      <td>0.004785</td>\n",
       "      <td>entropy</td>\n",
       "      <td>{'criterion': 'entropy'}</td>\n",
       "      <td>0.613333</td>\n",
       "      <td>0.606267</td>\n",
       "      <td>0.595867</td>\n",
       "      <td>0.605156</td>\n",
       "      <td>0.007174</td>\n",
       "      <td>1</td>\n",
       "      <td>1.0</td>\n",
       "      <td>1.0</td>\n",
       "      <td>1.0</td>\n",
       "      <td>1.0</td>\n",
       "      <td>0.0</td>\n",
       "    </tr>\n",
       "  </tbody>\n",
       "</table>\n",
       "</div>"
      ],
      "text/plain": [
       "   mean_fit_time  std_fit_time  mean_score_time  std_score_time  \\\n",
       "0      36.207447      0.157021         0.278515        0.010257   \n",
       "1      64.928205      0.984798         0.272880        0.004785   \n",
       "\n",
       "  param_criterion                    params  split0_test_score  \\\n",
       "0            gini     {'criterion': 'gini'}           0.609600   \n",
       "1         entropy  {'criterion': 'entropy'}           0.613333   \n",
       "\n",
       "   split1_test_score  split2_test_score  mean_test_score  std_test_score  \\\n",
       "0           0.604533           0.593200         0.602444        0.006856   \n",
       "1           0.606267           0.595867         0.605156        0.007174   \n",
       "\n",
       "   rank_test_score  split0_train_score  split1_train_score  \\\n",
       "0                2                 1.0                 1.0   \n",
       "1                1                 1.0                 1.0   \n",
       "\n",
       "   split2_train_score  mean_train_score  std_train_score  \n",
       "0                 1.0               1.0              0.0  \n",
       "1                 1.0               1.0              0.0  "
      ]
     },
     "metadata": {},
     "output_type": "display_data"
    },
    {
     "data": {
      "image/png": "[encoded data removed]",
      "text/plain": [
       "<Figure size 1728x576 with 1 Axes>"
      ]
     },
     "metadata": {},
     "output_type": "display_data"
    },
    {
     "name": "stdout",
     "output_type": "stream",
     "text": [
      "Best Random forest model: {'criterion': 'entropy'} with an accuracy of 0.6051555555555556\n"
     ]
    }
   ],
   "source": [
    "plot_grid_results(\"Random forest\", FOREST_grid)"
   ]
  },
  {
   "cell_type": "markdown",
   "metadata": {},
   "source": [
    "## MiniBatchK-Means with the models in the same pipeline"
   ]
  },
  {
   "cell_type": "code",
   "execution_count": 43,
   "metadata": {},
   "outputs": [],
   "source": [
    "from sklearn.cluster import MiniBatchKMeans"
   ]
  },
  {
   "cell_type": "markdown",
   "metadata": {},
   "source": [
    "### Logistic regression"
   ]
  },
  {
   "cell_type": "code",
   "execution_count": 84,
   "metadata": {},
   "outputs": [
    {
     "data": {
      "text/html": [
       "<style>#sk-container-id-16 {color: black;background-color: white;}#sk-container-id-16 pre{padding: 0;}#sk-container-id-16 div.sk-toggleable {background-color: white;}#sk-container-id-16 label.sk-toggleable__label {cursor: pointer;display: block;width: 100%;margin-bottom: 0;padding: 0.3em;box-sizing: border-box;text-align: center;}#sk-container-id-16 label.sk-toggleable__label-arrow:before {content: \"▸\";float: left;margin-right: 0.25em;color: #696969;}#sk-container-id-16 label.sk-toggleable__label-arrow:hover:before {color: black;}#sk-container-id-16 div.sk-estimator:hover label.sk-toggleable__label-arrow:before {color: black;}#sk-container-id-16 div.sk-toggleable__content {max-height: 0;max-width: 0;overflow: hidden;text-align: left;background-color: #f0f8ff;}#sk-container-id-16 div.sk-toggleable__content pre {margin: 0.2em;color: black;border-radius: 0.25em;background-color: #f0f8ff;}#sk-container-id-16 input.sk-toggleable__control:checked~div.sk-toggleable__content {max-height: 200px;max-width: 100%;overflow: auto;}#sk-container-id-16 input.sk-toggleable__control:checked~label.sk-toggleable__label-arrow:before {content: \"▾\";}#sk-container-id-16 div.sk-estimator input.sk-toggleable__control:checked~label.sk-toggleable__label {background-color: #d4ebff;}#sk-container-id-16 div.sk-label input.sk-toggleable__control:checked~label.sk-toggleable__label {background-color: #d4ebff;}#sk-container-id-16 input.sk-hidden--visually {border: 0;clip: rect(1px 1px 1px 1px);clip: rect(1px, 1px, 1px, 1px);height: 1px;margin: -1px;overflow: hidden;padding: 0;position: absolute;width: 1px;}#sk-container-id-16 div.sk-estimator {font-family: monospace;background-color: #f0f8ff;border: 1px dotted black;border-radius: 0.25em;box-sizing: border-box;margin-bottom: 0.5em;}#sk-container-id-16 div.sk-estimator:hover {background-color: #d4ebff;}#sk-container-id-16 div.sk-parallel-item::after {content: \"\";width: 100%;border-bottom: 1px solid gray;flex-grow: 1;}#sk-container-id-16 div.sk-label:hover label.sk-toggleable__label {background-color: #d4ebff;}#sk-container-id-16 div.sk-serial::before {content: \"\";position: absolute;border-left: 1px solid gray;box-sizing: border-box;top: 0;bottom: 0;left: 50%;z-index: 0;}#sk-container-id-16 div.sk-serial {display: flex;flex-direction: column;align-items: center;background-color: white;padding-right: 0.2em;padding-left: 0.2em;position: relative;}#sk-container-id-16 div.sk-item {position: relative;z-index: 1;}#sk-container-id-16 div.sk-parallel {display: flex;align-items: stretch;justify-content: center;background-color: white;position: relative;}#sk-container-id-16 div.sk-item::before, #sk-container-id-16 div.sk-parallel-item::before {content: \"\";position: absolute;border-left: 1px solid gray;box-sizing: border-box;top: 0;bottom: 0;left: 50%;z-index: -1;}#sk-container-id-16 div.sk-parallel-item {display: flex;flex-direction: column;z-index: 1;position: relative;background-color: white;}#sk-container-id-16 div.sk-parallel-item:first-child::after {align-self: flex-end;width: 50%;}#sk-container-id-16 div.sk-parallel-item:last-child::after {align-self: flex-start;width: 50%;}#sk-container-id-16 div.sk-parallel-item:only-child::after {width: 0;}#sk-container-id-16 div.sk-dashed-wrapped {border: 1px dashed gray;margin: 0 0.4em 0.5em 0.4em;box-sizing: border-box;padding-bottom: 0.4em;background-color: white;}#sk-container-id-16 div.sk-label label {font-family: monospace;font-weight: bold;display: inline-block;line-height: 1.2em;}#sk-container-id-16 div.sk-label-container {text-align: center;}#sk-container-id-16 div.sk-container {/* jupyter's `normalize.less` sets `[hidden] { display: none; }` but bootstrap.min.css set `[hidden] { display: none !important; }` so we also need the `!important` here to be able to override the default hidden behavior on the sphinx rendered scikit-learn.org. See: https://github.com/scikit-learn/scikit-learn/issues/21755 */display: inline-block !important;position: relative;}#sk-container-id-16 div.sk-text-repr-fallback {display: none;}</style><div id=\"sk-container-id-16\" class=\"sk-top-container\"><div class=\"sk-text-repr-fallback\"><pre>Pipeline(steps=[(&#x27;minibatchKmeans&#x27;,\n",
       "                 MiniBatchKMeans(batch_size=3072, n_clusters=80,\n",
       "                                 random_state=42)),\n",
       "                (&#x27;log_reg&#x27;,\n",
       "                 LogisticRegression(class_weight=&#x27;balanced&#x27;, multi_class=&#x27;ovr&#x27;,\n",
       "                                    n_jobs=11, random_state=42,\n",
       "                                    solver=&#x27;saga&#x27;))])</pre><b>In a Jupyter environment, please rerun this cell to show the HTML representation or trust the notebook. <br />On GitHub, the HTML representation is unable to render, please try loading this page with nbviewer.org.</b></div><div class=\"sk-container\" hidden><div class=\"sk-item sk-dashed-wrapped\"><div class=\"sk-label-container\"><div class=\"sk-label sk-toggleable\"><input class=\"sk-toggleable__control sk-hidden--visually\" id=\"sk-estimator-id-34\" type=\"checkbox\" ><label for=\"sk-estimator-id-34\" class=\"sk-toggleable__label sk-toggleable__label-arrow\">Pipeline</label><div class=\"sk-toggleable__content\"><pre>Pipeline(steps=[(&#x27;minibatchKmeans&#x27;,\n",
       "                 MiniBatchKMeans(batch_size=3072, n_clusters=80,\n",
       "                                 random_state=42)),\n",
       "                (&#x27;log_reg&#x27;,\n",
       "                 LogisticRegression(class_weight=&#x27;balanced&#x27;, multi_class=&#x27;ovr&#x27;,\n",
       "                                    n_jobs=11, random_state=42,\n",
       "                                    solver=&#x27;saga&#x27;))])</pre></div></div></div><div class=\"sk-serial\"><div class=\"sk-item\"><div class=\"sk-estimator sk-toggleable\"><input class=\"sk-toggleable__control sk-hidden--visually\" id=\"sk-estimator-id-35\" type=\"checkbox\" ><label for=\"sk-estimator-id-35\" class=\"sk-toggleable__label sk-toggleable__label-arrow\">MiniBatchKMeans</label><div class=\"sk-toggleable__content\"><pre>MiniBatchKMeans(batch_size=3072, n_clusters=80, random_state=42)</pre></div></div></div><div class=\"sk-item\"><div class=\"sk-estimator sk-toggleable\"><input class=\"sk-toggleable__control sk-hidden--visually\" id=\"sk-estimator-id-36\" type=\"checkbox\" ><label for=\"sk-estimator-id-36\" class=\"sk-toggleable__label sk-toggleable__label-arrow\">LogisticRegression</label><div class=\"sk-toggleable__content\"><pre>LogisticRegression(class_weight=&#x27;balanced&#x27;, multi_class=&#x27;ovr&#x27;, n_jobs=11,\n",
       "                   random_state=42, solver=&#x27;saga&#x27;)</pre></div></div></div></div></div></div></div>"
      ],
      "text/plain": [
       "Pipeline(steps=[('minibatchKmeans',\n",
       "                 MiniBatchKMeans(batch_size=3072, n_clusters=80,\n",
       "                                 random_state=42)),\n",
       "                ('log_reg',\n",
       "                 LogisticRegression(class_weight='balanced', multi_class='ovr',\n",
       "                                    n_jobs=11, random_state=42,\n",
       "                                    solver='saga'))])"
      ]
     },
     "execution_count": 84,
     "metadata": {},
     "output_type": "execute_result"
    }
   ],
   "source": [
    "pipeline_log = Pipeline([\n",
    " (\"minibatchKmeans\", MiniBatchKMeans(n_clusters=80,random_state=42, batch_size=3072)),\n",
    " (\"log_reg\", LogisticRegression(solver = 'saga', \n",
    "                                    n_jobs = os.cpu_count() - 1,  \n",
    "                                    class_weight = 'balanced', \n",
    "                                    multi_class = 'ovr',  \n",
    "                                    random_state=42)),\n",
    "], verbose = False)\n",
    "pipeline_log.fit(X_train_new, y_train_new.values.ravel())"
   ]
  },
  {
   "cell_type": "code",
   "execution_count": 85,
   "metadata": {},
   "outputs": [
    {
     "name": "stdout",
     "output_type": "stream",
     "text": [
      "Pipeline score(train) when using minibatchKmeans on Logistic regression: 0.5685333333333333\n",
      "Pipeline score(test) when using minibatchKmeans on Logistic regression: 0.5644\n"
     ]
    }
   ],
   "source": [
    "print(\"Pipeline score(train) when using minibatchKmeans on Logistic regression:\",pipeline_log.score(X_train_new, y_train_new))\n",
    "print(\"Pipeline score(test) when using minibatchKmeans on Logistic regression:\",pipeline_log.score(X_test_new, y_test_new))"
   ]
  },
  {
   "cell_type": "markdown",
   "metadata": {},
   "source": [
    "### Naive bayes"
   ]
  },
  {
   "cell_type": "code",
   "execution_count": 86,
   "metadata": {},
   "outputs": [
    {
     "data": {
      "text/html": [
       "<style>#sk-container-id-17 {color: black;background-color: white;}#sk-container-id-17 pre{padding: 0;}#sk-container-id-17 div.sk-toggleable {background-color: white;}#sk-container-id-17 label.sk-toggleable__label {cursor: pointer;display: block;width: 100%;margin-bottom: 0;padding: 0.3em;box-sizing: border-box;text-align: center;}#sk-container-id-17 label.sk-toggleable__label-arrow:before {content: \"▸\";float: left;margin-right: 0.25em;color: #696969;}#sk-container-id-17 label.sk-toggleable__label-arrow:hover:before {color: black;}#sk-container-id-17 div.sk-estimator:hover label.sk-toggleable__label-arrow:before {color: black;}#sk-container-id-17 div.sk-toggleable__content {max-height: 0;max-width: 0;overflow: hidden;text-align: left;background-color: #f0f8ff;}#sk-container-id-17 div.sk-toggleable__content pre {margin: 0.2em;color: black;border-radius: 0.25em;background-color: #f0f8ff;}#sk-container-id-17 input.sk-toggleable__control:checked~div.sk-toggleable__content {max-height: 200px;max-width: 100%;overflow: auto;}#sk-container-id-17 input.sk-toggleable__control:checked~label.sk-toggleable__label-arrow:before {content: \"▾\";}#sk-container-id-17 div.sk-estimator input.sk-toggleable__control:checked~label.sk-toggleable__label {background-color: #d4ebff;}#sk-container-id-17 div.sk-label input.sk-toggleable__control:checked~label.sk-toggleable__label {background-color: #d4ebff;}#sk-container-id-17 input.sk-hidden--visually {border: 0;clip: rect(1px 1px 1px 1px);clip: rect(1px, 1px, 1px, 1px);height: 1px;margin: -1px;overflow: hidden;padding: 0;position: absolute;width: 1px;}#sk-container-id-17 div.sk-estimator {font-family: monospace;background-color: #f0f8ff;border: 1px dotted black;border-radius: 0.25em;box-sizing: border-box;margin-bottom: 0.5em;}#sk-container-id-17 div.sk-estimator:hover {background-color: #d4ebff;}#sk-container-id-17 div.sk-parallel-item::after {content: \"\";width: 100%;border-bottom: 1px solid gray;flex-grow: 1;}#sk-container-id-17 div.sk-label:hover label.sk-toggleable__label {background-color: #d4ebff;}#sk-container-id-17 div.sk-serial::before {content: \"\";position: absolute;border-left: 1px solid gray;box-sizing: border-box;top: 0;bottom: 0;left: 50%;z-index: 0;}#sk-container-id-17 div.sk-serial {display: flex;flex-direction: column;align-items: center;background-color: white;padding-right: 0.2em;padding-left: 0.2em;position: relative;}#sk-container-id-17 div.sk-item {position: relative;z-index: 1;}#sk-container-id-17 div.sk-parallel {display: flex;align-items: stretch;justify-content: center;background-color: white;position: relative;}#sk-container-id-17 div.sk-item::before, #sk-container-id-17 div.sk-parallel-item::before {content: \"\";position: absolute;border-left: 1px solid gray;box-sizing: border-box;top: 0;bottom: 0;left: 50%;z-index: -1;}#sk-container-id-17 div.sk-parallel-item {display: flex;flex-direction: column;z-index: 1;position: relative;background-color: white;}#sk-container-id-17 div.sk-parallel-item:first-child::after {align-self: flex-end;width: 50%;}#sk-container-id-17 div.sk-parallel-item:last-child::after {align-self: flex-start;width: 50%;}#sk-container-id-17 div.sk-parallel-item:only-child::after {width: 0;}#sk-container-id-17 div.sk-dashed-wrapped {border: 1px dashed gray;margin: 0 0.4em 0.5em 0.4em;box-sizing: border-box;padding-bottom: 0.4em;background-color: white;}#sk-container-id-17 div.sk-label label {font-family: monospace;font-weight: bold;display: inline-block;line-height: 1.2em;}#sk-container-id-17 div.sk-label-container {text-align: center;}#sk-container-id-17 div.sk-container {/* jupyter's `normalize.less` sets `[hidden] { display: none; }` but bootstrap.min.css set `[hidden] { display: none !important; }` so we also need the `!important` here to be able to override the default hidden behavior on the sphinx rendered scikit-learn.org. See: https://github.com/scikit-learn/scikit-learn/issues/21755 */display: inline-block !important;position: relative;}#sk-container-id-17 div.sk-text-repr-fallback {display: none;}</style><div id=\"sk-container-id-17\" class=\"sk-top-container\"><div class=\"sk-text-repr-fallback\"><pre>Pipeline(steps=[(&#x27;minibatchKmeans&#x27;,\n",
       "                 MiniBatchKMeans(batch_size=3072, n_clusters=10,\n",
       "                                 random_state=42)),\n",
       "                (&#x27;naive_bayes&#x27;, GaussianNB())])</pre><b>In a Jupyter environment, please rerun this cell to show the HTML representation or trust the notebook. <br />On GitHub, the HTML representation is unable to render, please try loading this page with nbviewer.org.</b></div><div class=\"sk-container\" hidden><div class=\"sk-item sk-dashed-wrapped\"><div class=\"sk-label-container\"><div class=\"sk-label sk-toggleable\"><input class=\"sk-toggleable__control sk-hidden--visually\" id=\"sk-estimator-id-37\" type=\"checkbox\" ><label for=\"sk-estimator-id-37\" class=\"sk-toggleable__label sk-toggleable__label-arrow\">Pipeline</label><div class=\"sk-toggleable__content\"><pre>Pipeline(steps=[(&#x27;minibatchKmeans&#x27;,\n",
       "                 MiniBatchKMeans(batch_size=3072, n_clusters=10,\n",
       "                                 random_state=42)),\n",
       "                (&#x27;naive_bayes&#x27;, GaussianNB())])</pre></div></div></div><div class=\"sk-serial\"><div class=\"sk-item\"><div class=\"sk-estimator sk-toggleable\"><input class=\"sk-toggleable__control sk-hidden--visually\" id=\"sk-estimator-id-38\" type=\"checkbox\" ><label for=\"sk-estimator-id-38\" class=\"sk-toggleable__label sk-toggleable__label-arrow\">MiniBatchKMeans</label><div class=\"sk-toggleable__content\"><pre>MiniBatchKMeans(batch_size=3072, n_clusters=10, random_state=42)</pre></div></div></div><div class=\"sk-item\"><div class=\"sk-estimator sk-toggleable\"><input class=\"sk-toggleable__control sk-hidden--visually\" id=\"sk-estimator-id-39\" type=\"checkbox\" ><label for=\"sk-estimator-id-39\" class=\"sk-toggleable__label sk-toggleable__label-arrow\">GaussianNB</label><div class=\"sk-toggleable__content\"><pre>GaussianNB()</pre></div></div></div></div></div></div></div>"
      ],
      "text/plain": [
       "Pipeline(steps=[('minibatchKmeans',\n",
       "                 MiniBatchKMeans(batch_size=3072, n_clusters=10,\n",
       "                                 random_state=42)),\n",
       "                ('naive_bayes', GaussianNB())])"
      ]
     },
     "execution_count": 86,
     "metadata": {},
     "output_type": "execute_result"
    }
   ],
   "source": [
    "pipeline_bayes = Pipeline([\n",
    " (\"minibatchKmeans\", MiniBatchKMeans(n_clusters=10,random_state=42, batch_size=3072)),\n",
    " (\"naive_bayes\", GaussianNB(var_smoothing = math.pow(10,-9))),\n",
    "], verbose = False)\n",
    "pipeline_bayes.fit(X_train_new, y_train_new.values.ravel())"
   ]
  },
  {
   "cell_type": "code",
   "execution_count": 87,
   "metadata": {},
   "outputs": [
    {
     "name": "stdout",
     "output_type": "stream",
     "text": [
      "Pipeline score(train) when using minibatchKmeans on naive bayes: 0.5598666666666666\n",
      "Pipeline score(test) when using minibatchKmeans on naive baeys: 0.5444\n"
     ]
    }
   ],
   "source": [
    "print(\"Pipeline score(train) when using minibatchKmeans on naive bayes:\",pipeline_bayes.score(X_train_new, y_train_new))\n",
    "print(\"Pipeline score(test) when using minibatchKmeans on naive baeys:\",pipeline_bayes.score(X_test_new, y_test_new))"
   ]
  },
  {
   "cell_type": "markdown",
   "metadata": {},
   "source": [
    "### SGD classifier"
   ]
  },
  {
   "cell_type": "code",
   "execution_count": 88,
   "metadata": {},
   "outputs": [],
   "source": [
    "pipeline_SGD = Pipeline([\n",
    " (\"minibatchKmeans\", MiniBatchKMeans(n_clusters=10,random_state=42, batch_size=3072)),\n",
    " (\"SGD_classifier\", SGDClassifier(alpha = 0.5,loss = 'hinge',class_weight = 'balanced', random_state=42)), \n",
    "],verbose = False).fit(X_train_new, y_train_new.values.ravel())"
   ]
  },
  {
   "cell_type": "code",
   "execution_count": 89,
   "metadata": {},
   "outputs": [
    {
     "name": "stdout",
     "output_type": "stream",
     "text": [
      "Pipeline score(train) when using minibatchKmeans on SGD classifier: 0.5673333333333334\n",
      "Pipeline score(test) when using minibatchKmeans on SGD classifier: 0.5648\n"
     ]
    }
   ],
   "source": [
    "print(\"Pipeline score(train) when using minibatchKmeans on SGD classifier:\",pipeline_SGD.score(X_train_new, y_train_new))\n",
    "print(\"Pipeline score(test) when using minibatchKmeans on SGD classifier:\",pipeline_SGD.score(X_test_new, y_test_new))"
   ]
  },
  {
   "cell_type": "markdown",
   "metadata": {},
   "source": [
    "### Random forest"
   ]
  },
  {
   "cell_type": "code",
   "execution_count": 90,
   "metadata": {},
   "outputs": [
    {
     "data": {
      "text/html": [
       "<style>#sk-container-id-18 {color: black;background-color: white;}#sk-container-id-18 pre{padding: 0;}#sk-container-id-18 div.sk-toggleable {background-color: white;}#sk-container-id-18 label.sk-toggleable__label {cursor: pointer;display: block;width: 100%;margin-bottom: 0;padding: 0.3em;box-sizing: border-box;text-align: center;}#sk-container-id-18 label.sk-toggleable__label-arrow:before {content: \"▸\";float: left;margin-right: 0.25em;color: #696969;}#sk-container-id-18 label.sk-toggleable__label-arrow:hover:before {color: black;}#sk-container-id-18 div.sk-estimator:hover label.sk-toggleable__label-arrow:before {color: black;}#sk-container-id-18 div.sk-toggleable__content {max-height: 0;max-width: 0;overflow: hidden;text-align: left;background-color: #f0f8ff;}#sk-container-id-18 div.sk-toggleable__content pre {margin: 0.2em;color: black;border-radius: 0.25em;background-color: #f0f8ff;}#sk-container-id-18 input.sk-toggleable__control:checked~div.sk-toggleable__content {max-height: 200px;max-width: 100%;overflow: auto;}#sk-container-id-18 input.sk-toggleable__control:checked~label.sk-toggleable__label-arrow:before {content: \"▾\";}#sk-container-id-18 div.sk-estimator input.sk-toggleable__control:checked~label.sk-toggleable__label {background-color: #d4ebff;}#sk-container-id-18 div.sk-label input.sk-toggleable__control:checked~label.sk-toggleable__label {background-color: #d4ebff;}#sk-container-id-18 input.sk-hidden--visually {border: 0;clip: rect(1px 1px 1px 1px);clip: rect(1px, 1px, 1px, 1px);height: 1px;margin: -1px;overflow: hidden;padding: 0;position: absolute;width: 1px;}#sk-container-id-18 div.sk-estimator {font-family: monospace;background-color: #f0f8ff;border: 1px dotted black;border-radius: 0.25em;box-sizing: border-box;margin-bottom: 0.5em;}#sk-container-id-18 div.sk-estimator:hover {background-color: #d4ebff;}#sk-container-id-18 div.sk-parallel-item::after {content: \"\";width: 100%;border-bottom: 1px solid gray;flex-grow: 1;}#sk-container-id-18 div.sk-label:hover label.sk-toggleable__label {background-color: #d4ebff;}#sk-container-id-18 div.sk-serial::before {content: \"\";position: absolute;border-left: 1px solid gray;box-sizing: border-box;top: 0;bottom: 0;left: 50%;z-index: 0;}#sk-container-id-18 div.sk-serial {display: flex;flex-direction: column;align-items: center;background-color: white;padding-right: 0.2em;padding-left: 0.2em;position: relative;}#sk-container-id-18 div.sk-item {position: relative;z-index: 1;}#sk-container-id-18 div.sk-parallel {display: flex;align-items: stretch;justify-content: center;background-color: white;position: relative;}#sk-container-id-18 div.sk-item::before, #sk-container-id-18 div.sk-parallel-item::before {content: \"\";position: absolute;border-left: 1px solid gray;box-sizing: border-box;top: 0;bottom: 0;left: 50%;z-index: -1;}#sk-container-id-18 div.sk-parallel-item {display: flex;flex-direction: column;z-index: 1;position: relative;background-color: white;}#sk-container-id-18 div.sk-parallel-item:first-child::after {align-self: flex-end;width: 50%;}#sk-container-id-18 div.sk-parallel-item:last-child::after {align-self: flex-start;width: 50%;}#sk-container-id-18 div.sk-parallel-item:only-child::after {width: 0;}#sk-container-id-18 div.sk-dashed-wrapped {border: 1px dashed gray;margin: 0 0.4em 0.5em 0.4em;box-sizing: border-box;padding-bottom: 0.4em;background-color: white;}#sk-container-id-18 div.sk-label label {font-family: monospace;font-weight: bold;display: inline-block;line-height: 1.2em;}#sk-container-id-18 div.sk-label-container {text-align: center;}#sk-container-id-18 div.sk-container {/* jupyter's `normalize.less` sets `[hidden] { display: none; }` but bootstrap.min.css set `[hidden] { display: none !important; }` so we also need the `!important` here to be able to override the default hidden behavior on the sphinx rendered scikit-learn.org. See: https://github.com/scikit-learn/scikit-learn/issues/21755 */display: inline-block !important;position: relative;}#sk-container-id-18 div.sk-text-repr-fallback {display: none;}</style><div id=\"sk-container-id-18\" class=\"sk-top-container\"><div class=\"sk-text-repr-fallback\"><pre>Pipeline(steps=[(&#x27;minibatchKmeans&#x27;,\n",
       "                 MiniBatchKMeans(batch_size=3072, n_clusters=130,\n",
       "                                 random_state=42)),\n",
       "                (&#x27;random_forest&#x27;,\n",
       "                 RandomForestClassifier(criterion=&#x27;entropy&#x27;, n_estimators=500,\n",
       "                                        n_jobs=11, random_state=42))])</pre><b>In a Jupyter environment, please rerun this cell to show the HTML representation or trust the notebook. <br />On GitHub, the HTML representation is unable to render, please try loading this page with nbviewer.org.</b></div><div class=\"sk-container\" hidden><div class=\"sk-item sk-dashed-wrapped\"><div class=\"sk-label-container\"><div class=\"sk-label sk-toggleable\"><input class=\"sk-toggleable__control sk-hidden--visually\" id=\"sk-estimator-id-40\" type=\"checkbox\" ><label for=\"sk-estimator-id-40\" class=\"sk-toggleable__label sk-toggleable__label-arrow\">Pipeline</label><div class=\"sk-toggleable__content\"><pre>Pipeline(steps=[(&#x27;minibatchKmeans&#x27;,\n",
       "                 MiniBatchKMeans(batch_size=3072, n_clusters=130,\n",
       "                                 random_state=42)),\n",
       "                (&#x27;random_forest&#x27;,\n",
       "                 RandomForestClassifier(criterion=&#x27;entropy&#x27;, n_estimators=500,\n",
       "                                        n_jobs=11, random_state=42))])</pre></div></div></div><div class=\"sk-serial\"><div class=\"sk-item\"><div class=\"sk-estimator sk-toggleable\"><input class=\"sk-toggleable__control sk-hidden--visually\" id=\"sk-estimator-id-41\" type=\"checkbox\" ><label for=\"sk-estimator-id-41\" class=\"sk-toggleable__label sk-toggleable__label-arrow\">MiniBatchKMeans</label><div class=\"sk-toggleable__content\"><pre>MiniBatchKMeans(batch_size=3072, n_clusters=130, random_state=42)</pre></div></div></div><div class=\"sk-item\"><div class=\"sk-estimator sk-toggleable\"><input class=\"sk-toggleable__control sk-hidden--visually\" id=\"sk-estimator-id-42\" type=\"checkbox\" ><label for=\"sk-estimator-id-42\" class=\"sk-toggleable__label sk-toggleable__label-arrow\">RandomForestClassifier</label><div class=\"sk-toggleable__content\"><pre>RandomForestClassifier(criterion=&#x27;entropy&#x27;, n_estimators=500, n_jobs=11,\n",
       "                       random_state=42)</pre></div></div></div></div></div></div></div>"
      ],
      "text/plain": [
       "Pipeline(steps=[('minibatchKmeans',\n",
       "                 MiniBatchKMeans(batch_size=3072, n_clusters=130,\n",
       "                                 random_state=42)),\n",
       "                ('random_forest',\n",
       "                 RandomForestClassifier(criterion='entropy', n_estimators=500,\n",
       "                                        n_jobs=11, random_state=42))])"
      ]
     },
     "execution_count": 90,
     "metadata": {},
     "output_type": "execute_result"
    }
   ],
   "source": [
    "pipeline_trees = Pipeline([\n",
    " (\"minibatchKmeans\", MiniBatchKMeans(n_clusters=130,random_state=42, batch_size=3072)),\n",
    " (\"random_forest\", RandomForestClassifier(criterion = \"entropy\",n_estimators = 500,random_state=42, n_jobs = os.cpu_count() - 1)),\n",
    "], verbose = False)\n",
    "pipeline_trees.fit(X_train_new, y_train_new.values.ravel())"
   ]
  },
  {
   "cell_type": "code",
   "execution_count": 91,
   "metadata": {},
   "outputs": [
    {
     "name": "stdout",
     "output_type": "stream",
     "text": [
      "Pipeline score(train) when using minibatchKmeans on random forest: 1.0\n",
      "Pipeline score(test) when using minibatchKmeans on random forest: 0.5664\n"
     ]
    }
   ],
   "source": [
    "print(\"Pipeline score(train) when using minibatchKmeans on random forest:\",pipeline_trees.score(X_train_new, y_train_new))\n",
    "print(\"Pipeline score(test) when using minibatchKmeans on random forest:\",pipeline_trees.score(X_test_new, y_test_new))"
   ]
  },
  {
   "cell_type": "markdown",
   "metadata": {},
   "source": [
    "## Gridsearch for optimal K-clusters"
   ]
  },
  {
   "cell_type": "code",
   "execution_count": 82,
   "metadata": {},
   "outputs": [
    {
     "name": "stdout",
     "output_type": "stream",
     "text": [
      "Wall time: 24min 11s\n"
     ]
    }
   ],
   "source": [
    "%%time\n",
    "param_grid = {\"minibatchKmeans__n_clusters\":range(10, 150, 10)}\n",
    "grid_log = GridSearchCV(pipeline_log, param_grid, cv=3).fit(X_train_new, y_train_new.values.ravel())\n",
    "grid_bayes = GridSearchCV(pipeline_bayes, param_grid, cv=3).fit(X_train_new, y_train_new.values.ravel())\n",
    "grid_SGD = GridSearchCV(pipeline_SGD, param_grid, cv=3).fit(X_train_new, y_train_new.values.ravel())\n",
    "grid_forest = GridSearchCV(pipeline_trees, param_grid, cv=3).fit(X_train_new, y_train_new.values.ravel())"
   ]
  },
  {
   "cell_type": "code",
   "execution_count": 83,
   "metadata": {},
   "outputs": [
    {
     "name": "stdout",
     "output_type": "stream",
     "text": [
      "Best pipeline clusters using minibatchKmeans and logistic regression:\n",
      " Pipeline(steps=[('minibatchKmeans',\n",
      "                 MiniBatchKMeans(batch_size=3072, n_clusters=80,\n",
      "                                 random_state=42)),\n",
      "                ('log_reg',\n",
      "                 LogisticRegression(class_weight='balanced', multi_class='ovr',\n",
      "                                    n_jobs=11, random_state=42,\n",
      "                                    solver='saga'))]) \n",
      "with a score of: 0.5685777777777777\n",
      "Best pipeline clusters using minibatchKmeans and naive bayes:\n",
      " Pipeline(steps=[('minibatchKmeans',\n",
      "                 MiniBatchKMeans(batch_size=3072, n_clusters=10,\n",
      "                                 random_state=42)),\n",
      "                ('naive_bayes', GaussianNB())]) \n",
      "with a score of: 0.5601333333333334\n",
      "Best pipeline clusters using minibatchKmeans and SGD:\n",
      " Pipeline(steps=[('minibatchKmeans',\n",
      "                 MiniBatchKMeans(batch_size=3072, n_clusters=10,\n",
      "                                 random_state=42)),\n",
      "                ('SGD_classifier',\n",
      "                 SGDClassifier(alpha=0.5, class_weight='balanced',\n",
      "                               random_state=42))]) \n",
      "with a score of: 0.5476444444444445\n",
      "Best pipeline clusters using minibatchKmeans and random forest:\n",
      " Pipeline(steps=[('minibatchKmeans',\n",
      "                 MiniBatchKMeans(batch_size=3072, n_clusters=130,\n",
      "                                 random_state=42)),\n",
      "                ('random_forest',\n",
      "                 RandomForestClassifier(criterion='entropy', n_estimators=500,\n",
      "                                        n_jobs=11, random_state=42))]) \n",
      "with a score of: 0.5666222222222222\n"
     ]
    }
   ],
   "source": [
    "print(\"Best pipeline clusters using minibatchKmeans and logistic regression:\\n\", grid_log.best_estimator_,\"\\nwith a score of:\",grid_log.best_score_)\n",
    "print(\"Best pipeline clusters using minibatchKmeans and naive bayes:\\n\", grid_bayes.best_estimator_,\"\\nwith a score of:\",grid_bayes.best_score_)\n",
    "print(\"Best pipeline clusters using minibatchKmeans and SGD:\\n\", grid_SGD.best_estimator_,\"\\nwith a score of:\",grid_SGD.best_score_)\n",
    "print(\"Best pipeline clusters using minibatchKmeans and random forest:\\n\", grid_forest.best_estimator_,\"\\nwith a score of:\",grid_forest.best_score_)"
   ]
  },
  {
   "cell_type": "code",
   "execution_count": null,
   "metadata": {},
   "outputs": [],
   "source": []
  }
 ],
 "metadata": {
  "kernelspec": {
   "display_name": "Python 3",
   "language": "python",
   "name": "python3"
  },
  "language_info": {
   "codemirror_mode": {
    "name": "ipython",
    "version": 3
   },
   "file_extension": ".py",
   "mimetype": "text/x-python",
   "name": "python",
   "nbconvert_exporter": "python",
   "pygments_lexer": "ipython3",
   "version": "3.8.5"
  }
 },
 "nbformat": 4,
 "nbformat_minor": 4
}
